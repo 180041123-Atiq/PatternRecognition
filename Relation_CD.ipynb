{
  "cells": [
    {
      "cell_type": "markdown",
      "metadata": {
        "id": "MQLsAJC01D5m",
        "pycharm": {
          "name": "#%% md\n"
        }
      },
      "source": [
        "# Train a model with Episodic Training\n",
        "Episodic training has attracted a lot of interest in the early years of Few-Shot Learning research. Some papers still use it, and refer to it as \"meta-learning\".\n",
        "\n",
        "Recent works distinguish the Few-Shot Classifier from the training framework, so as from v1.0 of EasyFSL, methods to episodically train a classifier were taken out of the logic of the FewShotClassifier class. Instead, we provide in this notebook an example of how to perform episodic training on a few-shot classifier.\n",
        "\n",
        "Use it, copy it, change it, get crazy."
      ]
    },
    {
      "cell_type": "markdown",
      "metadata": {
        "id": "o5aFVwdT1D5t",
        "pycharm": {
          "name": "#%% md\n"
        }
      },
      "source": [
        "## Getting started\n",
        "First we're going to do some imports (this is not the interesting part)."
      ]
    },
    {
      "cell_type": "code",
      "execution_count": 1,
      "metadata": {
        "id": "u-qkFjp9h4Mh"
      },
      "outputs": [],
      "source": [
        "try:\n",
        "    import google.colab\n",
        "    colab = True\n",
        "except:\n",
        "    colab = False"
      ]
    },
    {
      "cell_type": "code",
      "source": [
        "!pip install easyfsl"
      ],
      "metadata": {
        "colab": {
          "base_uri": "https://localhost:8080/"
        },
        "id": "eeVEB_HVXGOG",
        "outputId": "d0913381-958e-4912-8de4-111ad82a447a"
      },
      "execution_count": 2,
      "outputs": [
        {
          "output_type": "stream",
          "name": "stdout",
          "text": [
            "Looking in indexes: https://pypi.org/simple, https://us-python.pkg.dev/colab-wheels/public/simple/\n",
            "Collecting easyfsl\n",
            "  Downloading easyfsl-1.3.0-py3-none-any.whl (52 kB)\n",
            "\u001b[2K     \u001b[90m━━━━━━━━━━━━━━━━━━━━━━━━━━━━━━━━━━━━━━━━\u001b[0m \u001b[32m52.4/52.4 kB\u001b[0m \u001b[31m1.0 MB/s\u001b[0m eta \u001b[36m0:00:00\u001b[0m\n",
            "\u001b[?25hRequirement already satisfied: matplotlib>=3.0.0 in /usr/local/lib/python3.10/dist-packages (from easyfsl) (3.7.1)\n",
            "Requirement already satisfied: pandas>=1.3.0 in /usr/local/lib/python3.10/dist-packages (from easyfsl) (1.5.3)\n",
            "Requirement already satisfied: torch>=1.4.0 in /usr/local/lib/python3.10/dist-packages (from easyfsl) (2.0.1+cu118)\n",
            "Requirement already satisfied: torchvision>=0.7.0 in /usr/local/lib/python3.10/dist-packages (from easyfsl) (0.15.2+cu118)\n",
            "Requirement already satisfied: tqdm>=4.1.0 in /usr/local/lib/python3.10/dist-packages (from easyfsl) (4.65.0)\n",
            "Requirement already satisfied: contourpy>=1.0.1 in /usr/local/lib/python3.10/dist-packages (from matplotlib>=3.0.0->easyfsl) (1.0.7)\n",
            "Requirement already satisfied: cycler>=0.10 in /usr/local/lib/python3.10/dist-packages (from matplotlib>=3.0.0->easyfsl) (0.11.0)\n",
            "Requirement already satisfied: fonttools>=4.22.0 in /usr/local/lib/python3.10/dist-packages (from matplotlib>=3.0.0->easyfsl) (4.39.3)\n",
            "Requirement already satisfied: kiwisolver>=1.0.1 in /usr/local/lib/python3.10/dist-packages (from matplotlib>=3.0.0->easyfsl) (1.4.4)\n",
            "Requirement already satisfied: numpy>=1.20 in /usr/local/lib/python3.10/dist-packages (from matplotlib>=3.0.0->easyfsl) (1.22.4)\n",
            "Requirement already satisfied: packaging>=20.0 in /usr/local/lib/python3.10/dist-packages (from matplotlib>=3.0.0->easyfsl) (23.1)\n",
            "Requirement already satisfied: pillow>=6.2.0 in /usr/local/lib/python3.10/dist-packages (from matplotlib>=3.0.0->easyfsl) (8.4.0)\n",
            "Requirement already satisfied: pyparsing>=2.3.1 in /usr/local/lib/python3.10/dist-packages (from matplotlib>=3.0.0->easyfsl) (3.0.9)\n",
            "Requirement already satisfied: python-dateutil>=2.7 in /usr/local/lib/python3.10/dist-packages (from matplotlib>=3.0.0->easyfsl) (2.8.2)\n",
            "Requirement already satisfied: pytz>=2020.1 in /usr/local/lib/python3.10/dist-packages (from pandas>=1.3.0->easyfsl) (2022.7.1)\n",
            "Requirement already satisfied: filelock in /usr/local/lib/python3.10/dist-packages (from torch>=1.4.0->easyfsl) (3.12.0)\n",
            "Requirement already satisfied: typing-extensions in /usr/local/lib/python3.10/dist-packages (from torch>=1.4.0->easyfsl) (4.5.0)\n",
            "Requirement already satisfied: sympy in /usr/local/lib/python3.10/dist-packages (from torch>=1.4.0->easyfsl) (1.11.1)\n",
            "Requirement already satisfied: networkx in /usr/local/lib/python3.10/dist-packages (from torch>=1.4.0->easyfsl) (3.1)\n",
            "Requirement already satisfied: jinja2 in /usr/local/lib/python3.10/dist-packages (from torch>=1.4.0->easyfsl) (3.1.2)\n",
            "Requirement already satisfied: triton==2.0.0 in /usr/local/lib/python3.10/dist-packages (from torch>=1.4.0->easyfsl) (2.0.0)\n",
            "Requirement already satisfied: cmake in /usr/local/lib/python3.10/dist-packages (from triton==2.0.0->torch>=1.4.0->easyfsl) (3.25.2)\n",
            "Requirement already satisfied: lit in /usr/local/lib/python3.10/dist-packages (from triton==2.0.0->torch>=1.4.0->easyfsl) (16.0.5)\n",
            "Requirement already satisfied: requests in /usr/local/lib/python3.10/dist-packages (from torchvision>=0.7.0->easyfsl) (2.27.1)\n",
            "Requirement already satisfied: six>=1.5 in /usr/local/lib/python3.10/dist-packages (from python-dateutil>=2.7->matplotlib>=3.0.0->easyfsl) (1.16.0)\n",
            "Requirement already satisfied: MarkupSafe>=2.0 in /usr/local/lib/python3.10/dist-packages (from jinja2->torch>=1.4.0->easyfsl) (2.1.2)\n",
            "Requirement already satisfied: urllib3<1.27,>=1.21.1 in /usr/local/lib/python3.10/dist-packages (from requests->torchvision>=0.7.0->easyfsl) (1.26.15)\n",
            "Requirement already satisfied: certifi>=2017.4.17 in /usr/local/lib/python3.10/dist-packages (from requests->torchvision>=0.7.0->easyfsl) (2022.12.7)\n",
            "Requirement already satisfied: charset-normalizer~=2.0.0 in /usr/local/lib/python3.10/dist-packages (from requests->torchvision>=0.7.0->easyfsl) (2.0.12)\n",
            "Requirement already satisfied: idna<4,>=2.5 in /usr/local/lib/python3.10/dist-packages (from requests->torchvision>=0.7.0->easyfsl) (3.4)\n",
            "Requirement already satisfied: mpmath>=0.19 in /usr/local/lib/python3.10/dist-packages (from sympy->torch>=1.4.0->easyfsl) (1.3.0)\n",
            "Installing collected packages: easyfsl\n",
            "Successfully installed easyfsl-1.3.0\n"
          ]
        }
      ]
    },
    {
      "cell_type": "code",
      "execution_count": 3,
      "metadata": {
        "id": "A1LKM7vX1D5v",
        "pycharm": {
          "name": "#%%\n"
        }
      },
      "outputs": [],
      "source": [
        "from pathlib import Path\n",
        "import random\n",
        "from statistics import mean\n",
        "\n",
        "import numpy as np\n",
        "import torch\n",
        "from torch import nn\n",
        "from tqdm import tqdm\n",
        "\n",
        "import torch\n",
        "import numpy as np\n",
        "from torch import nn, optim\n",
        "from torch.utils.data import DataLoader\n",
        "from torchvision import transforms\n",
        "from torchvision.datasets import GTSRB\n",
        "from torchvision.models import resnet18\n",
        "from tqdm import tqdm\n",
        "\n",
        "from easyfsl.samplers import TaskSampler\n",
        "from easyfsl.utils import plot_images, sliding_average"
      ]
    },
    {
      "cell_type": "markdown",
      "metadata": {
        "id": "jkgsfhkD1D5z"
      },
      "source": [
        "Then we're gonna do the most important thing in Machine Learning research: ensuring reproducibility by setting the random seed. We're going to set the seed for all random packages that we could possibly use, plus some other stuff to make CUDA deterministic (see [here](https://pytorch.org/docs/stable/notes/randomness.html)).\n",
        "\n",
        "I strongly encourage that you do this in **all your scripts**."
      ]
    },
    {
      "cell_type": "code",
      "execution_count": 4,
      "metadata": {
        "id": "ocLk4O-G1D50",
        "pycharm": {
          "name": "#%%\n"
        }
      },
      "outputs": [],
      "source": [
        "random_seed = 0\n",
        "np.random.seed(random_seed)\n",
        "torch.manual_seed(random_seed)\n",
        "random.seed(random_seed)\n",
        "torch.backends.cudnn.deterministic = True\n",
        "torch.backends.cudnn.benchmark = False"
      ]
    },
    {
      "cell_type": "markdown",
      "metadata": {
        "id": "OtQokWas1D51"
      },
      "source": [
        "Then we're gonna set the shape of our problem.\n",
        "\n",
        "Also we define our set-up, like the device (change it if you don't have CUDA) or the number of workers for data loading."
      ]
    },
    {
      "cell_type": "code",
      "execution_count": 5,
      "metadata": {
        "id": "_0rB2h7C1D52",
        "pycharm": {
          "name": "#%%\n"
        }
      },
      "outputs": [],
      "source": [
        "n_way = 5\n",
        "n_shot = 5\n",
        "n_query = 10\n",
        "\n",
        "DEVICE = \"cuda\"\n",
        "n_workers = 12"
      ]
    },
    {
      "cell_type": "markdown",
      "metadata": {
        "id": "g-PT7nk81D53"
      },
      "source": [
        "## Training\n",
        "\n",
        "First we define our data loaders for training and validation. You can see that I chose tu use CUB in this notebook, because it's a small dataset, so we can have good results quite quickly. We use `CUB` and `TaskSampler` which are built-in objects from EasyFSL."
      ]
    },
    {
      "cell_type": "code",
      "source": [
        "from keras.preprocessing.image import ImageDataGenerator\n",
        "import keras\n",
        "from urllib.request import urlretrieve\n",
        "import zipfile\n",
        "import time\n",
        "import matplotlib.pyplot as plt\n",
        "import numpy as np"
      ],
      "metadata": {
        "id": "SQTRbdKqezRU"
      },
      "execution_count": 6,
      "outputs": []
    },
    {
      "cell_type": "code",
      "source": [
        "from torchvision.datasets import GTSRB\n",
        "from easyfsl.samplers import TaskSampler\n",
        "from torch.utils.data import DataLoader\n",
        "\n",
        "\n",
        "n_tasks_per_epoch = 500\n",
        "n_validation_tasks = 100\n",
        "image_size = 28\n",
        "\n",
        "# Instantiate the datasets\n",
        "train_set = GTSRB(\n",
        "    root=\"./data\",\n",
        "    # background=True,\n",
        "    split=\"train\",\n",
        "    transform=transforms.Compose(\n",
        "        [\n",
        "            transforms.Grayscale(num_output_channels=3),\n",
        "            transforms.RandomResizedCrop(image_size),\n",
        "            transforms.RandomHorizontalFlip(),\n",
        "            transforms.ToTensor(),\n",
        "        ]\n",
        "    ),\n",
        "    download=True,\n",
        ")\n",
        "\n",
        "separate = int(np.shape(train_set)[0] * 0.8)\n",
        "train_set, valid_set = torch.utils.data.random_split(train_set, [separate, np.shape(train_set)[0] - separate])\n",
        "\n",
        "train_set.get_labels = lambda: [instance[1] for instance in train_set]\n",
        "\n",
        "valid_set.get_labels = lambda: [instance[1] for instance in valid_set]\n",
        "\n",
        "# Those are special batch samplers that sample few-shot classification tasks with a pre-defined shape\n",
        "train_sampler = TaskSampler(\n",
        "    train_set, n_way=n_way, n_shot=n_shot, n_query=n_query, n_tasks=n_tasks_per_epoch\n",
        ")\n",
        "\n",
        "val_sampler = TaskSampler(\n",
        "    valid_set, n_way=n_way, n_shot=n_shot, n_query=n_query, n_tasks=n_validation_tasks\n",
        ")\n",
        "\n",
        "# Finally, the DataLoader. We customize the collate_fn so that batches are delivered\n",
        "# in the shape: (support_images, support_labels, query_images, query_labels, class_ids)\n",
        "train_loader = DataLoader(\n",
        "    train_set,\n",
        "    batch_sampler=train_sampler,\n",
        "    num_workers=n_workers,\n",
        "    pin_memory=True,\n",
        "    collate_fn=train_sampler.episodic_collate_fn,\n",
        ")\n",
        "\n",
        "val_loader = DataLoader(\n",
        "    valid_set,\n",
        "    batch_sampler=val_sampler,\n",
        "    num_workers=n_workers,\n",
        "    pin_memory=True,\n",
        "    collate_fn=val_sampler.episodic_collate_fn,\n",
        ")"
      ],
      "metadata": {
        "id": "b3yC9icngZSC",
        "colab": {
          "base_uri": "https://localhost:8080/"
        },
        "outputId": "dffeec4a-5c22-4bf3-fad0-ad908ab38f10"
      },
      "execution_count": 7,
      "outputs": [
        {
          "output_type": "stream",
          "name": "stdout",
          "text": [
            "Downloading https://sid.erda.dk/public/archives/daaeac0d7ce1152aea9b61d9f1e19370/GTSRB-Training_fixed.zip to data/gtsrb/GTSRB-Training_fixed.zip\n"
          ]
        },
        {
          "output_type": "stream",
          "name": "stderr",
          "text": [
            "100%|██████████| 187490228/187490228 [00:07<00:00, 24493160.00it/s]\n"
          ]
        },
        {
          "output_type": "stream",
          "name": "stdout",
          "text": [
            "Extracting data/gtsrb/GTSRB-Training_fixed.zip to data/gtsrb\n"
          ]
        },
        {
          "output_type": "stream",
          "name": "stderr",
          "text": [
            "/usr/local/lib/python3.10/dist-packages/numpy/core/fromnumeric.py:2007: FutureWarning: The input object of type 'Tensor' is an array-like implementing one of the corresponding protocols (`__array__`, `__array_interface__` or `__array_struct__`); but not a sequence (or 0-D). In the future, this object will be coerced as if it was first converted using `np.array(obj)`. To retain the old behaviour, you have to either modify the type 'Tensor', or assign to an empty array created with `np.empty(correct_shape, dtype=object)`.\n",
            "  result = asarray(a).shape\n",
            "/usr/local/lib/python3.10/dist-packages/numpy/core/fromnumeric.py:2007: VisibleDeprecationWarning: Creating an ndarray from ragged nested sequences (which is a list-or-tuple of lists-or-tuples-or ndarrays with different lengths or shapes) is deprecated. If you meant to do this, you must specify 'dtype=object' when creating the ndarray.\n",
            "  result = asarray(a).shape\n",
            "/usr/local/lib/python3.10/dist-packages/torch/utils/data/dataloader.py:560: UserWarning: This DataLoader will create 12 worker processes in total. Our suggested max number of worker in current system is 2, which is smaller than what this DataLoader is going to create. Please be aware that excessive worker creation might get DataLoader running slow or even freeze, lower the worker number to avoid potential slowness/freeze if necessary.\n",
            "  warnings.warn(_create_warning_msg(\n"
          ]
        }
      ]
    },
    {
      "cell_type": "code",
      "source": [
        "!mkdir /content/data/gtsrb/GTSRB/Testing"
      ],
      "metadata": {
        "id": "adkZ6XYHhIsN"
      },
      "execution_count": 8,
      "outputs": []
    },
    {
      "cell_type": "code",
      "source": [
        "!mv /content/data/gtsrb/GTSRB/Training/00021 /content/data/gtsrb/GTSRB/Testing\n",
        "!mv /content/data/gtsrb/GTSRB/Training/00037 /content/data/gtsrb/GTSRB/Testing\n",
        "!mv /content/data/gtsrb/GTSRB/Training/00042 /content/data/gtsrb/GTSRB/Testing\n",
        "!mv /content/data/gtsrb/GTSRB/Training/00016 /content/data/gtsrb/GTSRB/Testing\n",
        "!mv /content/data/gtsrb/GTSRB/Training/00006 /content/data/gtsrb/GTSRB/Testing\n",
        "!mv /content/data/gtsrb/GTSRB/Training/00005 /content/data/gtsrb/GTSRB/Testing\n",
        "!mv /content/data/gtsrb/GTSRB/Training/00004 /content/data/gtsrb/GTSRB/Testing\n",
        "!mv /content/data/gtsrb/GTSRB/Training/00035 /content/data/gtsrb/GTSRB/Testing\n",
        "!mv /content/data/gtsrb/GTSRB/Training/00000 /content/data/gtsrb/GTSRB/Testing\n",
        "!mv /content/data/gtsrb/GTSRB/Training/00029 /content/data/gtsrb/GTSRB/Testing\n",
        "!mv /content/data/gtsrb/GTSRB/Training/00010 /content/data/gtsrb/GTSRB/Testing\n",
        "!mv /content/data/gtsrb/GTSRB/Training/00012 /content/data/gtsrb/GTSRB/Testing\n",
        "!mv /content/data/gtsrb/GTSRB/Training/00040 /content/data/gtsrb/GTSRB/Testing\n",
        "!mv /content/data/gtsrb/GTSRB/Training/00009 /content/data/gtsrb/GTSRB/Testing\n",
        "!mv /content/data/gtsrb/GTSRB/Training/00036 /content/data/gtsrb/GTSRB/Testing\n",
        "!mv /content/data/gtsrb/GTSRB/Training/00031 /content/data/gtsrb/GTSRB/Testing\n",
        "!mv /content/data/gtsrb/GTSRB/Training/00041 /content/data/gtsrb/GTSRB/Testing\n",
        "!mv /content/data/gtsrb/GTSRB/Training/00018 /content/data/gtsrb/GTSRB/Testing"
      ],
      "metadata": {
        "id": "MwCNpNPUhMAh"
      },
      "execution_count": 9,
      "outputs": []
    },
    {
      "cell_type": "code",
      "source": [
        "import os\n",
        "\n",
        "old_folder_name = '/content/data/gtsrb/GTSRB/Training'\n",
        "new_folder_name = '/content/data/gtsrb/GTSRB/Trainingg'\n",
        "\n",
        "# Rename the folder\n",
        "os.rename(old_folder_name, new_folder_name)\n",
        "\n",
        "old_folder_name = '/content/data/gtsrb/GTSRB/Testing'\n",
        "new_folder_name = '/content/data/gtsrb/GTSRB/Training'\n",
        "\n",
        "# Rename the folder\n",
        "os.rename(old_folder_name, new_folder_name)"
      ],
      "metadata": {
        "id": "2vqtgItXhigp"
      },
      "execution_count": 10,
      "outputs": []
    },
    {
      "cell_type": "code",
      "source": [
        "n_test_tasks = 1000\n",
        "\n",
        "test_set = GTSRB(\n",
        "    root=\"./data\",\n",
        "    # background=False,\n",
        "    split=\"train\",\n",
        "    transform=transforms.Compose(\n",
        "        [\n",
        "            transforms.Grayscale(num_output_channels=3),\n",
        "            transforms.Resize([int(image_size * 1.15), int(image_size * 1.15)]),\n",
        "            transforms.CenterCrop(image_size),\n",
        "            transforms.ToTensor(),\n",
        "        ]\n",
        "    ),\n",
        "    download=False,\n",
        ")\n",
        "\n",
        "test_set.get_labels = lambda: [instance[1] for instance in test_set]\n",
        "\n",
        "test_sampler = TaskSampler(\n",
        "    test_set, n_way=n_way, n_shot=n_shot, n_query=n_query, n_tasks=n_test_tasks\n",
        ")\n",
        "\n",
        "test_loader = DataLoader(\n",
        "    test_set,\n",
        "    batch_sampler=test_sampler,\n",
        "    num_workers=n_workers,\n",
        "    pin_memory=True,\n",
        "    collate_fn=test_sampler.episodic_collate_fn,\n",
        ")"
      ],
      "metadata": {
        "id": "IKywixUghlZG"
      },
      "execution_count": 11,
      "outputs": []
    },
    {
      "cell_type": "code",
      "source": [
        "len(train_set), len(valid_set), len(test_set)"
      ],
      "metadata": {
        "id": "wRGoAR7bhqsU",
        "colab": {
          "base_uri": "https://localhost:8080/"
        },
        "outputId": "95c009be-6007-4c89-8367-4d69a643f734"
      },
      "execution_count": 12,
      "outputs": [
        {
          "output_type": "execute_result",
          "data": {
            "text/plain": [
              "(21312, 5328, 10680)"
            ]
          },
          "metadata": {},
          "execution_count": 12
        }
      ]
    },
    {
      "cell_type": "code",
      "source": [
        "# !wget \"http://btsd.ethz.ch/shareddata/BelgiumTSC/BelgiumTSC_Training.zip\"\n",
        "# !wget \"https://btsd.ethz.ch/shareddata/BelgiumTSC/BelgiumTSC_Testing.zip\""
      ],
      "metadata": {
        "id": "ePASg4FRgGYC",
        "colab": {
          "base_uri": "https://localhost:8080/"
        },
        "outputId": "f97cad6c-2d8a-4dde-eb8e-5e1105f1c7e8"
      },
      "execution_count": null,
      "outputs": [
        {
          "output_type": "stream",
          "name": "stdout",
          "text": [
            "--2023-05-20 13:18:24--  http://btsd.ethz.ch/shareddata/BelgiumTSC/BelgiumTSC_Training.zip\n",
            "Resolving btsd.ethz.ch (btsd.ethz.ch)... 129.132.52.168, 2001:67c:10ec:36c2::168\n",
            "Connecting to btsd.ethz.ch (btsd.ethz.ch)|129.132.52.168|:80... connected.\n",
            "HTTP request sent, awaiting response... 302 Found\n",
            "Location: https://btsd.ethz.ch/shareddata/BelgiumTSC/BelgiumTSC_Training.zip [following]\n",
            "--2023-05-20 13:18:24--  https://btsd.ethz.ch/shareddata/BelgiumTSC/BelgiumTSC_Training.zip\n",
            "Connecting to btsd.ethz.ch (btsd.ethz.ch)|129.132.52.168|:443... connected.\n",
            "HTTP request sent, awaiting response... 200 OK\n",
            "Length: 174298785 (166M) [application/zip]\n",
            "Saving to: ‘BelgiumTSC_Training.zip’\n",
            "\n",
            "BelgiumTSC_Training 100%[===================>] 166.22M  8.65MB/s    in 20s     \n",
            "\n",
            "2023-05-20 13:18:45 (8.38 MB/s) - ‘BelgiumTSC_Training.zip’ saved [174298785/174298785]\n",
            "\n",
            "--2023-05-20 13:18:45--  https://btsd.ethz.ch/shareddata/BelgiumTSC/BelgiumTSC_Testing.zip\n",
            "Resolving btsd.ethz.ch (btsd.ethz.ch)... 129.132.52.168, 2001:67c:10ec:36c2::168\n",
            "Connecting to btsd.ethz.ch (btsd.ethz.ch)|129.132.52.168|:443... connected.\n",
            "HTTP request sent, awaiting response... 200 OK\n",
            "Length: 77877833 (74M) [application/zip]\n",
            "Saving to: ‘BelgiumTSC_Testing.zip’\n",
            "\n",
            "BelgiumTSC_Testing. 100%[===================>]  74.27M  8.63MB/s    in 9.2s    \n",
            "\n",
            "2023-05-20 13:18:55 (8.04 MB/s) - ‘BelgiumTSC_Testing.zip’ saved [77877833/77877833]\n",
            "\n"
          ]
        }
      ]
    },
    {
      "cell_type": "code",
      "source": [
        "import shutil\n",
        "folder_path = \"/content/data/gtsrb/GTSRB/Training\"\n",
        "shutil.rmtree(folder_path)\n",
        "# folder_path = \"/content/data/gtsrb/GTSRB/Testing\"\n",
        "# shutil.rmtree(folder_path)"
      ],
      "metadata": {
        "id": "-lKn3WkSWCYi"
      },
      "execution_count": 13,
      "outputs": []
    },
    {
      "cell_type": "code",
      "source": [
        "import os\n",
        "\n",
        "old_folder_name = '/content/data/gtsrb/GTSRB/Training'\n",
        "new_folder_name = '/content/data/gtsrb/GTSRB/Trainingg'\n",
        "\n",
        "# Rename the folder\n",
        "os.rename(old_folder_name, new_folder_name)"
      ],
      "metadata": {
        "id": "qX0JB9SLWnb8"
      },
      "execution_count": null,
      "outputs": []
    },
    {
      "cell_type": "code",
      "source": [
        "extract_path = \"./data/gtsrb/GTSRB\"\n",
        "validation_data_dir = './data/gtsrb/GTSRB/Training'\n",
        "\n",
        "def train_data(train_url):\n",
        "    zip_dir = \"./data/BelgiumTSC_Training.zip\"\n",
        "\n",
        "    print(\"Downloading Belgium TSC Training Dataset\\n\")\n",
        "    urlretrieve(train_url, zip_dir)\n",
        "    zip_ref = zipfile.ZipFile(zip_dir)\n",
        "\n",
        "    print(\"Extracting Zip\\n\")\n",
        "    zip_ref.extractall(extract_path)\n",
        "    zip_ref.close()\n",
        "\n",
        "def test_data(test_url):\n",
        "    zip_dir = \"./data/BelgiumTSC_Training.zip\"\n",
        "\n",
        "    print(\"Downloading Belgium TSC Testing Dataset\\n\")\n",
        "    urlretrieve(test_url, zip_dir)\n",
        "    zip_ref = zipfile.ZipFile(zip_dir)\n",
        "\n",
        "    print(\"Extracting Zip\\n\")\n",
        "    zip_ref.extractall(extract_path)\n",
        "    zip_ref.close()\n",
        "\n",
        "\n",
        "def download_data():\n",
        "    print(\"Download Datasets\")\n",
        "    start = time.time()\n",
        "    train_data(\"http://btsd.ethz.ch/shareddata/BelgiumTSC/BelgiumTSC_Training.zip\")\n",
        "    # test_data(\"http://btsd.ethz.ch/shareddata/BelgiumTSC/BelgiumTSC_Testing.zip\")\n",
        "    end = time.time()\n",
        "    print(\"Downloading Datasets 'BelgiumTSC' took \", end - start, 'seconds')\n",
        "\n",
        "download_data()"
      ],
      "metadata": {
        "colab": {
          "base_uri": "https://localhost:8080/"
        },
        "id": "9UPZeqNSeroG",
        "outputId": "899a7199-6a76-4b6c-b34f-535e60010b0c"
      },
      "execution_count": 14,
      "outputs": [
        {
          "output_type": "stream",
          "name": "stdout",
          "text": [
            "Download Datasets\n",
            "Downloading Belgium TSC Training Dataset\n",
            "\n",
            "Extracting Zip\n",
            "\n",
            "Downloading Datasets 'BelgiumTSC' took  22.946743726730347 seconds\n"
          ]
        }
      ]
    },
    {
      "cell_type": "code",
      "source": [
        "import os\n",
        "import shutil\n",
        "\n",
        "cntt =0\n",
        "summ = 0\n",
        "folder_A_path = '/content/data/gtsrb/GTSRB/Training'\n",
        "\n",
        "# Iterate over subdirectories in folder_A\n",
        "for root, dirs, files in os.walk(folder_A_path):\n",
        "    for dir in dirs:\n",
        "        folder_B_path = os.path.join(root, dir)\n",
        "        ppm_file_count = sum(1 for file in os.listdir(folder_B_path) if file.endswith('.ppm'))\n",
        "        print(f\"Folder {folder_B_path} contains {ppm_file_count} .ppm files.\")\n",
        "\n",
        "        summ += ppm_file_count\n",
        "\n",
        "        if ppm_file_count < 80:\n",
        "          cntt += 1\n",
        "          shutil.rmtree(folder_B_path)\n",
        "\n",
        "print(summ, \"SUM\")"
      ],
      "metadata": {
        "id": "spKYKjvIYRTa"
      },
      "execution_count": null,
      "outputs": []
    },
    {
      "cell_type": "code",
      "source": [
        "len(valid_set) + len(train_set)"
      ],
      "metadata": {
        "colab": {
          "base_uri": "https://localhost:8080/"
        },
        "id": "-WUMN1gMcfH6",
        "outputId": "57451652-6698-44e7-fffc-9cbdbca55089"
      },
      "execution_count": null,
      "outputs": [
        {
          "output_type": "execute_result",
          "data": {
            "text/plain": [
              "4575"
            ]
          },
          "metadata": {},
          "execution_count": 227
        }
      ]
    },
    {
      "cell_type": "code",
      "source": [
        "import random\n",
        "from typing import Dict, Iterator, List, Tuple, Union\n",
        "\n",
        "import torch\n",
        "from torch import Tensor\n",
        "from torch.utils.data import Sampler\n",
        "\n",
        "from easyfsl.datasets import FewShotDataset\n",
        "\n",
        "GENERIC_TYPING_ERROR_MESSAGE = (\n",
        "    \"Check out the output's type of your dataset's __getitem__() method.\"\n",
        "    \"It must be a Tuple[Tensor, int] or Tuple[Tensor, 0-dim Tensor].\"\n",
        ")\n",
        "\n",
        "print(\"HAHA2\")\n",
        "class TaskSamplerr(Sampler):\n",
        "    \"\"\"\n",
        "    Samples batches in the shape of few-shot classification tasks. At each iteration, it will sample\n",
        "    n_way classes, and then sample support and query images from these classes.\n",
        "    \"\"\"\n",
        "\n",
        "    def __init__(\n",
        "        self,\n",
        "        dataset: FewShotDataset,\n",
        "        n_way: int,\n",
        "        n_shot: int,\n",
        "        n_query: int,\n",
        "        n_tasks: int,\n",
        "    ):\n",
        "        \"\"\"\n",
        "        Args:\n",
        "            dataset: dataset from which to sample classification tasks. Must have implement get_labels() from\n",
        "                FewShotDataset.\n",
        "            n_way: number of classes in one task\n",
        "            n_shot: number of support images for each class in one task\n",
        "            n_query: number of query images for each class in one task\n",
        "            n_tasks: number of tasks to sample\n",
        "        \"\"\"\n",
        "        print(\"HAHAAA: \", dataset.get_labels())\n",
        "        super().__init__(data_source=None)\n",
        "        self.n_way = n_way\n",
        "        self.n_shot = n_shot\n",
        "        self.n_query = n_query\n",
        "        self.n_tasks = n_tasks\n",
        "\n",
        "        self.items_per_label: Dict[int, List[int]] = {}\n",
        "        \n",
        "        for item, label in enumerate(dataset.get_labels()):\n",
        "            print(\"HAHA3: \", item, label)\n",
        "            if label in self.items_per_label:\n",
        "                self.items_per_label[label].append(item)\n",
        "            else:\n",
        "                self.items_per_label[label] = [item]\n",
        "\n",
        "        print(\"HAHA: \", self.items_per_label) \n",
        "\n",
        "        for itemss in self.items_per_label:\n",
        "          print(itemss, len(self.items_per_label[itemss]))\n",
        "\n",
        "        self._check_dataset_size_fits_sampler_parameters()\n",
        "\n",
        "    def __len__(self) -> int:\n",
        "        return self.n_tasks\n",
        "\n",
        "    def __iter__(self) -> Iterator[List[int]]:\n",
        "        \"\"\"\n",
        "        Sample n_way labels uniformly at random,\n",
        "        and then sample n_shot + n_query items for each label, also uniformly at random.\n",
        "        Yields:\n",
        "            a list of indices of length (n_way * (n_shot + n_query))\n",
        "        \"\"\"\n",
        "        for _ in range(self.n_tasks):\n",
        "            yield torch.cat(\n",
        "                [\n",
        "                    torch.tensor(\n",
        "                        random.sample(\n",
        "                            self.items_per_label[label], self.n_shot + self.n_query\n",
        "                        )\n",
        "                    )\n",
        "                    for label in random.sample(\n",
        "                        sorted(self.items_per_label.keys()), self.n_way\n",
        "                    )\n",
        "                ]\n",
        "            ).tolist()\n",
        "\n",
        "    def episodic_collate_fn(\n",
        "        self, input_data: List[Tuple[Tensor, Union[Tensor, int]]]\n",
        "    ) -> Tuple[Tensor, Tensor, Tensor, Tensor, List[int]]:\n",
        "        \"\"\"\n",
        "        Collate function to be used as argument for the collate_fn parameter of episodic\n",
        "            data loaders.\n",
        "        Args:\n",
        "            input_data: each element is a tuple containing:\n",
        "                - an image as a torch Tensor of shape (n_channels, height, width)\n",
        "                - the label of this image as an int or a 0-dim tensor\n",
        "        Returns:\n",
        "            tuple(Tensor, Tensor, Tensor, Tensor, list[int]): respectively:\n",
        "                - support images of shape (n_way * n_shot, n_channels, height, width),\n",
        "                - their labels of shape (n_way * n_shot),\n",
        "                - query images of shape (n_way * n_query, n_channels, height, width)\n",
        "                - their labels of shape (n_way * n_query),\n",
        "                - the dataset class ids of the class sampled in the episode\n",
        "        \"\"\"\n",
        "        input_data_with_int_labels = self._cast_input_data_to_tensor_int_tuple(\n",
        "            input_data\n",
        "        )\n",
        "        true_class_ids = list({x[1] for x in input_data_with_int_labels})\n",
        "        all_images = torch.cat([x[0].unsqueeze(0) for x in input_data_with_int_labels])\n",
        "        all_images = all_images.reshape(\n",
        "            (self.n_way, self.n_shot + self.n_query, *all_images.shape[1:])\n",
        "        )\n",
        "        all_labels = torch.tensor(\n",
        "            [true_class_ids.index(x[1]) for x in input_data_with_int_labels]\n",
        "        ).reshape((self.n_way, self.n_shot + self.n_query))\n",
        "        support_images = all_images[:, : self.n_shot].reshape(\n",
        "            (-1, *all_images.shape[2:])\n",
        "        )\n",
        "        query_images = all_images[:, self.n_shot :].reshape((-1, *all_images.shape[2:]))\n",
        "        support_labels = all_labels[:, : self.n_shot].flatten()\n",
        "        query_labels = all_labels[:, self.n_shot :].flatten()\n",
        "        return (\n",
        "            support_images,\n",
        "            support_labels,\n",
        "            query_images,\n",
        "            query_labels,\n",
        "            true_class_ids,\n",
        "        )\n",
        "\n",
        "    @staticmethod\n",
        "    def _cast_input_data_to_tensor_int_tuple(\n",
        "        input_data: List[Tuple[Tensor, Union[Tensor, int]]]\n",
        "    ) -> List[Tuple[Tensor, int]]:\n",
        "        \"\"\"\n",
        "        Check the type of the input for the episodic_collate_fn method, and cast it to the right type if possible.\n",
        "        Args:\n",
        "            input_data: each element is a tuple containing:\n",
        "                - an image as a torch Tensor of shape (n_channels, height, width)\n",
        "                - the label of this image as an int or a 0-dim tensor\n",
        "        Returns:\n",
        "            the input data with the labels cast to int\n",
        "        Raises:\n",
        "            TypeError : Wrong type of input images or labels\n",
        "            ValueError: Input label is not a 0-dim tensor\n",
        "        \"\"\"\n",
        "        for image, label in input_data:\n",
        "            if not isinstance(image, Tensor):\n",
        "                raise TypeError(\n",
        "                    f\"Illegal type of input instance: {type(image)}. \"\n",
        "                    + GENERIC_TYPING_ERROR_MESSAGE\n",
        "                )\n",
        "            if not isinstance(label, int):\n",
        "                if not isinstance(label, Tensor):\n",
        "                    raise TypeError(\n",
        "                        f\"Illegal type of input label: {type(label)}. \"\n",
        "                        + GENERIC_TYPING_ERROR_MESSAGE\n",
        "                    )\n",
        "                if label.dtype not in {\n",
        "                    torch.uint8,\n",
        "                    torch.int8,\n",
        "                    torch.int16,\n",
        "                    torch.int32,\n",
        "                    torch.int64,\n",
        "                }:\n",
        "                    raise TypeError(\n",
        "                        f\"Illegal dtype of input label tensor: {label.dtype}. \"\n",
        "                        + GENERIC_TYPING_ERROR_MESSAGE\n",
        "                    )\n",
        "                if label.ndim != 0:\n",
        "                    raise ValueError(\n",
        "                        f\"Illegal shape for input label tensor: {label.shape}. \"\n",
        "                        + GENERIC_TYPING_ERROR_MESSAGE\n",
        "                    )\n",
        "\n",
        "        return [(image, int(label)) for (image, label) in input_data]\n",
        "\n",
        "    def _check_dataset_size_fits_sampler_parameters(self):\n",
        "        \"\"\"\n",
        "        Check that the dataset size is compatible with the sampler parameters\n",
        "        \"\"\"\n",
        "        self._check_dataset_has_enough_labels()\n",
        "        self._check_dataset_has_enough_items_per_label()\n",
        "\n",
        "    def _check_dataset_has_enough_labels(self):\n",
        "        if self.n_way > len(self.items_per_label):\n",
        "            raise ValueError(\n",
        "                f\"The number of labels in the dataset ({len(self.items_per_label)} \"\n",
        "                f\"must be greater or equal to n_way ({self.n_way}).\"\n",
        "            )\n",
        "\n",
        "    def _check_dataset_has_enough_items_per_label(self):\n",
        "        print(\"HI\")\n",
        "        number_of_samples_per_label = [\n",
        "            len(items_for_label) for items_for_label in self.items_per_label.values()\n",
        "        ]\n",
        "        print(\"SAMPLES: \", number_of_samples_per_label)\n",
        "        minimum_number_of_samples_per_label = min(number_of_samples_per_label)\n",
        "        print(\"MIN: \", minimum_number_of_samples_per_label)\n",
        "        label_with_minimum_number_of_samples = number_of_samples_per_label.index(\n",
        "            minimum_number_of_samples_per_label\n",
        "        )\n",
        "\n",
        "        print(\"LABEL: \", label_with_minimum_number_of_samples)\n",
        "        if self.n_shot + self.n_query > minimum_number_of_samples_per_label:\n",
        "            raise ValueError(\n",
        "                f\"Label {label_with_minimum_number_of_samples} has only {minimum_number_of_samples_per_label} samples\"\n",
        "                f\"but all classes must have at least n_shot + n_query ({self.n_shot + self.n_query}) samples.\"\n",
        "            )\n"
      ],
      "metadata": {
        "colab": {
          "base_uri": "https://localhost:8080/"
        },
        "id": "5h_ZHl_ji8aY",
        "outputId": "14764b9d-e821-4f9f-dbc4-d8edf57079cd"
      },
      "execution_count": null,
      "outputs": [
        {
          "output_type": "stream",
          "name": "stdout",
          "text": [
            "HAHA2\n"
          ]
        }
      ]
    },
    {
      "cell_type": "code",
      "source": [
        "import random\n",
        "from torch.utils.data import Dataset, Subset\n",
        "\n",
        "def uniform_random_split(TRAIN_SET):\n",
        "  from torch.utils.data import random_split\n",
        "\n",
        "  # Assuming you have a dataset called TRAIN_SET\n",
        "  total_samples = len(TRAIN_SET)\n",
        "\n",
        "  # Create a list of classes and their respective counts\n",
        "  class_counts = {c: 0 for _, c in TRAIN_SET}\n",
        "\n",
        "  # Iterate over the TRAIN_SET and count the samples for each class\n",
        "  for _, c in TRAIN_SET:\n",
        "      class_counts[c] += 1\n",
        "\n",
        "  # Determine the minimum number of samples per class in each set\n",
        "  min_samples_per_class = 15\n",
        "\n",
        "  # Calculate the number of samples needed in the validation set for each class\n",
        "  valid_counts = {c: max(min_samples_per_class - count, 0) for c, count in class_counts.items()}\n",
        "\n",
        "  # Split the TRAIN_SET into train_set and valid_set\n",
        "  train_samples = []\n",
        "  valid_samples = []\n",
        "  for sample in TRAIN_SET:\n",
        "      _, c = sample\n",
        "\n",
        "      # Check if the sample is needed in the validation set for its class\n",
        "      if valid_counts[c] > 0:\n",
        "          valid_samples.append(sample)\n",
        "          valid_counts[c] -= 1\n",
        "      else:\n",
        "          train_samples.append(sample)\n",
        "\n",
        "  # Split the train samples and create train_set and valid_set\n",
        "  tr_size = int(0.8 * total_samples)\n",
        "  tst_size = total_samples - tr_size\n",
        "  train_set, valid_set = random_split(train_samples, [tr_size, tst_size])\n",
        "\n",
        "  # Concatenate the valid_set with the remaining validation samples\n",
        "  valid_set = valid_set + valid_samples\n",
        "\n",
        "  return train_set, valid_set"
      ],
      "metadata": {
        "id": "OhMn8a-96gQI"
      },
      "execution_count": null,
      "outputs": []
    },
    {
      "cell_type": "code",
      "source": [
        "flag = 0\n",
        "found = 0"
      ],
      "metadata": {
        "id": "CGocCLT0Zay2"
      },
      "execution_count": 29,
      "outputs": []
    },
    {
      "cell_type": "code",
      "source": [
        "for target_val in range(50, 100, 5):\n",
        "  import os\n",
        "  import shutil\n",
        "\n",
        "  cntt =0\n",
        "  summ = 0\n",
        "  folder_A_path = '/content/data/gtsrb/GTSRB/Training'\n",
        "\n",
        "  # Iterate over subdirectories in folder_A\n",
        "  for root, dirs, files in os.walk(folder_A_path):\n",
        "      for dir in dirs:\n",
        "          folder_B_path = os.path.join(root, dir)\n",
        "          ppm_file_count = sum(1 for file in os.listdir(folder_B_path) if file.endswith('.ppm'))\n",
        "          print(f\"Folder {folder_B_path} contains {ppm_file_count} .ppm files.\")\n",
        "\n",
        "          summ += ppm_file_count\n",
        "          print(\"VAL: \", target_val)\n",
        "          if ppm_file_count < target_val:\n",
        "            cntt += 1\n",
        "            shutil.rmtree(folder_B_path)\n",
        "\n",
        "  trains_set = GTSRB(\n",
        "      root=\"./data\",\n",
        "      # background=True,\n",
        "      split=\"train\",\n",
        "      transform=transforms.Compose(\n",
        "          [\n",
        "              transforms.Grayscale(num_output_channels=3),\n",
        "              transforms.RandomResizedCrop(image_size),\n",
        "              transforms.RandomHorizontalFlip(),\n",
        "              transforms.ToTensor(),\n",
        "          ]\n",
        "      ),\n",
        "      download=False,\n",
        "  )\n",
        "\n",
        "  train_set_size = int(len(trains_set) * 0.8)\n",
        "  val_set_size = len(trains_set) - train_set_size\n",
        "\n",
        "  for vall in range(2):\n",
        "    train_set, valid_set = torch.utils.data.random_split(trains_set, [train_set_size, val_set_size])\n",
        "    train_set.get_labels = lambda: [instance[1] for instance in train_set]\n",
        "    valid_set.get_labels = lambda: [instance[1] for instance in valid_set]\n",
        "\n",
        "    train_dct: dict[int, list[int]] = {}\n",
        "    for item, label in enumerate(train_set.get_labels()):\n",
        "      if label in train_dct:\n",
        "          train_dct[label].append(item)\n",
        "      else:\n",
        "          train_dct[label] = [item]\n",
        "          \n",
        "    number_of_samples_per_label = [\n",
        "                len(items_for_label) for items_for_label in train_dct.values()\n",
        "            ]\n",
        "    minimum_number_of_samples_per_label = min(number_of_samples_per_label)\n",
        "    print(\"MIN: \", minimum_number_of_samples_per_label)\n",
        "    label_with_minimum_number_of_samples = number_of_samples_per_label.index(\n",
        "        minimum_number_of_samples_per_label\n",
        "    )\n",
        "\n",
        "    print(\"LABEL: \", label_with_minimum_number_of_samples)\n",
        "    if n_shot + n_query < minimum_number_of_samples_per_label:\n",
        "      flag = 1\n",
        "\n",
        "    valid_dct: dict[int, list[int]] = {}\n",
        "    for item, label in enumerate(valid_set.get_labels()):\n",
        "      if label in valid_dct:\n",
        "          valid_dct[label].append(item)\n",
        "      else:\n",
        "          valid_dct[label] = [item]\n",
        "          \n",
        "    number_of_samples_per_label = [\n",
        "                len(items_for_label) for items_for_label in valid_dct.values()\n",
        "            ]\n",
        "    minimum_number_of_samples_per_label = min(number_of_samples_per_label)\n",
        "    print(\"MIN: \", minimum_number_of_samples_per_label)\n",
        "    label_with_minimum_number_of_samples = number_of_samples_per_label.index(\n",
        "        minimum_number_of_samples_per_label\n",
        "    )\n",
        "\n",
        "    print(\"LABEL: \", label_with_minimum_number_of_samples)\n",
        "    if n_shot + n_query > minimum_number_of_samples_per_label:\n",
        "      flag = 0\n",
        "    \n",
        "    print(\"Step 1: \", flag, found)\n",
        "    if flag == 1:\n",
        "      found = 1\n",
        "      break\n",
        "  print(\"Step 2: \", flag, found)\n",
        "  if found == 1: break\n",
        "  found = 0"
      ],
      "metadata": {
        "colab": {
          "base_uri": "https://localhost:8080/"
        },
        "id": "PxJ4RnfhanaS",
        "outputId": "d7cdaa51-d0c5-478a-fb11-1269469d1119"
      },
      "execution_count": 31,
      "outputs": [
        {
          "output_type": "stream",
          "name": "stdout",
          "text": [
            "Folder /content/data/gtsrb/GTSRB/Training/00013 contains 90 .ppm files.\n",
            "Folder /content/data/gtsrb/GTSRB/Training/00037 contains 98 .ppm files.\n",
            "Folder /content/data/gtsrb/GTSRB/Training/00045 contains 74 .ppm files.\n",
            "Folder /content/data/gtsrb/GTSRB/Training/00053 contains 199 .ppm files.\n",
            "Folder /content/data/gtsrb/GTSRB/Training/00056 contains 95 .ppm files.\n",
            "Folder /content/data/gtsrb/GTSRB/Training/00022 contains 375 .ppm files.\n",
            "Folder /content/data/gtsrb/GTSRB/Training/00041 contains 148 .ppm files.\n",
            "Folder /content/data/gtsrb/GTSRB/Training/00028 contains 125 .ppm files.\n",
            "Folder /content/data/gtsrb/GTSRB/Training/00040 contains 242 .ppm files.\n",
            "Folder /content/data/gtsrb/GTSRB/Training/00001 contains 110 .ppm files.\n",
            "Folder /content/data/gtsrb/GTSRB/Training/00017 contains 79 .ppm files.\n",
            "Folder /content/data/gtsrb/GTSRB/Training/00019 contains 231 .ppm files.\n",
            "Folder /content/data/gtsrb/GTSRB/Training/00038 contains 285 .ppm files.\n",
            "Folder /content/data/gtsrb/GTSRB/Training/00018 contains 81 .ppm files.\n",
            "Folder /content/data/gtsrb/GTSRB/Training/00032 contains 316 .ppm files.\n",
            "Folder /content/data/gtsrb/GTSRB/Training/00054 contains 118 .ppm files.\n",
            "Folder /content/data/gtsrb/GTSRB/Training/00007 contains 157 .ppm files.\n",
            "Folder /content/data/gtsrb/GTSRB/Training/00061 contains 282 .ppm files.\n",
            "Folder /content/data/gtsrb/GTSRB/Training/00039 contains 196 .ppm files.\n",
            "Folder /content/data/gtsrb/GTSRB/Training/00047 contains 147 .ppm files.\n",
            "Folder /content/data/gtsrb/GTSRB/Training/00057 contains 78 .ppm files.\n",
            "MIN:  56\n",
            "LABEL:  12\n",
            "MIN:  13\n",
            "LABEL:  2\n",
            "Step 1:  0 0\n",
            "MIN:  55\n",
            "LABEL:  18\n",
            "MIN:  13\n",
            "LABEL:  11\n",
            "Step 1:  0 0\n",
            "Step 2:  0 0\n",
            "Folder /content/data/gtsrb/GTSRB/Training/00013 contains 90 .ppm files.\n",
            "Folder /content/data/gtsrb/GTSRB/Training/00037 contains 98 .ppm files.\n",
            "Folder /content/data/gtsrb/GTSRB/Training/00045 contains 74 .ppm files.\n",
            "Folder /content/data/gtsrb/GTSRB/Training/00053 contains 199 .ppm files.\n",
            "Folder /content/data/gtsrb/GTSRB/Training/00056 contains 95 .ppm files.\n",
            "Folder /content/data/gtsrb/GTSRB/Training/00022 contains 375 .ppm files.\n",
            "Folder /content/data/gtsrb/GTSRB/Training/00041 contains 148 .ppm files.\n",
            "Folder /content/data/gtsrb/GTSRB/Training/00028 contains 125 .ppm files.\n",
            "Folder /content/data/gtsrb/GTSRB/Training/00040 contains 242 .ppm files.\n",
            "Folder /content/data/gtsrb/GTSRB/Training/00001 contains 110 .ppm files.\n",
            "Folder /content/data/gtsrb/GTSRB/Training/00017 contains 79 .ppm files.\n",
            "Folder /content/data/gtsrb/GTSRB/Training/00019 contains 231 .ppm files.\n",
            "Folder /content/data/gtsrb/GTSRB/Training/00038 contains 285 .ppm files.\n",
            "Folder /content/data/gtsrb/GTSRB/Training/00018 contains 81 .ppm files.\n",
            "Folder /content/data/gtsrb/GTSRB/Training/00032 contains 316 .ppm files.\n",
            "Folder /content/data/gtsrb/GTSRB/Training/00054 contains 118 .ppm files.\n",
            "Folder /content/data/gtsrb/GTSRB/Training/00007 contains 157 .ppm files.\n",
            "Folder /content/data/gtsrb/GTSRB/Training/00061 contains 282 .ppm files.\n",
            "Folder /content/data/gtsrb/GTSRB/Training/00039 contains 196 .ppm files.\n",
            "Folder /content/data/gtsrb/GTSRB/Training/00047 contains 147 .ppm files.\n",
            "Folder /content/data/gtsrb/GTSRB/Training/00057 contains 78 .ppm files.\n",
            "MIN:  55\n",
            "LABEL:  11\n",
            "MIN:  12\n",
            "LABEL:  14\n",
            "Step 1:  0 0\n",
            "MIN:  58\n",
            "LABEL:  13\n",
            "MIN:  12\n",
            "LABEL:  13\n",
            "Step 1:  0 0\n",
            "Step 2:  0 0\n",
            "Folder /content/data/gtsrb/GTSRB/Training/00013 contains 90 .ppm files.\n",
            "Folder /content/data/gtsrb/GTSRB/Training/00037 contains 98 .ppm files.\n",
            "Folder /content/data/gtsrb/GTSRB/Training/00045 contains 74 .ppm files.\n",
            "Folder /content/data/gtsrb/GTSRB/Training/00053 contains 199 .ppm files.\n",
            "Folder /content/data/gtsrb/GTSRB/Training/00056 contains 95 .ppm files.\n",
            "Folder /content/data/gtsrb/GTSRB/Training/00022 contains 375 .ppm files.\n",
            "Folder /content/data/gtsrb/GTSRB/Training/00041 contains 148 .ppm files.\n",
            "Folder /content/data/gtsrb/GTSRB/Training/00028 contains 125 .ppm files.\n",
            "Folder /content/data/gtsrb/GTSRB/Training/00040 contains 242 .ppm files.\n",
            "Folder /content/data/gtsrb/GTSRB/Training/00001 contains 110 .ppm files.\n",
            "Folder /content/data/gtsrb/GTSRB/Training/00017 contains 79 .ppm files.\n",
            "Folder /content/data/gtsrb/GTSRB/Training/00019 contains 231 .ppm files.\n",
            "Folder /content/data/gtsrb/GTSRB/Training/00038 contains 285 .ppm files.\n",
            "Folder /content/data/gtsrb/GTSRB/Training/00018 contains 81 .ppm files.\n",
            "Folder /content/data/gtsrb/GTSRB/Training/00032 contains 316 .ppm files.\n",
            "Folder /content/data/gtsrb/GTSRB/Training/00054 contains 118 .ppm files.\n",
            "Folder /content/data/gtsrb/GTSRB/Training/00007 contains 157 .ppm files.\n",
            "Folder /content/data/gtsrb/GTSRB/Training/00061 contains 282 .ppm files.\n",
            "Folder /content/data/gtsrb/GTSRB/Training/00039 contains 196 .ppm files.\n",
            "Folder /content/data/gtsrb/GTSRB/Training/00047 contains 147 .ppm files.\n",
            "Folder /content/data/gtsrb/GTSRB/Training/00057 contains 78 .ppm files.\n",
            "MIN:  54\n",
            "LABEL:  19\n",
            "MIN:  12\n",
            "LABEL:  16\n",
            "Step 1:  0 0\n",
            "MIN:  59\n",
            "LABEL:  3\n",
            "MIN:  7\n",
            "LABEL:  10\n",
            "Step 1:  0 0\n",
            "Step 2:  0 0\n",
            "Folder /content/data/gtsrb/GTSRB/Training/00013 contains 90 .ppm files.\n",
            "Folder /content/data/gtsrb/GTSRB/Training/00037 contains 98 .ppm files.\n",
            "Folder /content/data/gtsrb/GTSRB/Training/00045 contains 74 .ppm files.\n",
            "Folder /content/data/gtsrb/GTSRB/Training/00053 contains 199 .ppm files.\n",
            "Folder /content/data/gtsrb/GTSRB/Training/00056 contains 95 .ppm files.\n",
            "Folder /content/data/gtsrb/GTSRB/Training/00022 contains 375 .ppm files.\n",
            "Folder /content/data/gtsrb/GTSRB/Training/00041 contains 148 .ppm files.\n",
            "Folder /content/data/gtsrb/GTSRB/Training/00028 contains 125 .ppm files.\n",
            "Folder /content/data/gtsrb/GTSRB/Training/00040 contains 242 .ppm files.\n",
            "Folder /content/data/gtsrb/GTSRB/Training/00001 contains 110 .ppm files.\n",
            "Folder /content/data/gtsrb/GTSRB/Training/00017 contains 79 .ppm files.\n",
            "Folder /content/data/gtsrb/GTSRB/Training/00019 contains 231 .ppm files.\n",
            "Folder /content/data/gtsrb/GTSRB/Training/00038 contains 285 .ppm files.\n",
            "Folder /content/data/gtsrb/GTSRB/Training/00018 contains 81 .ppm files.\n",
            "Folder /content/data/gtsrb/GTSRB/Training/00032 contains 316 .ppm files.\n",
            "Folder /content/data/gtsrb/GTSRB/Training/00054 contains 118 .ppm files.\n",
            "Folder /content/data/gtsrb/GTSRB/Training/00007 contains 157 .ppm files.\n",
            "Folder /content/data/gtsrb/GTSRB/Training/00061 contains 282 .ppm files.\n",
            "Folder /content/data/gtsrb/GTSRB/Training/00039 contains 196 .ppm files.\n",
            "Folder /content/data/gtsrb/GTSRB/Training/00047 contains 147 .ppm files.\n",
            "Folder /content/data/gtsrb/GTSRB/Training/00057 contains 78 .ppm files.\n",
            "MIN:  62\n",
            "LABEL:  19\n",
            "MIN:  11\n",
            "LABEL:  20\n",
            "Step 1:  0 0\n",
            "MIN:  58\n",
            "LABEL:  17\n",
            "MIN:  12\n",
            "LABEL:  7\n",
            "Step 1:  0 0\n",
            "Step 2:  0 0\n",
            "Folder /content/data/gtsrb/GTSRB/Training/00013 contains 90 .ppm files.\n",
            "Folder /content/data/gtsrb/GTSRB/Training/00037 contains 98 .ppm files.\n",
            "Folder /content/data/gtsrb/GTSRB/Training/00045 contains 74 .ppm files.\n",
            "Folder /content/data/gtsrb/GTSRB/Training/00053 contains 199 .ppm files.\n",
            "Folder /content/data/gtsrb/GTSRB/Training/00056 contains 95 .ppm files.\n",
            "Folder /content/data/gtsrb/GTSRB/Training/00022 contains 375 .ppm files.\n",
            "Folder /content/data/gtsrb/GTSRB/Training/00041 contains 148 .ppm files.\n",
            "Folder /content/data/gtsrb/GTSRB/Training/00028 contains 125 .ppm files.\n",
            "Folder /content/data/gtsrb/GTSRB/Training/00040 contains 242 .ppm files.\n",
            "Folder /content/data/gtsrb/GTSRB/Training/00001 contains 110 .ppm files.\n",
            "Folder /content/data/gtsrb/GTSRB/Training/00017 contains 79 .ppm files.\n",
            "Folder /content/data/gtsrb/GTSRB/Training/00019 contains 231 .ppm files.\n",
            "Folder /content/data/gtsrb/GTSRB/Training/00038 contains 285 .ppm files.\n",
            "Folder /content/data/gtsrb/GTSRB/Training/00018 contains 81 .ppm files.\n",
            "Folder /content/data/gtsrb/GTSRB/Training/00032 contains 316 .ppm files.\n",
            "Folder /content/data/gtsrb/GTSRB/Training/00054 contains 118 .ppm files.\n",
            "Folder /content/data/gtsrb/GTSRB/Training/00007 contains 157 .ppm files.\n",
            "Folder /content/data/gtsrb/GTSRB/Training/00061 contains 282 .ppm files.\n",
            "Folder /content/data/gtsrb/GTSRB/Training/00039 contains 196 .ppm files.\n",
            "Folder /content/data/gtsrb/GTSRB/Training/00047 contains 147 .ppm files.\n",
            "Folder /content/data/gtsrb/GTSRB/Training/00057 contains 78 .ppm files.\n",
            "MIN:  59\n",
            "LABEL:  8\n",
            "MIN:  12\n",
            "LABEL:  20\n",
            "Step 1:  0 0\n",
            "MIN:  57\n",
            "LABEL:  16\n",
            "MIN:  10\n",
            "LABEL:  15\n",
            "Step 1:  0 0\n",
            "Step 2:  0 0\n",
            "Folder /content/data/gtsrb/GTSRB/Training/00013 contains 90 .ppm files.\n",
            "Folder /content/data/gtsrb/GTSRB/Training/00037 contains 98 .ppm files.\n",
            "Folder /content/data/gtsrb/GTSRB/Training/00045 contains 74 .ppm files.\n",
            "Folder /content/data/gtsrb/GTSRB/Training/00053 contains 199 .ppm files.\n",
            "Folder /content/data/gtsrb/GTSRB/Training/00056 contains 95 .ppm files.\n",
            "Folder /content/data/gtsrb/GTSRB/Training/00022 contains 375 .ppm files.\n",
            "Folder /content/data/gtsrb/GTSRB/Training/00041 contains 148 .ppm files.\n",
            "Folder /content/data/gtsrb/GTSRB/Training/00028 contains 125 .ppm files.\n",
            "Folder /content/data/gtsrb/GTSRB/Training/00040 contains 242 .ppm files.\n",
            "Folder /content/data/gtsrb/GTSRB/Training/00001 contains 110 .ppm files.\n",
            "Folder /content/data/gtsrb/GTSRB/Training/00017 contains 79 .ppm files.\n",
            "Folder /content/data/gtsrb/GTSRB/Training/00019 contains 231 .ppm files.\n",
            "Folder /content/data/gtsrb/GTSRB/Training/00038 contains 285 .ppm files.\n",
            "Folder /content/data/gtsrb/GTSRB/Training/00018 contains 81 .ppm files.\n",
            "Folder /content/data/gtsrb/GTSRB/Training/00032 contains 316 .ppm files.\n",
            "Folder /content/data/gtsrb/GTSRB/Training/00054 contains 118 .ppm files.\n",
            "Folder /content/data/gtsrb/GTSRB/Training/00007 contains 157 .ppm files.\n",
            "Folder /content/data/gtsrb/GTSRB/Training/00061 contains 282 .ppm files.\n",
            "Folder /content/data/gtsrb/GTSRB/Training/00039 contains 196 .ppm files.\n",
            "Folder /content/data/gtsrb/GTSRB/Training/00047 contains 147 .ppm files.\n",
            "Folder /content/data/gtsrb/GTSRB/Training/00057 contains 78 .ppm files.\n",
            "MIN:  63\n",
            "LABEL:  9\n",
            "MIN:  12\n",
            "LABEL:  12\n",
            "Step 1:  0 0\n",
            "MIN:  64\n",
            "LABEL:  6\n",
            "MIN:  10\n",
            "LABEL:  18\n",
            "Step 1:  0 0\n",
            "Step 2:  0 0\n",
            "Folder /content/data/gtsrb/GTSRB/Training/00013 contains 90 .ppm files.\n",
            "Folder /content/data/gtsrb/GTSRB/Training/00037 contains 98 .ppm files.\n",
            "Folder /content/data/gtsrb/GTSRB/Training/00053 contains 199 .ppm files.\n",
            "Folder /content/data/gtsrb/GTSRB/Training/00056 contains 95 .ppm files.\n",
            "Folder /content/data/gtsrb/GTSRB/Training/00022 contains 375 .ppm files.\n",
            "Folder /content/data/gtsrb/GTSRB/Training/00041 contains 148 .ppm files.\n",
            "Folder /content/data/gtsrb/GTSRB/Training/00028 contains 125 .ppm files.\n",
            "Folder /content/data/gtsrb/GTSRB/Training/00040 contains 242 .ppm files.\n",
            "Folder /content/data/gtsrb/GTSRB/Training/00001 contains 110 .ppm files.\n",
            "Folder /content/data/gtsrb/GTSRB/Training/00017 contains 79 .ppm files.\n",
            "Folder /content/data/gtsrb/GTSRB/Training/00019 contains 231 .ppm files.\n",
            "Folder /content/data/gtsrb/GTSRB/Training/00038 contains 285 .ppm files.\n",
            "Folder /content/data/gtsrb/GTSRB/Training/00018 contains 81 .ppm files.\n",
            "Folder /content/data/gtsrb/GTSRB/Training/00032 contains 316 .ppm files.\n",
            "Folder /content/data/gtsrb/GTSRB/Training/00054 contains 118 .ppm files.\n",
            "Folder /content/data/gtsrb/GTSRB/Training/00007 contains 157 .ppm files.\n",
            "Folder /content/data/gtsrb/GTSRB/Training/00061 contains 282 .ppm files.\n",
            "Folder /content/data/gtsrb/GTSRB/Training/00039 contains 196 .ppm files.\n",
            "Folder /content/data/gtsrb/GTSRB/Training/00047 contains 147 .ppm files.\n",
            "Folder /content/data/gtsrb/GTSRB/Training/00057 contains 78 .ppm files.\n",
            "MIN:  67\n",
            "LABEL:  13\n",
            "MIN:  14\n",
            "LABEL:  8\n",
            "Step 1:  0 0\n",
            "MIN:  71\n",
            "LABEL:  3\n",
            "MIN:  10\n",
            "LABEL:  11\n",
            "Step 1:  0 0\n",
            "Step 2:  0 0\n",
            "Folder /content/data/gtsrb/GTSRB/Training/00013 contains 90 .ppm files.\n",
            "Folder /content/data/gtsrb/GTSRB/Training/00037 contains 98 .ppm files.\n",
            "Folder /content/data/gtsrb/GTSRB/Training/00053 contains 199 .ppm files.\n",
            "Folder /content/data/gtsrb/GTSRB/Training/00056 contains 95 .ppm files.\n",
            "Folder /content/data/gtsrb/GTSRB/Training/00022 contains 375 .ppm files.\n",
            "Folder /content/data/gtsrb/GTSRB/Training/00041 contains 148 .ppm files.\n",
            "Folder /content/data/gtsrb/GTSRB/Training/00028 contains 125 .ppm files.\n",
            "Folder /content/data/gtsrb/GTSRB/Training/00040 contains 242 .ppm files.\n",
            "Folder /content/data/gtsrb/GTSRB/Training/00001 contains 110 .ppm files.\n",
            "Folder /content/data/gtsrb/GTSRB/Training/00019 contains 231 .ppm files.\n",
            "Folder /content/data/gtsrb/GTSRB/Training/00038 contains 285 .ppm files.\n",
            "Folder /content/data/gtsrb/GTSRB/Training/00018 contains 81 .ppm files.\n",
            "Folder /content/data/gtsrb/GTSRB/Training/00032 contains 316 .ppm files.\n",
            "Folder /content/data/gtsrb/GTSRB/Training/00054 contains 118 .ppm files.\n",
            "Folder /content/data/gtsrb/GTSRB/Training/00007 contains 157 .ppm files.\n",
            "Folder /content/data/gtsrb/GTSRB/Training/00061 contains 282 .ppm files.\n",
            "Folder /content/data/gtsrb/GTSRB/Training/00039 contains 196 .ppm files.\n",
            "Folder /content/data/gtsrb/GTSRB/Training/00047 contains 147 .ppm files.\n",
            "MIN:  70\n",
            "LABEL:  7\n",
            "MIN:  17\n",
            "LABEL:  3\n",
            "Step 1:  1 0\n",
            "Step 2:  1 1\n"
          ]
        }
      ]
    },
    {
      "cell_type": "code",
      "source": [
        "target_val"
      ],
      "metadata": {
        "colab": {
          "base_uri": "https://localhost:8080/"
        },
        "id": "1E-xj1fYfv1z",
        "outputId": "4c7239e7-7577-4e87-92ae-e4e378373224"
      },
      "execution_count": 23,
      "outputs": [
        {
          "output_type": "execute_result",
          "data": {
            "text/plain": [
              "50"
            ]
          },
          "metadata": {},
          "execution_count": 23
        }
      ]
    },
    {
      "cell_type": "code",
      "source": [
        "train_set.get_labels = lambda: [instance[1] for instance in train_set]\n",
        "\n",
        "valid_set.get_labels = lambda: [instance[1] for instance in valid_set]\n",
        "\n",
        "# Those are special batch samplers that sample few-shot classification tasks with a pre-defined shape\n",
        "train_sampler = TaskSamplerr(\n",
        "    train_set, n_way=n_way, n_shot=n_shot, n_query=n_query, n_tasks=n_tasks_per_epoch\n",
        ")\n",
        "print(\"Done Train\")\n",
        "val_sampler = TaskSamplerr(\n",
        "    valid_set, n_way=n_way, n_shot=n_shot, n_query=n_query, n_tasks=n_validation_tasks\n",
        ")"
      ],
      "metadata": {
        "id": "lXLpG9ZJbTI2"
      },
      "execution_count": null,
      "outputs": []
    },
    {
      "cell_type": "code",
      "execution_count": 33,
      "metadata": {
        "id": "1T7446uT1D54",
        "pycharm": {
          "name": "#%%\n"
        },
        "colab": {
          "base_uri": "https://localhost:8080/"
        },
        "outputId": "159c6e3c-13b5-448f-cfeb-3d357381bb9a"
      },
      "outputs": [
        {
          "output_type": "stream",
          "name": "stdout",
          "text": [
            "Done Train\n"
          ]
        },
        {
          "output_type": "stream",
          "name": "stderr",
          "text": [
            "/usr/local/lib/python3.10/dist-packages/torch/utils/data/dataloader.py:560: UserWarning: This DataLoader will create 12 worker processes in total. Our suggested max number of worker in current system is 2, which is smaller than what this DataLoader is going to create. Please be aware that excessive worker creation might get DataLoader running slow or even freeze, lower the worker number to avoid potential slowness/freeze if necessary.\n",
            "  warnings.warn(_create_warning_msg(\n"
          ]
        }
      ],
      "source": [
        "from torchvision.datasets import GTSRB\n",
        "from easyfsl.samplers import TaskSampler\n",
        "from torch.utils.data import DataLoader\n",
        "\n",
        "\n",
        "n_tasks_per_epoch = 500\n",
        "n_validation_tasks = 100\n",
        "image_size = 28\n",
        "\n",
        "# # Instantiate the datasets\n",
        "# train_set = GTSRB(\n",
        "#     root=\"./data\",\n",
        "#     # background=True,\n",
        "#     split=\"train\",\n",
        "#     transform=transforms.Compose(\n",
        "#         [\n",
        "#             transforms.Grayscale(num_output_channels=3),\n",
        "#             transforms.RandomResizedCrop(image_size),\n",
        "#             transforms.RandomHorizontalFlip(),\n",
        "#             transforms.ToTensor(),\n",
        "#         ]\n",
        "#     ),\n",
        "#     download=False,\n",
        "# )\n",
        "\n",
        "# train_set_size = int(len(train_set) * 0.8)\n",
        "# val_set_size = len(train_set) - train_set_size\n",
        "# train_set, valid_set = torch.utils.data.random_split(train_set, [train_set_size, val_set_size])\n",
        "\n",
        "# train_set, valid_set = uniform_random_split(train_set)\n",
        "\n",
        "# train_set.get_labels = lambda: [instance[1] for instance in train_set]\n",
        "\n",
        "# valid_set.get_labels = lambda: [instance[1] for instance in valid_set]\n",
        "\n",
        "# # Those are special batch samplers that sample few-shot classification tasks with a pre-defined shape\n",
        "train_sampler = TaskSampler(\n",
        "    train_set, n_way=n_way, n_shot=n_shot, n_query=n_query, n_tasks=n_tasks_per_epoch\n",
        ")\n",
        "print(\"Done Train\")\n",
        "val_sampler = TaskSampler(\n",
        "    valid_set, n_way=n_way, n_shot=n_shot, n_query=n_query, n_tasks=n_validation_tasks\n",
        ")\n",
        "\n",
        "# Finally, the DataLoader. We customize the collate_fn so that batches are delivered\n",
        "# in the shape: (support_images, support_labels, query_images, query_labels, class_ids)\n",
        "train_loader = DataLoader(\n",
        "    train_set,\n",
        "    batch_sampler=train_sampler,\n",
        "    num_workers=n_workers,\n",
        "    pin_memory=True,\n",
        "    collate_fn=train_sampler.episodic_collate_fn,\n",
        ")\n",
        "\n",
        "val_loader = DataLoader(\n",
        "    valid_set,\n",
        "    batch_sampler=val_sampler,\n",
        "    num_workers=n_workers,\n",
        "    pin_memory=True,\n",
        "    collate_fn=val_sampler.episodic_collate_fn,\n",
        ")"
      ]
    },
    {
      "cell_type": "code",
      "source": [
        "len(valid_set)"
      ],
      "metadata": {
        "id": "BYqu16Pnc7O7",
        "colab": {
          "base_uri": "https://localhost:8080/"
        },
        "outputId": "6e594e9f-18c0-4871-c20f-207e40d36ef1"
      },
      "execution_count": 35,
      "outputs": [
        {
          "output_type": "execute_result",
          "data": {
            "text/plain": [
              "643"
            ]
          },
          "metadata": {},
          "execution_count": 35
        }
      ]
    },
    {
      "cell_type": "code",
      "source": [
        "l_lst = []\n",
        "for i in range(len(valid_set)):\n",
        "  l_lst.append(valid_set[i][1])"
      ],
      "metadata": {
        "id": "TtIwXvNQD23f"
      },
      "execution_count": 40,
      "outputs": []
    },
    {
      "cell_type": "code",
      "source": [
        "import numpy as np\n",
        "print(len(np.unique(l_lst)))"
      ],
      "metadata": {
        "colab": {
          "base_uri": "https://localhost:8080/"
        },
        "id": "78mXlpDLEiCL",
        "outputId": "b3f78e5f-4ec8-4831-c167-204da1df8c99"
      },
      "execution_count": 41,
      "outputs": [
        {
          "output_type": "stream",
          "name": "stdout",
          "text": [
            "17\n"
          ]
        }
      ]
    },
    {
      "cell_type": "markdown",
      "metadata": {
        "id": "CfX-JEEd1D55"
      },
      "source": [
        "And then we define the network. Here I chose Prototypical Networks and the built-in ResNet18 from PyTorch because it's easy."
      ]
    },
    {
      "cell_type": "code",
      "source": [
        "#Only used this encoder for RelationNetworks few shot algorithm\n",
        "\n",
        "class CNNEncoder(nn.Module):\n",
        "    \"\"\"docstring for ClassName\"\"\"\n",
        "    def __init__(self):\n",
        "        super(CNNEncoder, self).__init__()\n",
        "        self.layer1 = nn.Sequential(\n",
        "                        nn.Conv2d(3,64,kernel_size=3,padding=0),\n",
        "                        nn.BatchNorm2d(64, momentum=1, affine=True),\n",
        "                        nn.ReLU(),\n",
        "                        nn.MaxPool2d(2))\n",
        "        self.layer2 = nn.Sequential(\n",
        "                        nn.Conv2d(64,64,kernel_size=3,padding=0),\n",
        "                        nn.BatchNorm2d(64, momentum=1, affine=True),\n",
        "                        nn.ReLU(),\n",
        "                        nn.MaxPool2d(2))\n",
        "        self.layer3 = nn.Sequential(\n",
        "                        nn.Conv2d(64,64,kernel_size=3,padding=1),\n",
        "                        nn.BatchNorm2d(64, momentum=1, affine=True),\n",
        "                        nn.ReLU())\n",
        "        self.layer4 = nn.Sequential(\n",
        "                        nn.Conv2d(64,64,kernel_size=3,padding=1),\n",
        "                        nn.BatchNorm2d(64, momentum=1, affine=True),\n",
        "                        nn.ReLU())\n",
        "\n",
        "    def forward(self,x):\n",
        "        out = self.layer1(x)\n",
        "        out = self.layer2(out)\n",
        "        out = self.layer3(out)\n",
        "        out = self.layer4(out)\n",
        "        #out = out.view(out.size(0),-1)\n",
        "        return out # 64"
      ],
      "metadata": {
        "id": "t3MZVrk0wrrI"
      },
      "execution_count": null,
      "outputs": []
    },
    {
      "cell_type": "code",
      "execution_count": 48,
      "metadata": {
        "id": "7gW9FSUf1D55",
        "pycharm": {
          "name": "#%%\n"
        }
      },
      "outputs": [],
      "source": [
        "from easyfsl.methods import RelationNetworks, FewShotClassifier\n",
        "from easyfsl.modules import resnet12\n",
        "\n",
        "\n",
        "convolutional_network = CNNEncoder()\n",
        "few_shot_classifier = RelationNetworks(convolutional_network, feature_dimension = 64).to(DEVICE)"
      ]
    },
    {
      "cell_type": "markdown",
      "metadata": {
        "id": "KaDd3CVm1D56"
      },
      "source": [
        "Now let's define our training helpers ! I chose to use Stochastic Gradient Descent on 200 epochs with a scheduler that divides the learning rate by 10 after 120 and 160 epochs. The strategy is derived from [this repo](https://github.com/fiveai/on-episodes-fsl).\n",
        "\n",
        "We're also gonna use a TensorBoard because it's always good to see what your training curves look like."
      ]
    },
    {
      "cell_type": "code",
      "execution_count": 49,
      "metadata": {
        "id": "d2EZR3yA1D56",
        "pycharm": {
          "name": "#%%\n"
        }
      },
      "outputs": [],
      "source": [
        "from torch.optim import SGD, Optimizer\n",
        "from torch.optim.lr_scheduler import MultiStepLR\n",
        "from torch.utils.tensorboard import SummaryWriter\n",
        "\n",
        "\n",
        "LOSS_FUNCTION = nn.CrossEntropyLoss()\n",
        "\n",
        "n_epochs = 200\n",
        "scheduler_milestones = [120, 160]\n",
        "scheduler_gamma = 0.1\n",
        "learning_rate = 1e-2\n",
        "tb_logs_dir = Path(\".\")\n",
        "\n",
        "train_optimizer = SGD(\n",
        "    few_shot_classifier.parameters(), lr=learning_rate, momentum=0.9, weight_decay=5e-4\n",
        ")\n",
        "train_scheduler = MultiStepLR(\n",
        "    train_optimizer,\n",
        "    milestones=scheduler_milestones,\n",
        "    gamma=scheduler_gamma,\n",
        ")\n",
        "\n",
        "tb_writer = SummaryWriter(log_dir=str(tb_logs_dir))"
      ]
    },
    {
      "cell_type": "markdown",
      "metadata": {
        "id": "xTgldYnI1D57"
      },
      "source": [
        "And now let's get to it! Here we define the function that performs a training epoch.\n",
        "\n",
        "We use tqdm to monitor the training in real time in our logs."
      ]
    },
    {
      "cell_type": "code",
      "execution_count": 50,
      "metadata": {
        "id": "fyLOQ2A21D58",
        "pycharm": {
          "name": "#%%\n"
        }
      },
      "outputs": [],
      "source": [
        "def training_epoch(\n",
        "    model: FewShotClassifier, data_loader: DataLoader, optimizer: Optimizer\n",
        "):\n",
        "    all_loss = []\n",
        "    model.train()\n",
        "    with tqdm(\n",
        "        enumerate(data_loader), total=len(data_loader), desc=\"Training\"\n",
        "    ) as tqdm_train:\n",
        "        for episode_index, (\n",
        "            support_images,\n",
        "            support_labels,\n",
        "            query_images,\n",
        "            query_labels,\n",
        "            _,\n",
        "        ) in tqdm_train:\n",
        "            optimizer.zero_grad()\n",
        "            model.process_support_set(\n",
        "                support_images.to(DEVICE), support_labels.to(DEVICE)\n",
        "            )\n",
        "            classification_scores = model(query_images.to(DEVICE))\n",
        "\n",
        "            loss = LOSS_FUNCTION(classification_scores, query_labels.to(DEVICE))\n",
        "            loss.backward()\n",
        "            optimizer.step()\n",
        "\n",
        "            all_loss.append(loss.item())\n",
        "\n",
        "            tqdm_train.set_postfix(loss=mean(all_loss))\n",
        "\n",
        "    return mean(all_loss)"
      ]
    },
    {
      "cell_type": "markdown",
      "metadata": {
        "id": "gMyYb6pB1D58"
      },
      "source": [
        "And we have everything we need! To perform validations we'll just use the built-in `evaluate` function from `easyfsl.methods.utils`.\n",
        "\n",
        "This is now the time to **start training**.\n",
        "\n",
        "I added something to log the state of the model that gave the best performance on the validation set."
      ]
    },
    {
      "cell_type": "code",
      "execution_count": 52,
      "metadata": {
        "colab": {
          "base_uri": "https://localhost:8080/"
        },
        "id": "jCZZ3Yqr1D58",
        "outputId": "1b7b0a7c-8e85-4fcb-85ed-9e649fba5618",
        "pycharm": {
          "name": "#%%\n"
        }
      },
      "outputs": [
        {
          "output_type": "stream",
          "name": "stdout",
          "text": [
            "Epoch 0\n"
          ]
        },
        {
          "output_type": "stream",
          "name": "stderr",
          "text": [
            "Training: 100%|██████████| 500/500 [00:34<00:00, 14.56it/s, loss=1.22]\n",
            "Validation: 100%|██████████| 100/100 [00:05<00:00, 17.64it/s, accuracy=0.731]"
          ]
        },
        {
          "output_type": "stream",
          "name": "stdout",
          "text": [
            "Ding ding ding! We found a new best model!\n",
            "Epoch 1\n"
          ]
        },
        {
          "output_type": "stream",
          "name": "stderr",
          "text": [
            "\n",
            "Training: 100%|██████████| 500/500 [00:32<00:00, 15.19it/s, loss=1.13]\n",
            "Validation: 100%|██████████| 100/100 [00:06<00:00, 15.95it/s, accuracy=0.77]"
          ]
        },
        {
          "output_type": "stream",
          "name": "stdout",
          "text": [
            "Ding ding ding! We found a new best model!\n",
            "Epoch 2\n"
          ]
        },
        {
          "output_type": "stream",
          "name": "stderr",
          "text": [
            "\n",
            "Training: 100%|██████████| 500/500 [00:32<00:00, 15.44it/s, loss=1.1]\n",
            "Validation: 100%|██████████| 100/100 [00:07<00:00, 13.69it/s, accuracy=0.805]"
          ]
        },
        {
          "output_type": "stream",
          "name": "stdout",
          "text": [
            "Ding ding ding! We found a new best model!\n",
            "Epoch 3\n"
          ]
        },
        {
          "output_type": "stream",
          "name": "stderr",
          "text": [
            "\n",
            "Training: 100%|██████████| 500/500 [00:32<00:00, 15.48it/s, loss=1.08]\n",
            "Validation: 100%|██████████| 100/100 [00:07<00:00, 13.99it/s, accuracy=0.774]"
          ]
        },
        {
          "output_type": "stream",
          "name": "stdout",
          "text": [
            "Epoch 4\n"
          ]
        },
        {
          "output_type": "stream",
          "name": "stderr",
          "text": [
            "\n",
            "Training: 100%|██████████| 500/500 [00:35<00:00, 14.14it/s, loss=1.06]\n",
            "Validation: 100%|██████████| 100/100 [00:07<00:00, 13.95it/s, accuracy=0.822]"
          ]
        },
        {
          "output_type": "stream",
          "name": "stdout",
          "text": [
            "Ding ding ding! We found a new best model!\n",
            "Epoch 5\n"
          ]
        },
        {
          "output_type": "stream",
          "name": "stderr",
          "text": [
            "\n",
            "Training: 100%|██████████| 500/500 [00:32<00:00, 15.33it/s, loss=1.05]\n",
            "Validation: 100%|██████████| 100/100 [00:07<00:00, 13.93it/s, accuracy=0.853]\n"
          ]
        },
        {
          "output_type": "stream",
          "name": "stdout",
          "text": [
            "Ding ding ding! We found a new best model!\n",
            "Epoch 6\n"
          ]
        },
        {
          "output_type": "stream",
          "name": "stderr",
          "text": [
            "Training: 100%|██████████| 500/500 [00:32<00:00, 15.22it/s, loss=1.04]\n",
            "Validation: 100%|██████████| 100/100 [00:06<00:00, 14.29it/s, accuracy=0.847]"
          ]
        },
        {
          "output_type": "stream",
          "name": "stdout",
          "text": [
            "Epoch 7\n"
          ]
        },
        {
          "output_type": "stream",
          "name": "stderr",
          "text": [
            "\n",
            "Training: 100%|██████████| 500/500 [00:33<00:00, 14.98it/s, loss=1.03]\n",
            "Validation: 100%|██████████| 100/100 [00:06<00:00, 15.01it/s, accuracy=0.871]"
          ]
        },
        {
          "output_type": "stream",
          "name": "stdout",
          "text": [
            "Ding ding ding! We found a new best model!\n",
            "Epoch 8\n"
          ]
        },
        {
          "output_type": "stream",
          "name": "stderr",
          "text": [
            "\n",
            "Training: 100%|██████████| 500/500 [00:32<00:00, 15.32it/s, loss=1.03]\n",
            "Validation: 100%|██████████| 100/100 [00:06<00:00, 16.12it/s, accuracy=0.869]"
          ]
        },
        {
          "output_type": "stream",
          "name": "stdout",
          "text": [
            "Epoch 9\n"
          ]
        },
        {
          "output_type": "stream",
          "name": "stderr",
          "text": [
            "\n",
            "Training: 100%|██████████| 500/500 [00:33<00:00, 15.04it/s, loss=1.02]\n",
            "Validation: 100%|██████████| 100/100 [00:05<00:00, 18.41it/s, accuracy=0.884]\n"
          ]
        },
        {
          "output_type": "stream",
          "name": "stdout",
          "text": [
            "Ding ding ding! We found a new best model!\n",
            "Epoch 10\n"
          ]
        },
        {
          "output_type": "stream",
          "name": "stderr",
          "text": [
            "Training: 100%|██████████| 500/500 [00:34<00:00, 14.51it/s, loss=1.02]\n",
            "Validation: 100%|██████████| 100/100 [00:05<00:00, 18.04it/s, accuracy=0.886]"
          ]
        },
        {
          "output_type": "stream",
          "name": "stdout",
          "text": [
            "Ding ding ding! We found a new best model!\n",
            "Epoch 11\n"
          ]
        },
        {
          "output_type": "stream",
          "name": "stderr",
          "text": [
            "\n",
            "Training: 100%|██████████| 500/500 [00:33<00:00, 14.78it/s, loss=1.01]\n",
            "Validation: 100%|██████████| 100/100 [00:05<00:00, 17.36it/s, accuracy=0.865]"
          ]
        },
        {
          "output_type": "stream",
          "name": "stdout",
          "text": [
            "Epoch 12\n"
          ]
        },
        {
          "output_type": "stream",
          "name": "stderr",
          "text": [
            "\n",
            "Training: 100%|██████████| 500/500 [00:33<00:00, 15.02it/s, loss=1.01]\n",
            "Validation: 100%|██████████| 100/100 [00:06<00:00, 16.63it/s, accuracy=0.885]"
          ]
        },
        {
          "output_type": "stream",
          "name": "stdout",
          "text": [
            "Epoch 13\n"
          ]
        },
        {
          "output_type": "stream",
          "name": "stderr",
          "text": [
            "\n",
            "Training: 100%|██████████| 500/500 [00:32<00:00, 15.17it/s, loss=1]\n",
            "Validation: 100%|██████████| 100/100 [00:06<00:00, 16.15it/s, accuracy=0.882]\n"
          ]
        },
        {
          "output_type": "stream",
          "name": "stdout",
          "text": [
            "Epoch 14\n"
          ]
        },
        {
          "output_type": "stream",
          "name": "stderr",
          "text": [
            "Training: 100%|██████████| 500/500 [00:34<00:00, 14.36it/s, loss=1]\n",
            "Validation: 100%|██████████| 100/100 [00:06<00:00, 14.72it/s, accuracy=0.892]\n"
          ]
        },
        {
          "output_type": "stream",
          "name": "stdout",
          "text": [
            "Ding ding ding! We found a new best model!\n",
            "Epoch 15\n"
          ]
        },
        {
          "output_type": "stream",
          "name": "stderr",
          "text": [
            "Training: 100%|██████████| 500/500 [00:35<00:00, 14.14it/s, loss=1]\n",
            "Validation: 100%|██████████| 100/100 [00:05<00:00, 16.99it/s, accuracy=0.895]\n"
          ]
        },
        {
          "output_type": "stream",
          "name": "stdout",
          "text": [
            "Ding ding ding! We found a new best model!\n",
            "Epoch 16\n"
          ]
        },
        {
          "output_type": "stream",
          "name": "stderr",
          "text": [
            "Training: 100%|██████████| 500/500 [00:35<00:00, 14.21it/s, loss=0.998]\n",
            "Validation: 100%|██████████| 100/100 [00:05<00:00, 17.85it/s, accuracy=0.878]"
          ]
        },
        {
          "output_type": "stream",
          "name": "stdout",
          "text": [
            "Epoch 17\n"
          ]
        },
        {
          "output_type": "stream",
          "name": "stderr",
          "text": [
            "\n",
            "Training: 100%|██████████| 500/500 [00:33<00:00, 14.72it/s, loss=0.994]\n",
            "Validation: 100%|██████████| 100/100 [00:06<00:00, 15.61it/s, accuracy=0.903]"
          ]
        },
        {
          "output_type": "stream",
          "name": "stdout",
          "text": [
            "Ding ding ding! We found a new best model!\n",
            "Epoch 18\n"
          ]
        },
        {
          "output_type": "stream",
          "name": "stderr",
          "text": [
            "\n",
            "Training: 100%|██████████| 500/500 [00:35<00:00, 14.08it/s, loss=0.995]\n",
            "Validation: 100%|██████████| 100/100 [00:06<00:00, 16.15it/s, accuracy=0.891]"
          ]
        },
        {
          "output_type": "stream",
          "name": "stdout",
          "text": [
            "Epoch 19\n"
          ]
        },
        {
          "output_type": "stream",
          "name": "stderr",
          "text": [
            "\n",
            "Training: 100%|██████████| 500/500 [00:36<00:00, 13.55it/s, loss=0.987]\n",
            "Validation: 100%|██████████| 100/100 [00:06<00:00, 16.51it/s, accuracy=0.903]"
          ]
        },
        {
          "output_type": "stream",
          "name": "stdout",
          "text": [
            "Ding ding ding! We found a new best model!\n",
            "Epoch 20\n"
          ]
        },
        {
          "output_type": "stream",
          "name": "stderr",
          "text": [
            "\n",
            "Training: 100%|██████████| 500/500 [00:35<00:00, 13.93it/s, loss=0.991]\n",
            "Validation: 100%|██████████| 100/100 [00:06<00:00, 15.91it/s, accuracy=0.901]\n"
          ]
        },
        {
          "output_type": "stream",
          "name": "stdout",
          "text": [
            "Epoch 21\n"
          ]
        },
        {
          "output_type": "stream",
          "name": "stderr",
          "text": [
            "Training: 100%|██████████| 500/500 [00:36<00:00, 13.66it/s, loss=0.983]\n",
            "Validation: 100%|██████████| 100/100 [00:06<00:00, 15.96it/s, accuracy=0.901]"
          ]
        },
        {
          "output_type": "stream",
          "name": "stdout",
          "text": [
            "Epoch 22\n"
          ]
        },
        {
          "output_type": "stream",
          "name": "stderr",
          "text": [
            "\n",
            "Training: 100%|██████████| 500/500 [00:34<00:00, 14.43it/s, loss=0.985]\n",
            "Validation: 100%|██████████| 100/100 [00:05<00:00, 16.96it/s, accuracy=0.908]\n"
          ]
        },
        {
          "output_type": "stream",
          "name": "stdout",
          "text": [
            "Ding ding ding! We found a new best model!\n",
            "Epoch 23\n"
          ]
        },
        {
          "output_type": "stream",
          "name": "stderr",
          "text": [
            "Training: 100%|██████████| 500/500 [00:34<00:00, 14.29it/s, loss=0.987]\n",
            "Validation: 100%|██████████| 100/100 [00:05<00:00, 17.39it/s, accuracy=0.917]\n"
          ]
        },
        {
          "output_type": "stream",
          "name": "stdout",
          "text": [
            "Ding ding ding! We found a new best model!\n",
            "Epoch 24\n"
          ]
        },
        {
          "output_type": "stream",
          "name": "stderr",
          "text": [
            "Training: 100%|██████████| 500/500 [00:34<00:00, 14.39it/s, loss=0.987]\n",
            "Validation: 100%|██████████| 100/100 [00:05<00:00, 17.85it/s, accuracy=0.917]"
          ]
        },
        {
          "output_type": "stream",
          "name": "stdout",
          "text": [
            "Ding ding ding! We found a new best model!\n",
            "Epoch 25\n"
          ]
        },
        {
          "output_type": "stream",
          "name": "stderr",
          "text": [
            "\n",
            "Training: 100%|██████████| 500/500 [00:33<00:00, 14.97it/s, loss=0.982]\n",
            "Validation: 100%|██████████| 100/100 [00:06<00:00, 16.58it/s, accuracy=0.905]"
          ]
        },
        {
          "output_type": "stream",
          "name": "stdout",
          "text": [
            "Epoch 26\n"
          ]
        },
        {
          "output_type": "stream",
          "name": "stderr",
          "text": [
            "\n",
            "Training: 100%|██████████| 500/500 [00:33<00:00, 14.74it/s, loss=0.98]\n",
            "Validation: 100%|██████████| 100/100 [00:06<00:00, 16.54it/s, accuracy=0.89]"
          ]
        },
        {
          "output_type": "stream",
          "name": "stdout",
          "text": [
            "Epoch 27\n"
          ]
        },
        {
          "output_type": "stream",
          "name": "stderr",
          "text": [
            "\n",
            "Training: 100%|██████████| 500/500 [00:34<00:00, 14.64it/s, loss=0.982]\n",
            "Validation: 100%|██████████| 100/100 [00:05<00:00, 16.67it/s, accuracy=0.9]\n"
          ]
        },
        {
          "output_type": "stream",
          "name": "stdout",
          "text": [
            "Epoch 28\n"
          ]
        },
        {
          "output_type": "stream",
          "name": "stderr",
          "text": [
            "Training: 100%|██████████| 500/500 [00:34<00:00, 14.67it/s, loss=0.979]\n",
            "Validation: 100%|██████████| 100/100 [00:06<00:00, 16.33it/s, accuracy=0.921]\n"
          ]
        },
        {
          "output_type": "stream",
          "name": "stdout",
          "text": [
            "Ding ding ding! We found a new best model!\n",
            "Epoch 29\n"
          ]
        },
        {
          "output_type": "stream",
          "name": "stderr",
          "text": [
            "Training: 100%|██████████| 500/500 [00:35<00:00, 14.23it/s, loss=0.975]\n",
            "Validation: 100%|██████████| 100/100 [00:06<00:00, 15.30it/s, accuracy=0.921]"
          ]
        },
        {
          "output_type": "stream",
          "name": "stdout",
          "text": [
            "Epoch 30\n"
          ]
        },
        {
          "output_type": "stream",
          "name": "stderr",
          "text": [
            "\n",
            "Training: 100%|██████████| 500/500 [00:34<00:00, 14.31it/s, loss=0.977]\n",
            "Validation: 100%|██████████| 100/100 [00:05<00:00, 16.85it/s, accuracy=0.922]"
          ]
        },
        {
          "output_type": "stream",
          "name": "stdout",
          "text": [
            "Ding ding ding! We found a new best model!\n",
            "Epoch 31\n"
          ]
        },
        {
          "output_type": "stream",
          "name": "stderr",
          "text": [
            "\n",
            "Training: 100%|██████████| 500/500 [00:38<00:00, 12.85it/s, loss=0.977]\n",
            "Validation: 100%|██████████| 100/100 [00:05<00:00, 17.18it/s, accuracy=0.931]"
          ]
        },
        {
          "output_type": "stream",
          "name": "stdout",
          "text": [
            "Ding ding ding! We found a new best model!\n",
            "Epoch 32\n"
          ]
        },
        {
          "output_type": "stream",
          "name": "stderr",
          "text": [
            "\n",
            "Training: 100%|██████████| 500/500 [00:35<00:00, 14.24it/s, loss=0.973]\n",
            "Validation: 100%|██████████| 100/100 [00:05<00:00, 17.49it/s, accuracy=0.906]"
          ]
        },
        {
          "output_type": "stream",
          "name": "stdout",
          "text": [
            "Epoch 33\n"
          ]
        },
        {
          "output_type": "stream",
          "name": "stderr",
          "text": [
            "\n",
            "Training: 100%|██████████| 500/500 [00:35<00:00, 14.28it/s, loss=0.972]\n",
            "Validation: 100%|██████████| 100/100 [00:05<00:00, 17.82it/s, accuracy=0.921]"
          ]
        },
        {
          "output_type": "stream",
          "name": "stdout",
          "text": [
            "Epoch 34\n"
          ]
        },
        {
          "output_type": "stream",
          "name": "stderr",
          "text": [
            "\n",
            "Training: 100%|██████████| 500/500 [00:35<00:00, 14.28it/s, loss=0.971]\n",
            "Validation: 100%|██████████| 100/100 [00:05<00:00, 17.51it/s, accuracy=0.911]\n"
          ]
        },
        {
          "output_type": "stream",
          "name": "stdout",
          "text": [
            "Epoch 35\n"
          ]
        },
        {
          "output_type": "stream",
          "name": "stderr",
          "text": [
            "Training: 100%|██████████| 500/500 [00:34<00:00, 14.49it/s, loss=0.976]\n",
            "Validation: 100%|██████████| 100/100 [00:05<00:00, 17.88it/s, accuracy=0.891]\n"
          ]
        },
        {
          "output_type": "stream",
          "name": "stdout",
          "text": [
            "Epoch 36\n"
          ]
        },
        {
          "output_type": "stream",
          "name": "stderr",
          "text": [
            "Training: 100%|██████████| 500/500 [00:34<00:00, 14.29it/s, loss=0.972]\n",
            "Validation: 100%|██████████| 100/100 [00:05<00:00, 17.87it/s, accuracy=0.913]\n"
          ]
        },
        {
          "output_type": "stream",
          "name": "stdout",
          "text": [
            "Epoch 37\n"
          ]
        },
        {
          "output_type": "stream",
          "name": "stderr",
          "text": [
            "Training: 100%|██████████| 500/500 [00:34<00:00, 14.67it/s, loss=0.972]\n",
            "Validation: 100%|██████████| 100/100 [00:05<00:00, 16.91it/s, accuracy=0.929]\n"
          ]
        },
        {
          "output_type": "stream",
          "name": "stdout",
          "text": [
            "Epoch 38\n"
          ]
        },
        {
          "output_type": "stream",
          "name": "stderr",
          "text": [
            "Training: 100%|██████████| 500/500 [00:33<00:00, 15.02it/s, loss=0.97]\n",
            "Validation: 100%|██████████| 100/100 [00:06<00:00, 15.76it/s, accuracy=0.907]\n"
          ]
        },
        {
          "output_type": "stream",
          "name": "stdout",
          "text": [
            "Epoch 39\n"
          ]
        },
        {
          "output_type": "stream",
          "name": "stderr",
          "text": [
            "Training: 100%|██████████| 500/500 [00:33<00:00, 14.98it/s, loss=0.968]\n",
            "Validation: 100%|██████████| 100/100 [00:06<00:00, 16.49it/s, accuracy=0.922]"
          ]
        },
        {
          "output_type": "stream",
          "name": "stdout",
          "text": [
            "Epoch 40\n"
          ]
        },
        {
          "output_type": "stream",
          "name": "stderr",
          "text": [
            "\n",
            "Training: 100%|██████████| 500/500 [00:33<00:00, 14.95it/s, loss=0.97]\n",
            "Validation: 100%|██████████| 100/100 [00:06<00:00, 16.37it/s, accuracy=0.883]\n"
          ]
        },
        {
          "output_type": "stream",
          "name": "stdout",
          "text": [
            "Epoch 41\n"
          ]
        },
        {
          "output_type": "stream",
          "name": "stderr",
          "text": [
            "Training: 100%|██████████| 500/500 [00:32<00:00, 15.20it/s, loss=0.971]\n",
            "Validation: 100%|██████████| 100/100 [00:06<00:00, 15.43it/s, accuracy=0.92]"
          ]
        },
        {
          "output_type": "stream",
          "name": "stdout",
          "text": [
            "Epoch 42\n"
          ]
        },
        {
          "output_type": "stream",
          "name": "stderr",
          "text": [
            "\n",
            "Training: 100%|██████████| 500/500 [00:32<00:00, 15.22it/s, loss=0.965]\n",
            "Validation: 100%|██████████| 100/100 [00:06<00:00, 15.73it/s, accuracy=0.914]"
          ]
        },
        {
          "output_type": "stream",
          "name": "stdout",
          "text": [
            "Epoch 43\n"
          ]
        },
        {
          "output_type": "stream",
          "name": "stderr",
          "text": [
            "\n",
            "Training: 100%|██████████| 500/500 [00:32<00:00, 15.35it/s, loss=0.967]\n",
            "Validation: 100%|██████████| 100/100 [00:07<00:00, 14.24it/s, accuracy=0.925]\n"
          ]
        },
        {
          "output_type": "stream",
          "name": "stdout",
          "text": [
            "Epoch 44\n"
          ]
        },
        {
          "output_type": "stream",
          "name": "stderr",
          "text": [
            "Training: 100%|██████████| 500/500 [00:32<00:00, 15.29it/s, loss=0.967]\n",
            "Validation: 100%|██████████| 100/100 [00:07<00:00, 13.97it/s, accuracy=0.923]\n"
          ]
        },
        {
          "output_type": "stream",
          "name": "stdout",
          "text": [
            "Epoch 45\n"
          ]
        },
        {
          "output_type": "stream",
          "name": "stderr",
          "text": [
            "Training: 100%|██████████| 500/500 [00:32<00:00, 15.30it/s, loss=0.966]\n",
            "Validation: 100%|██████████| 100/100 [00:07<00:00, 13.97it/s, accuracy=0.919]"
          ]
        },
        {
          "output_type": "stream",
          "name": "stdout",
          "text": [
            "Epoch 46\n"
          ]
        },
        {
          "output_type": "stream",
          "name": "stderr",
          "text": [
            "\n",
            "Training: 100%|██████████| 500/500 [00:33<00:00, 15.08it/s, loss=0.968]\n",
            "Validation: 100%|██████████| 100/100 [00:07<00:00, 14.21it/s, accuracy=0.928]"
          ]
        },
        {
          "output_type": "stream",
          "name": "stdout",
          "text": [
            "Epoch 47\n"
          ]
        },
        {
          "output_type": "stream",
          "name": "stderr",
          "text": [
            "\n",
            "Training: 100%|██████████| 500/500 [00:32<00:00, 15.34it/s, loss=0.965]\n",
            "Validation: 100%|██████████| 100/100 [00:06<00:00, 16.25it/s, accuracy=0.928]"
          ]
        },
        {
          "output_type": "stream",
          "name": "stdout",
          "text": [
            "Epoch 48\n"
          ]
        },
        {
          "output_type": "stream",
          "name": "stderr",
          "text": [
            "\n",
            "Training: 100%|██████████| 500/500 [00:32<00:00, 15.20it/s, loss=0.963]\n",
            "Validation: 100%|██████████| 100/100 [00:05<00:00, 18.28it/s, accuracy=0.931]"
          ]
        },
        {
          "output_type": "stream",
          "name": "stdout",
          "text": [
            "Ding ding ding! We found a new best model!\n",
            "Epoch 49\n"
          ]
        },
        {
          "output_type": "stream",
          "name": "stderr",
          "text": [
            "\n",
            "Training: 100%|██████████| 500/500 [00:33<00:00, 14.93it/s, loss=0.963]\n",
            "Validation: 100%|██████████| 100/100 [00:05<00:00, 17.92it/s, accuracy=0.915]"
          ]
        },
        {
          "output_type": "stream",
          "name": "stdout",
          "text": [
            "Epoch 50\n"
          ]
        },
        {
          "output_type": "stream",
          "name": "stderr",
          "text": [
            "\n",
            "Training: 100%|██████████| 500/500 [00:34<00:00, 14.63it/s, loss=0.966]\n",
            "Validation: 100%|██████████| 100/100 [00:05<00:00, 17.69it/s, accuracy=0.924]\n"
          ]
        },
        {
          "output_type": "stream",
          "name": "stdout",
          "text": [
            "Epoch 51\n"
          ]
        },
        {
          "output_type": "stream",
          "name": "stderr",
          "text": [
            "Training: 100%|██████████| 500/500 [00:33<00:00, 14.72it/s, loss=0.966]\n",
            "Validation: 100%|██████████| 100/100 [00:05<00:00, 17.50it/s, accuracy=0.941]\n"
          ]
        },
        {
          "output_type": "stream",
          "name": "stdout",
          "text": [
            "Ding ding ding! We found a new best model!\n",
            "Epoch 52\n"
          ]
        },
        {
          "output_type": "stream",
          "name": "stderr",
          "text": [
            "Training: 100%|██████████| 500/500 [00:33<00:00, 14.82it/s, loss=0.963]\n",
            "Validation: 100%|██████████| 100/100 [00:05<00:00, 17.76it/s, accuracy=0.925]"
          ]
        },
        {
          "output_type": "stream",
          "name": "stdout",
          "text": [
            "Epoch 53\n"
          ]
        },
        {
          "output_type": "stream",
          "name": "stderr",
          "text": [
            "\n",
            "Training: 100%|██████████| 500/500 [00:32<00:00, 15.33it/s, loss=0.964]\n",
            "Validation: 100%|██████████| 100/100 [00:06<00:00, 16.14it/s, accuracy=0.928]"
          ]
        },
        {
          "output_type": "stream",
          "name": "stdout",
          "text": [
            "Epoch 54\n"
          ]
        },
        {
          "output_type": "stream",
          "name": "stderr",
          "text": [
            "\n",
            "Training: 100%|██████████| 500/500 [00:32<00:00, 15.29it/s, loss=0.966]\n",
            "Validation: 100%|██████████| 100/100 [00:06<00:00, 15.35it/s, accuracy=0.936]"
          ]
        },
        {
          "output_type": "stream",
          "name": "stdout",
          "text": [
            "Epoch 55\n"
          ]
        },
        {
          "output_type": "stream",
          "name": "stderr",
          "text": [
            "\n",
            "Training: 100%|██████████| 500/500 [00:32<00:00, 15.32it/s, loss=0.963]\n",
            "Validation: 100%|██████████| 100/100 [00:07<00:00, 14.06it/s, accuracy=0.939]\n"
          ]
        },
        {
          "output_type": "stream",
          "name": "stdout",
          "text": [
            "Epoch 56\n"
          ]
        },
        {
          "output_type": "stream",
          "name": "stderr",
          "text": [
            "Training: 100%|██████████| 500/500 [00:32<00:00, 15.35it/s, loss=0.966]\n",
            "Validation: 100%|██████████| 100/100 [00:07<00:00, 14.04it/s, accuracy=0.889]"
          ]
        },
        {
          "output_type": "stream",
          "name": "stdout",
          "text": [
            "Epoch 57\n"
          ]
        },
        {
          "output_type": "stream",
          "name": "stderr",
          "text": [
            "\n",
            "Training: 100%|██████████| 500/500 [00:32<00:00, 15.42it/s, loss=0.964]\n",
            "Validation: 100%|██████████| 100/100 [00:07<00:00, 13.76it/s, accuracy=0.926]\n"
          ]
        },
        {
          "output_type": "stream",
          "name": "stdout",
          "text": [
            "Epoch 58\n"
          ]
        },
        {
          "output_type": "stream",
          "name": "stderr",
          "text": [
            "Training: 100%|██████████| 500/500 [00:32<00:00, 15.23it/s, loss=0.964]\n",
            "Validation: 100%|██████████| 100/100 [00:06<00:00, 16.52it/s, accuracy=0.938]\n"
          ]
        },
        {
          "output_type": "stream",
          "name": "stdout",
          "text": [
            "Epoch 59\n"
          ]
        },
        {
          "output_type": "stream",
          "name": "stderr",
          "text": [
            "Training: 100%|██████████| 500/500 [00:32<00:00, 15.32it/s, loss=0.961]\n",
            "Validation: 100%|██████████| 100/100 [00:05<00:00, 18.08it/s, accuracy=0.939]"
          ]
        },
        {
          "output_type": "stream",
          "name": "stdout",
          "text": [
            "Epoch 60\n"
          ]
        },
        {
          "output_type": "stream",
          "name": "stderr",
          "text": [
            "\n",
            "Training: 100%|██████████| 500/500 [00:32<00:00, 15.22it/s, loss=0.961]\n",
            "Validation: 100%|██████████| 100/100 [00:05<00:00, 17.14it/s, accuracy=0.93]"
          ]
        },
        {
          "output_type": "stream",
          "name": "stdout",
          "text": [
            "Epoch 61\n"
          ]
        },
        {
          "output_type": "stream",
          "name": "stderr",
          "text": [
            "\n",
            "Training: 100%|██████████| 500/500 [00:34<00:00, 14.63it/s, loss=0.963]\n",
            "Validation: 100%|██████████| 100/100 [00:05<00:00, 18.07it/s, accuracy=0.905]\n"
          ]
        },
        {
          "output_type": "stream",
          "name": "stdout",
          "text": [
            "Epoch 62\n"
          ]
        },
        {
          "output_type": "stream",
          "name": "stderr",
          "text": [
            "Training: 100%|██████████| 500/500 [00:35<00:00, 14.10it/s, loss=0.964]\n",
            "Validation: 100%|██████████| 100/100 [00:05<00:00, 17.47it/s, accuracy=0.908]"
          ]
        },
        {
          "output_type": "stream",
          "name": "stdout",
          "text": [
            "Epoch 63\n"
          ]
        },
        {
          "output_type": "stream",
          "name": "stderr",
          "text": [
            "\n",
            "Training: 100%|██████████| 500/500 [00:34<00:00, 14.56it/s, loss=0.961]\n",
            "Validation: 100%|██████████| 100/100 [00:06<00:00, 16.63it/s, accuracy=0.934]\n"
          ]
        },
        {
          "output_type": "stream",
          "name": "stdout",
          "text": [
            "Epoch 64\n"
          ]
        },
        {
          "output_type": "stream",
          "name": "stderr",
          "text": [
            "Training: 100%|██████████| 500/500 [00:34<00:00, 14.38it/s, loss=0.959]\n",
            "Validation: 100%|██████████| 100/100 [00:05<00:00, 18.01it/s, accuracy=0.916]"
          ]
        },
        {
          "output_type": "stream",
          "name": "stdout",
          "text": [
            "Epoch 65\n"
          ]
        },
        {
          "output_type": "stream",
          "name": "stderr",
          "text": [
            "\n",
            "Training: 100%|██████████| 500/500 [00:32<00:00, 15.19it/s, loss=0.961]\n",
            "Validation: 100%|██████████| 100/100 [00:06<00:00, 16.65it/s, accuracy=0.915]\n"
          ]
        },
        {
          "output_type": "stream",
          "name": "stdout",
          "text": [
            "Epoch 66\n"
          ]
        },
        {
          "output_type": "stream",
          "name": "stderr",
          "text": [
            "Training: 100%|██████████| 500/500 [00:32<00:00, 15.33it/s, loss=0.96]\n",
            "Validation: 100%|██████████| 100/100 [00:07<00:00, 13.87it/s, accuracy=0.94]"
          ]
        },
        {
          "output_type": "stream",
          "name": "stdout",
          "text": [
            "Epoch 67\n"
          ]
        },
        {
          "output_type": "stream",
          "name": "stderr",
          "text": [
            "\n",
            "Training: 100%|██████████| 500/500 [00:32<00:00, 15.18it/s, loss=0.96]\n",
            "Validation: 100%|██████████| 100/100 [00:07<00:00, 14.22it/s, accuracy=0.911]"
          ]
        },
        {
          "output_type": "stream",
          "name": "stdout",
          "text": [
            "Epoch 68\n"
          ]
        },
        {
          "output_type": "stream",
          "name": "stderr",
          "text": [
            "\n",
            "Training: 100%|██████████| 500/500 [00:33<00:00, 15.02it/s, loss=0.959]\n",
            "Validation: 100%|██████████| 100/100 [00:07<00:00, 13.35it/s, accuracy=0.907]\n"
          ]
        },
        {
          "output_type": "stream",
          "name": "stdout",
          "text": [
            "Epoch 69\n"
          ]
        },
        {
          "output_type": "stream",
          "name": "stderr",
          "text": [
            "Training:  22%|██▏       | 109/500 [00:08<00:49,  7.93it/s, loss=0.965]Exception ignored in: Exception ignored in: <function _MultiProcessingDataLoaderIter.__del__ at 0x7f31502e1360><function _MultiProcessingDataLoaderIter.__del__ at 0x7f31502e1360>\n",
            "Exception ignored in: <function _MultiProcessingDataLoaderIter.__del__ at 0x7f31502e1360>\n",
            "Traceback (most recent call last):\n",
            "\n",
            "Exception ignored in: Traceback (most recent call last):\n",
            "  File \"/usr/local/lib/python3.10/dist-packages/torch/utils/data/dataloader.py\", line 1478, in __del__\n",
            "Traceback (most recent call last):\n",
            "<function _MultiProcessingDataLoaderIter.__del__ at 0x7f31502e1360>Exception ignored in:   File \"/usr/local/lib/python3.10/dist-packages/torch/utils/data/dataloader.py\", line 1478, in __del__\n",
            "    \n",
            "  File \"/usr/local/lib/python3.10/dist-packages/torch/utils/data/dataloader.py\", line 1478, in __del__\n",
            "<function _MultiProcessingDataLoaderIter.__del__ at 0x7f31502e1360>    self._shutdown_workers()Traceback (most recent call last):\n",
            "    Exception ignored in: self._shutdown_workers()\n",
            "\n",
            "  File \"/usr/local/lib/python3.10/dist-packages/torch/utils/data/dataloader.py\", line 1478, in __del__\n",
            "\n",
            "<function _MultiProcessingDataLoaderIter.__del__ at 0x7f31502e1360>self._shutdown_workers()      File \"/usr/local/lib/python3.10/dist-packages/torch/utils/data/dataloader.py\", line 1461, in _shutdown_workers\n",
            "Traceback (most recent call last):\n",
            "\n",
            "  File \"/usr/local/lib/python3.10/dist-packages/torch/utils/data/dataloader.py\", line 1461, in _shutdown_workers\n",
            "    self._shutdown_workers()  File \"/usr/local/lib/python3.10/dist-packages/torch/utils/data/dataloader.py\", line 1478, in __del__\n",
            "\n",
            "    Traceback (most recent call last):\n",
            "\n",
            "if w.is_alive():    if w.is_alive():\n",
            "  File \"/usr/local/lib/python3.10/dist-packages/torch/utils/data/dataloader.py\", line 1461, in _shutdown_workers\n",
            "self._shutdown_workers()  File \"/usr/local/lib/python3.10/dist-packages/torch/utils/data/dataloader.py\", line 1478, in __del__\n",
            "\n",
            "  File \"/usr/local/lib/python3.10/dist-packages/torch/utils/data/dataloader.py\", line 1461, in _shutdown_workers\n",
            "\n",
            "  File \"/usr/lib/python3.10/multiprocessing/process.py\", line 160, in is_alive\n",
            "    Exception ignored in:   File \"/usr/local/lib/python3.10/dist-packages/torch/utils/data/dataloader.py\", line 1461, in _shutdown_workers\n",
            "if w.is_alive():    <function _MultiProcessingDataLoaderIter.__del__ at 0x7f31502e1360>Exception ignored in:       File \"/usr/lib/python3.10/multiprocessing/process.py\", line 160, in is_alive\n",
            "    assert self._parent_pid == os.getpid(), 'can only test a child process'    \n",
            "\n",
            "<function _MultiProcessingDataLoaderIter.__del__ at 0x7f31502e1360>self._shutdown_workers()      File \"/usr/lib/python3.10/multiprocessing/process.py\", line 160, in is_alive\n",
            "\n",
            "if w.is_alive():\n",
            "if w.is_alive():Traceback (most recent call last):\n",
            "assert self._parent_pid == os.getpid(), 'can only test a child process'  File \"/usr/local/lib/python3.10/dist-packages/torch/utils/data/dataloader.py\", line 1478, in __del__\n",
            "\n",
            "AssertionError\n",
            "    Traceback (most recent call last):\n",
            "\n",
            "  File \"/usr/lib/python3.10/multiprocessing/process.py\", line 160, in is_alive\n",
            ":   File \"/usr/local/lib/python3.10/dist-packages/torch/utils/data/dataloader.py\", line 1478, in __del__\n",
            "  File \"/usr/lib/python3.10/multiprocessing/process.py\", line 160, in is_alive\n",
            "assert self._parent_pid == os.getpid(), 'can only test a child process'    \n",
            "        can only test a child processAssertionErrorself._shutdown_workers()    assert self._parent_pid == os.getpid(), 'can only test a child process'\n",
            "\n",
            "assert self._parent_pid == os.getpid(), 'can only test a child process'self._shutdown_workers(): \n",
            "  File \"/usr/local/lib/python3.10/dist-packages/torch/utils/data/dataloader.py\", line 1461, in _shutdown_workers\n",
            "\n",
            "  File \"/usr/local/lib/python3.10/dist-packages/torch/utils/data/dataloader.py\", line 1461, in _shutdown_workers\n",
            "\n",
            "can only test a child process\n",
            "AssertionErrorAssertionError  File \"/usr/local/lib/python3.10/dist-packages/torch/utils/data/dataloader.py\", line 1461, in _shutdown_workers\n",
            "\n",
            "AssertionError    :     if w.is_alive():can only test a child processException ignored in: : : if w.is_alive():    \n",
            "\n",
            "can only test a child process<function _MultiProcessingDataLoaderIter.__del__ at 0x7f31502e1360>can only test a child process  File \"/usr/lib/python3.10/multiprocessing/process.py\", line 160, in is_alive\n",
            "if w.is_alive():\n",
            "\n",
            "\n",
            "\n",
            "    \n",
            "  File \"/usr/lib/python3.10/multiprocessing/process.py\", line 160, in is_alive\n",
            "Traceback (most recent call last):\n",
            "  File \"/usr/lib/python3.10/multiprocessing/process.py\", line 160, in is_alive\n",
            "assert self._parent_pid == os.getpid(), 'can only test a child process'      File \"/usr/local/lib/python3.10/dist-packages/torch/utils/data/dataloader.py\", line 1478, in __del__\n",
            "    \n",
            "assert self._parent_pid == os.getpid(), 'can only test a child process'    assert self._parent_pid == os.getpid(), 'can only test a child process'AssertionError\n",
            "self._shutdown_workers()Exception ignored in: \n",
            ": AssertionError\n",
            "<function _MultiProcessingDataLoaderIter.__del__ at 0x7f31502e1360>AssertionErrorcan only test a child process:   File \"/usr/local/lib/python3.10/dist-packages/torch/utils/data/dataloader.py\", line 1461, in _shutdown_workers\n",
            "\n",
            "\n",
            ": can only test a child process    Traceback (most recent call last):\n",
            "can only test a child processException ignored in: \n",
            "if w.is_alive():<function _MultiProcessingDataLoaderIter.__del__ at 0x7f31502e1360>\n",
            "\n",
            "  File \"/usr/local/lib/python3.10/dist-packages/torch/utils/data/dataloader.py\", line 1478, in __del__\n",
            "    Traceback (most recent call last):\n",
            "\n",
            "self._shutdown_workers()  File \"/usr/lib/python3.10/multiprocessing/process.py\", line 160, in is_alive\n",
            "  File \"/usr/local/lib/python3.10/dist-packages/torch/utils/data/dataloader.py\", line 1478, in __del__\n",
            "\n",
            "          File \"/usr/local/lib/python3.10/dist-packages/torch/utils/data/dataloader.py\", line 1461, in _shutdown_workers\n",
            "self._shutdown_workers()assert self._parent_pid == os.getpid(), 'can only test a child process'    \n",
            "\n",
            "if w.is_alive():  File \"/usr/local/lib/python3.10/dist-packages/torch/utils/data/dataloader.py\", line 1461, in _shutdown_workers\n",
            "\n",
            "AssertionError    if w.is_alive():: can only test a child process\n",
            "  File \"/usr/lib/python3.10/multiprocessing/process.py\", line 160, in is_alive\n",
            "\n",
            "  File \"/usr/lib/python3.10/multiprocessing/process.py\", line 160, in is_alive\n",
            "    assert self._parent_pid == os.getpid(), 'can only test a child process'    \n",
            "Training:  22%|██▏       | 109/500 [00:11<00:49,  7.93it/s, loss=0.965]: can only test a child process\n",
            "\n",
            "Training:  22%|██▏       | 110/500 [00:11<06:48,  1.05s/it, loss=0.965]AssertionError: can only test a child process\n",
            "Training:  45%|████▌     | 227/500 [00:19<00:18, 14.59it/s, loss=0.966]Exception ignored in: <function _MultiProcessingDataLoaderIter.__del__ at 0x7f31502e1360>\n",
            "Traceback (most recent call last):\n",
            "  File \"/usr/local/lib/python3.10/dist-packages/torch/utils/data/dataloader.py\", line 1478, in __del__\n",
            "    self._shutdown_workers()\n",
            "  File \"/usr/local/lib/python3.10/dist-packages/torch/utils/data/dataloader.py\", line 1461, in _shutdown_workers\n",
            "    if w.is_alive():\n",
            "  File \"/usr/lib/python3.10/multiprocessing/process.py\", line 160, in is_alive\n",
            "    assert self._parent_pid == os.getpid(), 'can only test a child process'\n",
            "AssertionError: can only test a child process\n",
            "Training: 100%|██████████| 500/500 [00:39<00:00, 12.67it/s, loss=0.963]\n",
            "Validation:  92%|█████████▏| 92/100 [00:05<00:00, 24.57it/s, accuracy=0.917]Exception ignored in: <function _MultiProcessingDataLoaderIter.__del__ at 0x7f31502e1360>\n",
            "Traceback (most recent call last):\n",
            "  File \"/usr/local/lib/python3.10/dist-packages/torch/utils/data/dataloader.py\", line 1478, in __del__\n",
            "    self._shutdown_workers()\n",
            "  File \"/usr/local/lib/python3.10/dist-packages/torch/utils/data/dataloader.py\", line 1461, in _shutdown_workers\n",
            "    if w.is_alive():\n",
            "  File \"/usr/lib/python3.10/multiprocessing/process.py\", line 160, in is_alive\n",
            "Exception ignored in:     <function _MultiProcessingDataLoaderIter.__del__ at 0x7f31502e1360>assert self._parent_pid == os.getpid(), 'can only test a child process'\n",
            "\n",
            "Traceback (most recent call last):\n",
            "AssertionError  File \"/usr/local/lib/python3.10/dist-packages/torch/utils/data/dataloader.py\", line 1478, in __del__\n",
            ": Exception ignored in:     can only test a child process<function _MultiProcessingDataLoaderIter.__del__ at 0x7f31502e1360>self._shutdown_workers()\n",
            "\n",
            "\n",
            "Exception ignored in:   File \"/usr/local/lib/python3.10/dist-packages/torch/utils/data/dataloader.py\", line 1461, in _shutdown_workers\n",
            "Traceback (most recent call last):\n",
            "    <function _MultiProcessingDataLoaderIter.__del__ at 0x7f31502e1360>  File \"/usr/local/lib/python3.10/dist-packages/torch/utils/data/dataloader.py\", line 1478, in __del__\n",
            "\n",
            "if w.is_alive():    Exception ignored in: Traceback (most recent call last):\n",
            "\n",
            "self._shutdown_workers()<function _MultiProcessingDataLoaderIter.__del__ at 0x7f31502e1360>\n",
            "    \n",
            "  File \"/usr/local/lib/python3.10/dist-packages/torch/utils/data/dataloader.py\", line 1478, in __del__\n",
            "  File \"/usr/lib/python3.10/multiprocessing/process.py\", line 160, in is_alive\n",
            "    \n",
            "  File \"/usr/local/lib/python3.10/dist-packages/torch/utils/data/dataloader.py\", line 1461, in _shutdown_workers\n",
            "    Traceback (most recent call last):\n",
            "if w.is_alive():  File \"/usr/local/lib/python3.10/dist-packages/torch/utils/data/dataloader.py\", line 1478, in __del__\n",
            "      File \"/usr/lib/python3.10/multiprocessing/process.py\", line 160, in is_alive\n",
            "self._shutdown_workers()Exception ignored in: assert self._parent_pid == os.getpid(), 'can only test a child process'\n",
            "self._shutdown_workers()    \n",
            "\n",
            "<function _MultiProcessingDataLoaderIter.__del__ at 0x7f31502e1360>  File \"/usr/local/lib/python3.10/dist-packages/torch/utils/data/dataloader.py\", line 1461, in _shutdown_workers\n",
            "assert self._parent_pid == os.getpid(), 'can only test a child process'AssertionError\n",
            "  File \"/usr/local/lib/python3.10/dist-packages/torch/utils/data/dataloader.py\", line 1461, in _shutdown_workers\n",
            "    \n",
            "Traceback (most recent call last):\n",
            ":     can only test a child processif w.is_alive():AssertionError  File \"/usr/local/lib/python3.10/dist-packages/torch/utils/data/dataloader.py\", line 1478, in __del__\n",
            "\n",
            "    if w.is_alive():\n",
            ": can only test a child process\n",
            "self._shutdown_workers()\n",
            "  File \"/usr/lib/python3.10/multiprocessing/process.py\", line 160, in is_alive\n",
            "\n",
            "  File \"/usr/local/lib/python3.10/dist-packages/torch/utils/data/dataloader.py\", line 1461, in _shutdown_workers\n",
            "    if w.is_alive():      File \"/usr/lib/python3.10/multiprocessing/process.py\", line 160, in is_alive\n",
            "\n",
            "  File \"/usr/lib/python3.10/multiprocessing/process.py\", line 160, in is_alive\n",
            "    assert self._parent_pid == os.getpid(), 'can only test a child process'assert self._parent_pid == os.getpid(), 'can only test a child process'\n",
            "    assert self._parent_pid == os.getpid(), 'can only test a child process'AssertionError\n",
            "\n",
            ": AssertionError: can only test a child processAssertionError\n",
            "can only test a child process: can only test a child process\n",
            "\n",
            "Validation: 100%|██████████| 100/100 [00:07<00:00, 12.65it/s, accuracy=0.916]\n"
          ]
        },
        {
          "output_type": "stream",
          "name": "stdout",
          "text": [
            "Epoch 70\n"
          ]
        },
        {
          "output_type": "stream",
          "name": "stderr",
          "text": [
            "Training:  17%|█▋        | 84/500 [00:07<00:32, 12.71it/s, loss=0.959]Exception ignored in: <function _MultiProcessingDataLoaderIter.__del__ at 0x7f31502e1360>\n",
            "Exception ignored in: Traceback (most recent call last):\n",
            "<function _MultiProcessingDataLoaderIter.__del__ at 0x7f31502e1360>  File \"/usr/local/lib/python3.10/dist-packages/torch/utils/data/dataloader.py\", line 1478, in __del__\n",
            "\n",
            "    Traceback (most recent call last):\n",
            "self._shutdown_workers()  File \"/usr/local/lib/python3.10/dist-packages/torch/utils/data/dataloader.py\", line 1478, in __del__\n",
            "\n",
            "      File \"/usr/local/lib/python3.10/dist-packages/torch/utils/data/dataloader.py\", line 1461, in _shutdown_workers\n",
            "self._shutdown_workers()    if w.is_alive():\n",
            "  File \"/usr/lib/python3.10/multiprocessing/process.py\", line 160, in is_alive\n",
            "\n",
            "    assert self._parent_pid == os.getpid(), 'can only test a child process'\n",
            "  File \"/usr/local/lib/python3.10/dist-packages/torch/utils/data/dataloader.py\", line 1461, in _shutdown_workers\n",
            "Exception ignored in: <function _MultiProcessingDataLoaderIter.__del__ at 0x7f31502e1360>\n",
            "AssertionErrorTraceback (most recent call last):\n",
            "      File \"/usr/local/lib/python3.10/dist-packages/torch/utils/data/dataloader.py\", line 1478, in __del__\n",
            "    : self._shutdown_workers()if w.is_alive():\n",
            "  File \"/usr/local/lib/python3.10/dist-packages/torch/utils/data/dataloader.py\", line 1461, in _shutdown_workers\n",
            "    if w.is_alive():can only test a child process\n",
            "\n",
            "\n",
            "Exception ignored in:   File \"/usr/lib/python3.10/multiprocessing/process.py\", line 160, in is_alive\n",
            "  File \"/usr/lib/python3.10/multiprocessing/process.py\", line 160, in is_alive\n",
            "<function _MultiProcessingDataLoaderIter.__del__ at 0x7f31502e1360>        \n",
            "assert self._parent_pid == os.getpid(), 'can only test a child process'assert self._parent_pid == os.getpid(), 'can only test a child process'Traceback (most recent call last):\n",
            "\n",
            "  File \"/usr/local/lib/python3.10/dist-packages/torch/utils/data/dataloader.py\", line 1478, in __del__\n",
            "\n",
            "Exception ignored in: AssertionError    AssertionError<function _MultiProcessingDataLoaderIter.__del__ at 0x7f31502e1360>self._shutdown_workers(): : can only test a child process\n",
            "can only test a child process\n",
            "  File \"/usr/local/lib/python3.10/dist-packages/torch/utils/data/dataloader.py\", line 1461, in _shutdown_workers\n",
            "\n",
            "\n",
            "    Traceback (most recent call last):\n",
            "if w.is_alive():  File \"/usr/local/lib/python3.10/dist-packages/torch/utils/data/dataloader.py\", line 1478, in __del__\n",
            "\n",
            "      File \"/usr/lib/python3.10/multiprocessing/process.py\", line 160, in is_alive\n",
            "self._shutdown_workers()    \n",
            "  File \"/usr/local/lib/python3.10/dist-packages/torch/utils/data/dataloader.py\", line 1461, in _shutdown_workers\n",
            "assert self._parent_pid == os.getpid(), 'can only test a child process'    Exception ignored in: \n",
            "<function _MultiProcessingDataLoaderIter.__del__ at 0x7f31502e1360>\n",
            "if w.is_alive():AssertionError: Traceback (most recent call last):\n",
            "  File \"/usr/local/lib/python3.10/dist-packages/torch/utils/data/dataloader.py\", line 1478, in __del__\n",
            "can only test a child process\n",
            "  File \"/usr/lib/python3.10/multiprocessing/process.py\", line 160, in is_alive\n",
            "\n",
            "        self._shutdown_workers()assert self._parent_pid == os.getpid(), 'can only test a child process'\n",
            "Exception ignored in: \n",
            "  File \"/usr/local/lib/python3.10/dist-packages/torch/utils/data/dataloader.py\", line 1461, in _shutdown_workers\n",
            "Exception ignored in: <function _MultiProcessingDataLoaderIter.__del__ at 0x7f31502e1360>AssertionError    <function _MultiProcessingDataLoaderIter.__del__ at 0x7f31502e1360>if w.is_alive():\n",
            ": \n",
            "Traceback (most recent call last):\n",
            "can only test a child processTraceback (most recent call last):\n",
            "  File \"/usr/local/lib/python3.10/dist-packages/torch/utils/data/dataloader.py\", line 1478, in __del__\n",
            "\n",
            "\n",
            "  File \"/usr/lib/python3.10/multiprocessing/process.py\", line 160, in is_alive\n",
            "  File \"/usr/local/lib/python3.10/dist-packages/torch/utils/data/dataloader.py\", line 1478, in __del__\n",
            "            self._shutdown_workers()self._shutdown_workers()assert self._parent_pid == os.getpid(), 'can only test a child process'\n",
            "\n",
            "  File \"/usr/local/lib/python3.10/dist-packages/torch/utils/data/dataloader.py\", line 1461, in _shutdown_workers\n",
            "\n",
            "  File \"/usr/local/lib/python3.10/dist-packages/torch/utils/data/dataloader.py\", line 1461, in _shutdown_workers\n",
            "    AssertionErrorif w.is_alive():    if w.is_alive():\n",
            ":   File \"/usr/lib/python3.10/multiprocessing/process.py\", line 160, in is_alive\n",
            "\n",
            "can only test a child process  File \"/usr/lib/python3.10/multiprocessing/process.py\", line 160, in is_alive\n",
            "        \n",
            "assert self._parent_pid == os.getpid(), 'can only test a child process'\n",
            "assert self._parent_pid == os.getpid(), 'can only test a child process'AssertionError\n",
            ": AssertionErrorException ignored in: : can only test a child processcan only test a child process<function _MultiProcessingDataLoaderIter.__del__ at 0x7f31502e1360>\n",
            "\n",
            "\n",
            "Traceback (most recent call last):\n",
            "  File \"/usr/local/lib/python3.10/dist-packages/torch/utils/data/dataloader.py\", line 1478, in __del__\n",
            "    self._shutdown_workers()Exception ignored in: \n",
            "  File \"/usr/local/lib/python3.10/dist-packages/torch/utils/data/dataloader.py\", line 1461, in _shutdown_workers\n",
            "<function _MultiProcessingDataLoaderIter.__del__ at 0x7f31502e1360>Exception ignored in: \n",
            "    <function _MultiProcessingDataLoaderIter.__del__ at 0x7f31502e1360>Traceback (most recent call last):\n",
            "Training:  17%|█▋        | 84/500 [00:10<00:32, 12.71it/s, loss=0.959]if w.is_alive():\n",
            "\n",
            "  File \"/usr/local/lib/python3.10/dist-packages/torch/utils/data/dataloader.py\", line 1478, in __del__\n",
            "      File \"/usr/lib/python3.10/multiprocessing/process.py\", line 160, in is_alive\n",
            "self._shutdown_workers()\n",
            "Traceback (most recent call last):\n",
            "  File \"/usr/local/lib/python3.10/dist-packages/torch/utils/data/dataloader.py\", line 1461, in _shutdown_workers\n",
            "  File \"/usr/local/lib/python3.10/dist-packages/torch/utils/data/dataloader.py\", line 1478, in __del__\n",
            "Training:  17%|█▋        | 84/500 [00:10<00:32, 12.71it/s, loss=0.959]\n",
            "\n",
            "assert self._parent_pid == os.getpid(), 'can only test a child process'  File \"/usr/local/lib/python3.10/dist-packages/torch/utils/data/dataloader.py\", line 1461, in _shutdown_workers\n",
            "Training:  17%|█▋        | 86/500 [00:10<03:14,  2.12it/s, loss=0.959]  File \"/usr/lib/python3.10/multiprocessing/process.py\", line 160, in is_alive\n",
            "\n",
            "        if w.is_alive():assert self._parent_pid == os.getpid(), 'can only test a child process'AssertionError\n",
            "\n",
            ": AssertionError  File \"/usr/lib/python3.10/multiprocessing/process.py\", line 160, in is_alive\n",
            "    : can only test a child process\n",
            "assert self._parent_pid == os.getpid(), 'can only test a child process'can only test a child process\n",
            "\n",
            "AssertionError: can only test a child process\n",
            "Exception ignored in: <function _MultiProcessingDataLoaderIter.__del__ at 0x7f31502e1360>\n",
            "Traceback (most recent call last):\n",
            "  File \"/usr/local/lib/python3.10/dist-packages/torch/utils/data/dataloader.py\", line 1478, in __del__\n",
            "    self._shutdown_workers()\n",
            "  File \"/usr/local/lib/python3.10/dist-packages/torch/utils/data/dataloader.py\", line 1461, in _shutdown_workers\n",
            "    if w.is_alive():\n",
            "  File \"/usr/lib/python3.10/multiprocessing/process.py\", line 160, in is_alive\n",
            "Training:  17%|█▋        | 87/500 [00:11<03:12,  2.15it/s, loss=0.959]    assert self._parent_pid == os.getpid(), 'can only test a child process'\n",
            "AssertionError: can only test a child process\n",
            "Training: 100%|██████████| 500/500 [00:39<00:00, 12.58it/s, loss=0.96]\n",
            "Validation:  60%|██████    | 60/100 [00:04<00:03, 11.93it/s, accuracy=0.902]Exception ignored in: <function _MultiProcessingDataLoaderIter.__del__ at 0x7f31502e1360>Exception ignored in: \n",
            "Traceback (most recent call last):\n",
            "<function _MultiProcessingDataLoaderIter.__del__ at 0x7f31502e1360>Exception ignored in:   File \"/usr/local/lib/python3.10/dist-packages/torch/utils/data/dataloader.py\", line 1478, in __del__\n",
            "<function _MultiProcessingDataLoaderIter.__del__ at 0x7f31502e1360>\n",
            "Exception ignored in: Traceback (most recent call last):\n",
            "    \n",
            "<function _MultiProcessingDataLoaderIter.__del__ at 0x7f31502e1360>  File \"/usr/local/lib/python3.10/dist-packages/torch/utils/data/dataloader.py\", line 1478, in __del__\n",
            "self._shutdown_workers()Traceback (most recent call last):\n",
            "\n",
            "    \n",
            "  File \"/usr/local/lib/python3.10/dist-packages/torch/utils/data/dataloader.py\", line 1478, in __del__\n",
            "Traceback (most recent call last):\n",
            "self._shutdown_workers()  File \"/usr/local/lib/python3.10/dist-packages/torch/utils/data/dataloader.py\", line 1461, in _shutdown_workers\n",
            "    Exception ignored in:   File \"/usr/local/lib/python3.10/dist-packages/torch/utils/data/dataloader.py\", line 1478, in __del__\n",
            "\n",
            "    self._shutdown_workers()<function _MultiProcessingDataLoaderIter.__del__ at 0x7f31502e1360>    \n",
            "  File \"/usr/local/lib/python3.10/dist-packages/torch/utils/data/dataloader.py\", line 1461, in _shutdown_workers\n",
            "if w.is_alive():\n",
            "Traceback (most recent call last):\n",
            "  File \"/usr/local/lib/python3.10/dist-packages/torch/utils/data/dataloader.py\", line 1478, in __del__\n",
            "\n",
            "    self._shutdown_workers()  File \"/usr/local/lib/python3.10/dist-packages/torch/utils/data/dataloader.py\", line 1461, in _shutdown_workers\n",
            "    if w.is_alive():\n",
            "      File \"/usr/lib/python3.10/multiprocessing/process.py\", line 160, in is_alive\n",
            "self._shutdown_workers()\n",
            "  File \"/usr/local/lib/python3.10/dist-packages/torch/utils/data/dataloader.py\", line 1461, in _shutdown_workers\n",
            "if w.is_alive():        \n",
            "  File \"/usr/lib/python3.10/multiprocessing/process.py\", line 160, in is_alive\n",
            "\n",
            "if w.is_alive():  File \"/usr/local/lib/python3.10/dist-packages/torch/utils/data/dataloader.py\", line 1461, in _shutdown_workers\n",
            "  File \"/usr/lib/python3.10/multiprocessing/process.py\", line 160, in is_alive\n",
            "assert self._parent_pid == os.getpid(), 'can only test a child process'    assert self._parent_pid == os.getpid(), 'can only test a child process'\n",
            "\n",
            "          File \"/usr/lib/python3.10/multiprocessing/process.py\", line 160, in is_alive\n",
            "\n",
            "AssertionErrorif w.is_alive():assert self._parent_pid == os.getpid(), 'can only test a child process'AssertionError    \n",
            "\n",
            ":   File \"/usr/lib/python3.10/multiprocessing/process.py\", line 160, in is_alive\n",
            "assert self._parent_pid == os.getpid(), 'can only test a child process'can only test a child process: Exception ignored in: AssertionErrorException ignored in: \n",
            "can only test a child process    \n",
            "<function _MultiProcessingDataLoaderIter.__del__ at 0x7f31502e1360>: <function _MultiProcessingDataLoaderIter.__del__ at 0x7f31502e1360>AssertionErrorassert self._parent_pid == os.getpid(), 'can only test a child process'\n",
            "\n",
            "can only test a child process: \n",
            "Traceback (most recent call last):\n",
            "\n",
            "\n",
            "Traceback (most recent call last):\n",
            "AssertionError  File \"/usr/local/lib/python3.10/dist-packages/torch/utils/data/dataloader.py\", line 1478, in __del__\n",
            "can only test a child processException ignored in:   File \"/usr/local/lib/python3.10/dist-packages/torch/utils/data/dataloader.py\", line 1478, in __del__\n",
            ":     \n",
            "<function _MultiProcessingDataLoaderIter.__del__ at 0x7f31502e1360>can only test a child process    self._shutdown_workers()\n",
            "self._shutdown_workers()\n",
            "\n",
            "\n",
            "  File \"/usr/local/lib/python3.10/dist-packages/torch/utils/data/dataloader.py\", line 1461, in _shutdown_workers\n",
            "  File \"/usr/local/lib/python3.10/dist-packages/torch/utils/data/dataloader.py\", line 1461, in _shutdown_workers\n",
            "    Traceback (most recent call last):\n",
            "    if w.is_alive():  File \"/usr/local/lib/python3.10/dist-packages/torch/utils/data/dataloader.py\", line 1478, in __del__\n",
            "if w.is_alive():\n",
            "    Exception ignored in: \n",
            "  File \"/usr/lib/python3.10/multiprocessing/process.py\", line 160, in is_alive\n",
            "self._shutdown_workers()  File \"/usr/lib/python3.10/multiprocessing/process.py\", line 160, in is_alive\n",
            "    \n",
            "<function _MultiProcessingDataLoaderIter.__del__ at 0x7f31502e1360>    assert self._parent_pid == os.getpid(), 'can only test a child process'\n",
            "  File \"/usr/local/lib/python3.10/dist-packages/torch/utils/data/dataloader.py\", line 1461, in _shutdown_workers\n",
            "assert self._parent_pid == os.getpid(), 'can only test a child process'\n",
            "Exception ignored in: Traceback (most recent call last):\n",
            "    \n",
            "AssertionError<function _MultiProcessingDataLoaderIter.__del__ at 0x7f31502e1360>  File \"/usr/local/lib/python3.10/dist-packages/torch/utils/data/dataloader.py\", line 1478, in __del__\n",
            "if w.is_alive():AssertionError: \n",
            "    \n",
            ": can only test a child processTraceback (most recent call last):\n",
            "self._shutdown_workers()  File \"/usr/lib/python3.10/multiprocessing/process.py\", line 160, in is_alive\n",
            "can only test a child process\n",
            "  File \"/usr/local/lib/python3.10/dist-packages/torch/utils/data/dataloader.py\", line 1478, in __del__\n",
            "    self._shutdown_workers()\n",
            "    \n",
            "  File \"/usr/local/lib/python3.10/dist-packages/torch/utils/data/dataloader.py\", line 1461, in _shutdown_workers\n",
            "assert self._parent_pid == os.getpid(), 'can only test a child process'\n",
            "      File \"/usr/local/lib/python3.10/dist-packages/torch/utils/data/dataloader.py\", line 1461, in _shutdown_workers\n",
            "\n",
            "if w.is_alive():AssertionError    \n",
            ": if w.is_alive():  File \"/usr/lib/python3.10/multiprocessing/process.py\", line 160, in is_alive\n",
            "can only test a child process\n",
            "  File \"/usr/lib/python3.10/multiprocessing/process.py\", line 160, in is_alive\n",
            "\n",
            "Validation:  60%|██████    | 60/100 [00:08<00:03, 11.93it/s, accuracy=0.899]assert self._parent_pid == os.getpid(), 'can only test a child process'<function _MultiProcessingDataLoaderIter.__del__ at 0x7f31502e1360>assert self._parent_pid == os.getpid(), 'can only test a child process'\n",
            "Validation:  60%|██████    | 60/100 [00:08<00:03, 11.93it/s, accuracy=0.899]\n",
            "\n",
            "AssertionErrorTraceback (most recent call last):\n",
            "Validation:  62%|██████▏   | 62/100 [00:08<00:27,  1.40it/s, accuracy=0.899]AssertionError:   File \"/usr/local/lib/python3.10/dist-packages/torch/utils/data/dataloader.py\", line 1478, in __del__\n",
            "can only test a child process:     \n",
            "Exception ignored in: self._shutdown_workers()can only test a child process<function _MultiProcessingDataLoaderIter.__del__ at 0x7f31502e1360>\n",
            "\n",
            "\n",
            "  File \"/usr/local/lib/python3.10/dist-packages/torch/utils/data/dataloader.py\", line 1461, in _shutdown_workers\n",
            "Traceback (most recent call last):\n",
            "    if w.is_alive():  File \"/usr/local/lib/python3.10/dist-packages/torch/utils/data/dataloader.py\", line 1478, in __del__\n",
            "\n",
            "      File \"/usr/lib/python3.10/multiprocessing/process.py\", line 160, in is_alive\n",
            "self._shutdown_workers()    \n",
            "assert self._parent_pid == os.getpid(), 'can only test a child process'\n",
            "  File \"/usr/local/lib/python3.10/dist-packages/torch/utils/data/dataloader.py\", line 1461, in _shutdown_workers\n",
            "AssertionError    if w.is_alive():: \n",
            "can only test a child process  File \"/usr/lib/python3.10/multiprocessing/process.py\", line 160, in is_alive\n",
            "\n",
            "    assert self._parent_pid == os.getpid(), 'can only test a child process'\n",
            "AssertionError: can only test a child process\n",
            "Validation: 100%|██████████| 100/100 [00:11<00:00,  8.85it/s, accuracy=0.898]"
          ]
        },
        {
          "output_type": "stream",
          "name": "stdout",
          "text": [
            "Epoch 71\n"
          ]
        },
        {
          "output_type": "stream",
          "name": "stderr",
          "text": [
            "\n",
            "Training:   7%|▋         | 35/500 [00:03<00:29, 15.72it/s, loss=0.958]Exception ignored in: <function _MultiProcessingDataLoaderIter.__del__ at 0x7f31502e1360>\n",
            "Traceback (most recent call last):\n",
            "  File \"/usr/local/lib/python3.10/dist-packages/torch/utils/data/dataloader.py\", line 1478, in __del__\n",
            "    self._shutdown_workers()\n",
            "  File \"/usr/local/lib/python3.10/dist-packages/torch/utils/data/dataloader.py\", line 1461, in _shutdown_workers\n",
            "    if w.is_alive():\n",
            "Exception ignored in:   File \"/usr/lib/python3.10/multiprocessing/process.py\", line 160, in is_alive\n",
            "<function _MultiProcessingDataLoaderIter.__del__ at 0x7f31502e1360>    assert self._parent_pid == os.getpid(), 'can only test a child process'Exception ignored in: <function _MultiProcessingDataLoaderIter.__del__ at 0x7f31502e1360>\n",
            "Traceback (most recent call last):\n",
            "  File \"/usr/local/lib/python3.10/dist-packages/torch/utils/data/dataloader.py\", line 1478, in __del__\n",
            "    \n",
            "\n",
            "self._shutdown_workers()AssertionError\n",
            "Traceback (most recent call last):\n",
            "  File \"/usr/local/lib/python3.10/dist-packages/torch/utils/data/dataloader.py\", line 1461, in _shutdown_workers\n",
            ":   File \"/usr/local/lib/python3.10/dist-packages/torch/utils/data/dataloader.py\", line 1478, in __del__\n",
            "can only test a child process    Exception ignored in: <function _MultiProcessingDataLoaderIter.__del__ at 0x7f31502e1360>\n",
            "Traceback (most recent call last):\n",
            "Exception ignored in:   File \"/usr/local/lib/python3.10/dist-packages/torch/utils/data/dataloader.py\", line 1478, in __del__\n",
            "if w.is_alive():    \n",
            "\n",
            "  File \"/usr/lib/python3.10/multiprocessing/process.py\", line 160, in is_alive\n",
            "    assert self._parent_pid == os.getpid(), 'can only test a child process'<function _MultiProcessingDataLoaderIter.__del__ at 0x7f31502e1360>\n",
            "    AssertionErrorself._shutdown_workers()Exception ignored in: self._shutdown_workers(): \n",
            "\n",
            "<function _MultiProcessingDataLoaderIter.__del__ at 0x7f31502e1360>\n",
            "Traceback (most recent call last):\n",
            "Exception ignored in: Traceback (most recent call last):\n",
            "\n",
            "      File \"/usr/local/lib/python3.10/dist-packages/torch/utils/data/dataloader.py\", line 1461, in _shutdown_workers\n",
            "  File \"/usr/local/lib/python3.10/dist-packages/torch/utils/data/dataloader.py\", line 1478, in __del__\n",
            "<function _MultiProcessingDataLoaderIter.__del__ at 0x7f31502e1360>    \n",
            "  File \"/usr/local/lib/python3.10/dist-packages/torch/utils/data/dataloader.py\", line 1478, in __del__\n",
            "can only test a child processif w.is_alive():  File \"/usr/local/lib/python3.10/dist-packages/torch/utils/data/dataloader.py\", line 1461, in _shutdown_workers\n",
            "self._shutdown_workers()Traceback (most recent call last):\n",
            "\n",
            "    \n",
            "\n",
            "  File \"/usr/local/lib/python3.10/dist-packages/torch/utils/data/dataloader.py\", line 1478, in __del__\n",
            "self._shutdown_workers()  File \"/usr/lib/python3.10/multiprocessing/process.py\", line 160, in is_alive\n",
            "  File \"/usr/local/lib/python3.10/dist-packages/torch/utils/data/dataloader.py\", line 1461, in _shutdown_workers\n",
            "\n",
            "            if w.is_alive():      File \"/usr/local/lib/python3.10/dist-packages/torch/utils/data/dataloader.py\", line 1461, in _shutdown_workers\n",
            "self._shutdown_workers()assert self._parent_pid == os.getpid(), 'can only test a child process'\n",
            "if w.is_alive():\n",
            "    \n",
            "  File \"/usr/lib/python3.10/multiprocessing/process.py\", line 160, in is_alive\n",
            "\n",
            "  File \"/usr/local/lib/python3.10/dist-packages/torch/utils/data/dataloader.py\", line 1461, in _shutdown_workers\n",
            "AssertionErrorif w.is_alive():      File \"/usr/lib/python3.10/multiprocessing/process.py\", line 160, in is_alive\n",
            ": assert self._parent_pid == os.getpid(), 'can only test a child process'\n",
            "    can only test a child process  File \"/usr/lib/python3.10/multiprocessing/process.py\", line 160, in is_alive\n",
            "assert self._parent_pid == os.getpid(), 'can only test a child process'\n",
            "\n",
            "        AssertionError\n",
            "assert self._parent_pid == os.getpid(), 'can only test a child process': AssertionErrorif w.is_alive():\n",
            "can only test a child process: \n",
            "AssertionError\n",
            "can only test a child process  File \"/usr/lib/python3.10/multiprocessing/process.py\", line 160, in is_alive\n",
            ": \n",
            "    can only test a child processassert self._parent_pid == os.getpid(), 'can only test a child process'\n",
            "\n",
            "AssertionError: can only test a child processException ignored in: \n",
            "<function _MultiProcessingDataLoaderIter.__del__ at 0x7f31502e1360>Exception ignored in: \n",
            "Traceback (most recent call last):\n",
            "<function _MultiProcessingDataLoaderIter.__del__ at 0x7f31502e1360>Exception ignored in:   File \"/usr/local/lib/python3.10/dist-packages/torch/utils/data/dataloader.py\", line 1478, in __del__\n",
            "\n",
            "    <function _MultiProcessingDataLoaderIter.__del__ at 0x7f31502e1360>self._shutdown_workers()Traceback (most recent call last):\n",
            "\n",
            "\n",
            "  File \"/usr/local/lib/python3.10/dist-packages/torch/utils/data/dataloader.py\", line 1461, in _shutdown_workers\n",
            "  File \"/usr/local/lib/python3.10/dist-packages/torch/utils/data/dataloader.py\", line 1478, in __del__\n",
            "    Traceback (most recent call last):\n",
            "if w.is_alive():    \n",
            "  File \"/usr/lib/python3.10/multiprocessing/process.py\", line 160, in is_alive\n",
            "  File \"/usr/local/lib/python3.10/dist-packages/torch/utils/data/dataloader.py\", line 1478, in __del__\n",
            "    self._shutdown_workers()assert self._parent_pid == os.getpid(), 'can only test a child process'    \n",
            "\n",
            "Exception ignored in: AssertionError: self._shutdown_workers()  File \"/usr/local/lib/python3.10/dist-packages/torch/utils/data/dataloader.py\", line 1461, in _shutdown_workers\n",
            "Training:   7%|▋         | 35/500 [00:07<00:29, 15.72it/s, loss=0.957]<function _MultiProcessingDataLoaderIter.__del__ at 0x7f31502e1360>\n",
            "Training:   7%|▋         | 37/500 [00:07<04:35,  1.68it/s, loss=0.957]    <function _MultiProcessingDataLoaderIter.__del__ at 0x7f31502e1360>\n",
            "can only test a child process  File \"/usr/local/lib/python3.10/dist-packages/torch/utils/data/dataloader.py\", line 1461, in _shutdown_workers\n",
            "\n",
            "Traceback (most recent call last):\n",
            "\n",
            "Training:   7%|▋         | 37/500 [00:07<04:35,  1.68it/s, loss=0.958]if w.is_alive():      File \"/usr/local/lib/python3.10/dist-packages/torch/utils/data/dataloader.py\", line 1478, in __del__\n",
            "Traceback (most recent call last):\n",
            "\n",
            "if w.is_alive():      File \"/usr/local/lib/python3.10/dist-packages/torch/utils/data/dataloader.py\", line 1478, in __del__\n",
            "  File \"/usr/lib/python3.10/multiprocessing/process.py\", line 160, in is_alive\n",
            "\n",
            "self._shutdown_workers()        \n",
            "Training:   7%|▋         | 37/500 [00:07<04:35,  1.68it/s, loss=0.957]  File \"/usr/lib/python3.10/multiprocessing/process.py\", line 160, in is_alive\n",
            "Training:   8%|▊         | 39/500 [00:07<03:37,  2.12it/s, loss=0.957]\n",
            "assert self._parent_pid == os.getpid(), 'can only test a child process'  File \"/usr/local/lib/python3.10/dist-packages/torch/utils/data/dataloader.py\", line 1461, in _shutdown_workers\n",
            "      File \"/usr/local/lib/python3.10/dist-packages/torch/utils/data/dataloader.py\", line 1461, in _shutdown_workers\n",
            "\n",
            "        AssertionErrorassert self._parent_pid == os.getpid(), 'can only test a child process'if w.is_alive():\n",
            "if w.is_alive():: \n",
            "Training:   8%|▊         | 39/500 [00:07<03:37,  2.12it/s, loss=0.958]AssertionError  File \"/usr/lib/python3.10/multiprocessing/process.py\", line 160, in is_alive\n",
            "Training:   8%|▊         | 40/500 [00:07<03:14,  2.37it/s, loss=0.958]\n",
            ":     can only test a child process  File \"/usr/lib/python3.10/multiprocessing/process.py\", line 160, in is_alive\n",
            "can only test a child processassert self._parent_pid == os.getpid(), 'can only test a child process'\n",
            "\n",
            "    \n",
            "Training:   8%|▊         | 41/500 [00:07<02:48,  2.72it/s, loss=0.958]\n",
            "can only test a child processAssertionError\n",
            ": can only test a child process\n",
            "Training: 100%|██████████| 500/500 [00:40<00:00, 12.27it/s, loss=0.959]\n",
            "Validation:  23%|██▎       | 23/100 [00:02<00:05, 15.21it/s, accuracy=0.912]Exception ignored in: Exception ignored in: Exception ignored in: <function _MultiProcessingDataLoaderIter.__del__ at 0x7f31502e1360>Exception ignored in: \n",
            "<function _MultiProcessingDataLoaderIter.__del__ at 0x7f31502e1360>\n",
            "Traceback (most recent call last):\n",
            "<function _MultiProcessingDataLoaderIter.__del__ at 0x7f31502e1360><function _MultiProcessingDataLoaderIter.__del__ at 0x7f31502e1360>  File \"/usr/local/lib/python3.10/dist-packages/torch/utils/data/dataloader.py\", line 1478, in __del__\n",
            "Traceback (most recent call last):\n",
            "\n",
            "  File \"/usr/local/lib/python3.10/dist-packages/torch/utils/data/dataloader.py\", line 1478, in __del__\n",
            "    \n",
            "Traceback (most recent call last):\n",
            "    Traceback (most recent call last):\n",
            "self._shutdown_workers()Exception ignored in:   File \"/usr/local/lib/python3.10/dist-packages/torch/utils/data/dataloader.py\", line 1478, in __del__\n",
            "Exception ignored in:   File \"/usr/local/lib/python3.10/dist-packages/torch/utils/data/dataloader.py\", line 1478, in __del__\n",
            "self._shutdown_workers()\n",
            "Exception ignored in: <function _MultiProcessingDataLoaderIter.__del__ at 0x7f31502e1360>        Exception ignored in: \n",
            "self._shutdown_workers()\n",
            "<function _MultiProcessingDataLoaderIter.__del__ at 0x7f31502e1360>Exception ignored in: <function _MultiProcessingDataLoaderIter.__del__ at 0x7f31502e1360>Exception ignored in: <function _MultiProcessingDataLoaderIter.__del__ at 0x7f31502e1360>self._shutdown_workers()  File \"/usr/local/lib/python3.10/dist-packages/torch/utils/data/dataloader.py\", line 1461, in _shutdown_workers\n",
            "Traceback (most recent call last):\n",
            "\n",
            "  File \"/usr/local/lib/python3.10/dist-packages/torch/utils/data/dataloader.py\", line 1461, in _shutdown_workers\n",
            "\n",
            "    \n",
            "<function _MultiProcessingDataLoaderIter.__del__ at 0x7f31502e1360><function _MultiProcessingDataLoaderIter.__del__ at 0x7f31502e1360>\n",
            "\n",
            "Traceback (most recent call last):\n",
            "  File \"/usr/local/lib/python3.10/dist-packages/torch/utils/data/dataloader.py\", line 1461, in _shutdown_workers\n",
            "  File \"/usr/local/lib/python3.10/dist-packages/torch/utils/data/dataloader.py\", line 1478, in __del__\n",
            "    Traceback (most recent call last):\n",
            "  File \"/usr/local/lib/python3.10/dist-packages/torch/utils/data/dataloader.py\", line 1461, in _shutdown_workers\n",
            "if w.is_alive():\n",
            "\n",
            "    Traceback (most recent call last):\n",
            "  File \"/usr/local/lib/python3.10/dist-packages/torch/utils/data/dataloader.py\", line 1478, in __del__\n",
            "Traceback (most recent call last):\n",
            "Traceback (most recent call last):\n",
            "      File \"/usr/local/lib/python3.10/dist-packages/torch/utils/data/dataloader.py\", line 1478, in __del__\n",
            "\n",
            "  File \"/usr/local/lib/python3.10/dist-packages/torch/utils/data/dataloader.py\", line 1478, in __del__\n",
            "      File \"/usr/local/lib/python3.10/dist-packages/torch/utils/data/dataloader.py\", line 1478, in __del__\n",
            "if w.is_alive():if w.is_alive():        if w.is_alive():  File \"/usr/lib/python3.10/multiprocessing/process.py\", line 160, in is_alive\n",
            "  File \"/usr/local/lib/python3.10/dist-packages/torch/utils/data/dataloader.py\", line 1478, in __del__\n",
            "\n",
            "self._shutdown_workers()        self._shutdown_workers()\n",
            "    self._shutdown_workers()\n",
            "      File \"/usr/lib/python3.10/multiprocessing/process.py\", line 160, in is_alive\n",
            "assert self._parent_pid == os.getpid(), 'can only test a child process'\n",
            "\n",
            "Exception ignored in: self._shutdown_workers()  File \"/usr/lib/python3.10/multiprocessing/process.py\", line 160, in is_alive\n",
            "  File \"/usr/lib/python3.10/multiprocessing/process.py\", line 160, in is_alive\n",
            "self._shutdown_workers()    self._shutdown_workers()<function _MultiProcessingDataLoaderIter.__del__ at 0x7f31502e1360>\n",
            "  File \"/usr/local/lib/python3.10/dist-packages/torch/utils/data/dataloader.py\", line 1461, in _shutdown_workers\n",
            "  File \"/usr/local/lib/python3.10/dist-packages/torch/utils/data/dataloader.py\", line 1461, in _shutdown_workers\n",
            "\n",
            "assert self._parent_pid == os.getpid(), 'can only test a child process'    \n",
            "    \n",
            "\n",
            "          File \"/usr/local/lib/python3.10/dist-packages/torch/utils/data/dataloader.py\", line 1461, in _shutdown_workers\n",
            "\n",
            "assert self._parent_pid == os.getpid(), 'can only test a child process'\n",
            "AssertionError  File \"/usr/local/lib/python3.10/dist-packages/torch/utils/data/dataloader.py\", line 1461, in _shutdown_workers\n",
            "AssertionError\n",
            "    :   File \"/usr/local/lib/python3.10/dist-packages/torch/utils/data/dataloader.py\", line 1461, in _shutdown_workers\n",
            "  File \"/usr/local/lib/python3.10/dist-packages/torch/utils/data/dataloader.py\", line 1461, in _shutdown_workers\n",
            "Traceback (most recent call last):\n",
            "if w.is_alive():if w.is_alive():AssertionError:     if w.is_alive():assert self._parent_pid == os.getpid(), 'can only test a child process'can only test a child process      File \"/usr/local/lib/python3.10/dist-packages/torch/utils/data/dataloader.py\", line 1478, in __del__\n",
            "\n",
            "\n",
            "    can only test a child processif w.is_alive():\n",
            ": \n",
            "\n",
            "      File \"/usr/lib/python3.10/multiprocessing/process.py\", line 160, in is_alive\n",
            "if w.is_alive():  File \"/usr/lib/python3.10/multiprocessing/process.py\", line 160, in is_alive\n",
            "can only test a child processif w.is_alive():  File \"/usr/lib/python3.10/multiprocessing/process.py\", line 160, in is_alive\n",
            "\n",
            "\n",
            "AssertionError    self._shutdown_workers()\n",
            "      File \"/usr/lib/python3.10/multiprocessing/process.py\", line 160, in is_alive\n",
            "    \n",
            "\n",
            ": assert self._parent_pid == os.getpid(), 'can only test a child process'\n",
            "assert self._parent_pid == os.getpid(), 'can only test a child process'assert self._parent_pid == os.getpid(), 'can only test a child process'      File \"/usr/lib/python3.10/multiprocessing/process.py\", line 160, in is_alive\n",
            "  File \"/usr/lib/python3.10/multiprocessing/process.py\", line 160, in is_alive\n",
            "can only test a child process\n",
            "assert self._parent_pid == os.getpid(), 'can only test a child process'\n",
            "        \n",
            "  File \"/usr/local/lib/python3.10/dist-packages/torch/utils/data/dataloader.py\", line 1461, in _shutdown_workers\n",
            "\n",
            "assert self._parent_pid == os.getpid(), 'can only test a child process'assert self._parent_pid == os.getpid(), 'can only test a child process'AssertionErrorAssertionError\n",
            "AssertionError    \n",
            ": : : AssertionError\n",
            "if w.is_alive():AssertionError: AssertionErrorcan only test a child processcan only test a child processcan only test a child process\n",
            ": \n",
            "\n",
            ": \n",
            "can only test a child process\n",
            "can only test a child processcan only test a child process  File \"/usr/lib/python3.10/multiprocessing/process.py\", line 160, in is_alive\n",
            "\n",
            "\n",
            "    assert self._parent_pid == os.getpid(), 'can only test a child process'\n",
            "Exception ignored in: AssertionError: <function _MultiProcessingDataLoaderIter.__del__ at 0x7f31502e1360>\n",
            "can only test a child processTraceback (most recent call last):\n",
            "\n",
            "  File \"/usr/local/lib/python3.10/dist-packages/torch/utils/data/dataloader.py\", line 1478, in __del__\n",
            "    self._shutdown_workers()\n",
            "  File \"/usr/local/lib/python3.10/dist-packages/torch/utils/data/dataloader.py\", line 1461, in _shutdown_workers\n",
            "    if w.is_alive():\n",
            "  File \"/usr/lib/python3.10/multiprocessing/process.py\", line 160, in is_alive\n",
            "    assert self._parent_pid == os.getpid(), 'can only test a child process'\n",
            "AssertionError: can only test a child process\n",
            "Validation: 100%|██████████| 100/100 [00:11<00:00,  8.84it/s, accuracy=0.915]"
          ]
        },
        {
          "output_type": "stream",
          "name": "stdout",
          "text": [
            "Epoch 72\n"
          ]
        },
        {
          "output_type": "stream",
          "name": "stderr",
          "text": [
            "\n",
            "Exception ignored in: <function _MultiProcessingDataLoaderIter.__del__ at 0x7f31502e1360>\n",
            "Traceback (most recent call last):\n",
            "  File \"/usr/local/lib/python3.10/dist-packages/torch/utils/data/dataloader.py\", line 1478, in __del__\n",
            "Training:   0%|          | 0/500 [00:00<?, ?it/s]\n",
            "  File \"/usr/local/lib/python3.10/dist-packages/torch/utils/data/dataloader.py\", line 1461, in _shutdown_workers\n",
            "    if w.is_alive():\n",
            "  File \"/usr/lib/python3.10/multiprocessing/process.py\", line 160, in is_alive\n",
            "    assert self._parent_pid == os.getpid(), 'can only test a child process'\n",
            "AssertionError: can only test a child process\n",
            "Exception ignored in: <function _MultiProcessingDataLoaderIter.__del__ at 0x7f31502e1360>\n",
            "Traceback (most recent call last):\n",
            "  File \"/usr/local/lib/python3.10/dist-packages/torch/utils/data/dataloader.py\", line 1478, in __del__\n",
            "    self._shutdown_workers()\n",
            "  File \"/usr/local/lib/python3.10/dist-packages/torch/utils/data/dataloader.py\", line 1461, in _shutdown_workers\n",
            "    if w.is_alive():Exception ignored in: \n",
            "  File \"/usr/lib/python3.10/multiprocessing/process.py\", line 160, in is_alive\n",
            "<function _MultiProcessingDataLoaderIter.__del__ at 0x7f31502e1360>    \n",
            "assert self._parent_pid == os.getpid(), 'can only test a child process'Traceback (most recent call last):\n",
            "\n",
            "  File \"/usr/local/lib/python3.10/dist-packages/torch/utils/data/dataloader.py\", line 1478, in __del__\n",
            "AssertionError    : self._shutdown_workers()can only test a child process\n",
            "\n",
            "  File \"/usr/local/lib/python3.10/dist-packages/torch/utils/data/dataloader.py\", line 1461, in _shutdown_workers\n",
            "    if w.is_alive():\n",
            "  File \"/usr/lib/python3.10/multiprocessing/process.py\", line 160, in is_alive\n",
            "    assert self._parent_pid == os.getpid(), 'can only test a child process'\n",
            "AssertionError: can only test a child process\n",
            "Training:   1%|          | 3/500 [00:01<03:24,  2.43it/s, loss=0.991]Exception ignored in: <function _MultiProcessingDataLoaderIter.__del__ at 0x7f31502e1360>\n",
            "Exception ignored in: Traceback (most recent call last):\n",
            "<function _MultiProcessingDataLoaderIter.__del__ at 0x7f31502e1360>Exception ignored in: <function _MultiProcessingDataLoaderIter.__del__ at 0x7f31502e1360>Exception ignored in: \n",
            "Traceback (most recent call last):\n",
            "  File \"/usr/local/lib/python3.10/dist-packages/torch/utils/data/dataloader.py\", line 1478, in __del__\n",
            "<function _MultiProcessingDataLoaderIter.__del__ at 0x7f31502e1360>\n",
            "    Exception ignored in:   File \"/usr/local/lib/python3.10/dist-packages/torch/utils/data/dataloader.py\", line 1478, in __del__\n",
            "\n",
            "Traceback (most recent call last):\n",
            "self._shutdown_workers()Traceback (most recent call last):\n",
            "  File \"/usr/local/lib/python3.10/dist-packages/torch/utils/data/dataloader.py\", line 1478, in __del__\n",
            "      File \"/usr/local/lib/python3.10/dist-packages/torch/utils/data/dataloader.py\", line 1478, in __del__\n",
            "    \n",
            "self._shutdown_workers()<function _MultiProcessingDataLoaderIter.__del__ at 0x7f31502e1360>Exception ignored in: Exception ignored in: \n",
            "  File \"/usr/local/lib/python3.10/dist-packages/torch/utils/data/dataloader.py\", line 1461, in _shutdown_workers\n",
            "self._shutdown_workers()\n",
            "    <function _MultiProcessingDataLoaderIter.__del__ at 0x7f31502e1360>    self._shutdown_workers()Traceback (most recent call last):\n",
            "\n",
            "  File \"/usr/local/lib/python3.10/dist-packages/torch/utils/data/dataloader.py\", line 1461, in _shutdown_workers\n",
            "<function _MultiProcessingDataLoaderIter.__del__ at 0x7f31502e1360>\n",
            "\n",
            "  File \"/usr/local/lib/python3.10/dist-packages/torch/utils/data/dataloader.py\", line 1478, in __del__\n",
            "  File \"/usr/local/lib/python3.10/dist-packages/torch/utils/data/dataloader.py\", line 1461, in _shutdown_workers\n",
            "if w.is_alive():    Traceback (most recent call last):\n",
            "  File \"/usr/local/lib/python3.10/dist-packages/torch/utils/data/dataloader.py\", line 1461, in _shutdown_workers\n",
            "    if w.is_alive():\n",
            "    \n",
            "      File \"/usr/lib/python3.10/multiprocessing/process.py\", line 160, in is_alive\n",
            "if w.is_alive():\n",
            "self._shutdown_workers()  File \"/usr/local/lib/python3.10/dist-packages/torch/utils/data/dataloader.py\", line 1478, in __del__\n",
            "    if w.is_alive():\n",
            "  File \"/usr/lib/python3.10/multiprocessing/process.py\", line 160, in is_alive\n",
            "\n",
            "        assert self._parent_pid == os.getpid(), 'can only test a child process'\n",
            "Exception ignored in:   File \"/usr/lib/python3.10/multiprocessing/process.py\", line 160, in is_alive\n",
            "self._shutdown_workers()assert self._parent_pid == os.getpid(), 'can only test a child process'  File \"/usr/lib/python3.10/multiprocessing/process.py\", line 160, in is_alive\n",
            "Exception ignored in:   File \"/usr/local/lib/python3.10/dist-packages/torch/utils/data/dataloader.py\", line 1461, in _shutdown_workers\n",
            "Traceback (most recent call last):\n",
            "\n",
            "    \n",
            "<function _MultiProcessingDataLoaderIter.__del__ at 0x7f31502e1360>    AssertionError\n",
            "<function _MultiProcessingDataLoaderIter.__del__ at 0x7f31502e1360>      File \"/usr/local/lib/python3.10/dist-packages/torch/utils/data/dataloader.py\", line 1478, in __del__\n",
            "\n",
            "assert self._parent_pid == os.getpid(), 'can only test a child process'AssertionError:     \n",
            "if w.is_alive():Traceback (most recent call last):\n",
            "\n",
            "can only test a child process: \n",
            "Traceback (most recent call last):\n",
            "  File \"/usr/local/lib/python3.10/dist-packages/torch/utils/data/dataloader.py\", line 1478, in __del__\n",
            "self._shutdown_workers()\n",
            "assert self._parent_pid == os.getpid(), 'can only test a child process'AssertionErrorcan only test a child process  File \"/usr/local/lib/python3.10/dist-packages/torch/utils/data/dataloader.py\", line 1461, in _shutdown_workers\n",
            "  File \"/usr/lib/python3.10/multiprocessing/process.py\", line 160, in is_alive\n",
            "  File \"/usr/local/lib/python3.10/dist-packages/torch/utils/data/dataloader.py\", line 1478, in __del__\n",
            "\n",
            "    \n",
            "            : \n",
            "AssertionError: can only test a child process\n",
            "  File \"/usr/local/lib/python3.10/dist-packages/torch/utils/data/dataloader.py\", line 1461, in _shutdown_workers\n",
            "self._shutdown_workers()can only test a child processself._shutdown_workers()assert self._parent_pid == os.getpid(), 'can only test a child process'if w.is_alive():    \n",
            "\n",
            "\n",
            "  File \"/usr/local/lib/python3.10/dist-packages/torch/utils/data/dataloader.py\", line 1461, in _shutdown_workers\n",
            "if w.is_alive():\n",
            "\n",
            "  File \"/usr/local/lib/python3.10/dist-packages/torch/utils/data/dataloader.py\", line 1461, in _shutdown_workers\n",
            "\n",
            "      File \"/usr/lib/python3.10/multiprocessing/process.py\", line 160, in is_alive\n",
            "if w.is_alive():  File \"/usr/lib/python3.10/multiprocessing/process.py\", line 160, in is_alive\n",
            "AssertionError        \n",
            "    : if w.is_alive():  File \"/usr/lib/python3.10/multiprocessing/process.py\", line 160, in is_alive\n",
            "assert self._parent_pid == os.getpid(), 'can only test a child process'assert self._parent_pid == os.getpid(), 'can only test a child process'can only test a child process\n",
            "    \n",
            "\n",
            "\n",
            "AssertionErrorAssertionErrorassert self._parent_pid == os.getpid(), 'can only test a child process'  File \"/usr/lib/python3.10/multiprocessing/process.py\", line 160, in is_alive\n",
            ": : \n",
            "AssertionError    can only test a child processcan only test a child processassert self._parent_pid == os.getpid(), 'can only test a child process'\n",
            "\n",
            ": can only test a child process\n",
            "\n",
            "AssertionError: can only test a child process\n",
            "Training: 100%|██████████| 500/500 [00:38<00:00, 13.03it/s, loss=0.961]\n",
            "Validation: 100%|██████████| 100/100 [00:06<00:00, 14.77it/s, accuracy=0.926]"
          ]
        },
        {
          "output_type": "stream",
          "name": "stdout",
          "text": [
            "Epoch 73\n"
          ]
        },
        {
          "output_type": "stream",
          "name": "stderr",
          "text": [
            "\n",
            "Training: 100%|██████████| 500/500 [00:36<00:00, 13.71it/s, loss=0.959]\n",
            "Validation: 100%|██████████| 100/100 [00:06<00:00, 16.22it/s, accuracy=0.93]\n"
          ]
        },
        {
          "output_type": "stream",
          "name": "stdout",
          "text": [
            "Epoch 74\n"
          ]
        },
        {
          "output_type": "stream",
          "name": "stderr",
          "text": [
            "Training: 100%|██████████| 500/500 [00:36<00:00, 13.57it/s, loss=0.956]\n",
            "Validation: 100%|██████████| 100/100 [00:06<00:00, 15.62it/s, accuracy=0.926]\n"
          ]
        },
        {
          "output_type": "stream",
          "name": "stdout",
          "text": [
            "Epoch 75\n"
          ]
        },
        {
          "output_type": "stream",
          "name": "stderr",
          "text": [
            "Training: 100%|██████████| 500/500 [00:36<00:00, 13.57it/s, loss=0.96]\n",
            "Validation: 100%|██████████| 100/100 [00:06<00:00, 16.25it/s, accuracy=0.932]\n"
          ]
        },
        {
          "output_type": "stream",
          "name": "stdout",
          "text": [
            "Epoch 76\n"
          ]
        },
        {
          "output_type": "stream",
          "name": "stderr",
          "text": [
            "Training: 100%|██████████| 500/500 [00:37<00:00, 13.49it/s, loss=0.958]\n",
            "Validation: 100%|██████████| 100/100 [00:07<00:00, 13.64it/s, accuracy=0.936]"
          ]
        },
        {
          "output_type": "stream",
          "name": "stdout",
          "text": [
            "Epoch 77\n"
          ]
        },
        {
          "output_type": "stream",
          "name": "stderr",
          "text": [
            "\n",
            "Training: 100%|██████████| 500/500 [00:35<00:00, 14.09it/s, loss=0.96]\n",
            "Validation: 100%|██████████| 100/100 [00:07<00:00, 12.94it/s, accuracy=0.93]"
          ]
        },
        {
          "output_type": "stream",
          "name": "stdout",
          "text": [
            "Epoch 78\n"
          ]
        },
        {
          "output_type": "stream",
          "name": "stderr",
          "text": [
            "\n",
            "Training: 100%|██████████| 500/500 [00:35<00:00, 14.17it/s, loss=0.956]\n",
            "Validation: 100%|██████████| 100/100 [00:07<00:00, 13.52it/s, accuracy=0.925]"
          ]
        },
        {
          "output_type": "stream",
          "name": "stdout",
          "text": [
            "Epoch 79\n"
          ]
        },
        {
          "output_type": "stream",
          "name": "stderr",
          "text": [
            "\n",
            "Training: 100%|██████████| 500/500 [00:33<00:00, 15.02it/s, loss=0.958]\n",
            "Validation: 100%|██████████| 100/100 [00:07<00:00, 13.18it/s, accuracy=0.906]\n"
          ]
        },
        {
          "output_type": "stream",
          "name": "stdout",
          "text": [
            "Epoch 80\n"
          ]
        },
        {
          "output_type": "stream",
          "name": "stderr",
          "text": [
            "Training: 100%|██████████| 500/500 [00:34<00:00, 14.36it/s, loss=0.959]\n",
            "Validation: 100%|██████████| 100/100 [00:07<00:00, 13.16it/s, accuracy=0.912]"
          ]
        },
        {
          "output_type": "stream",
          "name": "stdout",
          "text": [
            "Epoch 81\n"
          ]
        },
        {
          "output_type": "stream",
          "name": "stderr",
          "text": [
            "\n",
            "Training: 100%|██████████| 500/500 [00:33<00:00, 15.14it/s, loss=0.954]\n",
            "Validation: 100%|██████████| 100/100 [00:07<00:00, 13.52it/s, accuracy=0.93]"
          ]
        },
        {
          "output_type": "stream",
          "name": "stdout",
          "text": [
            "Epoch 82\n"
          ]
        },
        {
          "output_type": "stream",
          "name": "stderr",
          "text": [
            "\n",
            "Training: 100%|██████████| 500/500 [00:34<00:00, 14.55it/s, loss=0.96]\n",
            "Validation: 100%|██████████| 100/100 [00:07<00:00, 12.61it/s, accuracy=0.915]"
          ]
        },
        {
          "output_type": "stream",
          "name": "stdout",
          "text": [
            "Epoch 83\n"
          ]
        },
        {
          "output_type": "stream",
          "name": "stderr",
          "text": [
            "\n",
            "Training: 100%|██████████| 500/500 [00:34<00:00, 14.49it/s, loss=0.956]\n",
            "Validation: 100%|██████████| 100/100 [00:08<00:00, 12.50it/s, accuracy=0.917]\n"
          ]
        },
        {
          "output_type": "stream",
          "name": "stdout",
          "text": [
            "Epoch 84\n"
          ]
        },
        {
          "output_type": "stream",
          "name": "stderr",
          "text": [
            "Training: 100%|██████████| 500/500 [00:35<00:00, 13.95it/s, loss=0.957]\n",
            "Validation: 100%|██████████| 100/100 [00:07<00:00, 13.08it/s, accuracy=0.869]\n"
          ]
        },
        {
          "output_type": "stream",
          "name": "stdout",
          "text": [
            "Epoch 85\n"
          ]
        },
        {
          "output_type": "stream",
          "name": "stderr",
          "text": [
            "Training: 100%|██████████| 500/500 [00:35<00:00, 14.26it/s, loss=0.958]\n",
            "Validation: 100%|██████████| 100/100 [00:07<00:00, 13.82it/s, accuracy=0.929]"
          ]
        },
        {
          "output_type": "stream",
          "name": "stdout",
          "text": [
            "Epoch 86\n"
          ]
        },
        {
          "output_type": "stream",
          "name": "stderr",
          "text": [
            "\n",
            "Training: 100%|██████████| 500/500 [00:35<00:00, 14.00it/s, loss=0.957]\n",
            "Validation: 100%|██████████| 100/100 [00:06<00:00, 16.01it/s, accuracy=0.921]"
          ]
        },
        {
          "output_type": "stream",
          "name": "stdout",
          "text": [
            "Epoch 87\n"
          ]
        },
        {
          "output_type": "stream",
          "name": "stderr",
          "text": [
            "\n",
            "Training: 100%|██████████| 500/500 [00:35<00:00, 14.13it/s, loss=0.956]\n",
            "Validation: 100%|██████████| 100/100 [00:05<00:00, 16.83it/s, accuracy=0.902]\n"
          ]
        },
        {
          "output_type": "stream",
          "name": "stdout",
          "text": [
            "Epoch 88\n"
          ]
        },
        {
          "output_type": "stream",
          "name": "stderr",
          "text": [
            "Training: 100%|██████████| 500/500 [00:35<00:00, 13.90it/s, loss=0.958]\n",
            "Validation: 100%|██████████| 100/100 [00:06<00:00, 16.54it/s, accuracy=0.92]"
          ]
        },
        {
          "output_type": "stream",
          "name": "stdout",
          "text": [
            "Epoch 89\n"
          ]
        },
        {
          "output_type": "stream",
          "name": "stderr",
          "text": [
            "\n",
            "Training: 100%|██████████| 500/500 [00:35<00:00, 13.96it/s, loss=0.959]\n",
            "Validation: 100%|██████████| 100/100 [00:06<00:00, 16.29it/s, accuracy=0.915]\n"
          ]
        },
        {
          "output_type": "stream",
          "name": "stdout",
          "text": [
            "Epoch 90\n"
          ]
        },
        {
          "output_type": "stream",
          "name": "stderr",
          "text": [
            "Training: 100%|██████████| 500/500 [00:35<00:00, 13.92it/s, loss=0.957]\n",
            "Validation: 100%|██████████| 100/100 [00:06<00:00, 16.56it/s, accuracy=0.921]\n"
          ]
        },
        {
          "output_type": "stream",
          "name": "stdout",
          "text": [
            "Epoch 91\n"
          ]
        },
        {
          "output_type": "stream",
          "name": "stderr",
          "text": [
            "Training: 100%|██████████| 500/500 [00:37<00:00, 13.47it/s, loss=0.955]\n",
            "Validation: 100%|██████████| 100/100 [00:05<00:00, 16.74it/s, accuracy=0.904]\n"
          ]
        },
        {
          "output_type": "stream",
          "name": "stdout",
          "text": [
            "Epoch 92\n"
          ]
        },
        {
          "output_type": "stream",
          "name": "stderr",
          "text": [
            "Training: 100%|██████████| 500/500 [00:35<00:00, 13.99it/s, loss=0.958]\n",
            "Validation: 100%|██████████| 100/100 [00:05<00:00, 16.71it/s, accuracy=0.909]"
          ]
        },
        {
          "output_type": "stream",
          "name": "stdout",
          "text": [
            "Epoch 93\n"
          ]
        },
        {
          "output_type": "stream",
          "name": "stderr",
          "text": [
            "\n",
            "Training: 100%|██████████| 500/500 [00:35<00:00, 13.91it/s, loss=0.956]\n",
            "Validation: 100%|██████████| 100/100 [00:06<00:00, 16.39it/s, accuracy=0.924]"
          ]
        },
        {
          "output_type": "stream",
          "name": "stdout",
          "text": [
            "Epoch 94\n"
          ]
        },
        {
          "output_type": "stream",
          "name": "stderr",
          "text": [
            "\n",
            "Training: 100%|██████████| 500/500 [00:35<00:00, 13.99it/s, loss=0.955]\n",
            "Validation: 100%|██████████| 100/100 [00:06<00:00, 15.68it/s, accuracy=0.916]"
          ]
        },
        {
          "output_type": "stream",
          "name": "stdout",
          "text": [
            "Epoch 95\n"
          ]
        },
        {
          "output_type": "stream",
          "name": "stderr",
          "text": [
            "\n",
            "Training: 100%|██████████| 500/500 [00:34<00:00, 14.33it/s, loss=0.958]\n",
            "Validation: 100%|██████████| 100/100 [00:06<00:00, 14.97it/s, accuracy=0.919]"
          ]
        },
        {
          "output_type": "stream",
          "name": "stdout",
          "text": [
            "Epoch 96\n"
          ]
        },
        {
          "output_type": "stream",
          "name": "stderr",
          "text": [
            "\n",
            "Training: 100%|██████████| 500/500 [00:34<00:00, 14.49it/s, loss=0.956]\n",
            "Validation: 100%|██████████| 100/100 [00:07<00:00, 13.59it/s, accuracy=0.892]"
          ]
        },
        {
          "output_type": "stream",
          "name": "stdout",
          "text": [
            "Epoch 97\n"
          ]
        },
        {
          "output_type": "stream",
          "name": "stderr",
          "text": [
            "\n",
            "Training: 100%|██████████| 500/500 [00:35<00:00, 14.24it/s, loss=0.958]\n",
            "Validation: 100%|██████████| 100/100 [00:07<00:00, 13.44it/s, accuracy=0.935]"
          ]
        },
        {
          "output_type": "stream",
          "name": "stdout",
          "text": [
            "Epoch 98\n"
          ]
        },
        {
          "output_type": "stream",
          "name": "stderr",
          "text": [
            "\n",
            "Training: 100%|██████████| 500/500 [00:34<00:00, 14.51it/s, loss=0.959]\n",
            "Validation: 100%|██████████| 100/100 [00:07<00:00, 12.94it/s, accuracy=0.922]"
          ]
        },
        {
          "output_type": "stream",
          "name": "stdout",
          "text": [
            "Epoch 99\n"
          ]
        },
        {
          "output_type": "stream",
          "name": "stderr",
          "text": [
            "\n",
            "Training: 100%|██████████| 500/500 [00:34<00:00, 14.32it/s, loss=0.955]\n",
            "Validation: 100%|██████████| 100/100 [00:07<00:00, 13.26it/s, accuracy=0.857]"
          ]
        },
        {
          "output_type": "stream",
          "name": "stdout",
          "text": [
            "Epoch 100\n"
          ]
        },
        {
          "output_type": "stream",
          "name": "stderr",
          "text": [
            "\n",
            "Training: 100%|██████████| 500/500 [00:34<00:00, 14.44it/s, loss=0.956]\n",
            "Validation: 100%|██████████| 100/100 [00:07<00:00, 13.01it/s, accuracy=0.926]"
          ]
        },
        {
          "output_type": "stream",
          "name": "stdout",
          "text": [
            "Epoch 101\n"
          ]
        },
        {
          "output_type": "stream",
          "name": "stderr",
          "text": [
            "\n",
            "Training: 100%|██████████| 500/500 [00:34<00:00, 14.50it/s, loss=0.956]\n",
            "Validation: 100%|██████████| 100/100 [00:07<00:00, 13.30it/s, accuracy=0.91]"
          ]
        },
        {
          "output_type": "stream",
          "name": "stdout",
          "text": [
            "Epoch 102\n"
          ]
        },
        {
          "output_type": "stream",
          "name": "stderr",
          "text": [
            "\n",
            "Training: 100%|██████████| 500/500 [00:34<00:00, 14.33it/s, loss=0.956]\n",
            "Validation: 100%|██████████| 100/100 [00:06<00:00, 15.75it/s, accuracy=0.916]"
          ]
        },
        {
          "output_type": "stream",
          "name": "stdout",
          "text": [
            "Epoch 103\n"
          ]
        },
        {
          "output_type": "stream",
          "name": "stderr",
          "text": [
            "\n",
            "Training: 100%|██████████| 500/500 [00:35<00:00, 14.17it/s, loss=0.956]\n",
            "Validation: 100%|██████████| 100/100 [00:06<00:00, 16.19it/s, accuracy=0.911]"
          ]
        },
        {
          "output_type": "stream",
          "name": "stdout",
          "text": [
            "Epoch 104\n"
          ]
        },
        {
          "output_type": "stream",
          "name": "stderr",
          "text": [
            "\n",
            "Training: 100%|██████████| 500/500 [00:34<00:00, 14.29it/s, loss=0.953]\n",
            "Validation: 100%|██████████| 100/100 [00:06<00:00, 16.61it/s, accuracy=0.931]"
          ]
        },
        {
          "output_type": "stream",
          "name": "stdout",
          "text": [
            "Epoch 105\n"
          ]
        },
        {
          "output_type": "stream",
          "name": "stderr",
          "text": [
            "\n",
            "Training: 100%|██████████| 500/500 [00:35<00:00, 14.15it/s, loss=0.954]\n",
            "Validation: 100%|██████████| 100/100 [00:06<00:00, 16.29it/s, accuracy=0.924]"
          ]
        },
        {
          "output_type": "stream",
          "name": "stdout",
          "text": [
            "Epoch 106\n"
          ]
        },
        {
          "output_type": "stream",
          "name": "stderr",
          "text": [
            "\n",
            "Training: 100%|██████████| 500/500 [00:35<00:00, 13.89it/s, loss=0.958]\n",
            "Validation: 100%|██████████| 100/100 [00:06<00:00, 16.64it/s, accuracy=0.92]\n"
          ]
        },
        {
          "output_type": "stream",
          "name": "stdout",
          "text": [
            "Epoch 107\n"
          ]
        },
        {
          "output_type": "stream",
          "name": "stderr",
          "text": [
            "Training: 100%|██████████| 500/500 [00:37<00:00, 13.37it/s, loss=0.959]\n",
            "Validation: 100%|██████████| 100/100 [00:06<00:00, 15.88it/s, accuracy=0.901]"
          ]
        },
        {
          "output_type": "stream",
          "name": "stdout",
          "text": [
            "Epoch 108\n"
          ]
        },
        {
          "output_type": "stream",
          "name": "stderr",
          "text": [
            "\n",
            "Training: 100%|██████████| 500/500 [00:38<00:00, 13.13it/s, loss=0.953]\n",
            "Validation: 100%|██████████| 100/100 [00:07<00:00, 13.15it/s, accuracy=0.914]"
          ]
        },
        {
          "output_type": "stream",
          "name": "stdout",
          "text": [
            "Epoch 109\n"
          ]
        },
        {
          "output_type": "stream",
          "name": "stderr",
          "text": [
            "\n",
            "Training: 100%|██████████| 500/500 [00:36<00:00, 13.63it/s, loss=0.955]\n",
            "Validation: 100%|██████████| 100/100 [00:07<00:00, 12.52it/s, accuracy=0.918]"
          ]
        },
        {
          "output_type": "stream",
          "name": "stdout",
          "text": [
            "Epoch 110\n"
          ]
        },
        {
          "output_type": "stream",
          "name": "stderr",
          "text": [
            "\n",
            "Training: 100%|██████████| 500/500 [00:37<00:00, 13.38it/s, loss=0.953]\n",
            "Validation: 100%|██████████| 100/100 [00:06<00:00, 15.64it/s, accuracy=0.935]"
          ]
        },
        {
          "output_type": "stream",
          "name": "stdout",
          "text": [
            "Epoch 111\n"
          ]
        },
        {
          "output_type": "stream",
          "name": "stderr",
          "text": [
            "\n",
            "Training: 100%|██████████| 500/500 [00:36<00:00, 13.56it/s, loss=0.957]\n",
            "Validation: 100%|██████████| 100/100 [00:06<00:00, 16.45it/s, accuracy=0.916]\n"
          ]
        },
        {
          "output_type": "stream",
          "name": "stdout",
          "text": [
            "Epoch 112\n"
          ]
        },
        {
          "output_type": "stream",
          "name": "stderr",
          "text": [
            "Training: 100%|██████████| 500/500 [00:36<00:00, 13.81it/s, loss=0.952]\n",
            "Validation: 100%|██████████| 100/100 [00:05<00:00, 16.74it/s, accuracy=0.889]\n"
          ]
        },
        {
          "output_type": "stream",
          "name": "stdout",
          "text": [
            "Epoch 113\n"
          ]
        },
        {
          "output_type": "stream",
          "name": "stderr",
          "text": [
            "Training: 100%|██████████| 500/500 [00:35<00:00, 13.91it/s, loss=0.954]\n",
            "Validation: 100%|██████████| 100/100 [00:05<00:00, 16.77it/s, accuracy=0.915]\n"
          ]
        },
        {
          "output_type": "stream",
          "name": "stdout",
          "text": [
            "Epoch 114\n"
          ]
        },
        {
          "output_type": "stream",
          "name": "stderr",
          "text": [
            "Training: 100%|██████████| 500/500 [00:37<00:00, 13.18it/s, loss=0.955]\n",
            "Validation: 100%|██████████| 100/100 [00:07<00:00, 14.25it/s, accuracy=0.872]"
          ]
        },
        {
          "output_type": "stream",
          "name": "stdout",
          "text": [
            "Epoch 115\n"
          ]
        },
        {
          "output_type": "stream",
          "name": "stderr",
          "text": [
            "\n",
            "Training: 100%|██████████| 500/500 [00:37<00:00, 13.40it/s, loss=0.956]\n",
            "Validation: 100%|██████████| 100/100 [00:08<00:00, 12.44it/s, accuracy=0.898]"
          ]
        },
        {
          "output_type": "stream",
          "name": "stdout",
          "text": [
            "Epoch 116\n"
          ]
        },
        {
          "output_type": "stream",
          "name": "stderr",
          "text": [
            "\n",
            "Training: 100%|██████████| 500/500 [00:37<00:00, 13.43it/s, loss=0.955]\n",
            "Validation: 100%|██████████| 100/100 [00:06<00:00, 14.42it/s, accuracy=0.913]\n"
          ]
        },
        {
          "output_type": "stream",
          "name": "stdout",
          "text": [
            "Epoch 117\n"
          ]
        },
        {
          "output_type": "stream",
          "name": "stderr",
          "text": [
            "Training: 100%|██████████| 500/500 [00:37<00:00, 13.39it/s, loss=0.953]\n",
            "Validation: 100%|██████████| 100/100 [00:06<00:00, 16.03it/s, accuracy=0.874]"
          ]
        },
        {
          "output_type": "stream",
          "name": "stdout",
          "text": [
            "Epoch 118\n"
          ]
        },
        {
          "output_type": "stream",
          "name": "stderr",
          "text": [
            "\n",
            "Training: 100%|██████████| 500/500 [00:37<00:00, 13.32it/s, loss=0.954]\n",
            "Validation: 100%|██████████| 100/100 [00:07<00:00, 14.28it/s, accuracy=0.908]"
          ]
        },
        {
          "output_type": "stream",
          "name": "stdout",
          "text": [
            "Epoch 119\n"
          ]
        },
        {
          "output_type": "stream",
          "name": "stderr",
          "text": [
            "\n",
            "Training: 100%|██████████| 500/500 [00:36<00:00, 13.71it/s, loss=0.958]\n",
            "Validation: 100%|██████████| 100/100 [00:07<00:00, 12.88it/s, accuracy=0.914]"
          ]
        },
        {
          "output_type": "stream",
          "name": "stdout",
          "text": [
            "Epoch 120\n"
          ]
        },
        {
          "output_type": "stream",
          "name": "stderr",
          "text": [
            "\n",
            "Training: 100%|██████████| 500/500 [00:34<00:00, 14.29it/s, loss=0.943]\n",
            "Validation: 100%|██████████| 100/100 [00:07<00:00, 12.62it/s, accuracy=0.928]"
          ]
        },
        {
          "output_type": "stream",
          "name": "stdout",
          "text": [
            "Epoch 121\n"
          ]
        },
        {
          "output_type": "stream",
          "name": "stderr",
          "text": [
            "\n",
            "Training: 100%|██████████| 500/500 [00:35<00:00, 14.14it/s, loss=0.938]\n",
            "Validation: 100%|██████████| 100/100 [00:07<00:00, 13.31it/s, accuracy=0.933]"
          ]
        },
        {
          "output_type": "stream",
          "name": "stdout",
          "text": [
            "Epoch 122\n"
          ]
        },
        {
          "output_type": "stream",
          "name": "stderr",
          "text": [
            "\n",
            "Training: 100%|██████████| 500/500 [00:38<00:00, 12.99it/s, loss=0.937]\n",
            "Validation: 100%|██████████| 100/100 [00:06<00:00, 14.98it/s, accuracy=0.931]\n"
          ]
        },
        {
          "output_type": "stream",
          "name": "stdout",
          "text": [
            "Epoch 123\n"
          ]
        },
        {
          "output_type": "stream",
          "name": "stderr",
          "text": [
            "Training: 100%|██████████| 500/500 [00:38<00:00, 12.94it/s, loss=0.936]\n",
            "Validation: 100%|██████████| 100/100 [00:08<00:00, 12.37it/s, accuracy=0.934]"
          ]
        },
        {
          "output_type": "stream",
          "name": "stdout",
          "text": [
            "Epoch 124\n"
          ]
        },
        {
          "output_type": "stream",
          "name": "stderr",
          "text": [
            "\n",
            "Training: 100%|██████████| 500/500 [00:37<00:00, 13.37it/s, loss=0.936]\n",
            "Validation: 100%|██████████| 100/100 [00:08<00:00, 11.88it/s, accuracy=0.942]\n"
          ]
        },
        {
          "output_type": "stream",
          "name": "stdout",
          "text": [
            "Ding ding ding! We found a new best model!\n",
            "Epoch 125\n"
          ]
        },
        {
          "output_type": "stream",
          "name": "stderr",
          "text": [
            "Training: 100%|██████████| 500/500 [00:38<00:00, 12.94it/s, loss=0.936]\n",
            "Validation: 100%|██████████| 100/100 [00:06<00:00, 15.37it/s, accuracy=0.937]"
          ]
        },
        {
          "output_type": "stream",
          "name": "stdout",
          "text": [
            "Epoch 126\n"
          ]
        },
        {
          "output_type": "stream",
          "name": "stderr",
          "text": [
            "\n",
            "Training: 100%|██████████| 500/500 [00:38<00:00, 12.91it/s, loss=0.935]\n",
            "Validation: 100%|██████████| 100/100 [00:07<00:00, 13.45it/s, accuracy=0.948]"
          ]
        },
        {
          "output_type": "stream",
          "name": "stdout",
          "text": [
            "Ding ding ding! We found a new best model!\n",
            "Epoch 127\n"
          ]
        },
        {
          "output_type": "stream",
          "name": "stderr",
          "text": [
            "\n",
            "Training: 100%|██████████| 500/500 [00:36<00:00, 13.52it/s, loss=0.933]\n",
            "Validation: 100%|██████████| 100/100 [00:08<00:00, 12.38it/s, accuracy=0.945]\n"
          ]
        },
        {
          "output_type": "stream",
          "name": "stdout",
          "text": [
            "Epoch 128\n"
          ]
        },
        {
          "output_type": "stream",
          "name": "stderr",
          "text": [
            "Training: 100%|██████████| 500/500 [00:37<00:00, 13.45it/s, loss=0.934]\n",
            "Validation: 100%|██████████| 100/100 [00:06<00:00, 14.97it/s, accuracy=0.953]"
          ]
        },
        {
          "output_type": "stream",
          "name": "stdout",
          "text": [
            "Ding ding ding! We found a new best model!\n",
            "Epoch 129\n"
          ]
        },
        {
          "output_type": "stream",
          "name": "stderr",
          "text": [
            "\n",
            "Training: 100%|██████████| 500/500 [00:38<00:00, 13.13it/s, loss=0.932]\n",
            "Validation: 100%|██████████| 100/100 [00:06<00:00, 16.23it/s, accuracy=0.953]\n"
          ]
        },
        {
          "output_type": "stream",
          "name": "stdout",
          "text": [
            "Ding ding ding! We found a new best model!\n",
            "Epoch 130\n"
          ]
        },
        {
          "output_type": "stream",
          "name": "stderr",
          "text": [
            "Training: 100%|██████████| 500/500 [00:36<00:00, 13.54it/s, loss=0.933]\n",
            "Validation: 100%|██████████| 100/100 [00:06<00:00, 14.71it/s, accuracy=0.923]"
          ]
        },
        {
          "output_type": "stream",
          "name": "stdout",
          "text": [
            "Epoch 131\n"
          ]
        },
        {
          "output_type": "stream",
          "name": "stderr",
          "text": [
            "\n",
            "Training: 100%|██████████| 500/500 [00:35<00:00, 14.14it/s, loss=0.932]\n",
            "Validation: 100%|██████████| 100/100 [00:07<00:00, 13.89it/s, accuracy=0.95]"
          ]
        },
        {
          "output_type": "stream",
          "name": "stdout",
          "text": [
            "Epoch 132\n"
          ]
        },
        {
          "output_type": "stream",
          "name": "stderr",
          "text": [
            "\n",
            "Training: 100%|██████████| 500/500 [00:34<00:00, 14.43it/s, loss=0.933]\n",
            "Validation: 100%|██████████| 100/100 [00:07<00:00, 13.55it/s, accuracy=0.946]"
          ]
        },
        {
          "output_type": "stream",
          "name": "stdout",
          "text": [
            "Epoch 133\n"
          ]
        },
        {
          "output_type": "stream",
          "name": "stderr",
          "text": [
            "\n",
            "Training: 100%|██████████| 500/500 [00:34<00:00, 14.43it/s, loss=0.932]\n",
            "Validation: 100%|██████████| 100/100 [00:07<00:00, 13.43it/s, accuracy=0.947]"
          ]
        },
        {
          "output_type": "stream",
          "name": "stdout",
          "text": [
            "Epoch 134\n"
          ]
        },
        {
          "output_type": "stream",
          "name": "stderr",
          "text": [
            "\n",
            "Training: 100%|██████████| 500/500 [00:34<00:00, 14.40it/s, loss=0.931]\n",
            "Validation: 100%|██████████| 100/100 [00:07<00:00, 13.30it/s, accuracy=0.933]"
          ]
        },
        {
          "output_type": "stream",
          "name": "stdout",
          "text": [
            "Epoch 135\n"
          ]
        },
        {
          "output_type": "stream",
          "name": "stderr",
          "text": [
            "\n",
            "Training: 100%|██████████| 500/500 [00:34<00:00, 14.35it/s, loss=0.933]\n",
            "Validation: 100%|██████████| 100/100 [00:07<00:00, 13.14it/s, accuracy=0.956]\n"
          ]
        },
        {
          "output_type": "stream",
          "name": "stdout",
          "text": [
            "Ding ding ding! We found a new best model!\n",
            "Epoch 136\n"
          ]
        },
        {
          "output_type": "stream",
          "name": "stderr",
          "text": [
            "Training: 100%|██████████| 500/500 [00:34<00:00, 14.61it/s, loss=0.932]\n",
            "Validation: 100%|██████████| 100/100 [00:07<00:00, 13.47it/s, accuracy=0.952]\n"
          ]
        },
        {
          "output_type": "stream",
          "name": "stdout",
          "text": [
            "Epoch 137\n"
          ]
        },
        {
          "output_type": "stream",
          "name": "stderr",
          "text": [
            "Training: 100%|██████████| 500/500 [00:34<00:00, 14.48it/s, loss=0.932]\n",
            "Validation: 100%|██████████| 100/100 [00:07<00:00, 13.13it/s, accuracy=0.928]\n"
          ]
        },
        {
          "output_type": "stream",
          "name": "stdout",
          "text": [
            "Epoch 138\n"
          ]
        },
        {
          "output_type": "stream",
          "name": "stderr",
          "text": [
            "Training: 100%|██████████| 500/500 [00:34<00:00, 14.53it/s, loss=0.931]\n",
            "Validation: 100%|██████████| 100/100 [00:07<00:00, 13.46it/s, accuracy=0.948]"
          ]
        },
        {
          "output_type": "stream",
          "name": "stdout",
          "text": [
            "Epoch 139\n"
          ]
        },
        {
          "output_type": "stream",
          "name": "stderr",
          "text": [
            "\n",
            "Training: 100%|██████████| 500/500 [00:34<00:00, 14.43it/s, loss=0.931]\n",
            "Validation: 100%|██████████| 100/100 [00:07<00:00, 13.18it/s, accuracy=0.947]\n"
          ]
        },
        {
          "output_type": "stream",
          "name": "stdout",
          "text": [
            "Epoch 140\n"
          ]
        },
        {
          "output_type": "stream",
          "name": "stderr",
          "text": [
            "Training: 100%|██████████| 500/500 [00:35<00:00, 14.19it/s, loss=0.93]\n",
            "Validation: 100%|██████████| 100/100 [00:08<00:00, 12.37it/s, accuracy=0.922]\n"
          ]
        },
        {
          "output_type": "stream",
          "name": "stdout",
          "text": [
            "Epoch 141\n"
          ]
        },
        {
          "output_type": "stream",
          "name": "stderr",
          "text": [
            "Training: 100%|██████████| 500/500 [00:38<00:00, 12.90it/s, loss=0.93]\n",
            "Validation: 100%|██████████| 100/100 [00:06<00:00, 15.21it/s, accuracy=0.952]\n"
          ]
        },
        {
          "output_type": "stream",
          "name": "stdout",
          "text": [
            "Epoch 142\n"
          ]
        },
        {
          "output_type": "stream",
          "name": "stderr",
          "text": [
            "Training: 100%|██████████| 500/500 [00:38<00:00, 12.88it/s, loss=0.931]\n",
            "Validation: 100%|██████████| 100/100 [00:07<00:00, 13.97it/s, accuracy=0.945]"
          ]
        },
        {
          "output_type": "stream",
          "name": "stdout",
          "text": [
            "Epoch 143\n"
          ]
        },
        {
          "output_type": "stream",
          "name": "stderr",
          "text": [
            "\n",
            "Training: 100%|██████████| 500/500 [00:36<00:00, 13.57it/s, loss=0.929]\n",
            "Validation: 100%|██████████| 100/100 [00:08<00:00, 12.20it/s, accuracy=0.946]\n"
          ]
        },
        {
          "output_type": "stream",
          "name": "stdout",
          "text": [
            "Epoch 144\n"
          ]
        },
        {
          "output_type": "stream",
          "name": "stderr",
          "text": [
            "Training: 100%|██████████| 500/500 [00:37<00:00, 13.17it/s, loss=0.93]\n",
            "Validation: 100%|██████████| 100/100 [00:06<00:00, 15.17it/s, accuracy=0.942]\n"
          ]
        },
        {
          "output_type": "stream",
          "name": "stdout",
          "text": [
            "Epoch 145\n"
          ]
        },
        {
          "output_type": "stream",
          "name": "stderr",
          "text": [
            "Training: 100%|██████████| 500/500 [00:38<00:00, 12.90it/s, loss=0.93]\n",
            "Validation: 100%|██████████| 100/100 [00:06<00:00, 15.05it/s, accuracy=0.947]"
          ]
        },
        {
          "output_type": "stream",
          "name": "stdout",
          "text": [
            "Epoch 146\n"
          ]
        },
        {
          "output_type": "stream",
          "name": "stderr",
          "text": [
            "\n",
            "Training: 100%|██████████| 500/500 [00:38<00:00, 13.06it/s, loss=0.93]\n",
            "Validation: 100%|██████████| 100/100 [00:08<00:00, 12.45it/s, accuracy=0.957]"
          ]
        },
        {
          "output_type": "stream",
          "name": "stdout",
          "text": [
            "Ding ding ding! We found a new best model!\n",
            "Epoch 147\n"
          ]
        },
        {
          "output_type": "stream",
          "name": "stderr",
          "text": [
            "\n",
            "Training: 100%|██████████| 500/500 [00:36<00:00, 13.56it/s, loss=0.93]\n",
            "Validation: 100%|██████████| 100/100 [00:08<00:00, 11.90it/s, accuracy=0.952]"
          ]
        },
        {
          "output_type": "stream",
          "name": "stdout",
          "text": [
            "Epoch 148\n"
          ]
        },
        {
          "output_type": "stream",
          "name": "stderr",
          "text": [
            "\n",
            "Training: 100%|██████████| 500/500 [00:37<00:00, 13.33it/s, loss=0.931]\n",
            "Validation: 100%|██████████| 100/100 [00:06<00:00, 16.27it/s, accuracy=0.937]"
          ]
        },
        {
          "output_type": "stream",
          "name": "stdout",
          "text": [
            "Epoch 149\n"
          ]
        },
        {
          "output_type": "stream",
          "name": "stderr",
          "text": [
            "\n",
            "Training: 100%|██████████| 500/500 [00:36<00:00, 13.59it/s, loss=0.93]\n",
            "Validation: 100%|██████████| 100/100 [00:06<00:00, 16.08it/s, accuracy=0.939]\n"
          ]
        },
        {
          "output_type": "stream",
          "name": "stdout",
          "text": [
            "Epoch 150\n"
          ]
        },
        {
          "output_type": "stream",
          "name": "stderr",
          "text": [
            "Training: 100%|██████████| 500/500 [00:36<00:00, 13.56it/s, loss=0.929]\n",
            "Validation: 100%|██████████| 100/100 [00:05<00:00, 16.94it/s, accuracy=0.951]"
          ]
        },
        {
          "output_type": "stream",
          "name": "stdout",
          "text": [
            "Epoch 151\n"
          ]
        },
        {
          "output_type": "stream",
          "name": "stderr",
          "text": [
            "\n",
            "Training: 100%|██████████| 500/500 [00:37<00:00, 13.45it/s, loss=0.928]\n",
            "Validation: 100%|██████████| 100/100 [00:07<00:00, 13.29it/s, accuracy=0.916]"
          ]
        },
        {
          "output_type": "stream",
          "name": "stdout",
          "text": [
            "Epoch 152\n"
          ]
        },
        {
          "output_type": "stream",
          "name": "stderr",
          "text": [
            "\n",
            "Training: 100%|██████████| 500/500 [00:37<00:00, 13.47it/s, loss=0.928]\n",
            "Validation: 100%|██████████| 100/100 [00:08<00:00, 12.10it/s, accuracy=0.95]\n"
          ]
        },
        {
          "output_type": "stream",
          "name": "stdout",
          "text": [
            "Epoch 153\n"
          ]
        },
        {
          "output_type": "stream",
          "name": "stderr",
          "text": [
            "Training: 100%|██████████| 500/500 [00:35<00:00, 13.89it/s, loss=0.929]\n",
            "Validation: 100%|██████████| 100/100 [00:06<00:00, 14.47it/s, accuracy=0.953]\n"
          ]
        },
        {
          "output_type": "stream",
          "name": "stdout",
          "text": [
            "Epoch 154\n"
          ]
        },
        {
          "output_type": "stream",
          "name": "stderr",
          "text": [
            "Training: 100%|██████████| 500/500 [00:37<00:00, 13.39it/s, loss=0.929]\n",
            "Validation: 100%|██████████| 100/100 [00:06<00:00, 16.07it/s, accuracy=0.959]"
          ]
        },
        {
          "output_type": "stream",
          "name": "stdout",
          "text": [
            "Ding ding ding! We found a new best model!\n",
            "Epoch 155\n"
          ]
        },
        {
          "output_type": "stream",
          "name": "stderr",
          "text": [
            "\n",
            "Training: 100%|██████████| 500/500 [00:36<00:00, 13.57it/s, loss=0.929]\n",
            "Validation: 100%|██████████| 100/100 [00:06<00:00, 16.16it/s, accuracy=0.946]"
          ]
        },
        {
          "output_type": "stream",
          "name": "stdout",
          "text": [
            "Epoch 156\n"
          ]
        },
        {
          "output_type": "stream",
          "name": "stderr",
          "text": [
            "\n",
            "Training: 100%|██████████| 500/500 [00:36<00:00, 13.66it/s, loss=0.928]\n",
            "Validation: 100%|██████████| 100/100 [00:06<00:00, 16.03it/s, accuracy=0.937]"
          ]
        },
        {
          "output_type": "stream",
          "name": "stdout",
          "text": [
            "Epoch 157\n"
          ]
        },
        {
          "output_type": "stream",
          "name": "stderr",
          "text": [
            "\n",
            "Training: 100%|██████████| 500/500 [00:37<00:00, 13.41it/s, loss=0.928]\n",
            "Validation: 100%|██████████| 100/100 [00:06<00:00, 14.79it/s, accuracy=0.951]"
          ]
        },
        {
          "output_type": "stream",
          "name": "stdout",
          "text": [
            "Epoch 158\n"
          ]
        },
        {
          "output_type": "stream",
          "name": "stderr",
          "text": [
            "\n",
            "Training: 100%|██████████| 500/500 [00:37<00:00, 13.35it/s, loss=0.927]\n",
            "Validation: 100%|██████████| 100/100 [00:08<00:00, 12.24it/s, accuracy=0.934]"
          ]
        },
        {
          "output_type": "stream",
          "name": "stdout",
          "text": [
            "Epoch 159\n"
          ]
        },
        {
          "output_type": "stream",
          "name": "stderr",
          "text": [
            "\n",
            "Training: 100%|██████████| 500/500 [00:37<00:00, 13.17it/s, loss=0.927]\n",
            "Validation: 100%|██████████| 100/100 [00:06<00:00, 14.85it/s, accuracy=0.947]"
          ]
        },
        {
          "output_type": "stream",
          "name": "stdout",
          "text": [
            "Epoch 160\n"
          ]
        },
        {
          "output_type": "stream",
          "name": "stderr",
          "text": [
            "\n",
            "Training: 100%|██████████| 500/500 [00:38<00:00, 12.85it/s, loss=0.928]\n",
            "Validation: 100%|██████████| 100/100 [00:06<00:00, 15.16it/s, accuracy=0.95]\n"
          ]
        },
        {
          "output_type": "stream",
          "name": "stdout",
          "text": [
            "Epoch 161\n"
          ]
        },
        {
          "output_type": "stream",
          "name": "stderr",
          "text": [
            "Training: 100%|██████████| 500/500 [00:37<00:00, 13.39it/s, loss=0.927]\n",
            "Validation: 100%|██████████| 100/100 [00:07<00:00, 13.05it/s, accuracy=0.936]"
          ]
        },
        {
          "output_type": "stream",
          "name": "stdout",
          "text": [
            "Epoch 162\n"
          ]
        },
        {
          "output_type": "stream",
          "name": "stderr",
          "text": [
            "\n",
            "Training: 100%|██████████| 500/500 [00:35<00:00, 14.04it/s, loss=0.926]\n",
            "Validation: 100%|██████████| 100/100 [00:07<00:00, 13.10it/s, accuracy=0.945]\n"
          ]
        },
        {
          "output_type": "stream",
          "name": "stdout",
          "text": [
            "Epoch 163\n"
          ]
        },
        {
          "output_type": "stream",
          "name": "stderr",
          "text": [
            "Training: 100%|██████████| 500/500 [00:35<00:00, 14.21it/s, loss=0.928]\n",
            "Validation: 100%|██████████| 100/100 [00:07<00:00, 12.99it/s, accuracy=0.935]"
          ]
        },
        {
          "output_type": "stream",
          "name": "stdout",
          "text": [
            "Epoch 164\n"
          ]
        },
        {
          "output_type": "stream",
          "name": "stderr",
          "text": [
            "\n",
            "Training: 100%|██████████| 500/500 [00:34<00:00, 14.33it/s, loss=0.928]\n",
            "Validation: 100%|██████████| 100/100 [00:07<00:00, 12.60it/s, accuracy=0.951]"
          ]
        },
        {
          "output_type": "stream",
          "name": "stdout",
          "text": [
            "Epoch 165\n"
          ]
        },
        {
          "output_type": "stream",
          "name": "stderr",
          "text": [
            "\n",
            "Training: 100%|██████████| 500/500 [00:37<00:00, 13.34it/s, loss=0.926]\n",
            "Validation: 100%|██████████| 100/100 [00:06<00:00, 15.04it/s, accuracy=0.954]\n"
          ]
        },
        {
          "output_type": "stream",
          "name": "stdout",
          "text": [
            "Epoch 166\n"
          ]
        },
        {
          "output_type": "stream",
          "name": "stderr",
          "text": [
            "Training: 100%|██████████| 500/500 [00:38<00:00, 12.95it/s, loss=0.926]\n",
            "Validation: 100%|██████████| 100/100 [00:06<00:00, 15.05it/s, accuracy=0.956]"
          ]
        },
        {
          "output_type": "stream",
          "name": "stdout",
          "text": [
            "Epoch 167\n"
          ]
        },
        {
          "output_type": "stream",
          "name": "stderr",
          "text": [
            "\n",
            "Training: 100%|██████████| 500/500 [00:37<00:00, 13.18it/s, loss=0.928]\n",
            "Validation: 100%|██████████| 100/100 [00:08<00:00, 12.22it/s, accuracy=0.937]"
          ]
        },
        {
          "output_type": "stream",
          "name": "stdout",
          "text": [
            "Epoch 168\n"
          ]
        },
        {
          "output_type": "stream",
          "name": "stderr",
          "text": [
            "\n",
            "Training: 100%|██████████| 500/500 [00:37<00:00, 13.50it/s, loss=0.928]\n",
            "Validation: 100%|██████████| 100/100 [00:07<00:00, 13.69it/s, accuracy=0.954]\n"
          ]
        },
        {
          "output_type": "stream",
          "name": "stdout",
          "text": [
            "Epoch 169\n"
          ]
        },
        {
          "output_type": "stream",
          "name": "stderr",
          "text": [
            "Training: 100%|██████████| 500/500 [00:37<00:00, 13.49it/s, loss=0.926]\n",
            "Validation: 100%|██████████| 100/100 [00:06<00:00, 15.95it/s, accuracy=0.953]\n"
          ]
        },
        {
          "output_type": "stream",
          "name": "stdout",
          "text": [
            "Epoch 170\n"
          ]
        },
        {
          "output_type": "stream",
          "name": "stderr",
          "text": [
            "Training: 100%|██████████| 500/500 [00:37<00:00, 13.36it/s, loss=0.928]\n",
            "Validation: 100%|██████████| 100/100 [00:06<00:00, 15.74it/s, accuracy=0.956]\n"
          ]
        },
        {
          "output_type": "stream",
          "name": "stdout",
          "text": [
            "Epoch 171\n"
          ]
        },
        {
          "output_type": "stream",
          "name": "stderr",
          "text": [
            "Training: 100%|██████████| 500/500 [00:37<00:00, 13.50it/s, loss=0.926]\n",
            "Validation: 100%|██████████| 100/100 [00:06<00:00, 16.64it/s, accuracy=0.953]\n"
          ]
        },
        {
          "output_type": "stream",
          "name": "stdout",
          "text": [
            "Epoch 172\n"
          ]
        },
        {
          "output_type": "stream",
          "name": "stderr",
          "text": [
            "Training: 100%|██████████| 500/500 [00:36<00:00, 13.64it/s, loss=0.926]\n",
            "Validation: 100%|██████████| 100/100 [00:06<00:00, 15.52it/s, accuracy=0.935]"
          ]
        },
        {
          "output_type": "stream",
          "name": "stdout",
          "text": [
            "Epoch 173\n"
          ]
        },
        {
          "output_type": "stream",
          "name": "stderr",
          "text": [
            "\n",
            "Training: 100%|██████████| 500/500 [00:36<00:00, 13.67it/s, loss=0.927]\n",
            "Validation: 100%|██████████| 100/100 [00:07<00:00, 12.88it/s, accuracy=0.951]\n"
          ]
        },
        {
          "output_type": "stream",
          "name": "stdout",
          "text": [
            "Epoch 174\n"
          ]
        },
        {
          "output_type": "stream",
          "name": "stderr",
          "text": [
            "Training: 100%|██████████| 500/500 [00:36<00:00, 13.54it/s, loss=0.926]\n",
            "Validation: 100%|██████████| 100/100 [00:08<00:00, 12.06it/s, accuracy=0.941]"
          ]
        },
        {
          "output_type": "stream",
          "name": "stdout",
          "text": [
            "Epoch 175\n"
          ]
        },
        {
          "output_type": "stream",
          "name": "stderr",
          "text": [
            "\n",
            "Training: 100%|██████████| 500/500 [00:38<00:00, 12.92it/s, loss=0.926]\n",
            "Validation: 100%|██████████| 100/100 [00:06<00:00, 15.25it/s, accuracy=0.952]\n"
          ]
        },
        {
          "output_type": "stream",
          "name": "stdout",
          "text": [
            "Epoch 176\n"
          ]
        },
        {
          "output_type": "stream",
          "name": "stderr",
          "text": [
            "Training: 100%|██████████| 500/500 [00:38<00:00, 12.83it/s, loss=0.927]\n",
            "Validation: 100%|██████████| 100/100 [00:07<00:00, 13.09it/s, accuracy=0.952]"
          ]
        },
        {
          "output_type": "stream",
          "name": "stdout",
          "text": [
            "Epoch 177\n"
          ]
        },
        {
          "output_type": "stream",
          "name": "stderr",
          "text": [
            "\n",
            "Training: 100%|██████████| 500/500 [00:37<00:00, 13.38it/s, loss=0.927]\n",
            "Validation: 100%|██████████| 100/100 [00:08<00:00, 12.15it/s, accuracy=0.96]\n"
          ]
        },
        {
          "output_type": "stream",
          "name": "stdout",
          "text": [
            "Ding ding ding! We found a new best model!\n",
            "Epoch 178\n"
          ]
        },
        {
          "output_type": "stream",
          "name": "stderr",
          "text": [
            "Training: 100%|██████████| 500/500 [00:39<00:00, 12.75it/s, loss=0.925]\n",
            "Validation: 100%|██████████| 100/100 [00:06<00:00, 15.43it/s, accuracy=0.948]\n"
          ]
        },
        {
          "output_type": "stream",
          "name": "stdout",
          "text": [
            "Epoch 179\n"
          ]
        },
        {
          "output_type": "stream",
          "name": "stderr",
          "text": [
            "Training: 100%|██████████| 500/500 [00:38<00:00, 12.83it/s, loss=0.926]\n",
            "Validation: 100%|██████████| 100/100 [00:06<00:00, 14.85it/s, accuracy=0.946]"
          ]
        },
        {
          "output_type": "stream",
          "name": "stdout",
          "text": [
            "Epoch 180\n"
          ]
        },
        {
          "output_type": "stream",
          "name": "stderr",
          "text": [
            "\n",
            "Training: 100%|██████████| 500/500 [00:37<00:00, 13.51it/s, loss=0.927]\n",
            "Validation: 100%|██████████| 100/100 [00:07<00:00, 12.65it/s, accuracy=0.954]"
          ]
        },
        {
          "output_type": "stream",
          "name": "stdout",
          "text": [
            "Epoch 181\n"
          ]
        },
        {
          "output_type": "stream",
          "name": "stderr",
          "text": [
            "\n",
            "Training: 100%|██████████| 500/500 [00:35<00:00, 13.93it/s, loss=0.927]\n",
            "Validation: 100%|██████████| 100/100 [00:08<00:00, 12.46it/s, accuracy=0.94]\n"
          ]
        },
        {
          "output_type": "stream",
          "name": "stdout",
          "text": [
            "Epoch 182\n"
          ]
        },
        {
          "output_type": "stream",
          "name": "stderr",
          "text": [
            "Training: 100%|██████████| 500/500 [00:35<00:00, 13.90it/s, loss=0.926]\n",
            "Validation: 100%|██████████| 100/100 [00:06<00:00, 15.26it/s, accuracy=0.956]\n"
          ]
        },
        {
          "output_type": "stream",
          "name": "stdout",
          "text": [
            "Epoch 183\n"
          ]
        },
        {
          "output_type": "stream",
          "name": "stderr",
          "text": [
            "Training: 100%|██████████| 500/500 [00:36<00:00, 13.57it/s, loss=0.927]\n",
            "Validation: 100%|██████████| 100/100 [00:06<00:00, 16.37it/s, accuracy=0.941]\n"
          ]
        },
        {
          "output_type": "stream",
          "name": "stdout",
          "text": [
            "Epoch 184\n"
          ]
        },
        {
          "output_type": "stream",
          "name": "stderr",
          "text": [
            "Training: 100%|██████████| 500/500 [00:37<00:00, 13.43it/s, loss=0.927]\n",
            "Validation: 100%|██████████| 100/100 [00:06<00:00, 15.77it/s, accuracy=0.946]\n"
          ]
        },
        {
          "output_type": "stream",
          "name": "stdout",
          "text": [
            "Epoch 185\n"
          ]
        },
        {
          "output_type": "stream",
          "name": "stderr",
          "text": [
            "Training: 100%|██████████| 500/500 [00:38<00:00, 12.98it/s, loss=0.926]\n",
            "Validation: 100%|██████████| 100/100 [00:06<00:00, 15.01it/s, accuracy=0.94]"
          ]
        },
        {
          "output_type": "stream",
          "name": "stdout",
          "text": [
            "Epoch 186\n"
          ]
        },
        {
          "output_type": "stream",
          "name": "stderr",
          "text": [
            "\n",
            "Training: 100%|██████████| 500/500 [00:37<00:00, 13.31it/s, loss=0.926]\n",
            "Validation: 100%|██████████| 100/100 [00:08<00:00, 12.38it/s, accuracy=0.946]"
          ]
        },
        {
          "output_type": "stream",
          "name": "stdout",
          "text": [
            "Epoch 187\n"
          ]
        },
        {
          "output_type": "stream",
          "name": "stderr",
          "text": [
            "\n",
            "Training: 100%|██████████| 500/500 [00:36<00:00, 13.79it/s, loss=0.926]\n",
            "Validation: 100%|██████████| 100/100 [00:07<00:00, 12.50it/s, accuracy=0.943]\n"
          ]
        },
        {
          "output_type": "stream",
          "name": "stdout",
          "text": [
            "Epoch 188\n"
          ]
        },
        {
          "output_type": "stream",
          "name": "stderr",
          "text": [
            "Training: 100%|██████████| 500/500 [00:39<00:00, 12.72it/s, loss=0.927]\n",
            "Validation: 100%|██████████| 100/100 [00:06<00:00, 15.28it/s, accuracy=0.953]"
          ]
        },
        {
          "output_type": "stream",
          "name": "stdout",
          "text": [
            "Epoch 189\n"
          ]
        },
        {
          "output_type": "stream",
          "name": "stderr",
          "text": [
            "\n",
            "Training: 100%|██████████| 500/500 [00:39<00:00, 12.81it/s, loss=0.926]\n",
            "Validation: 100%|██████████| 100/100 [00:07<00:00, 14.10it/s, accuracy=0.943]"
          ]
        },
        {
          "output_type": "stream",
          "name": "stdout",
          "text": [
            "Epoch 190\n"
          ]
        },
        {
          "output_type": "stream",
          "name": "stderr",
          "text": [
            "\n",
            "Training: 100%|██████████| 500/500 [00:38<00:00, 13.05it/s, loss=0.928]\n",
            "Validation: 100%|██████████| 100/100 [00:08<00:00, 12.15it/s, accuracy=0.917]"
          ]
        },
        {
          "output_type": "stream",
          "name": "stdout",
          "text": [
            "Epoch 191\n"
          ]
        },
        {
          "output_type": "stream",
          "name": "stderr",
          "text": [
            "\n",
            "Training: 100%|██████████| 500/500 [00:39<00:00, 12.53it/s, loss=0.925]\n",
            "Validation: 100%|██████████| 100/100 [00:06<00:00, 14.45it/s, accuracy=0.946]"
          ]
        },
        {
          "output_type": "stream",
          "name": "stdout",
          "text": [
            "Epoch 192\n"
          ]
        },
        {
          "output_type": "stream",
          "name": "stderr",
          "text": [
            "\n",
            "Training: 100%|██████████| 500/500 [00:39<00:00, 12.64it/s, loss=0.925]\n",
            "Validation: 100%|██████████| 100/100 [00:07<00:00, 13.68it/s, accuracy=0.94]"
          ]
        },
        {
          "output_type": "stream",
          "name": "stdout",
          "text": [
            "Epoch 193\n"
          ]
        },
        {
          "output_type": "stream",
          "name": "stderr",
          "text": [
            "\n",
            "Training: 100%|██████████| 500/500 [00:38<00:00, 13.02it/s, loss=0.924]\n",
            "Validation: 100%|██████████| 100/100 [00:08<00:00, 11.85it/s, accuracy=0.953]"
          ]
        },
        {
          "output_type": "stream",
          "name": "stdout",
          "text": [
            "Epoch 194\n"
          ]
        },
        {
          "output_type": "stream",
          "name": "stderr",
          "text": [
            "\n",
            "Training: 100%|██████████| 500/500 [00:38<00:00, 13.04it/s, loss=0.927]\n",
            "Validation: 100%|██████████| 100/100 [00:06<00:00, 14.54it/s, accuracy=0.956]"
          ]
        },
        {
          "output_type": "stream",
          "name": "stdout",
          "text": [
            "Epoch 195\n"
          ]
        },
        {
          "output_type": "stream",
          "name": "stderr",
          "text": [
            "\n",
            "Training: 100%|██████████| 500/500 [00:39<00:00, 12.64it/s, loss=0.926]\n",
            "Validation: 100%|██████████| 100/100 [00:07<00:00, 13.63it/s, accuracy=0.951]"
          ]
        },
        {
          "output_type": "stream",
          "name": "stdout",
          "text": [
            "Epoch 196\n"
          ]
        },
        {
          "output_type": "stream",
          "name": "stderr",
          "text": [
            "\n",
            "Training: 100%|██████████| 500/500 [00:38<00:00, 13.04it/s, loss=0.925]\n",
            "Validation: 100%|██████████| 100/100 [00:08<00:00, 11.93it/s, accuracy=0.952]\n"
          ]
        },
        {
          "output_type": "stream",
          "name": "stdout",
          "text": [
            "Epoch 197\n"
          ]
        },
        {
          "output_type": "stream",
          "name": "stderr",
          "text": [
            "Training: 100%|██████████| 500/500 [00:39<00:00, 12.60it/s, loss=0.926]\n",
            "Validation: 100%|██████████| 100/100 [00:06<00:00, 14.91it/s, accuracy=0.958]"
          ]
        },
        {
          "output_type": "stream",
          "name": "stdout",
          "text": [
            "Epoch 198\n"
          ]
        },
        {
          "output_type": "stream",
          "name": "stderr",
          "text": [
            "\n",
            "Training: 100%|██████████| 500/500 [00:39<00:00, 12.51it/s, loss=0.926]\n",
            "Validation: 100%|██████████| 100/100 [00:07<00:00, 13.06it/s, accuracy=0.934]"
          ]
        },
        {
          "output_type": "stream",
          "name": "stdout",
          "text": [
            "Epoch 199\n"
          ]
        },
        {
          "output_type": "stream",
          "name": "stderr",
          "text": [
            "\n",
            "Training: 100%|██████████| 500/500 [00:37<00:00, 13.44it/s, loss=0.927]\n",
            "Validation: 100%|██████████| 100/100 [00:08<00:00, 12.27it/s, accuracy=0.941]\n"
          ]
        }
      ],
      "source": [
        "from easyfsl.utils import evaluate\n",
        "\n",
        "\n",
        "best_state = few_shot_classifier.state_dict()\n",
        "best_validation_accuracy = 0.0\n",
        "for epoch in range(n_epochs):\n",
        "    print(f\"Epoch {epoch}\")\n",
        "    average_loss = training_epoch(few_shot_classifier, train_loader, train_optimizer)\n",
        "    validation_accuracy = evaluate(\n",
        "        few_shot_classifier, val_loader, device=DEVICE, tqdm_prefix=\"Validation\"\n",
        "    )\n",
        "\n",
        "    if validation_accuracy > best_validation_accuracy:\n",
        "        best_validation_accuracy = validation_accuracy\n",
        "        best_state = few_shot_classifier.state_dict()\n",
        "        print(\"Ding ding ding! We found a new best model!\")\n",
        "\n",
        "    tb_writer.add_scalar(\"Train/loss\", average_loss, epoch)\n",
        "    tb_writer.add_scalar(\"Val/acc\", validation_accuracy, epoch)\n",
        "\n",
        "    # Warn the scheduler that we did an epoch\n",
        "    # so it knows when to decrease the learning rate\n",
        "    train_scheduler.step()"
      ]
    },
    {
      "cell_type": "markdown",
      "metadata": {
        "id": "IrsfQEi01D59"
      },
      "source": [
        "Yay we successfully performed Episodic Training! Now if you want to you can retrieve the best model's state."
      ]
    },
    {
      "cell_type": "code",
      "execution_count": 53,
      "metadata": {
        "id": "4pdlGgHK1D59",
        "pycharm": {
          "name": "#%%\n"
        },
        "colab": {
          "base_uri": "https://localhost:8080/"
        },
        "outputId": "33d58301-ede4-4a5b-a44d-2c168a895f20"
      },
      "outputs": [
        {
          "output_type": "execute_result",
          "data": {
            "text/plain": [
              "<All keys matched successfully>"
            ]
          },
          "metadata": {},
          "execution_count": 53
        }
      ],
      "source": [
        "few_shot_classifier.load_state_dict(best_state)"
      ]
    },
    {
      "cell_type": "markdown",
      "metadata": {
        "id": "OWdgIOqn1D59"
      },
      "source": [
        "## Evaluation\n",
        "\n",
        "Now that our model is trained, we want to test it.\n",
        "\n",
        "First step: we fetch the test data."
      ]
    },
    {
      "cell_type": "code",
      "source": [
        "import os\n",
        "\n",
        "old_folder_name = '/content/data/gtsrb/GTSRB/Training'\n",
        "new_folder_name = '/content/data/gtsrb/GTSRB/Trainingggg'\n",
        "\n",
        "# Rename the folder\n",
        "os.rename(old_folder_name, new_folder_name)\n",
        "\n",
        "old_folder_name = '/content/data/gtsrb/GTSRB/Trainingg'\n",
        "new_folder_name = '/content/data/gtsrb/GTSRB/Training'\n",
        "\n",
        "# Rename the folder\n",
        "os.rename(old_folder_name, new_folder_name)"
      ],
      "metadata": {
        "id": "8vnyBl3RbVPR"
      },
      "execution_count": 54,
      "outputs": []
    },
    {
      "cell_type": "markdown",
      "source": [
        "# For n_test_tasks = 1000"
      ],
      "metadata": {
        "id": "VJDx3kwKE8f0"
      }
    },
    {
      "cell_type": "code",
      "execution_count": 55,
      "metadata": {
        "id": "bZ-YBPj21D59",
        "pycharm": {
          "name": "#%%\n"
        }
      },
      "outputs": [],
      "source": [
        "n_test_tasks = 1000\n",
        "\n",
        "test_set = GTSRB(\n",
        "    root=\"./data\",\n",
        "    # background=False,\n",
        "    split=\"train\",\n",
        "    transform=transforms.Compose(\n",
        "        [\n",
        "            transforms.Grayscale(num_output_channels=3),\n",
        "            transforms.Resize([int(image_size * 1.15), int(image_size * 1.15)]),\n",
        "            transforms.CenterCrop(image_size),\n",
        "            transforms.ToTensor(),\n",
        "        ]\n",
        "    ),\n",
        "    download=False,\n",
        ")\n",
        "\n",
        "test_set.get_labels = lambda: [instance[1] for instance in test_set]\n",
        "\n",
        "test_sampler = TaskSampler(\n",
        "    test_set, n_way=n_way, n_shot=n_shot, n_query=n_query, n_tasks=n_test_tasks\n",
        ")\n",
        "\n",
        "test_loader = DataLoader(\n",
        "    test_set,\n",
        "    batch_sampler=test_sampler,\n",
        "    num_workers=n_workers,\n",
        "    pin_memory=True,\n",
        "    collate_fn=test_sampler.episodic_collate_fn,\n",
        ")"
      ]
    },
    {
      "cell_type": "markdown",
      "metadata": {
        "id": "E3cGOZN71D5-"
      },
      "source": [
        "Second step: we run the few-shot classifier on the test data."
      ]
    },
    {
      "cell_type": "code",
      "execution_count": 56,
      "metadata": {
        "id": "t9UpXSQX1D5-",
        "pycharm": {
          "name": "#%%\n"
        },
        "colab": {
          "base_uri": "https://localhost:8080/"
        },
        "outputId": "2bfe88b0-b709-484e-c126-20d4200ee01f"
      },
      "outputs": [
        {
          "output_type": "stream",
          "name": "stderr",
          "text": [
            "100%|██████████| 1000/1000 [00:44<00:00, 22.60it/s, accuracy=0.761]"
          ]
        },
        {
          "output_type": "stream",
          "name": "stdout",
          "text": [
            "Average accuracy : 76.09 %\n"
          ]
        },
        {
          "output_type": "stream",
          "name": "stderr",
          "text": [
            "\n"
          ]
        }
      ],
      "source": [
        "accuracy = evaluate(few_shot_classifier, test_loader, device=DEVICE)\n",
        "print(f\"Average accuracy : {(100 * accuracy):.2f} %\")"
      ]
    },
    {
      "cell_type": "markdown",
      "source": [
        "# For n_test_tasks = 10000"
      ],
      "metadata": {
        "id": "DuaAs1GcE2kQ"
      }
    },
    {
      "cell_type": "code",
      "execution_count": 57,
      "metadata": {
        "pycharm": {
          "name": "#%%\n"
        },
        "id": "1mGGr8nSE1HP"
      },
      "outputs": [],
      "source": [
        "n_test_tasks = 10000\n",
        "\n",
        "test_set = GTSRB(\n",
        "    root=\"./data\",\n",
        "    # background=False,\n",
        "    split=\"train\",\n",
        "    transform=transforms.Compose(\n",
        "        [\n",
        "            transforms.Grayscale(num_output_channels=3),\n",
        "            transforms.Resize([int(image_size * 1.15), int(image_size * 1.15)]),\n",
        "            transforms.CenterCrop(image_size),\n",
        "            transforms.ToTensor(),\n",
        "        ]\n",
        "    ),\n",
        "    download=False,\n",
        ")\n",
        "\n",
        "test_set.get_labels = lambda: [instance[1] for instance in test_set]\n",
        "\n",
        "test_sampler = TaskSampler(\n",
        "    test_set, n_way=n_way, n_shot=n_shot, n_query=n_query, n_tasks=n_test_tasks\n",
        ")\n",
        "\n",
        "test_loader = DataLoader(\n",
        "    test_set,\n",
        "    batch_sampler=test_sampler,\n",
        "    num_workers=n_workers,\n",
        "    pin_memory=True,\n",
        "    collate_fn=test_sampler.episodic_collate_fn,\n",
        ")"
      ]
    },
    {
      "cell_type": "code",
      "execution_count": 58,
      "metadata": {
        "pycharm": {
          "name": "#%%\n"
        },
        "colab": {
          "base_uri": "https://localhost:8080/"
        },
        "outputId": "39854f19-3ebe-419a-ef00-9686251dedf8",
        "id": "AD_qQaEuE1HP"
      },
      "outputs": [
        {
          "output_type": "stream",
          "name": "stderr",
          "text": [
            "100%|██████████| 10000/10000 [07:13<00:00, 23.08it/s, accuracy=0.759]"
          ]
        },
        {
          "output_type": "stream",
          "name": "stdout",
          "text": [
            "Average accuracy : 75.93 %\n"
          ]
        },
        {
          "output_type": "stream",
          "name": "stderr",
          "text": [
            "\n"
          ]
        }
      ],
      "source": [
        "accuracy = evaluate(few_shot_classifier, test_loader, device=DEVICE)\n",
        "print(f\"Average accuracy : {(100 * accuracy):.2f} %\")"
      ]
    },
    {
      "cell_type": "code",
      "source": [
        "torch.save(few_shot_classifier, 'model.pth')"
      ],
      "metadata": {
        "id": "1iwQiYdqBYO7"
      },
      "execution_count": 59,
      "outputs": []
    },
    {
      "cell_type": "code",
      "source": [
        "nahian = torch.load('model.pth')"
      ],
      "metadata": {
        "id": "hBgidxNIBi6Z"
      },
      "execution_count": 60,
      "outputs": []
    },
    {
      "cell_type": "code",
      "source": [
        "few_shot_classifier.state_dict()"
      ],
      "metadata": {
        "id": "qK-K-GuACfIi",
        "colab": {
          "base_uri": "https://localhost:8080/"
        },
        "outputId": "232b6ac4-3924-409a-c645-5fb527f0bc31"
      },
      "execution_count": 61,
      "outputs": [
        {
          "output_type": "execute_result",
          "data": {
            "text/plain": [
              "OrderedDict([('backbone.layer1.0.weight',\n",
              "              tensor([[[[-6.3456e-02, -3.2317e-02, -1.0411e-01],\n",
              "                        [ 8.6533e-02, -2.8199e-02, -1.3228e-01],\n",
              "                        [ 1.9502e-01,  7.3431e-02, -7.6206e-02]],\n",
              "              \n",
              "                       [[-6.4705e-02, -2.8337e-02, -1.0290e-01],\n",
              "                        [ 9.2724e-02, -3.2615e-02, -1.3101e-01],\n",
              "                        [ 2.0591e-01,  8.1902e-02, -6.7469e-02]],\n",
              "              \n",
              "                       [[-6.6839e-02, -2.2988e-02, -9.2954e-02],\n",
              "                        [ 9.5857e-02, -2.9953e-02, -1.2360e-01],\n",
              "                        [ 2.0846e-01,  8.1817e-02, -6.5237e-02]]],\n",
              "              \n",
              "              \n",
              "                      [[[-7.3603e-02, -1.1134e-01, -1.1691e-01],\n",
              "                        [ 3.4300e-02,  1.6304e-02, -3.4418e-02],\n",
              "                        [ 1.1333e-01,  1.1498e-01,  5.2232e-02]],\n",
              "              \n",
              "                       [[-6.5942e-02, -1.0008e-01, -1.2895e-01],\n",
              "                        [ 3.3578e-02,  6.6436e-03, -4.2812e-02],\n",
              "                        [ 1.1617e-01,  1.0613e-01,  5.1285e-02]],\n",
              "              \n",
              "                       [[-6.7374e-02, -1.0843e-01, -1.2845e-01],\n",
              "                        [ 3.8792e-02,  2.1545e-02, -3.3720e-02],\n",
              "                        [ 1.1397e-01,  1.0250e-01,  4.8447e-02]]],\n",
              "              \n",
              "              \n",
              "                      [[[-7.2472e-02, -5.3747e-03,  8.0120e-02],\n",
              "                        [-4.0133e-02,  1.7073e-03,  3.7892e-02],\n",
              "                        [ 3.5617e-03,  6.3372e-03, -3.1422e-03]],\n",
              "              \n",
              "                       [[-8.2137e-02,  2.0739e-03,  7.2371e-02],\n",
              "                        [-4.9010e-02,  9.6359e-03,  4.0194e-02],\n",
              "                        [ 1.1858e-02,  3.1567e-04, -2.6489e-03]],\n",
              "              \n",
              "                       [[-7.9760e-02, -5.0536e-03,  7.8980e-02],\n",
              "                        [-5.0098e-02,  7.6271e-03,  3.6969e-02],\n",
              "                        [ 2.3461e-03, -3.8231e-03, -1.9400e-03]]],\n",
              "              \n",
              "              \n",
              "                      ...,\n",
              "              \n",
              "              \n",
              "                      [[[-2.0857e-02, -8.7788e-02, -9.8113e-02],\n",
              "                        [ 3.3063e-02, -4.0583e-03, -5.4042e-02],\n",
              "                        [ 1.2052e-01,  7.7262e-02,  5.5517e-03]],\n",
              "              \n",
              "                       [[-2.1874e-02, -7.9425e-02, -9.1246e-02],\n",
              "                        [ 4.2863e-02, -8.8739e-03, -5.8937e-02],\n",
              "                        [ 1.2215e-01,  8.2422e-02,  8.5297e-03]],\n",
              "              \n",
              "                       [[-3.1320e-02, -8.7157e-02, -9.4216e-02],\n",
              "                        [ 4.2798e-02, -1.2466e-02, -5.9497e-02],\n",
              "                        [ 1.1460e-01,  7.2815e-02, -2.3948e-04]]],\n",
              "              \n",
              "              \n",
              "                      [[[ 1.0231e-02,  1.0165e-02,  2.3809e-02],\n",
              "                        [-2.6331e-02, -2.2916e-02,  2.5745e-02],\n",
              "                        [-6.5318e-02, -4.6219e-02,  1.6283e-03]],\n",
              "              \n",
              "                       [[-4.6021e-05,  7.0693e-03,  2.8936e-02],\n",
              "                        [-3.1037e-02, -8.1299e-03,  1.4331e-02],\n",
              "                        [-6.1984e-02, -3.6263e-02,  5.6231e-03]],\n",
              "              \n",
              "                       [[ 9.5626e-03,  1.5852e-02,  3.0698e-02],\n",
              "                        [-3.3109e-02, -1.9482e-02,  1.3724e-02],\n",
              "                        [-5.4578e-02, -4.3122e-02, -3.3621e-03]]],\n",
              "              \n",
              "              \n",
              "                      [[[ 7.5775e-02,  7.9978e-02,  2.8373e-02],\n",
              "                        [ 3.1746e-02, -5.1243e-03, -6.1826e-02],\n",
              "                        [-1.2342e-02, -7.6932e-02, -1.1694e-01]],\n",
              "              \n",
              "                       [[ 6.3456e-02,  7.8569e-02,  2.3528e-02],\n",
              "                        [ 1.7550e-02, -3.4197e-03, -6.5744e-02],\n",
              "                        [-1.1851e-02, -7.3028e-02, -1.1817e-01]],\n",
              "              \n",
              "                       [[ 7.7848e-02,  6.4508e-02,  1.7439e-02],\n",
              "                        [ 2.9459e-02,  6.2027e-03, -7.0983e-02],\n",
              "                        [-2.8449e-02, -7.9443e-02, -1.1011e-01]]]], device='cuda:0')),\n",
              "             ('backbone.layer1.0.bias',\n",
              "              tensor([-0.0017,  0.0026, -0.0050, -0.0011,  0.0072, -0.0072,  0.0042,  0.0057,\n",
              "                      -0.0072,  0.0045,  0.0070,  0.0051,  0.0076, -0.0002,  0.0072, -0.0033,\n",
              "                      -0.0065,  0.0039,  0.0077,  0.0028,  0.0051,  0.0080,  0.0060,  0.0030,\n",
              "                      -0.0055,  0.0026,  0.0070, -0.0059, -0.0080,  0.0053,  0.0001,  0.0052,\n",
              "                      -0.0027,  0.0008,  0.0064,  0.0069,  0.0003, -0.0021, -0.0025,  0.0061,\n",
              "                      -0.0061, -0.0018,  0.0062, -0.0022, -0.0004, -0.0017,  0.0051,  0.0004,\n",
              "                      -0.0011, -0.0050, -0.0005,  0.0085,  0.0023, -0.0016,  0.0063,  0.0068,\n",
              "                       0.0070,  0.0063,  0.0067, -0.0065, -0.0018,  0.0081,  0.0023,  0.0031],\n",
              "                     device='cuda:0')),\n",
              "             ('backbone.layer1.1.weight',\n",
              "              tensor([0.4333, 0.1663, 0.0740, 0.1364, 0.1385, 0.2294, 0.2048, 0.1570, 0.0980,\n",
              "                      0.1311, 0.0732, 0.1314, 0.1104, 0.1220, 0.1678, 0.0953, 0.1447, 0.1595,\n",
              "                      0.0312, 0.1454, 0.1300, 0.1365, 0.0812, 0.1377, 0.1207, 0.1178, 0.1127,\n",
              "                      0.1253, 0.1625, 0.1033, 0.1586, 0.1021, 0.1275, 0.0958, 0.1098, 0.1190,\n",
              "                      0.3528, 0.1919, 0.1370, 0.1073, 0.0825, 0.0913, 0.2218, 0.1380, 0.1411,\n",
              "                      0.1954, 0.1098, 0.1462, 0.1139, 0.1433, 0.0855, 0.1092, 0.1444, 0.0947,\n",
              "                      0.0684, 0.1500, 0.1589, 0.1253, 0.1233, 0.1845, 0.1386, 0.1325, 0.1488,\n",
              "                      0.1220], device='cuda:0')),\n",
              "             ('backbone.layer1.1.bias',\n",
              "              tensor([-3.1981e-01,  3.6862e-02,  2.9516e-04,  4.2049e-02, -4.9426e-02,\n",
              "                      -1.9999e-01, -1.6390e-01, -5.4536e-02,  7.0213e-02, -8.4759e-02,\n",
              "                       3.1793e-02,  2.3937e-03,  1.4285e-02,  5.4854e-02,  2.8981e-03,\n",
              "                       2.8857e-02,  8.2338e-04,  2.2978e-02,  5.4002e-02,  2.7107e-02,\n",
              "                       1.7987e-02,  1.0764e-02,  5.9749e-03, -1.2165e-01,  3.3511e-02,\n",
              "                       6.4788e-03,  7.2114e-03, -1.6228e-03, -1.1364e-01,  5.3322e-02,\n",
              "                       4.8952e-02,  4.0871e-02,  3.0819e-03,  4.2202e-02,  2.2140e-02,\n",
              "                      -1.9398e-02, -2.6817e-01, -1.1872e-01, -9.2680e-02, -6.0926e-03,\n",
              "                      -9.3678e-02,  3.4763e-02, -1.5612e-01,  1.8079e-03, -3.1780e-03,\n",
              "                      -1.6438e-01,  1.8666e-03,  3.8758e-03,  1.6819e-03, -9.5687e-03,\n",
              "                       5.3327e-02,  6.2111e-03, -2.0181e-03,  7.9939e-03, -7.5272e-02,\n",
              "                      -3.4142e-03,  5.1032e-03,  1.8530e-02,  5.7551e-03, -1.5427e-01,\n",
              "                       1.0541e-04,  3.7544e-02, -5.3099e-02, -5.3185e-03], device='cuda:0')),\n",
              "             ('backbone.layer1.1.running_mean',\n",
              "              tensor([-0.0607, -0.0161, -0.0071, -0.0180, -0.0952, -0.1456, -0.1193, -0.0968,\n",
              "                      -0.0252, -0.0919,  0.0073,  0.0020, -0.0039,  0.0087,  0.0051, -0.1142,\n",
              "                      -0.0118,  0.0019,  0.0285,  0.0032, -0.0055,  0.0020, -0.0707, -0.0830,\n",
              "                      -0.0033,  0.0009,  0.0021, -0.0073, -0.1259, -0.0126, -0.0424, -0.0364,\n",
              "                      -0.0172,  0.0079,  0.0049, -0.0564, -0.0094, -0.0311,  0.0025,  0.0829,\n",
              "                       0.0745,  0.0244, -0.1341, -0.0106, -0.1151, -0.1077,  0.0051, -0.0144,\n",
              "                      -0.0071, -0.0309, -0.0029,  0.0030, -0.0097,  0.0037,  0.0730, -0.0033,\n",
              "                      -0.0371,  0.0051,  0.0008, -0.1145, -0.0061, -0.0286, -0.1018, -0.0934],\n",
              "                     device='cuda:0')),\n",
              "             ('backbone.layer1.1.running_var',\n",
              "              tensor([0.0291, 0.0167, 0.0044, 0.0134, 0.0047, 0.0079, 0.0066, 0.0054, 0.0090,\n",
              "                      0.0037, 0.0040, 0.0188, 0.0074, 0.0090, 0.0231, 0.0056, 0.0184, 0.0146,\n",
              "                      0.0027, 0.0129, 0.0030, 0.0134, 0.0086, 0.0031, 0.0136, 0.0130, 0.0128,\n",
              "                      0.0116, 0.0068, 0.0126, 0.0214, 0.0116, 0.0063, 0.0026, 0.0080, 0.0088,\n",
              "                      0.0102, 0.0042, 0.0023, 0.0042, 0.0022, 0.0111, 0.0093, 0.0164, 0.0239,\n",
              "                      0.0046, 0.0132, 0.0027, 0.0101, 0.0033, 0.0051, 0.0112, 0.0057, 0.0122,\n",
              "                      0.0015, 0.0182, 0.0049, 0.0119, 0.0124, 0.0053, 0.0131, 0.0132, 0.0062,\n",
              "                      0.0139], device='cuda:0')),\n",
              "             ('backbone.layer1.1.num_batches_tracked',\n",
              "              tensor(200263, device='cuda:0')),\n",
              "             ('backbone.layer2.0.weight',\n",
              "              tensor([[[[-3.0833e-02,  1.5944e-02,  2.1122e-02],\n",
              "                        [-3.4472e-02,  4.4971e-03,  3.3497e-02],\n",
              "                        [-2.4350e-02,  1.7273e-02,  1.9216e-02]],\n",
              "              \n",
              "                       [[ 6.8015e-04, -2.5961e-02, -2.9601e-02],\n",
              "                        [ 7.1042e-03, -2.3797e-02, -1.5040e-02],\n",
              "                        [ 1.3834e-02, -1.6904e-02, -3.8741e-02]],\n",
              "              \n",
              "                       [[-2.0384e-03,  2.0814e-03,  8.0170e-03],\n",
              "                        [-2.1095e-03,  6.3783e-03,  6.5177e-03],\n",
              "                        [-2.5324e-04,  4.0120e-03,  5.2282e-03]],\n",
              "              \n",
              "                       ...,\n",
              "              \n",
              "                       [[ 2.2156e-02, -1.1236e-03, -2.3512e-02],\n",
              "                        [ 2.0059e-02, -6.8726e-03, -1.8063e-02],\n",
              "                        [ 2.2915e-02, -6.0015e-03, -5.0171e-02]],\n",
              "              \n",
              "                       [[-9.3660e-03, -8.1753e-04,  4.3657e-03],\n",
              "                        [-7.5280e-03, -2.4789e-03, -6.3097e-03],\n",
              "                        [ 1.4617e-04,  3.0391e-03, -1.0629e-02]],\n",
              "              \n",
              "                       [[-1.5055e-02, -1.8430e-02, -2.4967e-02],\n",
              "                        [-8.2179e-03, -1.2933e-02, -2.8821e-02],\n",
              "                        [-8.4248e-03, -1.1978e-02, -3.3401e-02]]],\n",
              "              \n",
              "              \n",
              "                      [[[ 1.0732e-03,  7.1985e-04,  6.5100e-03],\n",
              "                        [ 2.6400e-02,  3.0693e-02,  3.3990e-02],\n",
              "                        [-1.0032e-02,  8.8442e-03,  3.0162e-02]],\n",
              "              \n",
              "                       [[-1.1159e-02,  1.5204e-02,  1.1939e-02],\n",
              "                        [-2.4938e-02, -2.5694e-02, -3.9906e-03],\n",
              "                        [-1.8521e-02, -1.4558e-02, -1.5072e-02]],\n",
              "              \n",
              "                       [[-1.9422e-02, -9.9053e-03, -8.6961e-03],\n",
              "                        [-2.4086e-03, -1.0192e-03,  2.3738e-03],\n",
              "                        [-4.6228e-03, -2.9417e-03,  1.2561e-02]],\n",
              "              \n",
              "                       ...,\n",
              "              \n",
              "                       [[-1.5465e-02,  7.8495e-04, -2.0324e-03],\n",
              "                        [-1.5204e-02, -2.1329e-02, -6.3971e-03],\n",
              "                        [-1.2781e-02, -1.0431e-02, -3.7241e-03]],\n",
              "              \n",
              "                       [[-2.5779e-03, -3.1560e-03, -1.2144e-02],\n",
              "                        [ 9.3643e-03,  9.0391e-03,  1.3661e-02],\n",
              "                        [ 2.3536e-02,  1.7429e-02,  2.2235e-02]],\n",
              "              \n",
              "                       [[-7.6804e-03, -1.3023e-02, -1.5586e-02],\n",
              "                        [-9.3375e-03, -4.0660e-03, -1.1257e-02],\n",
              "                        [-1.5688e-03, -5.4952e-03,  3.6551e-03]]],\n",
              "              \n",
              "              \n",
              "                      [[[-9.8557e-03, -4.2806e-02,  7.2823e-03],\n",
              "                        [-7.6307e-03, -7.6751e-02, -4.4366e-02],\n",
              "                        [ 5.9522e-03, -3.2955e-02, -2.9417e-02]],\n",
              "              \n",
              "                       [[ 1.6167e-02,  4.1419e-02, -7.2758e-03],\n",
              "                        [ 8.3509e-03,  2.0729e-02, -1.5220e-02],\n",
              "                        [ 6.8283e-03,  3.7177e-02, -4.0000e-03]],\n",
              "              \n",
              "                       [[ 6.1198e-03,  6.0188e-03,  7.8722e-03],\n",
              "                        [-9.9990e-04,  7.8125e-04, -1.1379e-03],\n",
              "                        [-6.3192e-03, -7.6441e-03,  6.4422e-03]],\n",
              "              \n",
              "                       ...,\n",
              "              \n",
              "                       [[ 1.9809e-02,  3.8135e-02, -4.0865e-03],\n",
              "                        [ 1.3940e-02,  2.0192e-02, -1.0232e-02],\n",
              "                        [ 9.4751e-03,  3.1120e-02, -5.9197e-03]],\n",
              "              \n",
              "                       [[-1.9910e-02,  2.9055e-03,  1.5222e-02],\n",
              "                        [-2.7349e-02, -1.5550e-02,  9.3427e-03],\n",
              "                        [-2.3164e-02, -2.1313e-02,  4.8128e-03]],\n",
              "              \n",
              "                       [[-2.4563e-03,  8.7158e-03,  1.2033e-02],\n",
              "                        [-2.5987e-02,  1.1254e-03,  9.8825e-03],\n",
              "                        [-2.5374e-02, -7.8287e-04,  3.9356e-03]]],\n",
              "              \n",
              "              \n",
              "                      ...,\n",
              "              \n",
              "              \n",
              "                      [[[-4.0565e-02, -2.6989e-02, -2.4655e-02],\n",
              "                        [-3.7270e-03, -2.6393e-02, -3.5745e-02],\n",
              "                        [ 8.3477e-03,  1.0454e-02, -3.1784e-02]],\n",
              "              \n",
              "                       [[ 7.4311e-03,  1.0678e-02, -1.2752e-02],\n",
              "                        [-2.1858e-02, -5.5932e-03,  8.7020e-03],\n",
              "                        [-1.5494e-02, -1.5976e-02,  3.3819e-02]],\n",
              "              \n",
              "                       [[ 2.1340e-02, -4.2234e-03, -2.5149e-02],\n",
              "                        [-4.5097e-03, -1.8244e-02,  1.3189e-02],\n",
              "                        [-3.6784e-02, -2.2384e-02,  3.2321e-02]],\n",
              "              \n",
              "                       ...,\n",
              "              \n",
              "                       [[ 3.8656e-03,  7.2105e-03,  6.8325e-03],\n",
              "                        [-2.2436e-02, -1.8076e-02,  2.8518e-02],\n",
              "                        [-1.5014e-02, -1.8990e-02,  4.3611e-02]],\n",
              "              \n",
              "                       [[-1.8186e-02, -1.3066e-02,  5.8465e-04],\n",
              "                        [-4.0553e-02, -2.3682e-02,  1.8814e-02],\n",
              "                        [-3.1490e-02, -1.1982e-02,  2.5992e-02]],\n",
              "              \n",
              "                       [[ 2.5752e-02,  1.6162e-02,  1.0531e-02],\n",
              "                        [-1.5234e-03, -1.4483e-02,  2.6806e-02],\n",
              "                        [-1.2037e-02,  1.6919e-03,  1.8990e-02]]],\n",
              "              \n",
              "              \n",
              "                      [[[ 7.2192e-05, -1.4243e-02,  2.7690e-02],\n",
              "                        [-1.5209e-02, -5.1697e-03, -9.0295e-03],\n",
              "                        [-3.3552e-02, -2.0275e-02, -1.6981e-02]],\n",
              "              \n",
              "                       [[-1.1826e-02, -1.5637e-02,  1.5398e-02],\n",
              "                        [-3.6383e-02, -1.4822e-02,  2.5646e-02],\n",
              "                        [-4.6488e-02,  2.8270e-03,  2.2817e-02]],\n",
              "              \n",
              "                       [[-1.6326e-03,  2.7239e-05, -1.9036e-02],\n",
              "                        [-1.6856e-02, -1.0445e-02, -8.2546e-03],\n",
              "                        [-9.0038e-03,  8.9230e-03,  1.2379e-02]],\n",
              "              \n",
              "                       ...,\n",
              "              \n",
              "                       [[-6.2989e-03, -1.3422e-02,  1.1049e-02],\n",
              "                        [-2.7727e-02, -1.8109e-02,  8.0745e-03],\n",
              "                        [-3.8666e-02, -1.2541e-02,  1.6344e-03]],\n",
              "              \n",
              "                       [[ 1.3416e-02,  1.3055e-02,  1.2098e-02],\n",
              "                        [ 3.6799e-03,  7.0675e-03,  1.0197e-02],\n",
              "                        [ 1.9892e-03,  7.2623e-03, -1.2019e-03]],\n",
              "              \n",
              "                       [[ 2.9526e-03,  6.9449e-03,  7.8780e-03],\n",
              "                        [-1.0921e-02, -5.0203e-03, -1.7056e-02],\n",
              "                        [-1.0427e-02, -7.5787e-03,  1.6851e-02]]],\n",
              "              \n",
              "              \n",
              "                      [[[ 1.3189e-02, -7.2385e-02, -3.8302e-02],\n",
              "                        [ 1.8349e-02, -8.1844e-02, -1.8516e-02],\n",
              "                        [ 2.6528e-03, -4.7592e-02, -6.9771e-02]],\n",
              "              \n",
              "                       [[ 5.5103e-02,  5.7512e-03, -5.6805e-02],\n",
              "                        [ 2.6637e-02, -2.4719e-02, -6.4490e-03],\n",
              "                        [-4.0338e-02, -5.5472e-03,  3.0009e-02]],\n",
              "              \n",
              "                       [[-1.1199e-02,  1.3481e-02,  1.1600e-02],\n",
              "                        [-1.7291e-02, -2.6665e-03, -2.8983e-04],\n",
              "                        [ 2.8303e-04, -7.1007e-03, -2.0981e-03]],\n",
              "              \n",
              "                       ...,\n",
              "              \n",
              "                       [[ 4.0335e-02,  1.3746e-03, -3.4446e-02],\n",
              "                        [ 1.8994e-02, -1.5593e-02, -3.1851e-04],\n",
              "                        [-2.0992e-02, -9.3010e-03,  4.6739e-03]],\n",
              "              \n",
              "                       [[ 1.3464e-03, -1.7706e-02,  3.8741e-05],\n",
              "                        [-1.8467e-02,  2.5554e-03,  2.7964e-02],\n",
              "                        [ 4.4317e-03,  2.0184e-02,  2.6800e-03]],\n",
              "              \n",
              "                       [[-1.2446e-02, -1.1399e-02,  4.5260e-02],\n",
              "                        [-7.2726e-03,  1.7621e-02,  1.6376e-02],\n",
              "                        [ 2.3220e-02,  3.8601e-03, -4.7264e-02]]]], device='cuda:0')),\n",
              "             ('backbone.layer2.0.bias',\n",
              "              tensor([ 4.5085e-04,  1.3191e-03, -1.0463e-03, -4.1183e-04,  6.1346e-04,\n",
              "                       9.1184e-04,  1.7035e-03,  1.0612e-03,  6.4075e-05, -1.5091e-03,\n",
              "                      -7.7635e-04, -1.5628e-03,  7.5961e-04,  5.6912e-04, -2.7549e-04,\n",
              "                       1.6178e-03,  1.3528e-03, -7.3852e-04, -1.3790e-03,  4.7096e-04,\n",
              "                      -1.3946e-04, -7.8208e-04, -5.1561e-04, -1.3457e-03, -1.4788e-03,\n",
              "                       1.3908e-03,  2.4246e-04, -1.6988e-03,  1.5738e-03,  1.6633e-03,\n",
              "                      -1.5571e-03,  1.8849e-04,  1.3038e-03, -1.5714e-03, -1.3023e-03,\n",
              "                      -3.6382e-04,  1.9887e-05, -1.6012e-03,  1.5463e-03, -3.8976e-04,\n",
              "                       1.2281e-03, -1.3076e-03,  4.7621e-04, -1.1590e-03,  6.8728e-04,\n",
              "                       1.7066e-03,  9.2287e-04,  4.8366e-04, -7.0819e-04,  4.4647e-04,\n",
              "                       1.8364e-03, -6.3941e-04, -6.9525e-04,  1.2915e-03,  7.7434e-04,\n",
              "                       7.1435e-04, -1.4544e-03, -1.7078e-03,  2.5513e-04,  1.8170e-04,\n",
              "                       7.6337e-04, -9.5886e-04, -2.0655e-04, -4.2752e-05], device='cuda:0')),\n",
              "             ('backbone.layer2.1.weight',\n",
              "              tensor([0.2219, 0.2287, 0.2031, 0.1845, 0.2834, 0.2027, 0.2675, 0.2387, 0.1751,\n",
              "                      0.2875, 0.2531, 0.2263, 0.2409, 0.3046, 0.2123, 0.1911, 0.2141, 0.2306,\n",
              "                      0.2887, 0.2320, 0.1452, 0.2302, 0.2345, 0.2823, 0.2246, 0.2309, 0.2516,\n",
              "                      0.1263, 0.2081, 0.1748, 0.2926, 0.2677, 0.1347, 0.2185, 0.2452, 0.1860,\n",
              "                      0.2800, 0.2623, 0.2439, 0.2028, 0.2228, 0.1999, 0.2442, 0.2253, 0.2737,\n",
              "                      0.2167, 0.2297, 0.1955, 0.2555, 0.2575, 0.2262, 0.2063, 0.2765, 0.2587,\n",
              "                      0.1993, 0.2221, 0.2641, 0.2432, 0.2397, 0.1933, 0.2833, 0.2139, 0.1752,\n",
              "                      0.2280], device='cuda:0')),\n",
              "             ('backbone.layer2.1.bias',\n",
              "              tensor([-0.1164, -0.1549, -0.1322, -0.1245, -0.1564, -0.1560, -0.1829, -0.1491,\n",
              "                      -0.0945, -0.1966, -0.1377, -0.1527, -0.1757, -0.2584, -0.1360, -0.1493,\n",
              "                      -0.0994, -0.0899, -0.2014, -0.1082, -0.0144, -0.1327, -0.1308, -0.1949,\n",
              "                      -0.1173, -0.1317, -0.1279, -0.0480, -0.1262, -0.0819, -0.2035, -0.1087,\n",
              "                      -0.0394, -0.1290, -0.1395, -0.1069, -0.1921, -0.1683, -0.1735, -0.1488,\n",
              "                      -0.1153, -0.0919, -0.1456, -0.1180, -0.1626, -0.1108, -0.1142, -0.1123,\n",
              "                      -0.1098, -0.1610, -0.1184, -0.0829, -0.2012, -0.1670, -0.0669, -0.1053,\n",
              "                      -0.1401, -0.1351, -0.1120, -0.0881, -0.1824, -0.1085, -0.0899, -0.1147],\n",
              "                     device='cuda:0')),\n",
              "             ('backbone.layer2.1.running_mean',\n",
              "              tensor([-0.3472, -0.1786, -0.1105, -0.1228, -0.1511, -0.2638, -0.1398, -0.1309,\n",
              "                      -0.1896, -0.1189, -0.1274, -0.1288, -0.1631, -0.3391, -0.2175,  0.1588,\n",
              "                      -0.1695, -0.1144, -0.2123, -0.1375,  0.2819, -0.1201, -0.1498, -0.1074,\n",
              "                      -0.0930, -0.0824, -0.1544, -0.0975, -0.0542, -0.1697, -0.1094, -0.1350,\n",
              "                       0.0028, -0.0507, -0.1584, -0.1213, -0.1637, -0.1897, -0.1307, -0.1559,\n",
              "                      -0.1758, -0.0941, -0.1489, -0.1827, -0.1309, -0.1612, -0.2051, -0.1306,\n",
              "                      -0.1299, -0.1397, -0.2684, -0.0792, -0.2093, -0.2049, -0.0817, -0.1036,\n",
              "                      -0.0881, -0.1435, -0.0935, -0.0362, -0.1171, -0.0819, -0.1358, -0.0867],\n",
              "                     device='cuda:0')),\n",
              "             ('backbone.layer2.1.running_var',\n",
              "              tensor([0.0508, 0.0232, 0.0175, 0.0208, 0.0335, 0.0311, 0.0211, 0.0261, 0.0303,\n",
              "                      0.0231, 0.0300, 0.0174, 0.0229, 0.0503, 0.0281, 0.0202, 0.0285, 0.0292,\n",
              "                      0.0520, 0.0390, 0.0383, 0.0253, 0.0341, 0.0318, 0.0298, 0.0174, 0.0337,\n",
              "                      0.0187, 0.0204, 0.0305, 0.0177, 0.0405, 0.0157, 0.0189, 0.0333, 0.0185,\n",
              "                      0.0313, 0.0529, 0.0222, 0.0168, 0.0371, 0.0192, 0.0243, 0.0181, 0.0286,\n",
              "                      0.0212, 0.0317, 0.0206, 0.0406, 0.0272, 0.0358, 0.0231, 0.0312, 0.0326,\n",
              "                      0.0241, 0.0335, 0.0170, 0.0250, 0.0247, 0.0162, 0.0251, 0.0173, 0.0212,\n",
              "                      0.0283], device='cuda:0')),\n",
              "             ('backbone.layer2.1.num_batches_tracked',\n",
              "              tensor(200263, device='cuda:0')),\n",
              "             ('backbone.layer3.0.weight',\n",
              "              tensor([[[[-1.0943e-02, -4.5563e-02, -2.9225e-02],\n",
              "                        [ 1.5019e-02, -2.3225e-02, -3.6488e-02],\n",
              "                        [ 3.9974e-03,  2.6589e-02, -4.4834e-03]],\n",
              "              \n",
              "                       [[-1.3269e-02, -1.2506e-02, -1.3184e-02],\n",
              "                        [ 2.8733e-03,  1.2961e-05,  5.6566e-03],\n",
              "                        [-2.0661e-02, -2.5698e-02, -2.5261e-02]],\n",
              "              \n",
              "                       [[-1.3307e-02, -4.9277e-02,  2.8268e-03],\n",
              "                        [-3.3077e-02, -3.8677e-02,  3.4281e-03],\n",
              "                        [-1.9090e-03, -6.8474e-03,  1.8577e-02]],\n",
              "              \n",
              "                       ...,\n",
              "              \n",
              "                       [[ 3.1662e-03,  1.0177e-02, -1.2232e-02],\n",
              "                        [-1.6937e-02, -1.3450e-02,  1.8123e-02],\n",
              "                        [-1.2381e-02, -2.0341e-02,  4.6362e-03]],\n",
              "              \n",
              "                       [[ 6.5213e-03,  3.2144e-02, -4.1340e-03],\n",
              "                        [ 4.8813e-02,  4.5430e-02, -3.5317e-03],\n",
              "                        [-1.0188e-03, -7.7162e-04, -3.3097e-02]],\n",
              "              \n",
              "                       [[ 4.6882e-03, -3.0619e-02, -1.8111e-02],\n",
              "                        [-1.7365e-05, -2.5445e-02, -2.2787e-02],\n",
              "                        [ 3.9560e-02, -1.6073e-02, -3.5916e-02]]],\n",
              "              \n",
              "              \n",
              "                      [[[ 2.9294e-02,  5.0871e-03, -2.6083e-02],\n",
              "                        [-2.6436e-02, -4.6534e-02, -4.1788e-02],\n",
              "                        [-4.5803e-02, -3.3372e-02,  8.0082e-03]],\n",
              "              \n",
              "                       [[-1.8228e-02, -2.5608e-02,  1.9821e-02],\n",
              "                        [-4.8883e-02, -5.2414e-02, -1.7426e-02],\n",
              "                        [ 2.1250e-02, -2.8683e-02, -1.1836e-02]],\n",
              "              \n",
              "                       [[-2.4610e-02,  1.7792e-02,  2.7045e-02],\n",
              "                        [-1.3372e-02, -1.4935e-02, -4.4591e-03],\n",
              "                        [-2.9612e-03, -3.9505e-02, -2.0448e-02]],\n",
              "              \n",
              "                       ...,\n",
              "              \n",
              "                       [[ 2.0401e-02,  4.4625e-03, -4.0772e-02],\n",
              "                        [-4.4711e-03,  1.8889e-02, -5.6140e-02],\n",
              "                        [ 2.4828e-03,  4.5381e-03, -3.7040e-02]],\n",
              "              \n",
              "                       [[-1.0411e-03,  8.1496e-03,  2.8054e-02],\n",
              "                        [-2.0376e-02, -3.2300e-03,  3.5337e-02],\n",
              "                        [-2.3199e-02, -8.8628e-03,  3.7580e-02]],\n",
              "              \n",
              "                       [[ 3.5024e-02, -3.2559e-02,  3.6375e-02],\n",
              "                        [ 4.2942e-02,  3.0058e-02,  2.7788e-02],\n",
              "                        [ 5.4162e-03, -1.7353e-02,  2.1667e-02]]],\n",
              "              \n",
              "              \n",
              "                      [[[-1.7417e-02, -2.5959e-02, -1.9865e-02],\n",
              "                        [ 7.5619e-03,  2.7055e-03,  1.8941e-02],\n",
              "                        [ 3.8153e-02,  9.8581e-03,  1.0265e-02]],\n",
              "              \n",
              "                       [[-2.1852e-02, -3.1197e-04,  3.5133e-02],\n",
              "                        [-1.8977e-02,  1.5556e-02,  1.4875e-02],\n",
              "                        [ 1.0671e-02,  3.5536e-02,  2.0445e-02]],\n",
              "              \n",
              "                       [[-3.6567e-02, -2.1546e-02, -2.3891e-02],\n",
              "                        [-4.2442e-02, -2.3354e-02, -3.4546e-02],\n",
              "                        [ 8.4042e-03,  1.2879e-02, -7.3403e-03]],\n",
              "              \n",
              "                       ...,\n",
              "              \n",
              "                       [[ 2.5721e-02,  3.1631e-03, -2.1569e-02],\n",
              "                        [ 3.1473e-02,  5.6739e-03, -3.4774e-02],\n",
              "                        [ 3.1472e-02, -1.2756e-02, -1.9329e-02]],\n",
              "              \n",
              "                       [[ 1.1891e-02,  1.5321e-02,  9.1582e-03],\n",
              "                        [ 1.5196e-02,  1.4624e-02, -2.0507e-03],\n",
              "                        [-3.2209e-02, -3.0226e-02, -1.4992e-02]],\n",
              "              \n",
              "                       [[ 2.1786e-03,  1.0360e-02, -8.0501e-03],\n",
              "                        [ 4.3059e-03, -2.4918e-03,  2.6072e-02],\n",
              "                        [-3.5182e-02,  2.4064e-02,  3.1869e-02]]],\n",
              "              \n",
              "              \n",
              "                      ...,\n",
              "              \n",
              "              \n",
              "                      [[[ 3.9417e-03,  6.6932e-03,  2.3281e-02],\n",
              "                        [-2.5815e-02, -3.7055e-02,  1.0296e-02],\n",
              "                        [-4.8396e-03, -4.8865e-03, -3.6804e-02]],\n",
              "              \n",
              "                       [[ 1.1600e-02, -4.6759e-02, -1.7015e-02],\n",
              "                        [-1.8877e-02, -4.9728e-02,  3.4164e-03],\n",
              "                        [-3.0990e-02, -2.2721e-02,  2.6995e-02]],\n",
              "              \n",
              "                       [[ 4.6694e-02, -7.6559e-03, -1.4666e-02],\n",
              "                        [ 1.0857e-02, -2.9253e-02, -2.7470e-02],\n",
              "                        [-4.0059e-02, -3.7883e-02, -2.0721e-02]],\n",
              "              \n",
              "                       ...,\n",
              "              \n",
              "                       [[ 2.1355e-02,  2.0229e-02,  4.6144e-03],\n",
              "                        [ 1.0174e-02,  1.4213e-02,  2.0195e-02],\n",
              "                        [ 4.3614e-03,  1.7630e-02, -2.1146e-03]],\n",
              "              \n",
              "                       [[-3.5258e-02,  1.9100e-03,  3.8295e-02],\n",
              "                        [ 2.5337e-02, -6.0294e-03, -3.9376e-02],\n",
              "                        [ 4.5293e-02,  1.3522e-02, -4.3549e-02]],\n",
              "              \n",
              "                       [[-7.2335e-03,  1.8661e-02,  4.7298e-02],\n",
              "                        [-1.3640e-02, -1.3479e-03, -1.7900e-02],\n",
              "                        [ 4.7195e-02, -4.5451e-03, -3.6692e-02]]],\n",
              "              \n",
              "              \n",
              "                      [[[-1.1583e-02,  3.6296e-02,  2.4459e-02],\n",
              "                        [-5.5661e-02,  6.4738e-03,  1.3275e-02],\n",
              "                        [-5.4974e-02, -2.5598e-02,  2.0331e-02]],\n",
              "              \n",
              "                       [[-1.7928e-03,  5.3235e-03,  5.7187e-03],\n",
              "                        [ 1.9531e-03, -2.2268e-02,  6.4217e-03],\n",
              "                        [-1.8261e-03, -1.8728e-02, -2.8836e-04]],\n",
              "              \n",
              "                       [[-3.4545e-03,  2.0401e-02,  1.4525e-02],\n",
              "                        [-3.8056e-02, -1.6283e-02, -3.6815e-03],\n",
              "                        [-1.9716e-02, -1.4379e-02, -1.1378e-02]],\n",
              "              \n",
              "                       ...,\n",
              "              \n",
              "                       [[ 2.8529e-03, -3.0495e-02, -6.1370e-03],\n",
              "                        [-1.4443e-02, -1.5901e-02,  5.2598e-03],\n",
              "                        [ 5.4503e-03,  7.8794e-03,  8.2902e-03]],\n",
              "              \n",
              "                       [[-1.1659e-02,  3.2904e-03, -2.4484e-03],\n",
              "                        [-2.0660e-02, -3.9905e-03, -1.1886e-02],\n",
              "                        [-1.0228e-02,  1.9514e-03, -1.7027e-02]],\n",
              "              \n",
              "                       [[-1.2614e-02, -3.3158e-02, -1.2060e-02],\n",
              "                        [-8.3411e-03, -1.1638e-02, -2.2146e-02],\n",
              "                        [-5.0389e-03, -1.2993e-02, -2.9713e-02]]],\n",
              "              \n",
              "              \n",
              "                      [[[-3.4195e-02, -4.4339e-02, -3.6439e-02],\n",
              "                        [ 7.0863e-04,  1.1062e-02,  6.0681e-03],\n",
              "                        [-7.0650e-03,  1.6293e-02,  1.5333e-02]],\n",
              "              \n",
              "                       [[ 3.7340e-02,  2.5499e-02, -3.6556e-03],\n",
              "                        [-8.6038e-03, -3.0547e-02, -3.7454e-02],\n",
              "                        [-1.7399e-02, -3.6386e-02, -3.3024e-02]],\n",
              "              \n",
              "                       [[-1.1944e-02, -3.2320e-02, -1.4155e-02],\n",
              "                        [-4.0989e-04, -3.5051e-02, -8.2619e-03],\n",
              "                        [ 8.2427e-05, -3.0294e-02, -1.3755e-02]],\n",
              "              \n",
              "                       ...,\n",
              "              \n",
              "                       [[-3.8695e-03, -1.3996e-02,  1.1684e-02],\n",
              "                        [-8.2672e-03, -5.5604e-04,  1.8979e-02],\n",
              "                        [-2.0438e-02, -3.3869e-03,  1.1570e-02]],\n",
              "              \n",
              "                       [[ 7.6860e-03,  2.2647e-02,  1.2930e-03],\n",
              "                        [ 1.0331e-02,  2.3137e-02, -4.2018e-03],\n",
              "                        [-1.5514e-02, -1.3775e-02, -2.8070e-03]],\n",
              "              \n",
              "                       [[ 2.1066e-02, -2.2915e-02, -2.6119e-02],\n",
              "                        [-6.5721e-03, -1.0327e-02, -2.0642e-02],\n",
              "                        [ 7.9869e-04, -1.3358e-02, -3.2617e-02]]]], device='cuda:0')),\n",
              "             ('backbone.layer3.0.bias',\n",
              "              tensor([ 6.6640e-04, -7.5374e-04,  1.7094e-03, -1.0166e-03,  1.5268e-03,\n",
              "                       1.4583e-03, -1.4494e-04, -6.4202e-04,  6.7665e-04,  4.5679e-04,\n",
              "                       8.3858e-04, -1.6606e-03, -1.4269e-03, -9.7900e-04,  1.7233e-03,\n",
              "                      -1.2138e-03, -6.9224e-04,  1.7453e-03, -1.2203e-03, -3.0090e-05,\n",
              "                       2.2976e-04,  1.0510e-03,  7.9849e-04, -6.6839e-04, -1.2926e-03,\n",
              "                      -1.0555e-03, -1.4372e-04, -2.1235e-04,  8.2377e-04,  1.7866e-03,\n",
              "                      -5.8135e-04,  6.8725e-04, -3.1100e-04, -7.1653e-04, -1.7652e-03,\n",
              "                       1.6464e-03,  7.1864e-04,  1.6040e-03,  4.2020e-04, -1.3532e-03,\n",
              "                       1.5030e-03, -1.2432e-04,  7.2834e-04,  1.1360e-03, -9.3552e-04,\n",
              "                       1.2467e-03, -1.3786e-03, -1.7768e-05, -2.3392e-04,  4.9201e-04,\n",
              "                       1.2956e-03,  1.4540e-03,  1.4697e-03, -2.9987e-04,  1.4641e-03,\n",
              "                       9.9192e-04,  1.8268e-03, -1.2652e-03, -1.1852e-03,  6.4196e-04,\n",
              "                      -1.7842e-03,  3.7277e-04,  7.2172e-04, -1.4086e-03], device='cuda:0')),\n",
              "             ('backbone.layer3.1.weight',\n",
              "              tensor([0.2418, 0.2310, 0.2189, 0.1901, 0.2203, 0.1714, 0.2121, 0.2127, 0.2437,\n",
              "                      0.2416, 0.2485, 0.1930, 0.2598, 0.1990, 0.2019, 0.2419, 0.2605, 0.2613,\n",
              "                      0.1892, 0.2582, 0.2407, 0.2564, 0.2120, 0.2395, 0.2054, 0.2053, 0.2622,\n",
              "                      0.2548, 0.2362, 0.2431, 0.2245, 0.2114, 0.2851, 0.1906, 0.2649, 0.1024,\n",
              "                      0.2385, 0.1774, 0.2678, 0.2587, 0.2330, 0.1781, 0.2294, 0.2689, 0.2228,\n",
              "                      0.2591, 0.2895, 0.2930, 0.2654, 0.2591, 0.1797, 0.2362, 0.2036, 0.2654,\n",
              "                      0.2104, 0.3030, 0.2129, 0.2492, 0.2098, 0.2600, 0.2291, 0.2953, 0.2422,\n",
              "                      0.2037], device='cuda:0')),\n",
              "             ('backbone.layer3.1.bias',\n",
              "              tensor([-0.1290, -0.1374, -0.1566, -0.0823, -0.1570, -0.0908, -0.0824, -0.1286,\n",
              "                      -0.1962, -0.1318, -0.1088, -0.1023, -0.1866, -0.1006, -0.0962, -0.1366,\n",
              "                      -0.1474, -0.1467, -0.0606, -0.1743, -0.1251, -0.1612, -0.1457, -0.1693,\n",
              "                      -0.1251, -0.1519, -0.1901, -0.1430, -0.1849, -0.1283, -0.0981, -0.1207,\n",
              "                      -0.2335, -0.0900, -0.1632,  0.0203, -0.1944, -0.0709, -0.1788, -0.2066,\n",
              "                      -0.1200, -0.0714, -0.1300, -0.1393, -0.1516, -0.1652, -0.2087, -0.2245,\n",
              "                      -0.1694, -0.1497, -0.1011, -0.1453, -0.1132, -0.1771, -0.0952, -0.2556,\n",
              "                      -0.1208, -0.1690, -0.1025, -0.2148, -0.1043, -0.1742, -0.1277, -0.1150],\n",
              "                     device='cuda:0')),\n",
              "             ('backbone.layer3.1.running_mean',\n",
              "              tensor([-0.1065, -0.0500, -0.0501, -0.1245, -0.1592, -0.0785, -0.0922, -0.0685,\n",
              "                      -0.1379, -0.1356, -0.0657, -0.1291, -0.0719, -0.0505, -0.1365, -0.1077,\n",
              "                      -0.0754, -0.1168, -0.0335, -0.1148, -0.0805, -0.1165, -0.1768, -0.0679,\n",
              "                      -0.0968, -0.0882, -0.0753, -0.1014, -0.1398, -0.1430, -0.0789, -0.0670,\n",
              "                      -0.1443, -0.0322, -0.0484,  0.1256, -0.1238, -0.0604, -0.1307, -0.0893,\n",
              "                      -0.1464, -0.1147, -0.1087, -0.0603, -0.1310, -0.1003, -0.1315, -0.1189,\n",
              "                      -0.1158, -0.1264, -0.0280, -0.0978, -0.0635, -0.1568, -0.0534, -0.1575,\n",
              "                      -0.0926, -0.1211, -0.1227, -0.1751, -0.1078, -0.0907, -0.0833, -0.1840],\n",
              "                     device='cuda:0')),\n",
              "             ('backbone.layer3.1.running_var',\n",
              "              tensor([0.0107, 0.0073, 0.0080, 0.0109, 0.0096, 0.0095, 0.0081, 0.0104, 0.0132,\n",
              "                      0.0136, 0.0155, 0.0093, 0.0172, 0.0098, 0.0084, 0.0131, 0.0106, 0.0167,\n",
              "                      0.0089, 0.0125, 0.0132, 0.0133, 0.0119, 0.0092, 0.0071, 0.0059, 0.0124,\n",
              "                      0.0105, 0.0085, 0.0097, 0.0087, 0.0095, 0.0135, 0.0075, 0.0120, 0.0077,\n",
              "                      0.0141, 0.0101, 0.0220, 0.0070, 0.0101, 0.0079, 0.0105, 0.0135, 0.0091,\n",
              "                      0.0134, 0.0121, 0.0148, 0.0143, 0.0124, 0.0086, 0.0092, 0.0082, 0.0140,\n",
              "                      0.0076, 0.0176, 0.0099, 0.0102, 0.0102, 0.0121, 0.0110, 0.0087, 0.0118,\n",
              "                      0.0123], device='cuda:0')),\n",
              "             ('backbone.layer3.1.num_batches_tracked',\n",
              "              tensor(200263, device='cuda:0')),\n",
              "             ('backbone.layer4.0.weight',\n",
              "              tensor([[[[-0.0114, -0.0199,  0.0374],\n",
              "                        [-0.0210, -0.0101,  0.0179],\n",
              "                        [-0.0265, -0.0065,  0.0108]],\n",
              "              \n",
              "                       [[-0.0157, -0.0210, -0.0207],\n",
              "                        [ 0.0186, -0.0269, -0.0122],\n",
              "                        [ 0.0120, -0.0233, -0.0087]],\n",
              "              \n",
              "                       [[-0.0470, -0.0146,  0.0334],\n",
              "                        [-0.0127, -0.0050,  0.0326],\n",
              "                        [ 0.0029, -0.0076,  0.0076]],\n",
              "              \n",
              "                       ...,\n",
              "              \n",
              "                       [[-0.0215,  0.0215,  0.0060],\n",
              "                        [-0.0340,  0.0169,  0.0467],\n",
              "                        [-0.0279, -0.0361, -0.0035]],\n",
              "              \n",
              "                       [[-0.0007, -0.0284, -0.0286],\n",
              "                        [-0.0074, -0.0237, -0.0341],\n",
              "                        [-0.0223, -0.0344, -0.0384]],\n",
              "              \n",
              "                       [[ 0.0406,  0.0206, -0.0381],\n",
              "                        [ 0.0120,  0.0202, -0.0201],\n",
              "                        [ 0.0116,  0.0295,  0.0050]]],\n",
              "              \n",
              "              \n",
              "                      [[[-0.0099,  0.0203,  0.0657],\n",
              "                        [-0.0099, -0.0378,  0.0226],\n",
              "                        [-0.0008, -0.0261, -0.0269]],\n",
              "              \n",
              "                       [[-0.0470, -0.0240, -0.0450],\n",
              "                        [-0.0429, -0.0177, -0.0352],\n",
              "                        [-0.0022,  0.0121, -0.0116]],\n",
              "              \n",
              "                       [[-0.0089,  0.0295,  0.0066],\n",
              "                        [-0.0250,  0.0197,  0.0068],\n",
              "                        [ 0.0096,  0.0357, -0.0053]],\n",
              "              \n",
              "                       ...,\n",
              "              \n",
              "                       [[ 0.0381, -0.0102, -0.0409],\n",
              "                        [ 0.0326,  0.0321, -0.0163],\n",
              "                        [-0.0198,  0.0525,  0.0557]],\n",
              "              \n",
              "                       [[-0.0125,  0.0096,  0.0119],\n",
              "                        [-0.0071,  0.0118,  0.0056],\n",
              "                        [-0.0513, -0.0106, -0.0469]],\n",
              "              \n",
              "                       [[-0.0107, -0.0079, -0.0423],\n",
              "                        [ 0.0035,  0.0161, -0.0111],\n",
              "                        [ 0.0035,  0.0169, -0.0142]]],\n",
              "              \n",
              "              \n",
              "                      [[[-0.0077,  0.0002,  0.0009],\n",
              "                        [-0.0181, -0.0177, -0.0214],\n",
              "                        [-0.0127, -0.0387, -0.0148]],\n",
              "              \n",
              "                       [[ 0.0186,  0.0285,  0.0315],\n",
              "                        [ 0.0238,  0.0332,  0.0272],\n",
              "                        [-0.0005,  0.0031,  0.0065]],\n",
              "              \n",
              "                       [[-0.0149, -0.0318, -0.0284],\n",
              "                        [-0.0189, -0.0174, -0.0033],\n",
              "                        [-0.0212,  0.0073, -0.0210]],\n",
              "              \n",
              "                       ...,\n",
              "              \n",
              "                       [[-0.0320, -0.0289, -0.0152],\n",
              "                        [-0.0227, -0.0162,  0.0131],\n",
              "                        [-0.0059, -0.0196,  0.0268]],\n",
              "              \n",
              "                       [[-0.0103, -0.0030,  0.0019],\n",
              "                        [ 0.0019, -0.0019, -0.0075],\n",
              "                        [-0.0136,  0.0087,  0.0066]],\n",
              "              \n",
              "                       [[-0.0299, -0.0169, -0.0129],\n",
              "                        [-0.0393, -0.0137, -0.0053],\n",
              "                        [-0.0229, -0.0018,  0.0067]]],\n",
              "              \n",
              "              \n",
              "                      ...,\n",
              "              \n",
              "              \n",
              "                      [[[ 0.0353,  0.0740,  0.0411],\n",
              "                        [-0.0274,  0.0064,  0.0313],\n",
              "                        [-0.0113, -0.0247,  0.0069]],\n",
              "              \n",
              "                       [[-0.0448, -0.0521, -0.0383],\n",
              "                        [-0.0351, -0.0550, -0.0752],\n",
              "                        [-0.0215, -0.0168, -0.0578]],\n",
              "              \n",
              "                       [[ 0.0266,  0.0309, -0.0394],\n",
              "                        [ 0.0020,  0.0140, -0.0269],\n",
              "                        [ 0.0177,  0.0181, -0.0230]],\n",
              "              \n",
              "                       ...,\n",
              "              \n",
              "                       [[-0.0027, -0.0356, -0.0493],\n",
              "                        [-0.0090, -0.0286, -0.0409],\n",
              "                        [-0.0336, -0.0370, -0.0205]],\n",
              "              \n",
              "                       [[ 0.0102,  0.0123,  0.0035],\n",
              "                        [ 0.0012,  0.0124,  0.0072],\n",
              "                        [-0.0099, -0.0046, -0.0173]],\n",
              "              \n",
              "                       [[-0.0027,  0.0182,  0.0229],\n",
              "                        [-0.0118,  0.0059,  0.0359],\n",
              "                        [ 0.0288,  0.0049,  0.0223]]],\n",
              "              \n",
              "              \n",
              "                      [[[ 0.0593, -0.0096, -0.0308],\n",
              "                        [ 0.0401, -0.0006, -0.0527],\n",
              "                        [ 0.0329, -0.0046, -0.0557]],\n",
              "              \n",
              "                       [[-0.0121, -0.0164, -0.0116],\n",
              "                        [ 0.0292, -0.0282, -0.0092],\n",
              "                        [ 0.0440, -0.0133, -0.0157]],\n",
              "              \n",
              "                       [[-0.0636, -0.0518, -0.0279],\n",
              "                        [-0.0417, -0.0228, -0.0200],\n",
              "                        [-0.0234, -0.0190, -0.0185]],\n",
              "              \n",
              "                       ...,\n",
              "              \n",
              "                       [[-0.0331, -0.0154,  0.0022],\n",
              "                        [-0.0189, -0.0013,  0.0475],\n",
              "                        [-0.0267, -0.0541,  0.0147]],\n",
              "              \n",
              "                       [[ 0.0115,  0.0113, -0.0193],\n",
              "                        [-0.0089,  0.0184, -0.0027],\n",
              "                        [-0.0262,  0.0052, -0.0198]],\n",
              "              \n",
              "                       [[ 0.0112, -0.0023,  0.0323],\n",
              "                        [-0.0214, -0.0187,  0.0065],\n",
              "                        [-0.0139, -0.0123,  0.0066]]],\n",
              "              \n",
              "              \n",
              "                      [[[ 0.0415, -0.0160, -0.0078],\n",
              "                        [ 0.0216, -0.0066,  0.0066],\n",
              "                        [ 0.0021, -0.0181, -0.0072]],\n",
              "              \n",
              "                       [[ 0.0010,  0.0021,  0.0198],\n",
              "                        [ 0.0046, -0.0167, -0.0080],\n",
              "                        [ 0.0286,  0.0344,  0.0093]],\n",
              "              \n",
              "                       [[-0.0266, -0.0068,  0.0139],\n",
              "                        [-0.0277, -0.0084,  0.0276],\n",
              "                        [ 0.0132,  0.0249,  0.0311]],\n",
              "              \n",
              "                       ...,\n",
              "              \n",
              "                       [[-0.0053,  0.0095,  0.0046],\n",
              "                        [ 0.0297,  0.0240, -0.0068],\n",
              "                        [ 0.0271,  0.0136, -0.0389]],\n",
              "              \n",
              "                       [[-0.0098,  0.0023,  0.0044],\n",
              "                        [-0.0136, -0.0017,  0.0190],\n",
              "                        [-0.0158, -0.0276, -0.0340]],\n",
              "              \n",
              "                       [[-0.0288, -0.0216, -0.0165],\n",
              "                        [-0.0223, -0.0139, -0.0163],\n",
              "                        [-0.0097,  0.0075,  0.0038]]]], device='cuda:0')),\n",
              "             ('backbone.layer4.0.bias',\n",
              "              tensor([-9.9586e-04, -1.3732e-03,  1.5664e-04, -1.4387e-03, -1.2570e-03,\n",
              "                      -4.1986e-04,  6.3099e-05, -1.0946e-03,  1.3933e-03, -8.6691e-05,\n",
              "                       5.6911e-04, -1.7558e-03,  1.2553e-03,  1.5468e-03,  8.7331e-04,\n",
              "                       9.2463e-04,  1.3358e-03,  7.9413e-04,  1.7449e-03, -1.2364e-03,\n",
              "                      -1.2437e-03,  1.9786e-04, -7.9056e-04,  1.6507e-03, -9.0559e-04,\n",
              "                       1.5353e-03,  2.4843e-05, -1.5524e-03, -1.6692e-03,  6.3887e-04,\n",
              "                      -1.6274e-03,  2.5234e-04, -1.4101e-04, -8.4533e-04,  1.6617e-03,\n",
              "                      -4.6733e-04, -1.4367e-03,  4.2120e-04,  3.2749e-04, -7.9963e-04,\n",
              "                       1.6863e-03, -9.8238e-04, -9.3768e-04,  9.5868e-04, -1.0418e-03,\n",
              "                      -1.8048e-03, -1.3883e-04, -1.5537e-03,  8.7494e-04, -9.5052e-04,\n",
              "                       9.8183e-04,  1.5392e-03, -1.7004e-03,  1.0610e-03, -5.0418e-04,\n",
              "                      -3.9095e-04, -4.6608e-04, -1.4691e-04, -1.5560e-03, -1.0294e-03,\n",
              "                       1.0872e-03, -5.7236e-04,  1.7300e-03, -5.3348e-05], device='cuda:0')),\n",
              "             ('backbone.layer4.1.weight',\n",
              "              tensor([0.1934, 0.2477, 0.1843, 0.2156, 0.1736, 0.1265, 0.2446, 0.2323, 0.2202,\n",
              "                      0.2351, 0.2299, 0.1951, 0.1760, 0.1897, 0.2123, 0.2461, 0.2823, 0.1901,\n",
              "                      0.1947, 0.1479, 0.2286, 0.2028, 0.1894, 0.1409, 0.1688, 0.2563, 0.1687,\n",
              "                      0.2475, 0.1983, 0.2214, 0.2008, 0.2723, 0.1483, 0.2089, 0.3451, 0.1695,\n",
              "                      0.1449, 0.2745, 0.2229, 0.1923, 0.2122, 0.1936, 0.2022, 0.2126, 0.1642,\n",
              "                      0.2555, 0.2005, 0.1843, 0.2273, 0.2550, 0.2076, 0.2052, 0.1616, 0.2283,\n",
              "                      0.2361, 0.2133, 0.1702, 0.2885, 0.1893, 0.1976, 0.2360, 0.2357, 0.2010,\n",
              "                      0.2248], device='cuda:0')),\n",
              "             ('backbone.layer4.1.bias',\n",
              "              tensor([-0.1311, -0.1561, -0.1104, -0.1609, -0.1530, -0.0828, -0.1522, -0.1441,\n",
              "                      -0.1350, -0.1713, -0.1424, -0.1154, -0.0553, -0.0944, -0.1371, -0.1695,\n",
              "                      -0.2211, -0.1243, -0.1182, -0.0608, -0.1063, -0.1189, -0.0905, -0.0858,\n",
              "                      -0.0918, -0.2018, -0.1121, -0.1828, -0.1239, -0.1230, -0.1048, -0.1555,\n",
              "                      -0.0501, -0.1522, -0.2690, -0.0855, -0.0818, -0.2297, -0.1530, -0.0861,\n",
              "                      -0.1609, -0.0947, -0.1085, -0.1545, -0.0959, -0.1952, -0.1040, -0.0947,\n",
              "                      -0.1279, -0.2147, -0.1099, -0.1259, -0.1171, -0.1621, -0.1710, -0.1570,\n",
              "                      -0.1232, -0.2390, -0.1342, -0.1193, -0.1565, -0.1849, -0.1144, -0.1224],\n",
              "                     device='cuda:0')),\n",
              "             ('backbone.layer4.1.running_mean',\n",
              "              tensor([-0.0434, -0.0973, -0.0270, -0.0438, -0.0229, -0.0169, -0.0533, -0.1067,\n",
              "                      -0.0796, -0.0625, -0.0675, -0.0695, -0.0637, -0.0449, -0.0478, -0.1401,\n",
              "                      -0.0876, -0.0639, -0.0393, -0.0358, -0.0592, -0.0596, -0.0899, -0.1028,\n",
              "                      -0.0535, -0.0357, -0.0388, -0.0620, -0.0507, -0.0610, -0.0665, -0.1275,\n",
              "                      -0.0494, -0.0654, -0.0831, -0.0470, -0.0153, -0.0986, -0.0402, -0.0717,\n",
              "                      -0.0369, -0.0182, -0.0214, -0.0630, -0.0447, -0.0886, -0.1175, -0.0667,\n",
              "                      -0.1109, -0.0575, -0.0682, -0.0666, -0.0553, -0.1416, -0.0839, -0.0609,\n",
              "                      -0.0085, -0.0741, -0.0251, -0.0302, -0.0298, -0.0757, -0.0363, -0.0713],\n",
              "                     device='cuda:0')),\n",
              "             ('backbone.layer4.1.running_var',\n",
              "              tensor([0.0038, 0.0035, 0.0033, 0.0053, 0.0031, 0.0018, 0.0058, 0.0042, 0.0044,\n",
              "                      0.0034, 0.0031, 0.0037, 0.0043, 0.0031, 0.0034, 0.0056, 0.0046, 0.0025,\n",
              "                      0.0038, 0.0020, 0.0030, 0.0040, 0.0030, 0.0033, 0.0022, 0.0053, 0.0034,\n",
              "                      0.0064, 0.0038, 0.0067, 0.0024, 0.0045, 0.0027, 0.0031, 0.0067, 0.0034,\n",
              "                      0.0037, 0.0050, 0.0052, 0.0030, 0.0031, 0.0042, 0.0058, 0.0029, 0.0024,\n",
              "                      0.0038, 0.0062, 0.0050, 0.0030, 0.0055, 0.0028, 0.0030, 0.0033, 0.0037,\n",
              "                      0.0042, 0.0026, 0.0034, 0.0045, 0.0041, 0.0031, 0.0027, 0.0042, 0.0041,\n",
              "                      0.0035], device='cuda:0')),\n",
              "             ('backbone.layer4.1.num_batches_tracked',\n",
              "              tensor(200263, device='cuda:0')),\n",
              "             ('relation_module.0.0.weight',\n",
              "              tensor([[[[ 4.7878e-03,  6.2422e-03,  7.1167e-03],\n",
              "                        [ 1.3649e-02,  1.1592e-02,  3.3047e-05],\n",
              "                        [ 3.0047e-02,  1.6144e-02,  4.8676e-03]],\n",
              "              \n",
              "                       [[-6.4444e-03, -9.4831e-03,  3.0448e-03],\n",
              "                        [-5.0921e-03, -2.6838e-03,  1.5669e-02],\n",
              "                        [ 6.9761e-03,  8.2916e-03,  2.0909e-02]],\n",
              "              \n",
              "                       [[ 4.6683e-03, -9.1568e-03, -4.9355e-03],\n",
              "                        [ 1.5348e-02, -5.9781e-04,  7.4289e-03],\n",
              "                        [-6.1788e-04,  2.6831e-03,  2.1624e-02]],\n",
              "              \n",
              "                       ...,\n",
              "              \n",
              "                       [[ 8.8461e-03, -8.3610e-03, -1.8228e-02],\n",
              "                        [ 3.1966e-03, -1.0199e-02, -6.9531e-03],\n",
              "                        [-1.5673e-02, -2.0769e-02, -2.3674e-02]],\n",
              "              \n",
              "                       [[ 7.6845e-04, -2.0265e-02, -1.9686e-02],\n",
              "                        [ 1.7190e-03, -7.6265e-03, -9.3957e-03],\n",
              "                        [ 1.0083e-02, -8.7137e-03,  6.6347e-03]],\n",
              "              \n",
              "                       [[ 1.9554e-02,  2.4201e-02,  1.6249e-02],\n",
              "                        [-5.3762e-04, -6.8766e-03, -2.3102e-02],\n",
              "                        [-6.9364e-03, -2.0610e-02, -2.0302e-02]]],\n",
              "              \n",
              "              \n",
              "                      [[[ 3.9533e-03,  7.7241e-03,  6.8770e-03],\n",
              "                        [ 6.6971e-03,  7.6147e-03,  1.0538e-02],\n",
              "                        [ 1.2951e-02,  1.1865e-02,  8.7942e-03]],\n",
              "              \n",
              "                       [[-2.3249e-02, -2.4997e-02, -3.3721e-02],\n",
              "                        [-1.0404e-02, -6.7714e-03, -1.3117e-02],\n",
              "                        [-1.2797e-02, -5.2210e-03, -9.1887e-03]],\n",
              "              \n",
              "                       [[ 3.0699e-03,  4.5874e-04, -1.1509e-02],\n",
              "                        [ 1.5896e-02,  8.7383e-03,  3.7477e-04],\n",
              "                        [ 2.5344e-02,  1.9847e-02,  2.2036e-02]],\n",
              "              \n",
              "                       ...,\n",
              "              \n",
              "                       [[ 5.2659e-03,  3.3417e-03, -1.3152e-03],\n",
              "                        [-4.4575e-04, -4.2645e-03, -1.2209e-02],\n",
              "                        [ 7.2466e-03,  3.6166e-03, -6.7499e-03]],\n",
              "              \n",
              "                       [[ 4.2086e-03, -1.1693e-03, -6.2021e-03],\n",
              "                        [ 7.5982e-03,  1.4282e-02, -7.7158e-03],\n",
              "                        [ 3.9598e-03,  9.7210e-03, -9.1608e-03]],\n",
              "              \n",
              "                       [[-2.1552e-02, -1.5038e-02, -2.1852e-02],\n",
              "                        [-1.5315e-02, -8.3270e-03, -1.0868e-02],\n",
              "                        [-1.2000e-02, -1.3211e-02, -1.5249e-02]]],\n",
              "              \n",
              "              \n",
              "                      [[[ 6.6796e-03,  2.9267e-04,  8.1070e-03],\n",
              "                        [ 1.2607e-02,  5.7978e-03,  4.5487e-03],\n",
              "                        [ 1.9943e-02,  1.1860e-02,  4.7104e-03]],\n",
              "              \n",
              "                       [[ 3.0721e-02,  2.8098e-02,  8.7989e-03],\n",
              "                        [ 9.7794e-03,  2.0976e-02,  9.4951e-03],\n",
              "                        [ 2.8231e-02,  2.3995e-02,  2.0591e-02]],\n",
              "              \n",
              "                       [[ 1.7743e-03, -6.8731e-03, -3.0242e-03],\n",
              "                        [ 1.0822e-02,  3.1919e-03,  1.1546e-02],\n",
              "                        [ 4.0283e-03,  2.5537e-03,  6.8833e-03]],\n",
              "              \n",
              "                       ...,\n",
              "              \n",
              "                       [[-1.4844e-02,  2.4619e-02,  5.7028e-03],\n",
              "                        [-3.2018e-02, -1.1532e-02, -2.3146e-02],\n",
              "                        [-2.2395e-02, -1.7186e-02, -1.8959e-02]],\n",
              "              \n",
              "                       [[ 2.4137e-02,  2.3072e-02, -4.1510e-04],\n",
              "                        [-1.1943e-03,  6.4751e-03,  9.8481e-03],\n",
              "                        [ 1.8091e-02,  2.7649e-02,  3.5823e-02]],\n",
              "              \n",
              "                       [[ 1.1801e-02, -8.2674e-03,  4.3198e-02],\n",
              "                        [-1.5014e-02, -2.3566e-02,  3.1015e-02],\n",
              "                        [-3.3911e-03,  6.1638e-03,  3.9854e-02]]],\n",
              "              \n",
              "              \n",
              "                      ...,\n",
              "              \n",
              "              \n",
              "                      [[[-3.2614e-02, -1.9305e-02, -2.6120e-02],\n",
              "                        [-4.5678e-02, -3.1265e-02, -3.5379e-02],\n",
              "                        [-3.0417e-02, -2.0898e-02, -2.8875e-02]],\n",
              "              \n",
              "                       [[-1.4692e-02, -2.1727e-03, -2.2989e-03],\n",
              "                        [-8.4897e-03, -2.6911e-03,  2.5984e-03],\n",
              "                        [-1.5295e-02, -2.1694e-02, -2.2246e-02]],\n",
              "              \n",
              "                       [[-1.2370e-02, -1.6673e-02, -3.8244e-02],\n",
              "                        [-1.5130e-02, -2.0822e-02, -3.7433e-02],\n",
              "                        [-1.7027e-02, -1.9512e-02, -2.9696e-02]],\n",
              "              \n",
              "                       ...,\n",
              "              \n",
              "                       [[-6.0764e-03, -1.2042e-02, -1.0970e-02],\n",
              "                        [ 1.8579e-03, -3.2064e-03, -6.4500e-03],\n",
              "                        [-1.5745e-02, -2.5113e-02, -2.1634e-02]],\n",
              "              \n",
              "                       [[-4.2290e-02, -2.8201e-02, -2.4858e-02],\n",
              "                        [-3.3414e-02, -2.1196e-02, -1.5198e-02],\n",
              "                        [-2.0392e-02, -1.7404e-02, -1.4372e-02]],\n",
              "              \n",
              "                       [[-2.7810e-02, -2.0817e-02, -2.2070e-02],\n",
              "                        [-4.7762e-02, -3.5920e-02, -3.1699e-02],\n",
              "                        [-4.0353e-02, -2.6345e-02, -2.2009e-02]]],\n",
              "              \n",
              "              \n",
              "                      [[[ 2.9618e-02,  1.4357e-02,  1.6845e-02],\n",
              "                        [ 3.8185e-02,  2.3703e-02,  1.5655e-02],\n",
              "                        [ 2.4471e-02,  2.2799e-02,  1.4206e-02]],\n",
              "              \n",
              "                       [[-7.4180e-03, -7.3958e-03,  3.5337e-03],\n",
              "                        [ 5.8961e-03, -5.5695e-03,  4.1161e-03],\n",
              "                        [ 5.6608e-03, -1.7196e-04, -1.0652e-03]],\n",
              "              \n",
              "                       [[ 1.9879e-02,  7.4526e-03,  4.4827e-03],\n",
              "                        [ 1.9524e-02,  1.0645e-02,  9.0610e-03],\n",
              "                        [ 6.6098e-03,  4.5966e-03,  6.9422e-03]],\n",
              "              \n",
              "                       ...,\n",
              "              \n",
              "                       [[ 1.3303e-03, -2.8631e-03,  1.5686e-02],\n",
              "                        [-7.0478e-04, -1.4749e-03, -3.8216e-03],\n",
              "                        [-4.0187e-03, -3.1609e-03, -8.9659e-03]],\n",
              "              \n",
              "                       [[ 9.2094e-03,  9.7220e-03,  1.2597e-02],\n",
              "                        [ 4.7908e-03, -5.6937e-03,  7.0511e-03],\n",
              "                        [ 8.8365e-04, -1.0943e-03,  7.1247e-03]],\n",
              "              \n",
              "                       [[ 1.0960e-02,  2.6712e-02,  1.5767e-02],\n",
              "                        [ 1.4726e-03,  1.2947e-02,  1.1568e-02],\n",
              "                        [-7.2732e-03, -6.3249e-04,  1.4196e-03]]],\n",
              "              \n",
              "              \n",
              "                      [[[ 1.1455e-02,  8.3498e-03,  1.1695e-02],\n",
              "                        [ 1.0975e-02,  6.6082e-03,  1.4962e-02],\n",
              "                        [ 2.3607e-02,  2.0764e-02,  2.5975e-02]],\n",
              "              \n",
              "                       [[ 5.8044e-03,  4.5434e-03,  4.7919e-03],\n",
              "                        [ 1.7749e-03, -4.0392e-03, -6.5925e-03],\n",
              "                        [-6.2253e-03, -9.1979e-03, -1.4577e-02]],\n",
              "              \n",
              "                       [[-1.4784e-02, -1.5440e-02, -1.7821e-02],\n",
              "                        [-1.4190e-02, -2.8990e-02, -2.2488e-02],\n",
              "                        [-8.2194e-03, -1.5998e-02, -8.7868e-03]],\n",
              "              \n",
              "                       ...,\n",
              "              \n",
              "                       [[-1.2885e-02, -1.1018e-02, -1.3731e-02],\n",
              "                        [-9.7933e-03, -3.2701e-03, -1.0655e-02],\n",
              "                        [-3.2142e-03, -1.0475e-02, -1.1614e-02]],\n",
              "              \n",
              "                       [[ 6.7067e-03, -8.0361e-03, -1.6813e-02],\n",
              "                        [ 4.6200e-03, -1.1928e-02, -1.6544e-02],\n",
              "                        [-4.5743e-03, -1.5859e-02, -4.1422e-03]],\n",
              "              \n",
              "                       [[ 2.6955e-04, -4.4703e-03,  3.4308e-03],\n",
              "                        [ 6.7208e-03,  1.0770e-02,  1.5828e-02],\n",
              "                        [ 9.9574e-03,  1.8426e-02,  5.9474e-03]]]], device='cuda:0')),\n",
              "             ('relation_module.0.0.bias',\n",
              "              tensor([ 1.1392e-03,  1.0995e-03, -4.6742e-04, -1.8850e-04,  7.6416e-04,\n",
              "                      -1.2478e-03, -5.8680e-04, -1.0980e-03,  8.3029e-04,  1.0181e-03,\n",
              "                       4.9081e-04,  8.7217e-04, -5.4134e-04,  5.2116e-04,  4.3299e-04,\n",
              "                      -6.9079e-04,  3.7855e-04, -1.2118e-04, -7.6152e-04, -1.0889e-03,\n",
              "                      -2.2456e-04, -1.2028e-03,  1.3013e-04, -8.4786e-04, -7.9384e-04,\n",
              "                       8.9630e-05,  9.9062e-04, -5.2957e-04,  2.7019e-05,  1.1025e-03,\n",
              "                      -4.4835e-04, -5.1419e-04,  1.1898e-03, -1.0808e-03, -7.2319e-04,\n",
              "                       1.1029e-03, -1.2490e-03,  4.6557e-04, -1.0790e-03,  1.3299e-04,\n",
              "                       9.1173e-04,  4.0783e-04,  1.1962e-03,  4.3230e-04,  4.3586e-04,\n",
              "                      -3.1039e-04,  6.4194e-04,  3.2802e-04, -1.1405e-03, -1.0674e-03,\n",
              "                      -1.5175e-04, -9.4183e-04, -1.9184e-04,  8.4752e-04, -2.7436e-05,\n",
              "                      -8.2309e-04, -1.1463e-04, -4.7405e-04,  8.7127e-04, -1.8803e-04,\n",
              "                       8.1981e-04, -9.7542e-04,  3.8857e-04, -9.7111e-04], device='cuda:0')),\n",
              "             ('relation_module.0.1.weight',\n",
              "              tensor([0.1818, 0.1783, 0.1645, 0.2001, 0.2211, 0.2907, 0.2014, 0.1639, 0.2242,\n",
              "                      0.1780, 0.1990, 0.1772, 0.1776, 0.2018, 0.2118, 0.2063, 0.2161, 0.2223,\n",
              "                      0.2249, 0.2012, 0.2267, 0.2291, 0.2213, 0.2197, 0.1682, 0.2109, 0.2256,\n",
              "                      0.1783, 0.1961, 0.2182, 0.1721, 0.2126, 0.2023, 0.1658, 0.1844, 0.2376,\n",
              "                      0.1467, 0.2161, 0.2482, 0.2793, 0.1788, 0.1869, 0.2319, 0.2242, 0.1656,\n",
              "                      0.2442, 0.2380, 0.2157, 0.2114, 0.2505, 0.1878, 0.2185, 0.2420, 0.2684,\n",
              "                      0.2308, 0.2427, 0.1607, 0.2359, 0.1878, 0.2726, 0.1977, 0.2615, 0.2382,\n",
              "                      0.2154], device='cuda:0')),\n",
              "             ('relation_module.0.1.bias',\n",
              "              tensor([-0.0369, -0.1131, -0.0235, -0.0693, -0.0460, -0.4142, -0.0246,  0.0954,\n",
              "                      -0.0334, -0.1481, -0.0494, -0.0578, -0.1847, -0.0152, -0.1161, -0.0751,\n",
              "                      -0.0547, -0.0594, -0.0696, -0.0801, -0.0521, -0.0350, -0.0885, -0.1254,\n",
              "                      -0.0538, -0.0925, -0.1196, -0.0967, -0.1164, -0.0895, -0.0225, -0.0801,\n",
              "                      -0.0636, -0.0949, -0.1363, -0.1511, -0.0123, -0.0530, -0.1023, -0.2430,\n",
              "                      -0.0564, -0.0770, -0.0778, -0.2013, -0.1259, -0.2532, -0.0819, -0.0641,\n",
              "                      -0.1822, -0.2205, -0.1885, -0.2430, -0.3932, -0.3143, -0.0640, -0.4438,\n",
              "                      -0.0552, -0.1473, -0.0435, -0.1358, -0.0554, -0.2068, -0.1650, -0.2786],\n",
              "                     device='cuda:0')),\n",
              "             ('relation_module.0.1.running_mean',\n",
              "              tensor([-0.0255, -0.1013, -0.0175, -0.0761, -0.0439, -0.0722, -0.0825, -0.0483,\n",
              "                      -0.0459, -0.0426, -0.0406, -0.0307, -0.0191, -0.0635, -0.0368, -0.0491,\n",
              "                      -0.0679, -0.0455, -0.0653, -0.0607, -0.0639, -0.0512, -0.0531, -0.0847,\n",
              "                      -0.0177, -0.0343, -0.0776, -0.0463, -0.0780, -0.0462, -0.0265, -0.0524,\n",
              "                      -0.0328, -0.0799, -0.0475, -0.0204,  0.0164, -0.0412, -0.0631, -0.1373,\n",
              "                      -0.0366, -0.0278, -0.0637, -0.0820,  0.0027, -0.0990, -0.0608, -0.0423,\n",
              "                      -0.0862, -0.0907,  0.0057, -0.0524, -0.0606, -0.1670, -0.0489, -0.0013,\n",
              "                      -0.0390, -0.1103, -0.0607, -0.1462, -0.0121, -0.0940, -0.0395, -0.0363],\n",
              "                     device='cuda:0')),\n",
              "             ('relation_module.0.1.running_var',\n",
              "              tensor([0.0035, 0.0042, 0.0028, 0.0058, 0.0077, 0.0136, 0.0105, 0.0036, 0.0095,\n",
              "                      0.0026, 0.0080, 0.0083, 0.0016, 0.0088, 0.0065, 0.0042, 0.0067, 0.0080,\n",
              "                      0.0108, 0.0072, 0.0078, 0.0094, 0.0071, 0.0056, 0.0019, 0.0078, 0.0052,\n",
              "                      0.0045, 0.0045, 0.0080, 0.0027, 0.0119, 0.0046, 0.0017, 0.0054, 0.0056,\n",
              "                      0.0033, 0.0068, 0.0067, 0.0059, 0.0054, 0.0056, 0.0089, 0.0033, 0.0020,\n",
              "                      0.0068, 0.0098, 0.0040, 0.0041, 0.0047, 0.0075, 0.0049, 0.0028, 0.0042,\n",
              "                      0.0086, 0.0032, 0.0025, 0.0094, 0.0029, 0.0068, 0.0079, 0.0132, 0.0056,\n",
              "                      0.0090], device='cuda:0')),\n",
              "             ('relation_module.0.1.num_batches_tracked',\n",
              "              tensor(100131, device='cuda:0')),\n",
              "             ('relation_module.1.0.weight',\n",
              "              tensor([[[[-0.0094, -0.0036,  0.0087],\n",
              "                        [-0.0165, -0.0031,  0.0237],\n",
              "                        [-0.0077, -0.0122, -0.0286]],\n",
              "              \n",
              "                       [[-0.0010, -0.0023, -0.0052],\n",
              "                        [ 0.0002, -0.0013, -0.0042],\n",
              "                        [-0.0006, -0.0012, -0.0017]],\n",
              "              \n",
              "                       [[-0.0229,  0.0027, -0.0001],\n",
              "                        [-0.0114,  0.0106, -0.0015],\n",
              "                        [ 0.0059, -0.0107, -0.0255]],\n",
              "              \n",
              "                       ...,\n",
              "              \n",
              "                       [[-0.0093, -0.0019, -0.0090],\n",
              "                        [ 0.0039,  0.0068, -0.0025],\n",
              "                        [ 0.0107,  0.0044, -0.0114]],\n",
              "              \n",
              "                       [[ 0.0074,  0.0046, -0.0096],\n",
              "                        [ 0.0072, -0.0013, -0.0099],\n",
              "                        [ 0.0012, -0.0051, -0.0116]],\n",
              "              \n",
              "                       [[-0.0070, -0.0062, -0.0103],\n",
              "                        [-0.0050, -0.0051, -0.0122],\n",
              "                        [ 0.0057, -0.0028, -0.0047]]],\n",
              "              \n",
              "              \n",
              "                      [[[-0.0248, -0.0335, -0.0295],\n",
              "                        [-0.0187,  0.0005,  0.0052],\n",
              "                        [-0.0077,  0.0245,  0.0210]],\n",
              "              \n",
              "                       [[-0.0114, -0.0078, -0.0128],\n",
              "                        [-0.0097, -0.0049, -0.0083],\n",
              "                        [ 0.0038,  0.0091, -0.0099]],\n",
              "              \n",
              "                       [[ 0.0046, -0.0242, -0.0189],\n",
              "                        [ 0.0403,  0.0201,  0.0141],\n",
              "                        [ 0.0190,  0.0054,  0.0250]],\n",
              "              \n",
              "                       ...,\n",
              "              \n",
              "                       [[-0.0006, -0.0065, -0.0202],\n",
              "                        [-0.0027, -0.0035, -0.0164],\n",
              "                        [-0.0042, -0.0066, -0.0153]],\n",
              "              \n",
              "                       [[-0.0088, -0.0054, -0.0101],\n",
              "                        [-0.0128, -0.0180, -0.0156],\n",
              "                        [-0.0140, -0.0176, -0.0078]],\n",
              "              \n",
              "                       [[-0.0109,  0.0029, -0.0093],\n",
              "                        [-0.0153, -0.0092, -0.0119],\n",
              "                        [-0.0150, -0.0179, -0.0232]]],\n",
              "              \n",
              "              \n",
              "                      [[[-0.0090, -0.0196, -0.0164],\n",
              "                        [-0.0077, -0.0137, -0.0149],\n",
              "                        [ 0.0401,  0.0385,  0.0005]],\n",
              "              \n",
              "                       [[-0.0047, -0.0100, -0.0067],\n",
              "                        [-0.0040, -0.0128, -0.0010],\n",
              "                        [-0.0017, -0.0073, -0.0014]],\n",
              "              \n",
              "                       [[-0.0105, -0.0056, -0.0028],\n",
              "                        [-0.0002, -0.0006,  0.0071],\n",
              "                        [ 0.0095, -0.0010,  0.0116]],\n",
              "              \n",
              "                       ...,\n",
              "              \n",
              "                       [[-0.0042, -0.0083, -0.0089],\n",
              "                        [-0.0056, -0.0043, -0.0086],\n",
              "                        [-0.0160, -0.0022,  0.0113]],\n",
              "              \n",
              "                       [[-0.0121, -0.0016,  0.0005],\n",
              "                        [-0.0157, -0.0140, -0.0053],\n",
              "                        [-0.0043, -0.0076, -0.0013]],\n",
              "              \n",
              "                       [[ 0.0003, -0.0030, -0.0070],\n",
              "                        [-0.0053, -0.0085, -0.0100],\n",
              "                        [-0.0129, -0.0151, -0.0109]]],\n",
              "              \n",
              "              \n",
              "                      ...,\n",
              "              \n",
              "              \n",
              "                      [[[-0.0173, -0.0153, -0.0209],\n",
              "                        [-0.0115, -0.0097, -0.0069],\n",
              "                        [-0.0069, -0.0138,  0.0150]],\n",
              "              \n",
              "                       [[-0.0028, -0.0083, -0.0053],\n",
              "                        [-0.0011, -0.0092, -0.0057],\n",
              "                        [ 0.0049,  0.0011, -0.0029]],\n",
              "              \n",
              "                       [[-0.0007, -0.0043, -0.0067],\n",
              "                        [-0.0019,  0.0110,  0.0115],\n",
              "                        [ 0.0115,  0.0205,  0.0146]],\n",
              "              \n",
              "                       ...,\n",
              "              \n",
              "                       [[-0.0007,  0.0025, -0.0107],\n",
              "                        [-0.0012, -0.0041, -0.0121],\n",
              "                        [ 0.0019, -0.0032, -0.0113]],\n",
              "              \n",
              "                       [[ 0.0002, -0.0031, -0.0104],\n",
              "                        [ 0.0025, -0.0013, -0.0120],\n",
              "                        [ 0.0011, -0.0032, -0.0065]],\n",
              "              \n",
              "                       [[-0.0067, -0.0032,  0.0047],\n",
              "                        [-0.0048, -0.0002,  0.0029],\n",
              "                        [-0.0058, -0.0054, -0.0043]]],\n",
              "              \n",
              "              \n",
              "                      [[[ 0.0049, -0.0165,  0.0002],\n",
              "                        [-0.0062, -0.0087, -0.0052],\n",
              "                        [ 0.0038,  0.0302,  0.0213]],\n",
              "              \n",
              "                       [[-0.0025,  0.0027, -0.0081],\n",
              "                        [ 0.0097,  0.0204,  0.0048],\n",
              "                        [ 0.0068,  0.0145,  0.0067]],\n",
              "              \n",
              "                       [[ 0.0092,  0.0020,  0.0063],\n",
              "                        [ 0.0108,  0.0039,  0.0050],\n",
              "                        [ 0.0314, -0.0001,  0.0141]],\n",
              "              \n",
              "                       ...,\n",
              "              \n",
              "                       [[ 0.0075,  0.0170,  0.0003],\n",
              "                        [ 0.0099,  0.0252, -0.0015],\n",
              "                        [-0.0025,  0.0096, -0.0008]],\n",
              "              \n",
              "                       [[ 0.0059,  0.0138, -0.0061],\n",
              "                        [ 0.0065,  0.0208,  0.0025],\n",
              "                        [-0.0054,  0.0070,  0.0003]],\n",
              "              \n",
              "                       [[-0.0061, -0.0007,  0.0016],\n",
              "                        [-0.0011,  0.0085,  0.0052],\n",
              "                        [ 0.0034,  0.0115,  0.0077]]],\n",
              "              \n",
              "              \n",
              "                      [[[ 0.0100,  0.0176, -0.0048],\n",
              "                        [ 0.0360,  0.0322, -0.0035],\n",
              "                        [-0.0139, -0.0128, -0.0098]],\n",
              "              \n",
              "                       [[ 0.0073, -0.0047, -0.0008],\n",
              "                        [ 0.0006, -0.0107, -0.0022],\n",
              "                        [-0.0007, -0.0072, -0.0022]],\n",
              "              \n",
              "                       [[ 0.0123,  0.0126,  0.0016],\n",
              "                        [ 0.0091,  0.0086, -0.0127],\n",
              "                        [-0.0173, -0.0143, -0.0116]],\n",
              "              \n",
              "                       ...,\n",
              "              \n",
              "                       [[-0.0131, -0.0100,  0.0041],\n",
              "                        [-0.0052, -0.0027,  0.0098],\n",
              "                        [-0.0040,  0.0011,  0.0016]],\n",
              "              \n",
              "                       [[-0.0103, -0.0087, -0.0066],\n",
              "                        [-0.0028, -0.0011,  0.0015],\n",
              "                        [-0.0048, -0.0107, -0.0014]],\n",
              "              \n",
              "                       [[-0.0059, -0.0017, -0.0087],\n",
              "                        [-0.0063, -0.0025, -0.0075],\n",
              "                        [-0.0076, -0.0032, -0.0015]]]], device='cuda:0')),\n",
              "             ('relation_module.1.0.bias',\n",
              "              tensor([ 1.0223e-04,  1.3666e-03, -9.8123e-04,  7.7809e-04,  7.9903e-04,\n",
              "                      -1.5428e-04,  1.5865e-03,  1.1780e-03, -1.4557e-03, -3.6247e-04,\n",
              "                       1.2427e-03,  1.6998e-03, -2.9486e-04, -9.6377e-04,  1.0558e-03,\n",
              "                       5.8767e-04,  1.0913e-03,  1.1083e-03, -9.7536e-04, -9.3477e-04,\n",
              "                       1.2052e-03, -8.7955e-04,  1.4487e-03, -7.6167e-04, -1.4550e-03,\n",
              "                      -1.5544e-03,  1.2381e-03, -2.1209e-04, -4.9584e-04, -1.3447e-03,\n",
              "                      -7.2458e-04, -4.1172e-04, -6.5583e-04, -1.0152e-03, -1.3509e-03,\n",
              "                      -8.6633e-05, -1.7045e-03, -8.0817e-04,  2.0591e-04,  1.1992e-03,\n",
              "                       1.7137e-03,  5.7263e-04,  2.1444e-04, -8.6583e-04, -3.0923e-04,\n",
              "                       6.0157e-04, -3.9042e-04, -3.9667e-04,  1.2593e-03,  2.0231e-04,\n",
              "                       1.2165e-03,  4.6872e-04, -1.1665e-03, -1.2061e-03,  1.4682e-03,\n",
              "                       7.5810e-04, -8.6957e-06, -2.6340e-04, -1.7616e-03,  5.4060e-04,\n",
              "                       1.4150e-04,  1.7651e-03, -6.0687e-04, -7.6224e-04], device='cuda:0')),\n",
              "             ('relation_module.1.1.weight',\n",
              "              tensor([0.1892, 0.3303, 0.2590, 0.4095, 0.3200, 0.3085, 0.2295, 0.3081, 0.3093,\n",
              "                      0.2273, 0.3060, 0.2832, 0.4659, 0.2573, 0.4221, 0.4419, 0.3448, 0.2494,\n",
              "                      0.3048, 0.4382, 0.2853, 0.2459, 0.2131, 0.3254, 0.3086, 0.3158, 0.3255,\n",
              "                      0.2746, 0.2251, 0.2560, 0.2177, 0.3191, 0.4305, 0.3032, 0.3117, 0.3660,\n",
              "                      0.2246, 0.3065, 0.2382, 0.3456, 0.4369, 0.3319, 0.2204, 0.4232, 0.1470,\n",
              "                      0.2846, 0.3724, 0.3807, 0.3919, 0.4227, 0.2773, 0.3570, 0.2815, 0.2980,\n",
              "                      0.2285, 0.2268, 0.2722, 0.2304, 0.3958, 0.3207, 0.1655, 0.1810, 0.3858,\n",
              "                      0.2075], device='cuda:0')),\n",
              "             ('relation_module.1.1.bias',\n",
              "              tensor([ 0.1013,  0.1756,  0.1362, -0.0767,  0.1728, -0.0464,  0.1031,  0.1796,\n",
              "                      -0.0539, -0.0162,  0.1132,  0.1514, -0.0788,  0.0760, -0.0728, -0.0775,\n",
              "                       0.1972,  0.1326,  0.1442, -0.0738,  0.1422,  0.1020, -0.0245,  0.1794,\n",
              "                       0.1698,  0.1409,  0.1962,  0.1554,  0.0895, -0.0329,  0.0893,  0.1387,\n",
              "                      -0.0705,  0.1663,  0.1607, -0.0581,  0.1104,  0.1403, -0.0246, -0.0563,\n",
              "                      -0.0783,  0.1805,  0.1194, -0.0754,  0.0773,  0.1371, -0.0666,  0.1552,\n",
              "                      -0.0698, -0.0703,  0.1444,  0.2067,  0.1471,  0.1516,  0.1041,  0.1008,\n",
              "                      -0.0314,  0.1006, -0.0691, -0.0544,  0.0716,  0.0822, -0.0657,  0.1034],\n",
              "                     device='cuda:0')),\n",
              "             ('relation_module.1.1.running_mean',\n",
              "              tensor([-0.0375,  0.0321,  0.0397, -0.0389, -0.0445, -0.0738,  0.0104,  0.0282,\n",
              "                      -0.0745, -0.0185,  0.0374,  0.0450, -0.1033,  0.0275, -0.0843, -0.1009,\n",
              "                       0.0520,  0.0302,  0.0159, -0.0655,  0.0129,  0.0182, -0.0438,  0.0262,\n",
              "                      -0.0070,  0.0293,  0.0511,  0.0293,  0.0240, -0.0485,  0.0107,  0.0500,\n",
              "                      -0.0898,  0.0448,  0.0467, -0.0763,  0.0028,  0.0167, -0.0616, -0.0683,\n",
              "                      -0.0838,  0.0235,  0.0001, -0.0952, -0.0337,  0.0204, -0.0627,  0.0256,\n",
              "                      -0.0617, -0.0683,  0.0446,  0.0382,  0.0367,  0.0179, -0.0216,  0.0410,\n",
              "                      -0.0504,  0.0205, -0.0650, -0.0692, -0.0263,  0.0026, -0.1054, -0.0056],\n",
              "                     device='cuda:0')),\n",
              "             ('relation_module.1.1.running_var',\n",
              "              tensor([0.0006, 0.0033, 0.0022, 0.0042, 0.0019, 0.0032, 0.0014, 0.0026, 0.0031,\n",
              "                      0.0012, 0.0021, 0.0029, 0.0068, 0.0018, 0.0057, 0.0070, 0.0040, 0.0019,\n",
              "                      0.0028, 0.0062, 0.0023, 0.0015, 0.0014, 0.0033, 0.0019, 0.0028, 0.0038,\n",
              "                      0.0027, 0.0017, 0.0015, 0.0012, 0.0035, 0.0059, 0.0032, 0.0033, 0.0046,\n",
              "                      0.0013, 0.0030, 0.0019, 0.0035, 0.0055, 0.0033, 0.0011, 0.0058, 0.0003,\n",
              "                      0.0023, 0.0045, 0.0041, 0.0052, 0.0054, 0.0026, 0.0043, 0.0026, 0.0025,\n",
              "                      0.0011, 0.0017, 0.0022, 0.0018, 0.0049, 0.0027, 0.0006, 0.0009, 0.0051,\n",
              "                      0.0011], device='cuda:0')),\n",
              "             ('relation_module.1.1.num_batches_tracked',\n",
              "              tensor(100131, device='cuda:0')),\n",
              "             ('relation_module.3.weight',\n",
              "              tensor([[ 9.9777e-02,  1.5087e-01,  1.1851e-01, -9.5345e-02,  1.6853e-01,\n",
              "                       -7.0312e-02,  1.0703e-01,  1.4585e-01, -7.2619e-02, -3.5798e-02,\n",
              "                        1.2797e-01,  1.2779e-01, -1.0554e-01,  1.1216e-01, -9.2371e-02,\n",
              "                       -9.9545e-02,  1.5733e-01,  1.1272e-01,  1.3214e-01, -1.0272e-01,\n",
              "                        1.3535e-01,  1.0724e-01, -4.1298e-02,  1.5097e-01,  1.5322e-01,\n",
              "                        1.3588e-01,  1.5468e-01,  1.2265e-01,  9.8797e-02, -4.2248e-02,\n",
              "                        9.8400e-02,  1.4248e-01, -9.2380e-02,  1.4351e-01,  1.4669e-01,\n",
              "                       -7.8048e-02,  9.5636e-02,  1.3235e-01, -4.2894e-02, -7.2659e-02,\n",
              "                       -9.5025e-02,  1.5710e-01,  1.0996e-01, -9.7683e-02,  7.7508e-02,\n",
              "                        1.2977e-01, -8.5556e-02,  1.6481e-01, -9.2913e-02, -9.3127e-02,\n",
              "                        1.2876e-01,  1.6371e-01,  1.2446e-01,  1.4001e-01,  1.1359e-01,\n",
              "                        1.0108e-01, -5.4539e-02,  1.0574e-01, -8.7561e-02, -6.3081e-02,\n",
              "                        8.2031e-02,  7.7913e-02, -8.6817e-02,  1.0448e-01],\n",
              "                      [ 5.3308e-03,  5.2569e-03, -3.4068e-03, -5.1972e-03, -3.3591e-03,\n",
              "                        3.5286e-04, -9.1434e-04, -3.4926e-03,  1.2298e-03, -6.4184e-04,\n",
              "                       -1.2700e-03, -3.6984e-03,  3.7478e-03, -2.1288e-03,  2.8389e-03,\n",
              "                        9.2685e-04, -5.1683e-03,  1.3814e-03, -3.8099e-03, -2.4989e-03,\n",
              "                        1.7324e-03, -2.3705e-03, -2.6892e-03, -3.7595e-03, -3.2356e-03,\n",
              "                       -1.6216e-04,  2.1431e-03, -2.6323e-03, -4.2604e-03,  7.7945e-06,\n",
              "                       -4.6778e-03,  2.5584e-03,  3.4893e-03, -1.3560e-03, -6.1640e-04,\n",
              "                        1.5026e-03, -4.3251e-03, -3.4666e-03,  1.6483e-03,  4.2767e-03,\n",
              "                       -3.4733e-03, -2.7055e-03, -5.9074e-04, -7.8004e-04,  4.7032e-03,\n",
              "                       -2.0774e-03, -2.0058e-03, -4.7483e-03, -2.4666e-04,  9.5206e-04,\n",
              "                        1.4612e-03,  1.2399e-04,  3.7649e-03,  3.9121e-03, -3.0867e-03,\n",
              "                       -1.0478e-03,  4.0156e-03, -4.4177e-03, -2.9632e-03,  1.8914e-03,\n",
              "                       -1.5008e-03, -4.7744e-03, -5.4976e-03, -4.7971e-03],\n",
              "                      [ 1.8663e-02, -1.8388e-01, -1.2833e-01,  3.3531e-01, -6.8549e-02,\n",
              "                        2.5307e-01, -1.0271e-01, -1.6016e-01,  2.4764e-01,  1.9223e-01,\n",
              "                       -1.5462e-01, -1.5659e-01,  3.8063e-01, -1.1593e-01,  3.4297e-01,\n",
              "                        3.5534e-01, -1.8606e-01, -1.3267e-01, -1.6260e-01,  3.5536e-01,\n",
              "                       -1.4954e-01, -1.2078e-01,  1.7474e-01, -1.7468e-01, -1.2971e-01,\n",
              "                       -1.5789e-01, -1.7445e-01, -1.5190e-01, -1.0804e-01,  2.1240e-01,\n",
              "                       -9.4071e-02, -1.5680e-01,  3.5226e-01, -1.6144e-01, -1.5692e-01,\n",
              "                        2.9705e-01, -1.2027e-01, -1.6184e-01,  1.9870e-01,  2.8278e-01,\n",
              "                        3.5513e-01, -1.7820e-01, -7.4508e-02,  3.4224e-01,  2.4344e-02,\n",
              "                       -1.4235e-01,  3.0107e-01, -1.9891e-01,  3.1363e-01,  3.4398e-01,\n",
              "                       -1.2949e-01, -1.8722e-01, -1.4238e-01, -1.3725e-01, -9.1291e-02,\n",
              "                       -1.0999e-01,  2.2609e-01, -1.1475e-01,  3.2291e-01,  2.6550e-01,\n",
              "                       -5.6757e-02, -9.0360e-02,  3.1254e-01, -5.5398e-02],\n",
              "                      [ 1.3559e-01,  2.0195e-01,  1.6340e-01, -1.2554e-01,  2.2929e-01,\n",
              "                       -8.9768e-02,  1.4389e-01,  2.0019e-01, -8.8317e-02, -4.2902e-02,\n",
              "                        1.8169e-01,  1.7817e-01, -1.3813e-01,  1.5065e-01, -1.2867e-01,\n",
              "                       -1.4106e-01,  2.1910e-01,  1.5800e-01,  1.8235e-01, -1.3065e-01,\n",
              "                        1.7234e-01,  1.4551e-01, -5.3410e-02,  2.0715e-01,  2.0679e-01,\n",
              "                        1.9160e-01,  2.1217e-01,  1.7200e-01,  1.3903e-01, -6.6456e-02,\n",
              "                        1.2991e-01,  1.9194e-01, -1.2550e-01,  1.8530e-01,  1.8904e-01,\n",
              "                       -1.0935e-01,  1.3301e-01,  1.7987e-01, -5.3982e-02, -1.0380e-01,\n",
              "                       -1.3348e-01,  2.0466e-01,  1.5365e-01, -1.3375e-01,  1.0092e-01,\n",
              "                        1.7367e-01, -1.1985e-01,  2.2408e-01, -1.2290e-01, -1.2631e-01,\n",
              "                        1.7625e-01,  2.3209e-01,  1.7640e-01,  1.9109e-01,  1.4237e-01,\n",
              "                        1.3556e-01, -6.7121e-02,  1.3725e-01, -1.1486e-01, -9.4652e-02,\n",
              "                        1.0736e-01,  1.0709e-01, -1.1653e-01,  1.4095e-01],\n",
              "                      [ 7.9423e-03, -7.9987e-02, -6.1877e-02,  1.4302e-01, -3.3388e-02,\n",
              "                        1.0948e-01, -4.0574e-02, -7.1429e-02,  1.1437e-01,  8.9372e-02,\n",
              "                       -6.8490e-02, -6.5932e-02,  1.7008e-01, -5.5492e-02,  1.5103e-01,\n",
              "                        1.5793e-01, -8.1645e-02, -5.4468e-02, -7.4984e-02,  1.5991e-01,\n",
              "                       -6.0741e-02, -5.3154e-02,  7.8001e-02, -7.1715e-02, -5.3277e-02,\n",
              "                       -7.1440e-02, -7.9931e-02, -6.2647e-02, -4.7301e-02,  9.8248e-02,\n",
              "                       -4.0164e-02, -6.8888e-02,  1.5820e-01, -7.6459e-02, -7.4136e-02,\n",
              "                        1.3484e-01, -5.5527e-02, -7.2059e-02,  8.8362e-02,  1.2096e-01,\n",
              "                        1.5707e-01, -7.6440e-02, -2.7120e-02,  1.5327e-01,  1.4380e-02,\n",
              "                       -6.3163e-02,  1.2718e-01, -8.3014e-02,  1.4197e-01,  1.5414e-01,\n",
              "                       -6.3238e-02, -8.5313e-02, -6.4126e-02, -6.5217e-02, -4.1947e-02,\n",
              "                       -5.2186e-02,  9.8864e-02, -5.4062e-02,  1.4469e-01,  1.1315e-01,\n",
              "                       -2.1446e-02, -4.2110e-02,  1.4105e-01, -2.7473e-02],\n",
              "                      [ 1.5852e-03, -1.0348e-03, -1.7259e-03, -3.2886e-03, -4.5626e-03,\n",
              "                       -4.8198e-03, -4.2986e-03, -1.3804e-04, -2.3945e-03,  4.4875e-03,\n",
              "                        4.3923e-04, -1.8327e-03, -4.5241e-03, -1.3987e-03,  2.2246e-03,\n",
              "                        5.6437e-03, -2.8650e-03,  2.1878e-03,  4.6215e-03, -5.0685e-03,\n",
              "                       -6.0245e-04, -1.5372e-03, -3.3894e-03, -1.9066e-03,  4.2653e-03,\n",
              "                       -4.7864e-03, -2.0401e-03,  3.4124e-03,  3.9706e-03, -1.9780e-03,\n",
              "                        3.5855e-03, -4.6143e-03,  5.5108e-03, -4.3400e-03,  2.5146e-03,\n",
              "                       -1.0504e-03,  9.4550e-04, -1.5545e-03,  3.5175e-03,  4.5853e-04,\n",
              "                       -7.8366e-04,  5.0983e-03, -1.1094e-03,  4.4095e-03,  5.4131e-03,\n",
              "                       -3.8973e-03,  1.6953e-03,  3.2146e-03, -2.8297e-03, -2.1741e-03,\n",
              "                       -2.2400e-03, -5.1004e-03, -5.1393e-03,  5.2796e-04,  3.6087e-03,\n",
              "                       -3.8209e-04,  2.4419e-03,  3.5125e-03, -5.2008e-03, -3.0102e-03,\n",
              "                       -2.7036e-03,  2.5138e-03,  1.8618e-03,  5.7324e-04],\n",
              "                      [ 6.5089e-02,  9.9053e-02,  7.6360e-02, -5.4615e-02,  1.0500e-01,\n",
              "                       -4.0648e-02,  6.2399e-02,  9.1869e-02, -4.9199e-02, -1.8185e-02,\n",
              "                        8.4302e-02,  8.0218e-02, -6.3137e-02,  6.9899e-02, -6.0258e-02,\n",
              "                       -6.5310e-02,  1.0591e-01,  7.5079e-02,  8.1356e-02, -6.3122e-02,\n",
              "                        7.9755e-02,  7.2218e-02, -2.9885e-02,  1.0119e-01,  9.3338e-02,\n",
              "                        9.4602e-02,  1.0207e-01,  8.0428e-02,  5.6373e-02, -2.9508e-02,\n",
              "                        6.7769e-02,  9.2995e-02, -6.1771e-02,  9.3398e-02,  9.2756e-02,\n",
              "                       -4.5636e-02,  6.2818e-02,  9.2099e-02, -3.2531e-02, -4.7330e-02,\n",
              "                       -6.6108e-02,  9.4303e-02,  7.3840e-02, -5.8397e-02,  4.8593e-02,\n",
              "                        7.7738e-02, -6.0410e-02,  1.1051e-01, -6.0333e-02, -5.6042e-02,\n",
              "                        8.4479e-02,  1.0643e-01,  8.7877e-02,  9.0408e-02,  6.6363e-02,\n",
              "                        7.2028e-02, -3.6592e-02,  6.4935e-02, -5.9413e-02, -4.6911e-02,\n",
              "                        4.9311e-02,  5.8701e-02, -5.4085e-02,  6.4191e-02],\n",
              "                      [ 1.0987e-01,  1.5463e-01,  1.2887e-01, -9.7389e-02,  1.8205e-01,\n",
              "                       -6.4117e-02,  1.1408e-01,  1.5568e-01, -7.7594e-02, -4.0935e-02,\n",
              "                        1.3805e-01,  1.3224e-01, -1.0619e-01,  1.1471e-01, -1.0360e-01,\n",
              "                       -1.1073e-01,  1.7352e-01,  1.1745e-01,  1.4844e-01, -1.0209e-01,\n",
              "                        1.3780e-01,  1.1575e-01, -4.3233e-02,  1.5535e-01,  1.6545e-01,\n",
              "                        1.5214e-01,  1.6089e-01,  1.3874e-01,  1.0225e-01, -5.1514e-02,\n",
              "                        1.0841e-01,  1.5363e-01, -9.8025e-02,  1.4737e-01,  1.5741e-01,\n",
              "                       -8.8431e-02,  1.1053e-01,  1.4700e-01, -4.6531e-02, -8.2558e-02,\n",
              "                       -1.0629e-01,  1.6525e-01,  1.1652e-01, -9.9012e-02,  8.3782e-02,\n",
              "                        1.4237e-01, -8.8065e-02,  1.7417e-01, -9.5847e-02, -1.0143e-01,\n",
              "                        1.4164e-01,  1.8286e-01,  1.4136e-01,  1.4910e-01,  1.1563e-01,\n",
              "                        1.0450e-01, -5.5843e-02,  1.0394e-01, -9.3182e-02, -6.8887e-02,\n",
              "                        7.9454e-02,  8.1573e-02, -9.1195e-02,  1.1521e-01]], device='cuda:0')),\n",
              "             ('relation_module.3.bias',\n",
              "              tensor([ 0.2384, -0.0056,  0.0471,  0.3184,  0.0193, -0.0031,  0.1540,  0.2457],\n",
              "                     device='cuda:0')),\n",
              "             ('relation_module.5.weight',\n",
              "              tensor([[-0.9344, -0.0025,  1.6780, -1.2668,  0.7449,  0.0019, -0.6026, -0.9965]],\n",
              "                     device='cuda:0')),\n",
              "             ('relation_module.5.bias', tensor([-0.1113], device='cuda:0'))])"
            ]
          },
          "metadata": {},
          "execution_count": 61
        }
      ]
    },
    {
      "cell_type": "code",
      "source": [
        "few_shot_classifier.load_state_dict(few_shot_classifier.state_dict())"
      ],
      "metadata": {
        "colab": {
          "base_uri": "https://localhost:8080/"
        },
        "id": "T5zgtH8WDVi2",
        "outputId": "11262e7a-8044-4064-f6c9-5ed908a46fb2"
      },
      "execution_count": 62,
      "outputs": [
        {
          "output_type": "execute_result",
          "data": {
            "text/plain": [
              "<All keys matched successfully>"
            ]
          },
          "metadata": {},
          "execution_count": 62
        }
      ]
    },
    {
      "cell_type": "code",
      "source": [
        "train_optimizer.state_dict()"
      ],
      "metadata": {
        "id": "cEzWewdOB1_e",
        "colab": {
          "base_uri": "https://localhost:8080/"
        },
        "outputId": "e117db00-ea23-428c-b4e0-27fc77cf51ea"
      },
      "execution_count": 63,
      "outputs": [
        {
          "output_type": "execute_result",
          "data": {
            "text/plain": [
              "{'state': {0: {'momentum_buffer': tensor([[[[-0.0277, -0.0242, -0.0221],\n",
              "             [-0.0255, -0.0236, -0.0190],\n",
              "             [-0.0232, -0.0248, -0.0231]],\n",
              "   \n",
              "            [[-0.0277, -0.0242, -0.0221],\n",
              "             [-0.0255, -0.0237, -0.0190],\n",
              "             [-0.0231, -0.0248, -0.0231]],\n",
              "   \n",
              "            [[-0.0277, -0.0241, -0.0221],\n",
              "             [-0.0255, -0.0237, -0.0190],\n",
              "             [-0.0231, -0.0248, -0.0231]]],\n",
              "   \n",
              "   \n",
              "           [[[-0.0530, -0.0573, -0.0631],\n",
              "             [-0.0533, -0.0593, -0.0662],\n",
              "             [-0.0587, -0.0630, -0.0691]],\n",
              "   \n",
              "            [[-0.0529, -0.0573, -0.0631],\n",
              "             [-0.0533, -0.0593, -0.0662],\n",
              "             [-0.0587, -0.0630, -0.0691]],\n",
              "   \n",
              "            [[-0.0529, -0.0573, -0.0631],\n",
              "             [-0.0532, -0.0592, -0.0662],\n",
              "             [-0.0587, -0.0630, -0.0692]]],\n",
              "   \n",
              "   \n",
              "           [[[-0.0026, -0.0012, -0.0024],\n",
              "             [-0.0048, -0.0025, -0.0029],\n",
              "             [-0.0076, -0.0059, -0.0047]],\n",
              "   \n",
              "            [[-0.0027, -0.0012, -0.0025],\n",
              "             [-0.0048, -0.0025, -0.0029],\n",
              "             [-0.0075, -0.0059, -0.0047]],\n",
              "   \n",
              "            [[-0.0026, -0.0012, -0.0024],\n",
              "             [-0.0048, -0.0025, -0.0029],\n",
              "             [-0.0076, -0.0059, -0.0047]]],\n",
              "   \n",
              "   \n",
              "           ...,\n",
              "   \n",
              "   \n",
              "           [[[-0.0232, -0.0279, -0.0296],\n",
              "             [-0.0269, -0.0305, -0.0336],\n",
              "             [-0.0317, -0.0347, -0.0392]],\n",
              "   \n",
              "            [[-0.0232, -0.0278, -0.0295],\n",
              "             [-0.0269, -0.0305, -0.0336],\n",
              "             [-0.0317, -0.0347, -0.0392]],\n",
              "   \n",
              "            [[-0.0232, -0.0279, -0.0295],\n",
              "             [-0.0269, -0.0305, -0.0336],\n",
              "             [-0.0317, -0.0347, -0.0392]]],\n",
              "   \n",
              "   \n",
              "           [[[ 0.0032,  0.0021,  0.0037],\n",
              "             [ 0.0027,  0.0004,  0.0012],\n",
              "             [ 0.0011, -0.0005,  0.0003]],\n",
              "   \n",
              "            [[ 0.0031,  0.0021,  0.0037],\n",
              "             [ 0.0027,  0.0004,  0.0012],\n",
              "             [ 0.0011, -0.0005,  0.0003]],\n",
              "   \n",
              "            [[ 0.0032,  0.0022,  0.0037],\n",
              "             [ 0.0027,  0.0004,  0.0012],\n",
              "             [ 0.0012, -0.0005,  0.0003]]],\n",
              "   \n",
              "   \n",
              "           [[[ 0.0137,  0.0126,  0.0110],\n",
              "             [ 0.0120,  0.0118,  0.0094],\n",
              "             [ 0.0095,  0.0084,  0.0076]],\n",
              "   \n",
              "            [[ 0.0136,  0.0126,  0.0110],\n",
              "             [ 0.0119,  0.0118,  0.0094],\n",
              "             [ 0.0095,  0.0084,  0.0075]],\n",
              "   \n",
              "            [[ 0.0137,  0.0125,  0.0109],\n",
              "             [ 0.0120,  0.0119,  0.0094],\n",
              "             [ 0.0094,  0.0084,  0.0076]]]], device='cuda:0')},\n",
              "  1: {'momentum_buffer': tensor([-8.4017e-06,  1.3026e-05, -2.4974e-05, -5.5730e-06,  3.5992e-05,\n",
              "           -3.5788e-05,  2.1033e-05,  2.8396e-05, -3.6123e-05,  2.2645e-05,\n",
              "            3.4816e-05,  2.5526e-05,  3.7773e-05, -9.5430e-07,  3.5947e-05,\n",
              "           -1.6319e-05, -3.2725e-05,  1.9401e-05,  3.8414e-05,  1.3802e-05,\n",
              "            2.5591e-05,  4.0079e-05,  2.9852e-05,  1.4994e-05, -2.7531e-05,\n",
              "            1.2755e-05,  3.4983e-05, -2.9748e-05, -3.9876e-05,  2.6383e-05,\n",
              "            6.5490e-07,  2.5923e-05, -1.3565e-05,  3.7716e-06,  3.2219e-05,\n",
              "            3.4660e-05,  1.5988e-06, -1.0433e-05, -1.2293e-05,  3.0353e-05,\n",
              "           -3.0290e-05, -8.7858e-06,  3.1222e-05, -1.0796e-05, -2.0045e-06,\n",
              "           -8.3115e-06,  2.5419e-05,  1.7308e-06, -5.3125e-06, -2.5135e-05,\n",
              "           -2.6890e-06,  4.2389e-05,  1.1544e-05, -7.7945e-06,  3.1718e-05,\n",
              "            3.4027e-05,  3.4885e-05,  3.1644e-05,  3.3731e-05, -3.2617e-05,\n",
              "           -9.2217e-06,  4.0463e-05,  1.1642e-05,  1.5454e-05], device='cuda:0')},\n",
              "  2: {'momentum_buffer': tensor([ 0.0167,  0.0498,  0.0113,  0.0266, -0.0385, -0.0388, -0.0566, -0.0013,\n",
              "            0.0023, -0.0438,  0.0134, -0.0107,  0.0038,  0.0277,  0.0271, -0.1590,\n",
              "            0.0225,  0.0282, -0.0410, -0.0024, -0.0311,  0.0205, -0.0388, -0.0615,\n",
              "            0.0323,  0.0524, -0.0115,  0.0588, -0.0418, -0.0326,  0.0224, -0.0202,\n",
              "            0.0017,  0.0086,  0.0031,  0.0117,  0.0378,  0.0032,  0.0023, -0.0637,\n",
              "           -0.0183, -0.0335, -0.0018, -0.0104,  0.0495, -0.0259,  0.0241, -0.0143,\n",
              "           -0.0066, -0.0320, -0.0184, -0.0129, -0.0075,  0.0057, -0.0137, -0.0040,\n",
              "           -0.0149, -0.0070, -0.0110, -0.0118,  0.0361,  0.0480, -0.0375, -0.0274],\n",
              "          device='cuda:0')},\n",
              "  3: {'momentum_buffer': tensor([-0.0004,  0.0039,  0.0079, -0.0126, -0.0453, -0.0363, -0.0638, -0.0054,\n",
              "            0.0032, -0.0419, -0.0009,  0.0247,  0.0209,  0.0083, -0.0263, -0.0495,\n",
              "           -0.0348,  0.0039, -0.0001, -0.0076,  0.0071, -0.0359, -0.0279, -0.0571,\n",
              "           -0.0005, -0.0530, -0.0066, -0.0663, -0.0367,  0.0041,  0.0145, -0.0018,\n",
              "            0.0656,  0.0061,  0.0029,  0.0942,  0.0159,  0.0140,  0.0042, -0.0722,\n",
              "           -0.0058, -0.0054,  0.0026,  0.0169,  0.0409, -0.0252, -0.0121,  0.0339,\n",
              "            0.0112, -0.0108,  0.0092, -0.0076, -0.0194, -0.0540, -0.0041,  0.0613,\n",
              "           -0.0417,  0.0093,  0.0057, -0.0096, -0.0444,  0.0150, -0.0385, -0.0551],\n",
              "          device='cuda:0')},\n",
              "  4: {'momentum_buffer': tensor([[[[ 3.7834e-03, -2.0843e-04, -3.2096e-03],\n",
              "             [ 8.3456e-03,  4.7869e-04, -3.3151e-03],\n",
              "             [ 1.3967e-02,  3.3740e-03, -9.8678e-04]],\n",
              "   \n",
              "            [[ 3.7061e-04, -9.5392e-04, -2.4725e-03],\n",
              "             [ 1.4729e-03, -1.6898e-03, -3.7604e-03],\n",
              "             [ 1.6672e-03, -3.7752e-03, -3.5445e-03]],\n",
              "   \n",
              "            [[ 1.4254e-03,  2.1310e-03,  1.8940e-03],\n",
              "             [ 2.6838e-03,  2.6011e-03,  1.6416e-04],\n",
              "             [ 3.1886e-03,  2.3949e-03, -8.2503e-04]],\n",
              "   \n",
              "            ...,\n",
              "   \n",
              "            [[ 2.5638e-04, -2.7747e-04, -1.9770e-03],\n",
              "             [ 2.2059e-03, -3.5964e-04, -1.6595e-03],\n",
              "             [ 3.5721e-03, -9.9397e-04, -6.5620e-04]],\n",
              "   \n",
              "            [[ 4.3086e-03,  2.4614e-03,  1.2070e-03],\n",
              "             [ 5.3676e-03,  3.1621e-03,  5.3483e-04],\n",
              "             [ 5.1005e-03,  3.8092e-03,  3.7885e-03]],\n",
              "   \n",
              "            [[-7.9198e-04, -7.2677e-04, -1.0230e-03],\n",
              "             [ 4.6300e-04, -2.5598e-04,  1.4527e-04],\n",
              "             [ 2.2823e-03,  2.6034e-03,  2.6430e-03]]],\n",
              "   \n",
              "   \n",
              "           [[[ 6.7639e-03,  6.0252e-03,  2.7114e-02],\n",
              "             [-1.1963e-03, -6.3828e-03,  3.6282e-03],\n",
              "             [ 6.3196e-03, -5.3993e-03, -3.3674e-03]],\n",
              "   \n",
              "            [[ 9.5424e-03,  7.1188e-03,  9.8145e-03],\n",
              "             [ 4.3776e-03,  2.8607e-03,  8.5843e-03],\n",
              "             [ 1.3278e-02,  3.6884e-03,  1.6770e-03]],\n",
              "   \n",
              "            [[ 4.3756e-03,  6.1631e-03,  7.5867e-03],\n",
              "             [ 1.0410e-03,  6.6465e-03,  8.8938e-03],\n",
              "             [-1.0467e-03,  4.2587e-03,  1.1325e-02]],\n",
              "   \n",
              "            ...,\n",
              "   \n",
              "            [[ 9.6597e-03,  6.5705e-03,  1.0046e-02],\n",
              "             [ 6.9181e-03,  3.8270e-03,  7.6723e-03],\n",
              "             [ 1.4741e-02,  5.2059e-03,  2.0175e-03]],\n",
              "   \n",
              "            [[ 8.1017e-03,  1.1004e-02,  9.1018e-03],\n",
              "             [ 9.7388e-03,  1.5420e-02,  1.4945e-02],\n",
              "             [ 7.3598e-03,  1.4607e-02,  1.8198e-02]],\n",
              "   \n",
              "            [[ 1.2175e-02,  1.2112e-02,  8.6027e-03],\n",
              "             [ 1.5555e-02,  1.4776e-02,  1.0239e-02],\n",
              "             [ 1.4049e-02,  1.3966e-02,  1.1766e-02]]],\n",
              "   \n",
              "   \n",
              "           [[[-1.8844e-02, -2.8867e-02, -2.1075e-02],\n",
              "             [-1.5679e-03, -3.1997e-03, -1.5169e-02],\n",
              "             [ 3.7676e-03,  1.3752e-02, -5.2645e-03]],\n",
              "   \n",
              "            [[-1.0126e-02, -8.7742e-03, -6.9086e-03],\n",
              "             [ 4.2346e-03,  2.4186e-03,  8.8006e-04],\n",
              "             [ 2.8614e-03,  5.1143e-03,  1.0979e-03]],\n",
              "   \n",
              "            [[ 1.2235e-03,  9.5496e-04,  2.6478e-03],\n",
              "             [ 1.3139e-03,  1.4384e-03,  1.9937e-03],\n",
              "             [ 2.3087e-03,  2.0105e-03,  1.6424e-03]],\n",
              "   \n",
              "            ...,\n",
              "   \n",
              "            [[-6.1633e-03, -6.5149e-03, -5.1604e-03],\n",
              "             [ 2.9282e-03,  2.0306e-03,  6.0505e-04],\n",
              "             [ 2.1181e-03,  5.4772e-03,  2.0685e-03]],\n",
              "   \n",
              "            [[ 2.2321e-03,  1.3918e-03,  3.1453e-04],\n",
              "             [ 1.7196e-03,  1.5247e-03,  8.5908e-04],\n",
              "             [ 2.2055e-03,  1.3347e-03,  2.4142e-03]],\n",
              "   \n",
              "            [[ 7.7619e-04,  8.2198e-04, -6.1705e-06],\n",
              "             [-1.1771e-03, -3.0884e-04,  1.8529e-03],\n",
              "             [-2.6605e-03,  1.1518e-03,  3.8321e-03]]],\n",
              "   \n",
              "   \n",
              "           ...,\n",
              "   \n",
              "   \n",
              "           [[[-2.6057e-03, -1.2015e-02, -1.4679e-02],\n",
              "             [-1.3650e-05, -6.8849e-04, -1.1035e-02],\n",
              "             [-4.2111e-04,  3.3675e-03, -5.9627e-04]],\n",
              "   \n",
              "            [[-9.4286e-03, -9.6691e-03, -1.0618e-02],\n",
              "             [-6.6703e-03, -7.5911e-03, -7.7983e-03],\n",
              "             [-4.8355e-03, -7.1805e-03, -5.7167e-03]],\n",
              "   \n",
              "            [[-1.4785e-03, -5.1487e-03, -5.8849e-03],\n",
              "             [ 1.2680e-03, -4.8920e-03, -6.9872e-03],\n",
              "             [ 1.0710e-03, -1.1136e-03, -5.9891e-03]],\n",
              "   \n",
              "            ...,\n",
              "   \n",
              "            [[-9.3223e-03, -7.7205e-03, -7.5448e-03],\n",
              "             [-6.1066e-03, -5.2939e-03, -5.2567e-03],\n",
              "             [-4.6747e-03, -4.8333e-03, -3.0623e-03]],\n",
              "   \n",
              "            [[-5.5685e-03, -4.8444e-03, -3.3356e-03],\n",
              "             [-1.9160e-03, -4.8619e-03, -3.4092e-03],\n",
              "             [-7.0049e-04, -3.4785e-03, -2.5630e-03]],\n",
              "   \n",
              "            [[-3.5672e-03,  9.6739e-05,  2.7203e-03],\n",
              "             [-9.8640e-04,  2.2101e-03,  4.8364e-03],\n",
              "             [-4.0684e-03,  8.4111e-04,  3.8202e-03]]],\n",
              "   \n",
              "   \n",
              "           [[[-1.3357e-03, -1.7685e-03, -4.0624e-03],\n",
              "             [-1.8092e-03, -1.1982e-03, -1.3194e-03],\n",
              "             [-2.0489e-04,  5.1389e-04, -4.5617e-04]],\n",
              "   \n",
              "            [[ 1.2782e-03, -4.7805e-04, -2.3541e-03],\n",
              "             [-2.5004e-03, -1.1370e-03, -1.3699e-03],\n",
              "             [-2.8555e-03, -8.2055e-04, -1.0898e-03]],\n",
              "   \n",
              "            [[-1.1360e-03, -2.2928e-03, -1.3167e-04],\n",
              "             [-1.0327e-03, -2.9693e-03, -7.1289e-05],\n",
              "             [-9.9476e-04, -2.4514e-03, -6.6886e-04]],\n",
              "   \n",
              "            ...,\n",
              "   \n",
              "            [[ 2.1688e-03,  1.6526e-03, -5.5414e-04],\n",
              "             [-7.3156e-04,  6.0401e-04, -2.1386e-04],\n",
              "             [-1.0008e-03,  1.1792e-03,  8.6067e-04]],\n",
              "   \n",
              "            [[-2.4480e-03, -1.1872e-03,  2.1269e-03],\n",
              "             [-1.2833e-03, -8.8516e-04,  2.1438e-03],\n",
              "             [-3.7245e-04,  3.8009e-04,  3.3877e-03]],\n",
              "   \n",
              "            [[-2.4470e-03,  1.8095e-03,  2.1097e-03],\n",
              "             [ 1.0613e-03,  3.5403e-03,  3.9521e-03],\n",
              "             [ 2.1460e-03,  3.2992e-03,  6.0896e-03]]],\n",
              "   \n",
              "   \n",
              "           [[[-1.4249e-02, -4.3074e-04, -4.9734e-03],\n",
              "             [-1.2482e-02, -7.6786e-04,  1.5708e-03],\n",
              "             [ 1.4460e-03, -1.7024e-03, -5.5489e-04]],\n",
              "   \n",
              "            [[-1.4622e-02, -1.1033e-02, -7.7255e-03],\n",
              "             [-1.5861e-02, -8.0356e-03, -4.0765e-03],\n",
              "             [-6.4243e-03, -7.6505e-03, -4.4595e-04]],\n",
              "   \n",
              "            [[-1.6529e-03, -3.2283e-03, -1.8003e-03],\n",
              "             [-1.6335e-03, -2.5092e-03, -2.1720e-03],\n",
              "             [ 1.5100e-03, -1.7671e-03, -1.9620e-03]],\n",
              "   \n",
              "            ...,\n",
              "   \n",
              "            [[-1.2508e-02, -9.2004e-03, -7.2646e-03],\n",
              "             [-1.3157e-02, -7.4219e-03, -5.0926e-03],\n",
              "             [-5.9464e-03, -8.1372e-03, -3.1903e-03]],\n",
              "   \n",
              "            [[ 3.7067e-03,  2.9956e-03,  3.7551e-03],\n",
              "             [ 6.0163e-03,  3.1872e-03,  2.3837e-03],\n",
              "             [ 6.1846e-03,  1.9786e-03,  1.0047e-03]],\n",
              "   \n",
              "            [[-1.2542e-03, -1.9720e-03, -4.4952e-03],\n",
              "             [-6.8149e-03, -5.9805e-03, -5.3374e-03],\n",
              "             [-1.0601e-02, -7.8922e-03, -5.8696e-03]]]], device='cuda:0')},\n",
              "  5: {'momentum_buffer': tensor([ 2.2560e-06,  6.5717e-06, -5.2557e-06, -2.0630e-06,  3.0438e-06,\n",
              "            4.5598e-06,  8.4888e-06,  5.3005e-06,  3.0890e-07, -7.5485e-06,\n",
              "           -3.8827e-06, -7.8096e-06,  3.8160e-06,  2.8185e-06, -1.3741e-06,\n",
              "            8.0816e-06,  6.7866e-06, -3.6626e-06, -6.9231e-06,  2.3321e-06,\n",
              "           -7.0372e-07, -3.9502e-06, -2.5711e-06, -6.6848e-06, -7.3822e-06,\n",
              "            6.9855e-06,  1.2280e-06, -8.4899e-06,  7.8740e-06,  8.3116e-06,\n",
              "           -7.8096e-06,  9.5219e-07,  6.5153e-06, -7.8691e-06, -6.4944e-06,\n",
              "           -1.8129e-06,  8.5944e-08, -7.9758e-06,  7.7315e-06, -1.9455e-06,\n",
              "            6.1293e-06, -6.5239e-06,  2.3784e-06, -5.7859e-06,  3.4493e-06,\n",
              "            8.5497e-06,  4.6218e-06,  2.4201e-06, -3.5573e-06,  2.2487e-06,\n",
              "            9.1616e-06, -3.1949e-06, -3.4776e-06,  6.4818e-06,  3.8514e-06,\n",
              "            3.5886e-06, -7.2479e-06, -8.5391e-06,  1.2930e-06,  9.0142e-07,\n",
              "            3.8544e-06, -4.7573e-06, -1.0334e-06, -2.1234e-07], device='cuda:0')},\n",
              "  6: {'momentum_buffer': tensor([-0.0040, -0.0948, -0.0485,  0.0032,  0.0042,  0.0196,  0.0164,  0.0232,\n",
              "           -0.0780, -0.0041,  0.0421,  0.0541,  0.0282, -0.0928,  0.0147,  0.1125,\n",
              "           -0.0603,  0.0406,  0.0653,  0.0640,  0.1318,  0.0156,  0.0251,  0.0582,\n",
              "            0.0504, -0.0939,  0.0308,  0.0352, -0.0313,  0.0267, -0.0446, -0.0666,\n",
              "            0.0298, -0.0078, -0.0188,  0.0464, -0.1383,  0.1017,  0.0087, -0.0089,\n",
              "           -0.0274,  0.0247, -0.0024,  0.0093,  0.0626,  0.0038, -0.0236, -0.0322,\n",
              "            0.0374,  0.0834, -0.0411,  0.0166,  0.0092, -0.0148,  0.0049,  0.0359,\n",
              "            0.0030,  0.0467, -0.0335, -0.0020, -0.0426,  0.0521, -0.0222,  0.0125],\n",
              "          device='cuda:0')},\n",
              "  7: {'momentum_buffer': tensor([ 0.0282, -0.1225, -0.0447, -0.0058,  0.0118, -0.0078,  0.0120,  0.0111,\n",
              "           -0.0486,  0.0198,  0.0609,  0.0583,  0.0293, -0.1178,  0.0059,  0.0496,\n",
              "           -0.0705,  0.1018,  0.0710,  0.1202,  0.0691,  0.0288,  0.0331,  0.0880,\n",
              "            0.1196, -0.1027,  0.0693,  0.0592, -0.0359,  0.0514, -0.0577, -0.1006,\n",
              "            0.0057,  0.0116, -0.0031,  0.0398, -0.1858,  0.1349,  0.0279, -0.0446,\n",
              "           -0.0559,  0.0789, -0.0199, -0.0020,  0.0674,  0.0239,  0.0158, -0.0063,\n",
              "            0.0816,  0.0501, -0.0799,  0.0204,  0.0366, -0.0386,  0.0520,  0.0348,\n",
              "            0.0158,  0.0492, -0.0709,  0.0372, -0.0346,  0.0505, -0.0144,  0.0228],\n",
              "          device='cuda:0')},\n",
              "  8: {'momentum_buffer': tensor([[[[ 1.2945e-02,  1.5628e-02,  8.6836e-03],\n",
              "             [ 1.1886e-02,  2.0522e-02,  6.1035e-03],\n",
              "             [ 7.7997e-03,  9.5877e-03,  2.2043e-03]],\n",
              "   \n",
              "            [[ 6.2303e-03, -1.2524e-03, -8.3980e-03],\n",
              "             [ 1.3761e-02,  5.9295e-03,  1.3355e-04],\n",
              "             [ 2.2136e-02,  1.5931e-02,  1.6282e-02]],\n",
              "   \n",
              "            [[ 2.2551e-04,  1.4166e-02,  1.2877e-02],\n",
              "             [-1.1933e-02,  2.3454e-03,  6.3110e-03],\n",
              "             [-1.2169e-02, -9.3906e-03, -5.3797e-03]],\n",
              "   \n",
              "            ...,\n",
              "   \n",
              "            [[ 1.5259e-03,  8.4947e-03,  8.2260e-04],\n",
              "             [-1.2372e-02, -3.4757e-03,  4.7243e-03],\n",
              "             [-1.6804e-02, -6.8422e-03,  3.7231e-03]],\n",
              "   \n",
              "            [[ 1.6848e-03,  1.2952e-03, -1.4064e-03],\n",
              "             [-7.9498e-03, -2.7479e-03,  1.4562e-03],\n",
              "             [-4.4071e-03, -5.7009e-03,  2.5787e-03]],\n",
              "   \n",
              "            [[-2.8748e-03, -1.7352e-02, -8.5444e-03],\n",
              "             [-1.4533e-02, -2.1592e-02, -1.7570e-02],\n",
              "             [-1.5350e-02, -4.8406e-03, -7.2504e-03]]],\n",
              "   \n",
              "   \n",
              "           [[[ 2.7254e-03, -2.3159e-03, -2.7286e-03],\n",
              "             [ 4.7657e-03,  2.8679e-03,  1.7502e-03],\n",
              "             [ 3.2705e-03,  6.1789e-03,  5.7574e-03]],\n",
              "   \n",
              "            [[-8.4687e-03, -9.8123e-04, -1.2275e-03],\n",
              "             [-7.5754e-03, -6.5053e-03, -4.2588e-03],\n",
              "             [ 9.4674e-04,  5.3118e-03,  2.9762e-03]],\n",
              "   \n",
              "            [[ 1.1859e-04, -1.1735e-03, -2.1179e-04],\n",
              "             [-1.6428e-03,  2.8394e-03,  7.9917e-04],\n",
              "             [ 1.0268e-03, -2.2839e-03, -5.5182e-03]],\n",
              "   \n",
              "            ...,\n",
              "   \n",
              "            [[-5.9383e-03, -1.6121e-03,  8.3882e-04],\n",
              "             [-9.1598e-03, -2.3701e-03, -8.5400e-03],\n",
              "             [ 4.0417e-03, -2.4489e-03, -3.9249e-03]],\n",
              "   \n",
              "            [[ 3.3936e-04,  7.9251e-04, -1.6697e-03],\n",
              "             [-1.4906e-03,  1.5626e-04,  6.5592e-03],\n",
              "             [-4.1286e-03,  2.9316e-03,  4.4141e-03]],\n",
              "   \n",
              "            [[ 7.2686e-03, -1.4374e-03, -1.6516e-02],\n",
              "             [-1.3397e-03,  1.2686e-02, -1.4519e-03],\n",
              "             [-6.2682e-03, -2.0660e-03, -1.2850e-02]]],\n",
              "   \n",
              "   \n",
              "           [[[-5.2455e-03, -9.5201e-04, -3.6728e-03],\n",
              "             [-6.7157e-03, -1.9814e-03, -2.0848e-03],\n",
              "             [-4.0728e-04,  7.5925e-04,  7.3236e-04]],\n",
              "   \n",
              "            [[ 3.2858e-03,  2.5281e-03,  3.7832e-03],\n",
              "             [ 8.1852e-03,  2.9553e-03,  3.2223e-03],\n",
              "             [ 9.7694e-04,  1.5159e-03, -9.2057e-04]],\n",
              "   \n",
              "            [[ 9.6001e-04,  2.6831e-03, -2.8217e-03],\n",
              "             [-4.8802e-04,  3.1930e-03,  1.1313e-04],\n",
              "             [-1.0664e-03,  2.1342e-04,  8.8806e-04]],\n",
              "   \n",
              "            ...,\n",
              "   \n",
              "            [[ 1.1028e-02,  9.6559e-03,  9.0077e-03],\n",
              "             [ 1.0378e-02,  9.4821e-03,  5.0308e-03],\n",
              "             [ 3.8883e-03,  4.7937e-03,  1.1426e-03]],\n",
              "   \n",
              "            [[-4.3127e-03, -1.0340e-02, -7.2710e-03],\n",
              "             [-5.4917e-03, -6.2125e-03, -4.1464e-03],\n",
              "             [-2.1055e-03,  9.9239e-04, -1.4603e-03]],\n",
              "   \n",
              "            [[ 7.4534e-03,  6.4496e-03,  1.4437e-03],\n",
              "             [ 6.2557e-03, -1.3922e-04, -9.6057e-03],\n",
              "             [ 4.4304e-03, -3.4649e-03, -5.5140e-03]]],\n",
              "   \n",
              "   \n",
              "           ...,\n",
              "   \n",
              "   \n",
              "           [[[ 3.4805e-03,  5.9256e-03,  4.4235e-03],\n",
              "             [ 4.3443e-03,  3.3073e-03,  2.4712e-03],\n",
              "             [ 5.4194e-03,  3.8633e-03,  3.6518e-03]],\n",
              "   \n",
              "            [[-6.0546e-03, -1.1496e-03, -4.5037e-05],\n",
              "             [-8.6833e-03, -3.8553e-03,  1.0202e-03],\n",
              "             [ 1.7655e-03, -3.1335e-03, -1.3476e-03]],\n",
              "   \n",
              "            [[ 3.1058e-03,  4.1288e-03,  6.3529e-04],\n",
              "             [ 3.3639e-03,  3.4933e-04,  7.0835e-04],\n",
              "             [ 3.7230e-03,  1.0759e-04,  3.1039e-03]],\n",
              "   \n",
              "            ...,\n",
              "   \n",
              "            [[ 1.5665e-02,  2.1814e-03,  5.6658e-03],\n",
              "             [ 7.6236e-03, -7.8231e-03, -1.0823e-03],\n",
              "             [ 4.7797e-03, -1.8537e-04,  5.3453e-03]],\n",
              "   \n",
              "            [[ 3.2510e-03,  7.7429e-03,  1.2036e-02],\n",
              "             [ 1.3462e-03, -3.2768e-03,  1.2826e-04],\n",
              "             [-1.5971e-04, -1.6837e-03,  4.4565e-03]],\n",
              "   \n",
              "            [[ 8.4441e-03,  5.5567e-03,  5.8484e-03],\n",
              "             [ 7.5701e-03, -1.8772e-03, -4.3348e-03],\n",
              "             [ 1.0384e-03, -4.6038e-03,  7.4215e-03]]],\n",
              "   \n",
              "   \n",
              "           [[[-4.8700e-03,  2.1712e-04,  4.2748e-03],\n",
              "             [-6.3351e-03, -3.1799e-05,  5.5642e-03],\n",
              "             [-8.5540e-03, -5.1037e-03,  1.3662e-03]],\n",
              "   \n",
              "            [[ 1.0341e-03,  1.4634e-02,  1.7893e-02],\n",
              "             [-1.1138e-02, -2.7483e-03,  3.8308e-03],\n",
              "             [-1.1508e-05, -4.0586e-03,  4.2179e-03]],\n",
              "   \n",
              "            [[ 1.8598e-03,  3.4658e-03,  6.3952e-04],\n",
              "             [ 3.3462e-03,  6.8928e-03, -2.7168e-03],\n",
              "             [ 6.4446e-03,  1.2292e-02,  3.8986e-03]],\n",
              "   \n",
              "            ...,\n",
              "   \n",
              "            [[-1.6094e-03,  4.2018e-03,  3.1645e-03],\n",
              "             [-1.6228e-03, -2.7432e-03,  4.6995e-03],\n",
              "             [-2.7144e-03, -3.7918e-03,  2.7597e-03]],\n",
              "   \n",
              "            [[-5.5995e-03, -4.9014e-03, -3.5192e-03],\n",
              "             [-1.7471e-03, -3.2309e-03,  1.3049e-03],\n",
              "             [-2.8323e-03, -1.1343e-03, -1.8420e-03]],\n",
              "   \n",
              "            [[ 2.4324e-03, -1.2461e-03,  1.1843e-02],\n",
              "             [-2.3012e-03,  4.1192e-03,  1.0260e-02],\n",
              "             [-1.4047e-03, -2.7416e-03,  1.6860e-03]]],\n",
              "   \n",
              "   \n",
              "           [[[ 1.0053e-02,  9.0120e-03,  8.4425e-03],\n",
              "             [ 6.6973e-03,  6.3682e-03,  7.3574e-03],\n",
              "             [ 4.3595e-03,  4.9562e-03,  8.1189e-03]],\n",
              "   \n",
              "            [[ 4.6204e-03,  3.2164e-03,  5.6968e-03],\n",
              "             [ 2.6787e-03,  3.7231e-03,  2.2010e-03],\n",
              "             [ 3.1708e-03,  2.7329e-03,  1.0235e-03]],\n",
              "   \n",
              "            [[ 6.6924e-04, -3.9518e-03, -6.6939e-03],\n",
              "             [ 4.9213e-04, -6.9114e-03, -7.8931e-03],\n",
              "             [-1.7850e-04, -3.8852e-03, -6.0079e-03]],\n",
              "   \n",
              "            ...,\n",
              "   \n",
              "            [[ 4.0629e-04, -3.8450e-03, -2.2108e-03],\n",
              "             [-2.0841e-03, -5.8715e-03, -6.0956e-03],\n",
              "             [-5.4152e-04, -3.4201e-03, -4.6037e-03]],\n",
              "   \n",
              "            [[ 9.8155e-04,  3.9301e-04,  4.0277e-04],\n",
              "             [ 1.3197e-03, -1.7228e-03, -2.2856e-03],\n",
              "             [ 8.9323e-04, -2.2667e-03,  4.2986e-04]],\n",
              "   \n",
              "            [[-1.9749e-03,  2.5358e-03,  1.0499e-03],\n",
              "             [ 1.8182e-03, -7.9965e-03, -1.2531e-02],\n",
              "             [ 3.3672e-04, -1.1186e-03, -3.2529e-03]]]], device='cuda:0')},\n",
              "  9: {'momentum_buffer': tensor([ 3.3132e-06, -3.7666e-06,  8.5202e-06, -5.0805e-06,  7.6307e-06,\n",
              "            7.2939e-06, -6.9118e-07, -3.2242e-06,  3.4070e-06,  2.2885e-06,\n",
              "            4.1867e-06, -8.2791e-06, -7.1468e-06, -4.9175e-06,  8.5897e-06,\n",
              "           -6.0641e-06, -3.4828e-06,  8.7627e-06, -6.1011e-06, -1.5966e-07,\n",
              "            1.1452e-06,  5.2279e-06,  4.0067e-06, -3.3447e-06, -6.4710e-06,\n",
              "           -5.2760e-06, -7.1595e-07, -1.0510e-06,  4.0644e-06,  8.9672e-06,\n",
              "           -2.9300e-06,  3.4147e-06, -1.5387e-06, -3.5919e-06, -8.8077e-06,\n",
              "            8.2322e-06,  3.5630e-06,  8.0001e-06,  2.0777e-06, -6.7733e-06,\n",
              "            7.5020e-06, -6.4256e-07,  3.6322e-06,  5.6866e-06, -4.6591e-06,\n",
              "            6.2368e-06, -6.9142e-06, -9.2260e-08, -1.1239e-06,  2.4464e-06,\n",
              "            6.4835e-06,  7.2745e-06,  7.3668e-06, -1.4314e-06,  7.3104e-06,\n",
              "            4.9727e-06,  9.1520e-06, -6.3304e-06, -5.9300e-06,  3.1918e-06,\n",
              "           -8.9330e-06,  1.8729e-06,  3.6196e-06, -7.0720e-06], device='cuda:0')},\n",
              "  10: {'momentum_buffer': tensor([ 0.0508, -0.1099,  0.0468, -0.0120, -0.0218,  0.0427,  0.0824, -0.0020,\n",
              "           -0.0778, -0.0425, -0.0062, -0.0173, -0.0009,  0.0013, -0.0538,  0.0129,\n",
              "           -0.0427,  0.0815,  0.0034, -0.0107,  0.0181, -0.0030, -0.0046,  0.0342,\n",
              "           -0.0973, -0.0184, -0.0490,  0.0165, -0.1467,  0.0401, -0.0014, -0.0021,\n",
              "           -0.0077,  0.0140,  0.0763,  0.0391, -0.0920, -0.0293, -0.1624,  0.0476,\n",
              "           -0.1131,  0.0505,  0.0263,  0.0290,  0.0547,  0.1002, -0.1015, -0.0007,\n",
              "           -0.0204,  0.0526,  0.0027,  0.0286,  0.0722,  0.0613,  0.0170, -0.0880,\n",
              "           -0.0305, -0.1415,  0.0202, -0.2011, -0.0612,  0.1515,  0.0402,  0.0898],\n",
              "          device='cuda:0')},\n",
              "  11: {'momentum_buffer': tensor([ 6.9969e-02, -5.4796e-02,  2.4321e-02, -3.7046e-02, -3.4656e-02,\n",
              "            3.6248e-02,  1.4539e-01,  7.5343e-03, -8.5691e-02, -5.6488e-02,\n",
              "           -1.2764e-02, -4.2496e-02,  1.6682e-02,  2.3864e-03, -8.5465e-02,\n",
              "            9.5949e-03, -2.4082e-02,  8.8838e-02,  4.7137e-03, -2.8770e-02,\n",
              "            7.0261e-03,  1.2637e-02, -2.6340e-03,  2.5358e-02, -1.0255e-01,\n",
              "           -2.9729e-02, -2.7984e-02, -6.4231e-03, -1.3117e-01,  6.6145e-02,\n",
              "           -2.6572e-02, -3.9158e-05, -1.3406e-02,  1.6869e-02,  5.2173e-02,\n",
              "           -4.9239e-02, -9.9772e-02,  1.4291e-02, -1.3109e-01,  4.0910e-02,\n",
              "           -1.2574e-01,  1.1096e-01,  1.2364e-02,  2.1887e-02,  3.0480e-02,\n",
              "            9.0618e-02, -9.3531e-02, -2.7560e-02, -2.7508e-02,  1.6569e-02,\n",
              "            1.7634e-02,  1.2253e-02,  9.4785e-02,  6.9413e-02,  1.5861e-04,\n",
              "           -9.3867e-02, -3.4988e-02, -1.4431e-01,  1.5775e-02, -1.8034e-01,\n",
              "           -6.9935e-02,  1.2850e-01, -1.6070e-04,  7.1780e-02], device='cuda:0')},\n",
              "  12: {'momentum_buffer': tensor([[[[ 9.7352e-03,  4.6524e-03,  3.8508e-03],\n",
              "             [ 4.2018e-03,  8.1688e-03,  8.6510e-04],\n",
              "             [ 3.1333e-04,  3.2717e-03,  1.2362e-03]],\n",
              "   \n",
              "            [[-5.4957e-03, -3.4803e-03, -4.5707e-03],\n",
              "             [-4.0969e-03, -4.7903e-03, -4.4969e-03],\n",
              "             [-9.4646e-03, -2.0512e-03, -1.4671e-03]],\n",
              "   \n",
              "            [[-6.5567e-04, -5.4192e-03, -8.8352e-03],\n",
              "             [-4.3212e-03, -6.2913e-03, -2.4639e-03],\n",
              "             [-7.2779e-04, -3.3492e-03,  4.2150e-03]],\n",
              "   \n",
              "            ...,\n",
              "   \n",
              "            [[ 1.7681e-03, -3.3298e-03,  8.1063e-03],\n",
              "             [-6.4810e-04, -6.8471e-03,  6.9175e-03],\n",
              "             [-2.9932e-03, -3.3763e-03,  2.7465e-03]],\n",
              "   \n",
              "            [[ 1.9790e-03,  4.5946e-03,  5.3069e-04],\n",
              "             [-2.8390e-03, -2.8592e-03, -4.0461e-03],\n",
              "             [-7.3672e-03, -7.2240e-03, -8.3899e-03]],\n",
              "   \n",
              "            [[ 2.2469e-03,  3.3284e-03,  1.4410e-03],\n",
              "             [ 1.3424e-03,  2.8191e-03,  2.4518e-03],\n",
              "             [ 1.9505e-03, -9.2549e-04,  3.3257e-03]]],\n",
              "   \n",
              "   \n",
              "           [[[ 1.5320e-03, -2.6602e-03, -1.0683e-03],\n",
              "             [ 3.9621e-03, -3.0725e-03, -4.7153e-03],\n",
              "             [ 4.0803e-04, -1.5110e-03, -1.8562e-03]],\n",
              "   \n",
              "            [[ 2.0120e-03,  2.2217e-03,  5.1466e-03],\n",
              "             [ 7.1979e-04, -2.0019e-03,  6.1886e-03],\n",
              "             [ 1.7150e-03, -1.2015e-03,  3.7722e-03]],\n",
              "   \n",
              "            [[-9.4963e-03, -1.4153e-02, -3.7111e-03],\n",
              "             [-2.9722e-03, -8.4142e-03, -1.8005e-03],\n",
              "             [ 6.0224e-03,  2.5542e-03,  1.9660e-03]],\n",
              "   \n",
              "            ...,\n",
              "   \n",
              "            [[ 5.9595e-03,  4.4092e-03, -1.2253e-03],\n",
              "             [ 9.1397e-03,  3.6754e-03,  1.3352e-03],\n",
              "             [ 1.5324e-03,  4.5442e-03,  6.4006e-03]],\n",
              "   \n",
              "            [[-2.9444e-03, -1.4971e-03, -4.0385e-03],\n",
              "             [ 3.1798e-03,  1.1566e-03, -2.7819e-03],\n",
              "             [-4.3068e-03, -2.8381e-03, -8.2136e-04]],\n",
              "   \n",
              "            [[ 6.2963e-04, -2.3385e-03, -5.7516e-04],\n",
              "             [ 2.2404e-03, -1.5837e-03, -1.2143e-03],\n",
              "             [-1.9400e-03, -2.7328e-04, -1.0474e-03]]],\n",
              "   \n",
              "   \n",
              "           [[[ 1.6770e-03,  1.0914e-03, -1.8009e-03],\n",
              "             [ 4.9017e-03,  3.1418e-03, -3.2152e-03],\n",
              "             [ 3.5064e-03, -1.2299e-03, -3.0837e-03]],\n",
              "   \n",
              "            [[-1.3886e-03,  6.6345e-03,  1.1456e-03],\n",
              "             [-2.4122e-03, -8.4952e-03, -7.5058e-03],\n",
              "             [-3.8511e-03, -5.3705e-03, -5.1167e-03]],\n",
              "   \n",
              "            [[ 3.4754e-04, -5.4527e-04, -1.9799e-03],\n",
              "             [-1.4489e-03, -3.3929e-04, -7.0685e-04],\n",
              "             [ 2.0642e-03,  8.2743e-03,  2.8627e-03]],\n",
              "   \n",
              "            ...,\n",
              "   \n",
              "            [[-5.0181e-03, -8.2518e-03, -9.0824e-03],\n",
              "             [-2.5542e-03, -6.4168e-03, -6.7988e-03],\n",
              "             [ 6.3633e-04, -4.9839e-03, -4.9275e-03]],\n",
              "   \n",
              "            [[ 6.1589e-03, -5.9795e-03, -8.9390e-03],\n",
              "             [ 1.5468e-03, -1.0568e-02, -1.0638e-02],\n",
              "             [ 7.2186e-03,  1.5256e-03, -2.5904e-03]],\n",
              "   \n",
              "            [[ 2.1065e-03,  3.5361e-03,  1.2859e-03],\n",
              "             [ 1.6383e-03,  3.5167e-03,  2.5027e-03],\n",
              "             [-4.9165e-04,  1.7824e-03,  9.5493e-04]]],\n",
              "   \n",
              "   \n",
              "           ...,\n",
              "   \n",
              "   \n",
              "           [[[-3.2666e-03,  1.6679e-03,  2.2127e-03],\n",
              "             [-3.7791e-03, -9.1212e-04,  7.0598e-04],\n",
              "             [-1.0992e-02, -1.1646e-03,  1.6361e-03]],\n",
              "   \n",
              "            [[ 2.5038e-03, -8.2182e-03, -6.7577e-03],\n",
              "             [ 7.7401e-03,  2.3443e-03, -7.4340e-03],\n",
              "             [ 1.3963e-02,  1.7056e-03, -6.7749e-03]],\n",
              "   \n",
              "            [[-3.4832e-03, -3.2418e-03,  4.5847e-04],\n",
              "             [ 2.9367e-04,  5.1156e-03, -2.1537e-04],\n",
              "             [-4.0823e-03, -3.9330e-04,  1.3634e-04]],\n",
              "   \n",
              "            ...,\n",
              "   \n",
              "            [[-1.3662e-02, -4.9713e-03, -2.7274e-03],\n",
              "             [-1.8355e-02,  1.9797e-03,  3.6375e-03],\n",
              "             [-8.0134e-03,  3.5800e-05, -1.3826e-02]],\n",
              "   \n",
              "            [[-1.2324e-02, -2.0485e-02, -2.0096e-02],\n",
              "             [-1.8566e-02, -1.4541e-02, -1.6773e-02],\n",
              "             [-1.1126e-02, -1.3940e-02, -1.4560e-02]],\n",
              "   \n",
              "            [[ 7.8993e-03,  1.1573e-02,  8.7706e-03],\n",
              "             [ 5.8486e-03,  8.8258e-03,  8.5713e-03],\n",
              "             [ 3.0521e-04,  5.3280e-03,  4.9395e-03]]],\n",
              "   \n",
              "   \n",
              "           [[[ 3.6240e-03, -3.3763e-04,  5.8922e-04],\n",
              "             [ 1.0985e-02, -7.1605e-04, -5.8119e-03],\n",
              "             [ 1.5205e-02,  1.0005e-02,  1.1744e-04]],\n",
              "   \n",
              "            [[ 5.9003e-05,  6.4321e-04, -3.2387e-03],\n",
              "             [-4.7149e-03, -2.1070e-03, -8.0300e-04],\n",
              "             [-6.7567e-03, -4.6536e-03, -2.5285e-03]],\n",
              "   \n",
              "            [[-5.6304e-03, -5.7692e-03, -4.8588e-03],\n",
              "             [-7.4793e-03, -1.4315e-02, -9.0388e-03],\n",
              "             [-6.6834e-03, -1.0216e-02, -3.0934e-03]],\n",
              "   \n",
              "            ...,\n",
              "   \n",
              "            [[-8.2288e-04, -2.8778e-03,  9.1010e-03],\n",
              "             [-4.5852e-03, -2.1944e-03, -2.3163e-03],\n",
              "             [-3.3421e-03,  8.6034e-04, -3.8521e-03]],\n",
              "   \n",
              "            [[ 1.4326e-02,  1.7466e-02,  5.6146e-03],\n",
              "             [ 1.4250e-02,  1.6701e-02,  1.7406e-02],\n",
              "             [ 1.0314e-02,  7.4978e-03,  1.4584e-02]],\n",
              "   \n",
              "            [[ 3.2164e-03,  3.3322e-03,  7.2142e-03],\n",
              "             [ 2.0690e-03, -9.8509e-04, -6.6497e-04],\n",
              "             [ 3.8393e-03, -9.5258e-04, -4.0122e-03]]],\n",
              "   \n",
              "   \n",
              "           [[[ 1.0166e-03, -9.8182e-04,  4.3092e-03],\n",
              "             [ 1.0435e-02,  3.9280e-03,  5.0643e-03],\n",
              "             [ 1.0353e-02,  6.3553e-03,  1.0317e-02]],\n",
              "   \n",
              "            [[-2.4162e-03,  2.2901e-03,  1.3457e-02],\n",
              "             [ 1.0365e-03,  4.0209e-03,  1.0222e-02],\n",
              "             [-5.3898e-04,  6.0940e-03,  1.2064e-02]],\n",
              "   \n",
              "            [[-2.5475e-03,  6.5652e-04,  1.9294e-03],\n",
              "             [-6.6180e-04,  4.7876e-03,  6.1017e-04],\n",
              "             [ 4.8373e-03,  4.1948e-03,  1.0494e-03]],\n",
              "   \n",
              "            ...,\n",
              "   \n",
              "            [[ 6.2569e-03,  9.8978e-04,  2.5305e-03],\n",
              "             [ 8.6718e-03,  1.0509e-02,  6.8080e-03],\n",
              "             [ 4.3010e-03,  4.6536e-03,  5.5942e-03]],\n",
              "   \n",
              "            [[ 6.5409e-03,  1.4810e-02,  1.1402e-02],\n",
              "             [ 1.4745e-03,  1.5584e-02,  1.1846e-02],\n",
              "             [-9.5062e-04,  1.3681e-02,  6.6896e-03]],\n",
              "   \n",
              "            [[-6.8197e-04, -7.3256e-03, -6.5056e-03],\n",
              "             [ 1.0029e-03, -7.9029e-03, -6.1615e-03],\n",
              "             [ 4.0854e-03, -5.4245e-03, -5.5197e-03]]]], device='cuda:0')},\n",
              "  13: {'momentum_buffer': tensor([-4.9836e-06, -6.8603e-06,  7.8870e-07, -7.1848e-06, -6.2851e-06,\n",
              "           -2.1109e-06,  3.0840e-07, -5.4253e-06,  6.9322e-06, -4.3021e-07,\n",
              "            2.8339e-06, -8.7910e-06,  6.2426e-06,  7.7003e-06,  4.3660e-06,\n",
              "            4.6579e-06,  6.6781e-06,  3.9499e-06,  8.7234e-06, -6.2075e-06,\n",
              "           -6.2130e-06,  9.8493e-07, -3.9789e-06,  8.2580e-06, -4.5421e-06,\n",
              "            7.6706e-06,  1.1230e-07, -7.7848e-06, -8.3293e-06,  3.2114e-06,\n",
              "           -8.1448e-06,  1.2328e-06, -7.0483e-07, -4.2361e-06,  8.3030e-06,\n",
              "           -2.3481e-06, -7.1877e-06,  2.1278e-06,  1.6449e-06, -4.0066e-06,\n",
              "            8.4483e-06, -4.8733e-06, -4.6784e-06,  4.8001e-06, -5.1962e-06,\n",
              "           -9.0087e-06, -6.9087e-07, -7.7926e-06,  4.3576e-06, -4.7445e-06,\n",
              "            4.9013e-06,  7.6986e-06, -8.5129e-06,  5.3240e-06, -2.4986e-06,\n",
              "           -1.9524e-06, -2.3496e-06, -7.7005e-07, -7.7719e-06, -5.1373e-06,\n",
              "            5.4465e-06, -2.8530e-06,  8.6610e-06, -2.5832e-07], device='cuda:0')},\n",
              "  14: {'momentum_buffer': tensor([ 0.0009,  0.0294, -0.0406,  0.0530,  0.0113,  0.0064,  0.1047,  0.0755,\n",
              "            0.0010,  0.0091, -0.0179, -0.0019, -0.0118, -0.0127,  0.0283, -0.0506,\n",
              "            0.0526,  0.0022, -0.0363, -0.0081,  0.0247, -0.0155, -0.0012, -0.0563,\n",
              "           -0.0205, -0.0934, -0.1542,  0.0489,  0.0011,  0.0691, -0.0505,  0.0222,\n",
              "           -0.0878,  0.0144,  0.0277, -0.0832, -0.0279,  0.0502,  0.0071, -0.0443,\n",
              "            0.0138,  0.0251,  0.0373,  0.0108, -0.0415,  0.0162,  0.1165, -0.0131,\n",
              "            0.0441,  0.0676, -0.0505, -0.0016, -0.0601,  0.0722, -0.0474, -0.0092,\n",
              "           -0.0636, -0.0483,  0.0351,  0.0483,  0.0267, -0.0761,  0.0766, -0.0242],\n",
              "          device='cuda:0')},\n",
              "  15: {'momentum_buffer': tensor([ 0.0071,  0.0264, -0.0241,  0.0283,  0.0009, -0.0057,  0.0865,  0.0747,\n",
              "           -0.0048,  0.0140, -0.0125, -0.0138, -0.0162, -0.0254,  0.0252, -0.0511,\n",
              "            0.0172, -0.0097, -0.0159,  0.0039,  0.0266, -0.0175,  0.0088, -0.0519,\n",
              "           -0.0153, -0.0530, -0.0998,  0.0427, -0.0154,  0.0186, -0.0479, -0.0014,\n",
              "           -0.0736,  0.0100, -0.0024, -0.0670, -0.0171,  0.0473,  0.0293, -0.0413,\n",
              "            0.0085,  0.0057,  0.0314, -0.0003, -0.0190,  0.0222,  0.0872, -0.0001,\n",
              "            0.0452,  0.0409, -0.0151, -0.0397, -0.0459,  0.0678, -0.0434, -0.0061,\n",
              "           -0.0540, -0.0450,  0.0331,  0.0533,  0.0366, -0.0386,  0.0653, -0.0194],\n",
              "          device='cuda:0')},\n",
              "  16: {'momentum_buffer': tensor([[[[-6.4760e-04,  2.1411e-03, -1.0137e-03],\n",
              "             [ 6.3877e-04, -7.4154e-04, -1.3021e-03],\n",
              "             [-1.3810e-04,  7.8936e-04,  2.3243e-03]],\n",
              "   \n",
              "            [[ 2.5743e-03,  3.6697e-03,  2.3831e-03],\n",
              "             [-2.6862e-03, -1.5069e-03,  1.7355e-04],\n",
              "             [-4.7989e-03, -6.7891e-03, -3.5443e-03]],\n",
              "   \n",
              "            [[-6.1955e-04, -3.8930e-04, -2.5941e-03],\n",
              "             [ 2.9791e-03,  4.5796e-04,  2.6115e-04],\n",
              "             [ 1.2597e-03, -2.7799e-04,  3.9560e-03]],\n",
              "   \n",
              "            ...,\n",
              "   \n",
              "            [[ 2.8101e-03,  2.1991e-03, -3.7289e-03],\n",
              "             [ 2.5919e-04, -3.8000e-03, -6.0486e-03],\n",
              "             [-2.2051e-03, -5.0166e-03, -1.9781e-03]],\n",
              "   \n",
              "            [[ 3.8644e-03, -2.1285e-03, -5.2048e-03],\n",
              "             [-6.8644e-04, -1.1688e-02, -9.3476e-03],\n",
              "             [-9.3751e-04, -1.0910e-02, -3.8832e-03]],\n",
              "   \n",
              "            [[-3.2520e-03,  3.8219e-03, -1.1221e-03],\n",
              "             [-1.0496e-02, -2.6481e-03,  6.1962e-04],\n",
              "             [-8.5085e-03, -2.9689e-03,  2.2901e-03]]],\n",
              "   \n",
              "   \n",
              "           [[[ 2.5042e-03,  4.8553e-03,  3.2065e-03],\n",
              "             [ 1.8827e-03,  3.4241e-03,  2.8105e-03],\n",
              "             [ 1.2417e-03,  1.6280e-03,  2.3709e-03]],\n",
              "   \n",
              "            [[-7.0290e-05, -2.2641e-03,  5.6250e-04],\n",
              "             [-9.7320e-04, -2.7441e-03,  2.9652e-06],\n",
              "             [ 1.0077e-03,  6.0813e-04,  2.0515e-03]],\n",
              "   \n",
              "            [[ 2.6105e-03,  3.9847e-03,  4.7368e-03],\n",
              "             [ 4.5259e-03,  5.4671e-03,  5.2688e-03],\n",
              "             [-1.4397e-04,  5.2486e-04,  2.2359e-03]],\n",
              "   \n",
              "            ...,\n",
              "   \n",
              "            [[-5.0359e-04, -6.3556e-04,  3.8777e-03],\n",
              "             [-2.1525e-03, -3.9303e-03,  2.1282e-03],\n",
              "             [ 4.5240e-04, -2.0287e-03, -2.0793e-03]],\n",
              "   \n",
              "            [[ 3.6784e-03,  4.3857e-03,  4.3119e-03],\n",
              "             [-8.7984e-04,  1.8067e-03,  5.5077e-03],\n",
              "             [ 2.3845e-03,  2.9527e-03,  6.6070e-03]],\n",
              "   \n",
              "            [[ 1.3529e-03,  1.2308e-03,  2.8503e-03],\n",
              "             [ 1.9036e-03, -7.9949e-04,  1.7310e-03],\n",
              "             [ 2.9203e-03,  3.8353e-04,  2.5021e-03]]],\n",
              "   \n",
              "   \n",
              "           [[[-3.7683e-03, -2.3637e-03,  6.3119e-04],\n",
              "             [-2.6104e-03, -1.0074e-03,  1.4283e-03],\n",
              "             [ 1.9618e-05,  6.7214e-04,  1.6137e-03]],\n",
              "   \n",
              "            [[ 6.0915e-03,  4.7567e-03,  4.8240e-03],\n",
              "             [ 2.8171e-03,  3.0844e-03,  8.0443e-03],\n",
              "             [-1.8514e-03, -3.2186e-03,  4.9175e-03]],\n",
              "   \n",
              "            [[-4.9487e-04, -2.6901e-03, -1.7619e-03],\n",
              "             [ 3.8809e-03,  1.7670e-03,  6.8569e-04],\n",
              "             [ 4.6797e-03,  2.6827e-03,  2.9786e-03]],\n",
              "   \n",
              "            ...,\n",
              "   \n",
              "            [[-8.2348e-04, -3.9233e-03, -6.3493e-03],\n",
              "             [ 3.6816e-03, -1.5079e-04, -6.9578e-03],\n",
              "             [ 9.5105e-04,  6.4036e-04, -3.5097e-03]],\n",
              "   \n",
              "            [[-3.7456e-03,  2.9487e-03,  6.7274e-03],\n",
              "             [-4.1599e-03, -6.5087e-03, -8.2119e-04],\n",
              "             [-2.3881e-04, -5.4390e-03, -3.5607e-03]],\n",
              "   \n",
              "            [[ 1.0125e-02,  3.1577e-03, -3.0271e-04],\n",
              "             [ 5.1186e-04, -1.7940e-03, -4.7568e-04],\n",
              "             [ 3.0299e-03, -5.5231e-03,  1.9876e-03]]],\n",
              "   \n",
              "   \n",
              "           ...,\n",
              "   \n",
              "   \n",
              "           [[[-1.7332e-03, -2.0680e-03, -1.2921e-03],\n",
              "             [ 8.7017e-05, -1.0742e-03, -7.9323e-04],\n",
              "             [-3.7696e-04, -7.6986e-04, -1.0995e-03]],\n",
              "   \n",
              "            [[ 9.0648e-04,  3.4974e-03, -1.5763e-03],\n",
              "             [ 2.4684e-03,  6.0464e-03,  1.9377e-04],\n",
              "             [-6.0412e-04,  2.4001e-03, -1.8561e-03]],\n",
              "   \n",
              "            [[ 1.5311e-03, -6.7601e-04, -1.3624e-03],\n",
              "             [ 8.5117e-04, -2.3313e-03, -3.3568e-03],\n",
              "             [ 9.2957e-04, -1.9656e-03, -2.4420e-03]],\n",
              "   \n",
              "            ...,\n",
              "   \n",
              "            [[-2.5428e-03, -2.1584e-03, -5.4278e-03],\n",
              "             [-1.4651e-03, -2.6537e-04, -3.3465e-03],\n",
              "             [-4.7210e-04,  2.1216e-03,  4.2849e-04]],\n",
              "   \n",
              "            [[-6.6722e-03, -1.2261e-02, -2.4268e-02],\n",
              "             [-4.2309e-03, -5.2362e-03, -1.5951e-02],\n",
              "             [-3.0299e-03, -2.1809e-03, -5.5738e-03]],\n",
              "   \n",
              "            [[-6.0918e-03, -7.1325e-03, -6.3403e-03],\n",
              "             [-2.4972e-03,  1.4949e-03, -4.7377e-04],\n",
              "             [-5.7974e-03,  1.1457e-03, -2.6806e-04]]],\n",
              "   \n",
              "   \n",
              "           [[[-3.1503e-03,  7.3729e-04,  2.2139e-03],\n",
              "             [ 1.5482e-04,  4.7866e-03,  4.1879e-03],\n",
              "             [-5.0580e-04,  2.7816e-03,  8.3959e-04]],\n",
              "   \n",
              "            [[-3.9277e-03, -2.8491e-03, -3.1279e-03],\n",
              "             [-2.6401e-03, -1.4405e-03, -1.3820e-03],\n",
              "             [-2.5959e-03, -2.8836e-03, -1.2384e-03]],\n",
              "   \n",
              "            [[ 1.8771e-03,  4.6845e-03, -4.5972e-05],\n",
              "             [ 3.9298e-03,  4.5835e-03,  3.7374e-04],\n",
              "             [-3.1669e-04,  1.5222e-03, -2.2668e-03]],\n",
              "   \n",
              "            ...,\n",
              "   \n",
              "            [[ 1.8916e-03, -2.2136e-03, -9.0986e-03],\n",
              "             [ 3.1851e-03,  1.6689e-03, -3.4353e-04],\n",
              "             [ 2.6361e-03,  1.1811e-03,  5.0766e-04]],\n",
              "   \n",
              "            [[-2.5323e-03, -7.8168e-03, -5.0637e-03],\n",
              "             [-1.0128e-03, -5.5585e-03, -4.2482e-03],\n",
              "             [ 1.5251e-03,  2.0037e-03, -1.2628e-03]],\n",
              "   \n",
              "            [[-2.5666e-03, -1.8085e-03, -4.3250e-03],\n",
              "             [ 1.7894e-06,  5.1746e-03,  3.8082e-03],\n",
              "             [-9.5479e-04,  1.6335e-03,  2.5165e-03]]],\n",
              "   \n",
              "   \n",
              "           [[[ 3.3433e-03,  2.8024e-03,  1.7585e-03],\n",
              "             [ 2.0940e-03,  1.3459e-03,  1.0981e-03],\n",
              "             [ 1.5742e-03,  1.6891e-03,  1.6244e-03]],\n",
              "   \n",
              "            [[ 1.2675e-04, -5.6754e-04,  9.9003e-05],\n",
              "             [ 2.6778e-04, -1.3516e-03, -7.1377e-04],\n",
              "             [ 1.5496e-03,  4.8198e-04,  7.3761e-04]],\n",
              "   \n",
              "            [[ 1.5225e-03,  2.9291e-03,  4.5276e-03],\n",
              "             [ 2.7741e-03,  3.9883e-03,  4.2897e-03],\n",
              "             [ 2.0752e-03,  2.9412e-03,  2.8563e-03]],\n",
              "   \n",
              "            ...,\n",
              "   \n",
              "            [[ 8.0771e-04,  3.0834e-03,  3.4194e-03],\n",
              "             [ 1.5453e-03,  2.4444e-03,  3.0455e-03],\n",
              "             [ 2.4244e-03,  2.7888e-03,  2.0499e-03]],\n",
              "   \n",
              "            [[ 2.3859e-03,  2.2266e-03,  2.6433e-03],\n",
              "             [ 7.5298e-04,  1.0958e-03,  2.2861e-03],\n",
              "             [ 1.6388e-03,  2.6360e-03,  3.8004e-03]],\n",
              "   \n",
              "            [[ 2.6598e-03, -2.5170e-04,  1.8739e-03],\n",
              "             [ 4.4164e-04, -3.5598e-03,  2.0851e-04],\n",
              "             [ 1.4668e-03, -1.1802e-03,  5.4690e-04]]]], device='cuda:0')},\n",
              "  17: {'momentum_buffer': tensor([ 5.6994e-06,  5.4919e-06, -2.3287e-06, -9.5661e-07,  3.8351e-06,\n",
              "           -6.2392e-06, -2.9433e-06, -5.5108e-06,  4.1381e-06,  5.1006e-06,\n",
              "            2.4592e-06,  4.3633e-06, -2.7352e-06,  2.6004e-06,  2.1744e-06,\n",
              "           -3.4624e-06,  1.8928e-06, -5.9615e-07, -3.7945e-06, -5.4720e-06,\n",
              "           -1.1154e-06, -6.0217e-06,  6.4088e-07, -4.2208e-06, -3.9906e-06,\n",
              "            4.6494e-07,  4.9505e-06, -2.6388e-06,  1.5316e-07,  5.5183e-06,\n",
              "           -2.2393e-06, -2.5349e-06,  5.9638e-06, -5.4098e-06, -3.6061e-06,\n",
              "            5.5033e-06, -6.2589e-06,  2.3111e-06, -5.3934e-06,  6.7534e-07,\n",
              "            4.5534e-06,  2.0305e-06,  5.9783e-06,  2.1432e-06,  2.1775e-06,\n",
              "           -1.5399e-06,  3.2155e-06,  1.6352e-06, -5.6968e-06, -5.3299e-06,\n",
              "           -7.6233e-07, -4.7013e-06, -9.5875e-07,  4.2181e-06, -1.4421e-07,\n",
              "           -4.1123e-06, -5.7084e-07, -2.3839e-06,  4.3623e-06, -9.2335e-07,\n",
              "            4.0942e-06, -4.9040e-06,  1.9467e-06, -4.8523e-06], device='cuda:0')},\n",
              "  18: {'momentum_buffer': tensor([-0.0151,  0.0881,  0.0053,  0.0120,  0.0804, -0.1239,  0.0031,  0.0665,\n",
              "            0.0011, -0.0230, -0.0778,  0.0084,  0.0547, -0.0258,  0.0611,  0.0065,\n",
              "            0.0173,  0.0472,  0.0194,  0.0273, -0.0232,  0.0487, -0.0345, -0.0122,\n",
              "            0.0095, -0.0344, -0.0140, -0.0050, -0.0231,  0.0338, -0.0010,  0.0671,\n",
              "            0.0212, -0.0484,  0.0466, -0.0231,  0.0043, -0.0154, -0.0275, -0.0918,\n",
              "           -0.0167, -0.0377, -0.0348, -0.0362,  0.0006,  0.0895,  0.0460, -0.0536,\n",
              "            0.0249,  0.0675, -0.0009, -0.0320, -0.0260, -0.0187, -0.0586, -0.0432,\n",
              "            0.0468,  0.1023, -0.0170,  0.0506, -0.0071, -0.1084, -0.0366,  0.0580],\n",
              "          device='cuda:0')},\n",
              "  19: {'momentum_buffer': tensor([-0.0006,  0.0536, -0.0109, -0.0100,  0.1177, -0.0663,  0.0180, -0.0080,\n",
              "            0.0181, -0.0081, -0.0736,  0.0006,  0.0206, -0.0418,  0.0688,  0.0088,\n",
              "            0.0178,  0.0489,  0.0259,  0.0191, -0.0283,  0.0461, -0.0154,  0.0007,\n",
              "           -0.0004, -0.0284,  0.0072, -0.0108, -0.0274,  0.0417,  0.0093,  0.0397,\n",
              "            0.0188, -0.0246,  0.0251, -0.0058, -0.0093, -0.0108, -0.0330, -0.0434,\n",
              "           -0.0213, -0.0217, -0.0364, -0.0342, -0.0076,  0.0433,  0.0364, -0.0440,\n",
              "            0.0168,  0.0350, -0.0103, -0.0220, -0.0029, -0.0226, -0.0716, -0.0214,\n",
              "            0.0065,  0.0657, -0.0164,  0.0444, -0.0004, -0.0513, -0.0384,  0.0285],\n",
              "          device='cuda:0')},\n",
              "  20: {'momentum_buffer': tensor([[[[-1.1432e-03,  8.5057e-04,  1.3811e-03],\n",
              "             [-3.3226e-05,  1.7826e-03,  1.4625e-03],\n",
              "             [ 4.7583e-04,  4.1961e-04, -5.0075e-04]],\n",
              "   \n",
              "            [[-8.7704e-04, -1.0205e-03, -9.4106e-04],\n",
              "             [-7.8487e-04, -1.3544e-03, -1.5613e-03],\n",
              "             [-5.3529e-04, -6.6047e-04, -7.1687e-04]],\n",
              "   \n",
              "            [[ 1.9211e-03,  3.9968e-03,  1.6207e-03],\n",
              "             [ 1.8716e-03,  4.6763e-03,  2.5528e-03],\n",
              "             [ 3.6156e-04,  9.2782e-04,  5.2849e-04]],\n",
              "   \n",
              "            ...,\n",
              "   \n",
              "            [[ 2.4293e-03,  4.0629e-03,  3.2435e-03],\n",
              "             [ 2.6796e-03,  3.3781e-03,  3.1927e-03],\n",
              "             [ 3.2007e-03,  2.7772e-03,  2.3927e-03]],\n",
              "   \n",
              "            [[ 1.0572e-03,  1.0854e-04, -2.3679e-04],\n",
              "             [ 1.1894e-03,  9.2140e-04,  6.2557e-04],\n",
              "             [ 1.0704e-03,  8.8540e-04,  3.5846e-04]],\n",
              "   \n",
              "            [[-3.2956e-04, -4.6123e-05, -2.3663e-05],\n",
              "             [-6.2421e-04,  1.2193e-05, -1.5832e-04],\n",
              "             [-6.9760e-04, -3.5751e-04, -3.8683e-04]]],\n",
              "   \n",
              "   \n",
              "           [[[ 1.8029e-03,  7.6087e-03,  2.3297e-03],\n",
              "             [ 2.7179e-03,  6.7755e-03,  1.8194e-03],\n",
              "             [-1.0101e-03, -1.5994e-03, -2.1044e-03]],\n",
              "   \n",
              "            [[-4.1408e-03, -4.0081e-03, -5.6316e-03],\n",
              "             [-3.4344e-03, -4.1050e-03, -5.8163e-03],\n",
              "             [-2.0656e-03, -3.7034e-03, -4.0079e-03]],\n",
              "   \n",
              "            [[-1.5224e-03, -5.0310e-04,  2.2541e-03],\n",
              "             [ 2.1001e-04, -2.2206e-03,  6.9545e-05],\n",
              "             [ 2.1854e-03,  5.9490e-04,  3.3454e-05]],\n",
              "   \n",
              "            ...,\n",
              "   \n",
              "            [[-1.2604e-04,  1.6137e-03,  3.5278e-03],\n",
              "             [ 2.5951e-03,  1.9411e-03,  3.2253e-03],\n",
              "             [ 7.6365e-03,  3.7841e-03,  2.3118e-03]],\n",
              "   \n",
              "            [[ 4.6713e-04,  4.9308e-03,  4.3798e-03],\n",
              "             [ 2.2620e-04,  3.2894e-03,  3.2674e-03],\n",
              "             [-1.1088e-03, -1.3420e-04,  7.9145e-04]],\n",
              "   \n",
              "            [[-9.2082e-04, -6.3315e-04, -3.5530e-04],\n",
              "             [-1.1213e-03, -1.0518e-03, -8.0087e-04],\n",
              "             [-1.6947e-03, -1.2211e-03, -1.4392e-03]]],\n",
              "   \n",
              "   \n",
              "           [[[ 6.6795e-03,  7.5431e-03,  1.9911e-03],\n",
              "             [ 2.5781e-03, -7.6689e-04, -3.1906e-03],\n",
              "             [ 3.0547e-03, -1.9643e-03, -5.2797e-03]],\n",
              "   \n",
              "            [[-1.6801e-03, -2.6293e-03, -8.4675e-04],\n",
              "             [-3.0343e-03, -3.4300e-03, -1.8445e-03],\n",
              "             [-2.5253e-03, -2.9095e-03, -6.2255e-04]],\n",
              "   \n",
              "            [[-8.2800e-04,  1.0938e-03,  9.6068e-04],\n",
              "             [ 2.6257e-03, -7.8531e-04, -2.7608e-03],\n",
              "             [-1.6654e-04, -2.0181e-03, -4.2511e-04]],\n",
              "   \n",
              "            ...,\n",
              "   \n",
              "            [[-2.9994e-05, -5.2656e-04,  2.5620e-03],\n",
              "             [ 3.9907e-03,  1.2721e-03,  6.0218e-04],\n",
              "             [ 3.7401e-03,  6.2622e-04,  2.4639e-03]],\n",
              "   \n",
              "            [[ 2.7868e-04,  1.2394e-03,  2.4720e-04],\n",
              "             [ 5.7387e-04,  6.7277e-04, -7.3384e-04],\n",
              "             [ 9.2263e-04,  4.4871e-04, -5.0996e-04]],\n",
              "   \n",
              "            [[-6.5611e-04, -5.1608e-04, -7.1207e-04],\n",
              "             [-1.2378e-03, -5.6783e-04, -5.2851e-04],\n",
              "             [-8.5485e-04, -8.3465e-04, -4.8649e-04]]],\n",
              "   \n",
              "   \n",
              "           ...,\n",
              "   \n",
              "   \n",
              "           [[[-1.6787e-03,  8.4450e-04,  2.0043e-03],\n",
              "             [ 1.7728e-03, -2.3872e-04,  5.3406e-04],\n",
              "             [ 3.8193e-04, -1.0633e-03, -1.1352e-03]],\n",
              "   \n",
              "            [[-1.6725e-03, -1.4745e-03, -9.0605e-04],\n",
              "             [-1.8553e-03, -1.6550e-03, -1.9622e-03],\n",
              "             [-1.8491e-03, -1.9021e-03, -1.8399e-03]],\n",
              "   \n",
              "            [[ 4.7084e-05,  6.5762e-04,  1.4437e-03],\n",
              "             [ 1.6734e-03,  2.0385e-03,  1.4939e-03],\n",
              "             [ 1.4819e-03,  1.2916e-03,  4.7206e-04]],\n",
              "   \n",
              "            ...,\n",
              "   \n",
              "            [[ 2.4082e-03,  1.2842e-03,  1.2452e-04],\n",
              "             [ 4.9915e-03,  4.6060e-03,  2.1473e-03],\n",
              "             [ 5.9621e-03,  4.1673e-03,  1.7560e-03]],\n",
              "   \n",
              "            [[ 1.4004e-03,  1.4520e-03,  7.0617e-04],\n",
              "             [ 1.2985e-03,  4.3343e-04,  8.0708e-04],\n",
              "             [ 2.2311e-03,  1.6070e-03,  5.6289e-04]],\n",
              "   \n",
              "            [[-6.2133e-04, -5.0908e-04, -1.9178e-04],\n",
              "             [-1.0526e-03, -9.3576e-04, -5.2882e-04],\n",
              "             [-2.6754e-04, -2.8276e-04, -8.1368e-04]]],\n",
              "   \n",
              "   \n",
              "           [[[-1.9398e-03,  3.1842e-03, -1.4861e-03],\n",
              "             [-1.3856e-03,  2.3283e-03,  3.6342e-03],\n",
              "             [ 7.0337e-04,  1.8475e-03,  1.5687e-03]],\n",
              "   \n",
              "            [[ 3.3796e-03,  3.0027e-03,  5.0859e-03],\n",
              "             [ 3.2336e-03,  3.0746e-03,  5.0360e-03],\n",
              "             [ 4.1903e-03,  4.0710e-03,  4.6242e-03]],\n",
              "   \n",
              "            [[-1.9525e-03, -1.0898e-03, -5.1846e-04],\n",
              "             [ 9.9721e-04, -5.3570e-03, -2.7942e-03],\n",
              "             [ 1.5199e-03, -2.0033e-03, -2.3606e-03]],\n",
              "   \n",
              "            ...,\n",
              "   \n",
              "            [[-3.2541e-03, -4.2418e-03, -2.0855e-03],\n",
              "             [-6.6070e-03, -8.7307e-03, -6.5818e-03],\n",
              "             [-8.3853e-03, -8.3700e-03, -5.9263e-03]],\n",
              "   \n",
              "            [[-3.4726e-04, -1.7091e-03, -2.1445e-03],\n",
              "             [-3.2327e-03, -2.7023e-03,  1.5236e-03],\n",
              "             [-5.9634e-03, -4.0890e-03,  2.2457e-03]],\n",
              "   \n",
              "            [[ 9.8098e-04,  4.5157e-04,  6.3513e-04],\n",
              "             [ 1.7534e-03,  7.3766e-04,  6.5603e-04],\n",
              "             [ 1.6066e-03,  1.2025e-03,  5.9666e-04]]],\n",
              "   \n",
              "   \n",
              "           [[[ 6.0449e-04, -3.0702e-04, -7.8720e-04],\n",
              "             [-2.4637e-04, -1.0636e-03, -2.9599e-03],\n",
              "             [-1.2614e-03, -2.0798e-03, -1.0946e-03]],\n",
              "   \n",
              "            [[-1.8364e-03, -2.8220e-03, -1.9479e-03],\n",
              "             [-1.9298e-03, -2.3022e-03, -1.4965e-03],\n",
              "             [-5.8469e-04, -8.4631e-04, -3.8824e-04]],\n",
              "   \n",
              "            [[ 4.7026e-04,  7.1912e-04,  8.4195e-04],\n",
              "             [ 1.8454e-03,  2.7852e-04, -1.3942e-03],\n",
              "             [-8.9582e-04,  9.6400e-06, -1.7217e-04]],\n",
              "   \n",
              "            ...,\n",
              "   \n",
              "            [[ 4.0941e-03,  1.6775e-03,  2.3506e-03],\n",
              "             [ 3.4678e-03,  1.3388e-03,  4.1039e-03],\n",
              "             [ 2.2851e-03,  1.6957e-03,  4.6213e-03]],\n",
              "   \n",
              "            [[ 1.2597e-05,  6.5356e-04,  7.1832e-04],\n",
              "             [-4.2513e-05, -6.2200e-04,  2.6964e-04],\n",
              "             [-6.2798e-04, -9.0321e-04,  1.2520e-03]],\n",
              "   \n",
              "            [[-7.1949e-04, -3.6616e-04, -2.9748e-04],\n",
              "             [-6.5498e-04, -2.9467e-04,  6.8863e-05],\n",
              "             [-3.0075e-04,  6.0892e-05,  3.0523e-05]]]], device='cuda:0')},\n",
              "  21: {'momentum_buffer': tensor([ 5.0842e-07,  6.8283e-06, -4.9093e-06,  3.8917e-06,  3.9935e-06,\n",
              "           -7.6408e-07,  7.9316e-06,  5.8900e-06, -7.2732e-06, -1.8126e-06,\n",
              "            6.2149e-06,  8.4936e-06, -1.4753e-06, -4.8196e-06,  5.2788e-06,\n",
              "            2.9394e-06,  5.4553e-06,  5.5378e-06, -4.8824e-06, -4.6714e-06,\n",
              "            6.0216e-06, -4.4001e-06,  7.2413e-06, -3.8087e-06, -7.2847e-06,\n",
              "           -7.7687e-06,  6.1906e-06, -1.0499e-06, -2.4788e-06, -6.7218e-06,\n",
              "           -3.6226e-06, -2.0557e-06, -3.2751e-06, -5.0739e-06, -6.7503e-06,\n",
              "           -4.3300e-07, -8.5256e-06, -4.0464e-06,  1.0283e-06,  5.9952e-06,\n",
              "            8.5765e-06,  2.8598e-06,  1.0688e-06, -4.3359e-06, -1.5465e-06,\n",
              "            3.0103e-06, -1.9484e-06, -1.9837e-06,  6.3000e-06,  1.0204e-06,\n",
              "            6.0803e-06,  2.3454e-06, -5.8301e-06, -6.0314e-06,  7.3463e-06,\n",
              "            3.7889e-06, -3.7417e-08, -1.3201e-06, -8.8025e-06,  2.7041e-06,\n",
              "            7.0663e-07,  8.8223e-06, -3.0308e-06, -3.8103e-06], device='cuda:0')},\n",
              "  22: {'momentum_buffer': tensor([ 7.7724e-03, -3.1450e-03, -2.0731e-03, -6.4171e-03,  5.4346e-03,\n",
              "           -3.1222e-03,  4.7794e-03, -3.7750e-03, -4.4065e-03, -3.1243e-03,\n",
              "            3.6575e-03, -2.5071e-03, -5.4197e-03,  1.3677e-03, -4.6129e-03,\n",
              "           -4.9670e-03, -3.0111e-03, -2.0125e-03, -3.0830e-03, -4.8112e-03,\n",
              "           -1.0657e-03,  1.6793e-03, -2.2216e-03, -3.6296e-03,  2.8707e-03,\n",
              "           -3.2809e-04, -3.8089e-03, -4.2190e-03, -2.6510e-03, -3.4398e-03,\n",
              "            1.5499e-03, -2.1185e-04, -6.5957e-03, -3.2761e-03, -2.4048e-03,\n",
              "           -3.6874e-03, -2.5792e-04, -9.6071e-04, -3.3695e-03, -4.7196e-03,\n",
              "           -6.8794e-03, -3.7265e-03,  5.2150e-03, -5.0673e-03,  3.1989e-03,\n",
              "           -3.7655e-04, -4.2328e-03,  2.1002e-03, -2.9759e-03, -4.7970e-03,\n",
              "            1.5467e-05, -5.0252e-03,  3.1697e-03,  9.7044e-04,  5.2404e-03,\n",
              "           -7.8312e-04, -3.8007e-03, -3.6724e-04, -4.9508e-03, -3.2898e-03,\n",
              "            3.2251e-03,  1.3680e-03, -3.3246e-03,  6.0194e-03], device='cuda:0')},\n",
              "  23: {'momentum_buffer': tensor([ 0.0025,  0.0067,  0.0038, -0.0069,  0.0054, -0.0050,  0.0040,  0.0048,\n",
              "           -0.0052, -0.0034,  0.0035,  0.0053, -0.0081,  0.0049, -0.0070, -0.0074,\n",
              "            0.0044,  0.0048,  0.0026, -0.0073,  0.0042,  0.0019, -0.0033,  0.0044,\n",
              "            0.0060,  0.0064,  0.0053,  0.0048,  0.0031, -0.0043,  0.0043,  0.0032,\n",
              "           -0.0071,  0.0048,  0.0062, -0.0060,  0.0032,  0.0033, -0.0037, -0.0057,\n",
              "           -0.0073,  0.0039,  0.0040, -0.0071,  0.0017,  0.0054, -0.0062,  0.0097,\n",
              "           -0.0065, -0.0070,  0.0051,  0.0067,  0.0038,  0.0043,  0.0041,  0.0037,\n",
              "           -0.0043,  0.0025, -0.0066, -0.0053,  0.0030,  0.0025, -0.0064,  0.0034],\n",
              "          device='cuda:0')},\n",
              "  24: {'momentum_buffer': tensor([[ 4.2323e-03,  1.2130e-04, -2.9105e-05,  1.8841e-03,  3.0142e-03,\n",
              "             8.9456e-04,  2.2197e-03, -3.0766e-04,  1.2948e-03,  1.2080e-03,\n",
              "             1.6456e-03,  8.5468e-05,  1.5000e-03,  9.9562e-04,  1.2828e-03,\n",
              "             1.3682e-03, -1.7318e-04,  1.5395e-04, -6.3316e-04,  1.3199e-03,\n",
              "             3.5390e-04,  8.2221e-04,  7.4358e-04, -3.8183e-04,  2.0341e-03,\n",
              "             8.0648e-04, -2.0035e-04, -4.9011e-04, -4.8402e-04,  1.1780e-03,\n",
              "             1.1361e-03,  3.9616e-04,  2.0536e-03, -1.8109e-04,  2.7158e-04,\n",
              "             1.0496e-03,  3.8656e-04,  1.5413e-04,  1.2197e-03,  1.4308e-03,\n",
              "             2.0679e-03, -4.9190e-04,  2.5085e-03,  1.4109e-03,  2.1142e-03,\n",
              "             7.1372e-04,  1.1573e-03,  1.9907e-03,  6.7332e-04,  1.3653e-03,\n",
              "             8.5591e-04, -3.9052e-04,  1.6262e-03,  1.0221e-03,  2.4390e-03,\n",
              "             2.7255e-04,  1.2988e-03,  2.5157e-04,  1.4276e-03,  9.5050e-04,\n",
              "             1.6274e-03,  8.0420e-04,  8.4109e-04,  2.7438e-03],\n",
              "           [ 2.6650e-05,  2.6285e-05, -1.7034e-05, -2.5991e-05, -1.6798e-05,\n",
              "             1.7600e-06, -4.5723e-06, -1.7465e-05,  6.1465e-06, -3.2130e-06,\n",
              "            -6.3513e-06, -1.8492e-05,  1.8730e-05, -1.0644e-05,  1.4189e-05,\n",
              "             4.6267e-06, -2.5842e-05,  6.9069e-06, -1.9049e-05, -1.2498e-05,\n",
              "             8.6614e-06, -1.1852e-05, -1.3448e-05, -1.8798e-05, -1.6178e-05,\n",
              "            -8.1079e-07,  1.0715e-05, -1.3162e-05, -2.1302e-05,  3.6787e-08,\n",
              "            -2.3389e-05,  1.2792e-05,  1.7439e-05, -6.7802e-06, -3.0820e-06,\n",
              "             7.5068e-06, -2.1625e-05, -1.7333e-05,  8.2373e-06,  2.1380e-05,\n",
              "            -1.7370e-05, -1.3528e-05, -2.9571e-06, -3.9032e-06,  2.3513e-05,\n",
              "            -1.0387e-05, -1.0034e-05, -2.3741e-05, -1.2368e-06,  4.7558e-06,\n",
              "             7.3060e-06,  6.1996e-07,  1.8825e-05,  1.9561e-05, -1.5435e-05,\n",
              "            -5.2390e-06,  2.0074e-05, -2.2089e-05, -1.4818e-05,  9.4519e-06,\n",
              "            -7.5039e-06, -2.3872e-05, -2.7491e-05, -2.3988e-05],\n",
              "           [-7.3050e-03, -2.2989e-04,  9.0862e-05, -3.3626e-03, -5.1266e-03,\n",
              "            -1.5856e-03, -3.9066e-03,  6.0693e-04, -2.3443e-03, -2.0887e-03,\n",
              "            -2.9861e-03, -1.6158e-04, -2.6996e-03, -1.6641e-03, -2.2554e-03,\n",
              "            -2.4243e-03,  3.1756e-04, -2.9303e-04,  1.1072e-03, -2.3812e-03,\n",
              "            -5.7058e-04, -1.4268e-03, -1.2831e-03,  7.1913e-04, -3.5046e-03,\n",
              "            -1.4651e-03,  3.9137e-04,  8.5606e-04,  9.2705e-04, -2.0089e-03,\n",
              "            -1.9597e-03, -6.3984e-04, -3.6071e-03,  4.0623e-04, -3.8044e-04,\n",
              "            -1.8264e-03, -7.8096e-04, -3.0013e-04, -2.0763e-03, -2.5332e-03,\n",
              "            -3.6924e-03,  9.4472e-04, -4.4183e-03, -2.5094e-03, -3.5300e-03,\n",
              "            -1.2692e-03, -2.0530e-03, -3.5735e-03, -1.2088e-03, -2.4134e-03,\n",
              "            -1.4381e-03,  7.1677e-04, -2.9268e-03, -1.7681e-03, -4.3089e-03,\n",
              "            -4.4230e-04, -2.2601e-03, -3.8012e-04, -2.5151e-03, -1.6019e-03,\n",
              "            -2.8292e-03, -1.4598e-03, -1.4914e-03, -4.8143e-03],\n",
              "           [ 5.7399e-03,  1.5152e-04, -2.5711e-05,  2.5730e-03,  4.0896e-03,\n",
              "             1.2413e-03,  3.0034e-03, -4.0440e-04,  1.8069e-03,  1.6661e-03,\n",
              "             2.2720e-03,  1.4131e-04,  2.0585e-03,  1.3433e-03,  1.7229e-03,\n",
              "             1.8247e-03, -2.0536e-04,  2.3457e-04, -8.4209e-04,  1.8335e-03,\n",
              "             4.2391e-04,  1.1148e-03,  1.0215e-03, -5.0520e-04,  2.7532e-03,\n",
              "             1.1310e-03, -2.5927e-04, -6.3615e-04, -6.3079e-04,  1.5516e-03,\n",
              "             1.5227e-03,  5.3143e-04,  2.7839e-03, -2.9118e-04,  3.1983e-04,\n",
              "             1.4060e-03,  5.4051e-04,  2.1141e-04,  1.6745e-03,  1.9139e-03,\n",
              "             2.7814e-03, -7.0855e-04,  3.4248e-03,  1.9071e-03,  2.8454e-03,\n",
              "             9.5740e-04,  1.5506e-03,  2.7020e-03,  9.2913e-04,  1.8516e-03,\n",
              "             1.1691e-03, -4.7787e-04,  2.2433e-03,  1.3923e-03,  3.2481e-03,\n",
              "             3.6258e-04,  1.7950e-03,  3.1053e-04,  1.9556e-03,  1.2437e-03,\n",
              "             2.1870e-03,  1.0975e-03,  1.1466e-03,  3.7169e-03],\n",
              "           [-3.2530e-03, -9.9588e-05,  1.4308e-05, -1.5293e-03, -2.3008e-03,\n",
              "            -7.1978e-04, -1.7100e-03,  2.6550e-04, -1.0213e-03, -9.1144e-04,\n",
              "            -1.3279e-03, -5.8579e-05, -1.1970e-03, -7.6335e-04, -1.0097e-03,\n",
              "            -1.0805e-03,  1.3920e-04, -1.0834e-04,  4.7226e-04, -1.0473e-03,\n",
              "            -2.2718e-04, -6.3178e-04, -5.6889e-04,  3.4332e-04, -1.5440e-03,\n",
              "            -6.6078e-04,  1.5704e-04,  4.0075e-04,  4.1275e-04, -8.7504e-04,\n",
              "            -8.6547e-04, -2.8326e-04, -1.5943e-03,  1.5131e-04, -1.9727e-04,\n",
              "            -8.0005e-04, -3.5941e-04, -1.3701e-04, -9.2466e-04, -1.1499e-03,\n",
              "            -1.6438e-03,  4.2828e-04, -1.9351e-03, -1.1095e-03, -1.5531e-03,\n",
              "            -5.6764e-04, -9.4385e-04, -1.5616e-03, -5.2509e-04, -1.0642e-03,\n",
              "            -6.7181e-04,  2.9920e-04, -1.3055e-03, -8.1316e-04, -1.9233e-03,\n",
              "            -2.1538e-04, -1.0149e-03, -1.8711e-04, -1.1141e-03, -7.3629e-04,\n",
              "            -1.2411e-03, -6.6145e-04, -6.5323e-04, -2.1581e-03],\n",
              "           [ 7.9356e-06, -5.1676e-06, -8.6277e-06, -1.6442e-05, -2.2805e-05,\n",
              "            -2.4098e-05, -2.1491e-05, -6.8647e-07, -1.1971e-05,  2.2440e-05,\n",
              "             2.1977e-06, -9.1611e-06, -2.2619e-05, -6.9932e-06,  1.1124e-05,\n",
              "             2.8220e-05, -1.4322e-05,  1.0943e-05,  2.3113e-05, -2.5342e-05,\n",
              "            -3.0085e-06, -7.6806e-06, -1.6946e-05, -9.5255e-06,  2.1332e-05,\n",
              "            -2.3931e-05, -1.0199e-05,  1.7066e-05,  1.9857e-05, -9.8891e-06,\n",
              "             1.7932e-05, -2.3072e-05,  2.7554e-05, -2.1696e-05,  1.2578e-05,\n",
              "            -5.2487e-06,  4.7325e-06, -7.7656e-06,  1.7590e-05,  2.2938e-06,\n",
              "            -3.9171e-06,  2.5498e-05, -5.5454e-06,  2.2049e-05,  2.7072e-05,\n",
              "            -1.9482e-05,  8.4772e-06,  1.6084e-05, -1.4148e-05, -1.0871e-05,\n",
              "            -1.1199e-05, -2.5497e-05, -2.5694e-05,  2.6446e-06,  1.8051e-05,\n",
              "            -1.9089e-06,  1.2210e-05,  1.7566e-05, -2.6003e-05, -1.5051e-05,\n",
              "            -1.3512e-05,  1.2574e-05,  9.3117e-06,  2.8679e-06],\n",
              "           [ 2.7296e-03,  8.6115e-05, -1.9086e-05,  1.2444e-03,  1.9216e-03,\n",
              "             5.9668e-04,  1.3983e-03, -2.0914e-04,  8.2075e-04,  8.0072e-04,\n",
              "             1.0702e-03,  4.4013e-05,  9.8398e-04,  6.3005e-04,  8.1899e-04,\n",
              "             8.7047e-04, -8.9248e-05,  1.1130e-04, -4.2741e-04,  8.6355e-04,\n",
              "             1.9070e-04,  5.4402e-04,  4.6051e-04, -2.2668e-04,  1.2808e-03,\n",
              "             5.5322e-04, -1.1766e-04, -3.0925e-04, -3.4881e-04,  7.4697e-04,\n",
              "             7.5123e-04,  2.5836e-04,  1.3076e-03, -1.1276e-04,  1.6496e-04,\n",
              "             6.9513e-04,  2.5427e-04,  1.3307e-04,  7.5746e-04,  9.1619e-04,\n",
              "             1.3038e-03, -3.5408e-04,  1.6327e-03,  9.2978e-04,  1.3543e-03,\n",
              "             4.3073e-04,  7.1600e-04,  1.3014e-03,  4.2734e-04,  8.9552e-04,\n",
              "             5.5915e-04, -2.4814e-04,  1.0856e-03,  6.5840e-04,  1.5370e-03,\n",
              "             2.0798e-04,  8.2635e-04,  1.4436e-04,  9.0404e-04,  5.7795e-04,\n",
              "             1.0307e-03,  5.5981e-04,  5.4800e-04,  1.7531e-03],\n",
              "           [ 4.5312e-03,  9.8048e-05, -1.8582e-05,  2.0308e-03,  3.2254e-03,\n",
              "             1.0089e-03,  2.3670e-03, -3.2709e-04,  1.3807e-03,  1.2746e-03,\n",
              "             1.7629e-03,  7.1602e-05,  1.6315e-03,  1.0377e-03,  1.3433e-03,\n",
              "             1.4365e-03, -1.5569e-04,  1.5030e-04, -6.3738e-04,  1.4457e-03,\n",
              "             3.4462e-04,  8.8336e-04,  7.9744e-04, -4.3539e-04,  2.1797e-03,\n",
              "             8.9677e-04, -2.3398e-04, -4.8321e-04, -5.3177e-04,  1.2243e-03,\n",
              "             1.2289e-03,  4.3126e-04,  2.1933e-03, -2.2099e-04,  2.9514e-04,\n",
              "             1.0939e-03,  4.5469e-04,  1.9385e-04,  1.2968e-03,  1.5010e-03,\n",
              "             2.1814e-03, -5.3605e-04,  2.6722e-03,  1.5311e-03,  2.2602e-03,\n",
              "             7.8186e-04,  1.2508e-03,  2.1149e-03,  7.3499e-04,  1.4461e-03,\n",
              "             9.3458e-04, -3.7443e-04,  1.7776e-03,  1.0892e-03,  2.5732e-03,\n",
              "             2.7454e-04,  1.3968e-03,  2.2415e-04,  1.5241e-03,  1.0062e-03,\n",
              "             1.6953e-03,  8.4996e-04,  9.0427e-04,  2.9455e-03]], device='cuda:0')},\n",
              "  25: {'momentum_buffer': tensor([ 6.1429e-03, -2.7897e-05, -1.0804e-02,  8.3040e-03, -4.8265e-03,\n",
              "           -1.5463e-05,  3.9500e-03,  6.5083e-03], device='cuda:0')},\n",
              "  26: {'momentum_buffer': tensor([[-3.2108e-03, -1.2369e-05, -7.0138e-03, -4.3196e-03, -3.1247e-03,\n",
              "             9.7210e-06, -2.0615e-03, -3.4037e-03]], device='cuda:0')},\n",
              "  27: {'momentum_buffer': tensor([-0.0065], device='cuda:0')}},\n",
              " 'param_groups': [{'lr': 0.0001,\n",
              "   'momentum': 0.9,\n",
              "   'dampening': 0,\n",
              "   'weight_decay': 0.0005,\n",
              "   'nesterov': False,\n",
              "   'maximize': False,\n",
              "   'foreach': None,\n",
              "   'differentiable': False,\n",
              "   'initial_lr': 0.01,\n",
              "   'params': [0,\n",
              "    1,\n",
              "    2,\n",
              "    3,\n",
              "    4,\n",
              "    5,\n",
              "    6,\n",
              "    7,\n",
              "    8,\n",
              "    9,\n",
              "    10,\n",
              "    11,\n",
              "    12,\n",
              "    13,\n",
              "    14,\n",
              "    15,\n",
              "    16,\n",
              "    17,\n",
              "    18,\n",
              "    19,\n",
              "    20,\n",
              "    21,\n",
              "    22,\n",
              "    23,\n",
              "    24,\n",
              "    25,\n",
              "    26,\n",
              "    27]}]}"
            ]
          },
          "metadata": {},
          "execution_count": 63
        }
      ]
    },
    {
      "cell_type": "code",
      "source": [
        "torch.save({\n",
        "            'model_state_dict': few_shot_classifier.state_dict(),\n",
        "            'optimizer_state_dict': train_optimizer.state_dict(),\n",
        "            }, 'final.pth')"
      ],
      "metadata": {
        "id": "Ag0zvOY-Djl1"
      },
      "execution_count": 64,
      "outputs": []
    },
    {
      "cell_type": "markdown",
      "metadata": {
        "id": "loFLsTnP1D5_",
        "pycharm": {
          "name": "#%% md\n"
        }
      },
      "source": [
        "Congrats! You performed Episodic Training using EasyFSL. If you want to compare with a model trained using classical training, look at [this other example notebook](classical_training.ipynb).\n"
      ]
    }
  ],
  "metadata": {
    "accelerator": "GPU",
    "colab": {
      "provenance": [],
      "gpuType": "T4"
    },
    "gpuClass": "standard",
    "kernelspec": {
      "display_name": "Python 3 (ipykernel)",
      "language": "python",
      "name": "python3"
    },
    "language_info": {
      "codemirror_mode": {
        "name": "ipython",
        "version": 3
      },
      "file_extension": ".py",
      "mimetype": "text/x-python",
      "name": "python",
      "nbconvert_exporter": "python",
      "pygments_lexer": "ipython3",
      "version": "3.10.4"
    }
  },
  "nbformat": 4,
  "nbformat_minor": 0
}