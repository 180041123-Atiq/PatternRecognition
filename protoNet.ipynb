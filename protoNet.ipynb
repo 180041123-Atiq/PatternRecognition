{
  "nbformat": 4,
  "nbformat_minor": 0,
  "metadata": {
    "colab": {
      "provenance": [],
      "gpuType": "T4"
    },
    "kernelspec": {
      "name": "python3",
      "display_name": "Python 3"
    },
    "language_info": {
      "name": "python"
    },
    "gpuClass": "standard"
  },
  "cells": [
    {
      "cell_type": "code",
      "execution_count": 1,
      "metadata": {
        "colab": {
          "base_uri": "https://localhost:8080/"
        },
        "id": "xWhTxhYS7TLf",
        "outputId": "9106b3b8-e30e-4a2c-a0e5-7232d96bc6f4"
      },
      "outputs": [
        {
          "output_type": "stream",
          "name": "stdout",
          "text": [
            "Mounted at /content/drive\n"
          ]
        }
      ],
      "source": [
        "from google.colab import drive\n",
        "drive.mount('/content/drive')"
      ]
    },
    {
      "cell_type": "code",
      "source": [
        "try:\n",
        "    import google.colab\n",
        "    colab = True\n",
        "except:\n",
        "    colab = False"
      ],
      "metadata": {
        "id": "NnxSUVIK73xa"
      },
      "execution_count": 2,
      "outputs": []
    },
    {
      "cell_type": "code",
      "source": [
        "if colab is True:\n",
        "    # Running in Google Colab\n",
        "    # Clone the repo\n",
        "    !git clone https://github.com/sicara/easy-few-shot-learning\n",
        "    %cd easy-few-shot-learning\n",
        "    !pip install .\n",
        "else:\n",
        "    # Run locally\n",
        "    # Ensure working directory is the project's root\n",
        "    # Make sure easyfsl is installed!\n",
        "    %cd .."
      ],
      "metadata": {
        "colab": {
          "base_uri": "https://localhost:8080/"
        },
        "id": "c5vrGDXf7_Ly",
        "outputId": "1c7f5628-b5ff-434c-9569-92bd515f99f5"
      },
      "execution_count": 3,
      "outputs": [
        {
          "output_type": "stream",
          "name": "stdout",
          "text": [
            "Cloning into 'easy-few-shot-learning'...\n",
            "remote: Enumerating objects: 1064, done.\u001b[K\n",
            "remote: Counting objects: 100% (323/323), done.\u001b[K\n",
            "remote: Compressing objects: 100% (177/177), done.\u001b[K\n",
            "remote: Total 1064 (delta 210), reused 152 (delta 146), pack-reused 741\u001b[K\n",
            "Receiving objects: 100% (1064/1064), 2.28 MiB | 11.10 MiB/s, done.\n",
            "Resolving deltas: 100% (617/617), done.\n",
            "/content/easy-few-shot-learning\n",
            "Looking in indexes: https://pypi.org/simple, https://us-python.pkg.dev/colab-wheels/public/simple/\n",
            "Processing /content/easy-few-shot-learning\n",
            "  Installing build dependencies ... \u001b[?25l\u001b[?25hdone\n",
            "  Getting requirements to build wheel ... \u001b[?25l\u001b[?25hdone\n",
            "  Preparing metadata (pyproject.toml) ... \u001b[?25l\u001b[?25hdone\n",
            "Requirement already satisfied: matplotlib>=3.0.0 in /usr/local/lib/python3.10/dist-packages (from easyfsl==1.3.0) (3.7.1)\n",
            "Requirement already satisfied: pandas>=1.3.0 in /usr/local/lib/python3.10/dist-packages (from easyfsl==1.3.0) (1.5.3)\n",
            "Requirement already satisfied: torch>=1.4.0 in /usr/local/lib/python3.10/dist-packages (from easyfsl==1.3.0) (2.0.1+cu118)\n",
            "Requirement already satisfied: torchvision>=0.7.0 in /usr/local/lib/python3.10/dist-packages (from easyfsl==1.3.0) (0.15.2+cu118)\n",
            "Requirement already satisfied: tqdm>=4.1.0 in /usr/local/lib/python3.10/dist-packages (from easyfsl==1.3.0) (4.65.0)\n",
            "Requirement already satisfied: contourpy>=1.0.1 in /usr/local/lib/python3.10/dist-packages (from matplotlib>=3.0.0->easyfsl==1.3.0) (1.0.7)\n",
            "Requirement already satisfied: cycler>=0.10 in /usr/local/lib/python3.10/dist-packages (from matplotlib>=3.0.0->easyfsl==1.3.0) (0.11.0)\n",
            "Requirement already satisfied: fonttools>=4.22.0 in /usr/local/lib/python3.10/dist-packages (from matplotlib>=3.0.0->easyfsl==1.3.0) (4.39.3)\n",
            "Requirement already satisfied: kiwisolver>=1.0.1 in /usr/local/lib/python3.10/dist-packages (from matplotlib>=3.0.0->easyfsl==1.3.0) (1.4.4)\n",
            "Requirement already satisfied: numpy>=1.20 in /usr/local/lib/python3.10/dist-packages (from matplotlib>=3.0.0->easyfsl==1.3.0) (1.22.4)\n",
            "Requirement already satisfied: packaging>=20.0 in /usr/local/lib/python3.10/dist-packages (from matplotlib>=3.0.0->easyfsl==1.3.0) (23.1)\n",
            "Requirement already satisfied: pillow>=6.2.0 in /usr/local/lib/python3.10/dist-packages (from matplotlib>=3.0.0->easyfsl==1.3.0) (8.4.0)\n",
            "Requirement already satisfied: pyparsing>=2.3.1 in /usr/local/lib/python3.10/dist-packages (from matplotlib>=3.0.0->easyfsl==1.3.0) (3.0.9)\n",
            "Requirement already satisfied: python-dateutil>=2.7 in /usr/local/lib/python3.10/dist-packages (from matplotlib>=3.0.0->easyfsl==1.3.0) (2.8.2)\n",
            "Requirement already satisfied: pytz>=2020.1 in /usr/local/lib/python3.10/dist-packages (from pandas>=1.3.0->easyfsl==1.3.0) (2022.7.1)\n",
            "Requirement already satisfied: filelock in /usr/local/lib/python3.10/dist-packages (from torch>=1.4.0->easyfsl==1.3.0) (3.12.0)\n",
            "Requirement already satisfied: typing-extensions in /usr/local/lib/python3.10/dist-packages (from torch>=1.4.0->easyfsl==1.3.0) (4.5.0)\n",
            "Requirement already satisfied: sympy in /usr/local/lib/python3.10/dist-packages (from torch>=1.4.0->easyfsl==1.3.0) (1.11.1)\n",
            "Requirement already satisfied: networkx in /usr/local/lib/python3.10/dist-packages (from torch>=1.4.0->easyfsl==1.3.0) (3.1)\n",
            "Requirement already satisfied: jinja2 in /usr/local/lib/python3.10/dist-packages (from torch>=1.4.0->easyfsl==1.3.0) (3.1.2)\n",
            "Requirement already satisfied: triton==2.0.0 in /usr/local/lib/python3.10/dist-packages (from torch>=1.4.0->easyfsl==1.3.0) (2.0.0)\n",
            "Requirement already satisfied: cmake in /usr/local/lib/python3.10/dist-packages (from triton==2.0.0->torch>=1.4.0->easyfsl==1.3.0) (3.25.2)\n",
            "Requirement already satisfied: lit in /usr/local/lib/python3.10/dist-packages (from triton==2.0.0->torch>=1.4.0->easyfsl==1.3.0) (16.0.5)\n",
            "Requirement already satisfied: requests in /usr/local/lib/python3.10/dist-packages (from torchvision>=0.7.0->easyfsl==1.3.0) (2.27.1)\n",
            "Requirement already satisfied: six>=1.5 in /usr/local/lib/python3.10/dist-packages (from python-dateutil>=2.7->matplotlib>=3.0.0->easyfsl==1.3.0) (1.16.0)\n",
            "Requirement already satisfied: MarkupSafe>=2.0 in /usr/local/lib/python3.10/dist-packages (from jinja2->torch>=1.4.0->easyfsl==1.3.0) (2.1.2)\n",
            "Requirement already satisfied: urllib3<1.27,>=1.21.1 in /usr/local/lib/python3.10/dist-packages (from requests->torchvision>=0.7.0->easyfsl==1.3.0) (1.26.15)\n",
            "Requirement already satisfied: certifi>=2017.4.17 in /usr/local/lib/python3.10/dist-packages (from requests->torchvision>=0.7.0->easyfsl==1.3.0) (2022.12.7)\n",
            "Requirement already satisfied: charset-normalizer~=2.0.0 in /usr/local/lib/python3.10/dist-packages (from requests->torchvision>=0.7.0->easyfsl==1.3.0) (2.0.12)\n",
            "Requirement already satisfied: idna<4,>=2.5 in /usr/local/lib/python3.10/dist-packages (from requests->torchvision>=0.7.0->easyfsl==1.3.0) (3.4)\n",
            "Requirement already satisfied: mpmath>=0.19 in /usr/local/lib/python3.10/dist-packages (from sympy->torch>=1.4.0->easyfsl==1.3.0) (1.3.0)\n",
            "Building wheels for collected packages: easyfsl\n",
            "  Building wheel for easyfsl (pyproject.toml) ... \u001b[?25l\u001b[?25hdone\n",
            "  Created wheel for easyfsl: filename=easyfsl-1.3.0-py3-none-any.whl size=52364 sha256=cf2a4a54b42e36b1f0756fd2f41bbb9fa843d408cd655a74fa935f73d918ceca\n",
            "  Stored in directory: /root/.cache/pip/wheels/bb/79/35/1da2d9ffa9c9b6892f0cca4cda77ee397b97a1deda949049e2\n",
            "Successfully built easyfsl\n",
            "Installing collected packages: easyfsl\n",
            "Successfully installed easyfsl-1.3.0\n"
          ]
        }
      ]
    },
    {
      "cell_type": "code",
      "source": [
        "from pathlib import Path\n",
        "import random\n",
        "from statistics import mean\n",
        "\n",
        "import numpy as np\n",
        "import torch\n",
        "from torch import nn\n",
        "from tqdm import tqdm\n",
        "import torchvision\n",
        "import torch.utils.data"
      ],
      "metadata": {
        "id": "hhiI49Vl8DkZ"
      },
      "execution_count": 4,
      "outputs": []
    },
    {
      "cell_type": "code",
      "source": [
        "random_seed = 0\n",
        "np.random.seed(random_seed)\n",
        "torch.manual_seed(random_seed)\n",
        "random.seed(random_seed)\n",
        "torch.backends.cudnn.deterministic = True\n",
        "torch.backends.cudnn.benchmark = False"
      ],
      "metadata": {
        "id": "JE-g7hat8EWR"
      },
      "execution_count": 5,
      "outputs": []
    },
    {
      "cell_type": "markdown",
      "source": [
        "# Episodic Training"
      ],
      "metadata": {
        "id": "0z4qdEF-9Nhq"
      }
    },
    {
      "cell_type": "code",
      "source": [
        "n_way = 5\n",
        "n_shot = 5\n",
        "n_query = 10\n",
        "\n",
        "DEVICE = \"cuda\" if torch.cuda.is_available() else \"cpu\"\n",
        "n_workers = 0"
      ],
      "metadata": {
        "id": "ZoaV-tbj8HJw"
      },
      "execution_count": 6,
      "outputs": []
    },
    {
      "cell_type": "code",
      "source": [
        "image_size = 28\n",
        "\n",
        "# Instantiate the datasets\n",
        "train_set = torchvision.datasets.GTSRB(\n",
        "    root='/content/data',\n",
        "    split='train',\n",
        "    transform=torchvision.transforms.Compose(\n",
        "        [\n",
        "            torchvision.transforms.ToTensor(),\n",
        "            torchvision.transforms.Resize([image_size,image_size]),\n",
        "        ]\n",
        "    ),\n",
        "    target_transform=None,\n",
        "    download=True)"
      ],
      "metadata": {
        "colab": {
          "base_uri": "https://localhost:8080/"
        },
        "id": "IiLHDBxBJClM",
        "outputId": "597990a2-3e60-4769-de78-8e9ab58d2f1b"
      },
      "execution_count": 7,
      "outputs": [
        {
          "output_type": "stream",
          "name": "stdout",
          "text": [
            "Downloading https://sid.erda.dk/public/archives/daaeac0d7ce1152aea9b61d9f1e19370/GTSRB-Training_fixed.zip to /content/data/gtsrb/GTSRB-Training_fixed.zip\n"
          ]
        },
        {
          "output_type": "stream",
          "name": "stderr",
          "text": [
            "100%|██████████| 187490228/187490228 [00:08<00:00, 22265206.99it/s]\n"
          ]
        },
        {
          "output_type": "stream",
          "name": "stdout",
          "text": [
            "Extracting /content/data/gtsrb/GTSRB-Training_fixed.zip to /content/data/gtsrb\n"
          ]
        }
      ]
    },
    {
      "cell_type": "code",
      "source": [
        "!mkdir /content/data/gtsrb/GTSRB/Testing\n",
        "\n",
        "!mv /content/data/gtsrb/GTSRB/Training/00021 /content/data/gtsrb/GTSRB/Testing\n",
        "!mv /content/data/gtsrb/GTSRB/Training/00037 /content/data/gtsrb/GTSRB/Testing\n",
        "!mv /content/data/gtsrb/GTSRB/Training/00042 /content/data/gtsrb/GTSRB/Testing\n",
        "!mv /content/data/gtsrb/GTSRB/Training/00016 /content/data/gtsrb/GTSRB/Testing\n",
        "!mv /content/data/gtsrb/GTSRB/Training/00006 /content/data/gtsrb/GTSRB/Testing\n",
        "!mv /content/data/gtsrb/GTSRB/Training/00005 /content/data/gtsrb/GTSRB/Testing\n",
        "!mv /content/data/gtsrb/GTSRB/Training/00004 /content/data/gtsrb/GTSRB/Testing\n",
        "!mv /content/data/gtsrb/GTSRB/Training/00035 /content/data/gtsrb/GTSRB/Testing\n",
        "!mv /content/data/gtsrb/GTSRB/Training/00000 /content/data/gtsrb/GTSRB/Testing\n",
        "!mv /content/data/gtsrb/GTSRB/Training/00029 /content/data/gtsrb/GTSRB/Testing\n",
        "!mv /content/data/gtsrb/GTSRB/Training/00010 /content/data/gtsrb/GTSRB/Testing\n",
        "!mv /content/data/gtsrb/GTSRB/Training/00012 /content/data/gtsrb/GTSRB/Testing\n",
        "!mv /content/data/gtsrb/GTSRB/Training/00040 /content/data/gtsrb/GTSRB/Testing\n",
        "!mv /content/data/gtsrb/GTSRB/Training/00009 /content/data/gtsrb/GTSRB/Testing\n",
        "!mv /content/data/gtsrb/GTSRB/Training/00036 /content/data/gtsrb/GTSRB/Testing\n",
        "!mv /content/data/gtsrb/GTSRB/Training/00031 /content/data/gtsrb/GTSRB/Testing\n",
        "!mv /content/data/gtsrb/GTSRB/Training/00041 /content/data/gtsrb/GTSRB/Testing\n",
        "!mv /content/data/gtsrb/GTSRB/Training/00018 /content/data/gtsrb/GTSRB/Testing"
      ],
      "metadata": {
        "id": "ZnjCVaXjJFJ6"
      },
      "execution_count": 8,
      "outputs": []
    },
    {
      "cell_type": "code",
      "source": [
        "from easyfsl.samplers import TaskSampler\n",
        "from torch.utils.data import DataLoader\n",
        "\n",
        "\n",
        "n_tasks_per_epoch = 500\n",
        "n_validation_tasks = 100\n",
        "image_size = 28\n",
        "\n",
        "# Instantiate the datasets\n",
        "train_set = torchvision.datasets.GTSRB(\n",
        "    root='/content/data',\n",
        "    split='train',\n",
        "    transform=torchvision.transforms.Compose(\n",
        "        [\n",
        "            torchvision.transforms.ToTensor(),\n",
        "            torchvision.transforms.Resize([image_size,image_size]),\n",
        "        ]\n",
        "    ),\n",
        "    target_transform=None,\n",
        "    download=False)\n",
        "\n",
        "train_set_size = int(len(train_set) * 0.8)\n",
        "val_set_size = len(train_set) - train_set_size\n",
        "train_set, val_set = torch.utils.data.random_split(train_set, [train_set_size, val_set_size])\n",
        "\n",
        "train_set.get_labels = lambda: [\n",
        "    instance[1] for instance in train_set\n",
        "]\n",
        "\n",
        "val_set.get_labels = lambda: [\n",
        "    instance[1] for instance in val_set\n",
        "]\n",
        "\n",
        "# Those are special batch samplers that sample few-shot classification tasks with a pre-defined shape\n",
        "train_sampler = TaskSampler(\n",
        "    train_set, n_way=n_way, n_shot=n_shot, n_query=n_query, n_tasks=n_tasks_per_epoch\n",
        ")\n",
        "val_sampler = TaskSampler(\n",
        "    val_set, n_way=n_way, n_shot=n_shot, n_query=n_query, n_tasks=n_validation_tasks\n",
        ")\n",
        "\n",
        "# Finally, the DataLoader. We customize the collate_fn so that batches are delivered\n",
        "# in the shape: (support_images, support_labels, query_images, query_labels, class_ids)\n",
        "train_loader = DataLoader(\n",
        "    train_set,\n",
        "    batch_sampler=train_sampler,\n",
        "    num_workers=n_workers,\n",
        "    pin_memory=True,\n",
        "    collate_fn=train_sampler.episodic_collate_fn,\n",
        ")\n",
        "val_loader = DataLoader(\n",
        "    val_set,\n",
        "    batch_sampler=val_sampler,\n",
        "    num_workers=n_workers,\n",
        "    pin_memory=True,\n",
        "    collate_fn=val_sampler.episodic_collate_fn,\n",
        ")\n",
        "\n",
        "print(train_set_size,val_set_size)"
      ],
      "metadata": {
        "colab": {
          "base_uri": "https://localhost:8080/"
        },
        "id": "nmWydVXk8JYI",
        "outputId": "bb538a1f-97df-4b72-e3f7-757a91b626be"
      },
      "execution_count": 9,
      "outputs": [
        {
          "output_type": "stream",
          "name": "stderr",
          "text": [
            "/usr/local/lib/python3.10/dist-packages/torchvision/transforms/functional.py:1603: UserWarning: The default value of the antialias parameter of all the resizing transforms (Resize(), RandomResizedCrop(), etc.) will change from None to True in v0.17, in order to be consistent across the PIL and Tensor backends. To suppress this warning, directly pass antialias=True (recommended, future default), antialias=None (current default, which means False for Tensors and True for PIL), or antialias=False (only works on Tensors - PIL will still use antialiasing). This also applies if you are using the inference transforms from the models weights: update the call to weights.transforms(antialias=True).\n",
            "  warnings.warn(\n"
          ]
        },
        {
          "output_type": "stream",
          "name": "stdout",
          "text": [
            "12768 3192\n"
          ]
        }
      ]
    },
    {
      "cell_type": "code",
      "source": [
        "#Only used this encoder for RelationNetworks few shot algorithm\n",
        "\n",
        "class CNNEncoder(nn.Module):\n",
        "    \"\"\"docstring for ClassName\"\"\"\n",
        "    def __init__(self):\n",
        "        super(CNNEncoder, self).__init__()\n",
        "        self.layer1 = nn.Sequential(\n",
        "                        nn.Conv2d(3,64,kernel_size=3,padding=0),\n",
        "                        nn.BatchNorm2d(64, momentum=1, affine=True),\n",
        "                        nn.ReLU(),\n",
        "                        nn.MaxPool2d(2))\n",
        "        self.layer2 = nn.Sequential(\n",
        "                        nn.Conv2d(64,64,kernel_size=3,padding=0),\n",
        "                        nn.BatchNorm2d(64, momentum=1, affine=True),\n",
        "                        nn.ReLU(),\n",
        "                        nn.MaxPool2d(2))\n",
        "        self.layer3 = nn.Sequential(\n",
        "                        nn.Conv2d(64,64,kernel_size=3,padding=1),\n",
        "                        nn.BatchNorm2d(64, momentum=1, affine=True),\n",
        "                        nn.ReLU())\n",
        "        self.layer4 = nn.Sequential(\n",
        "                        nn.Conv2d(64,64,kernel_size=3,padding=1),\n",
        "                        nn.BatchNorm2d(64, momentum=1, affine=True),\n",
        "                        nn.ReLU())\n",
        "\n",
        "    def forward(self,x):\n",
        "        out = self.layer1(x)\n",
        "        out = self.layer2(out)\n",
        "        out = self.layer3(out)\n",
        "        out = self.layer4(out)\n",
        "        #out = out.view(out.size(0),-1)\n",
        "        return out # 64"
      ],
      "metadata": {
        "id": "aYUufDTTRp9o"
      },
      "execution_count": null,
      "outputs": []
    },
    {
      "cell_type": "code",
      "source": [
        "from easyfsl.methods import PrototypicalNetworks, FewShotClassifier\n",
        "from easyfsl.modules import resnet12\n",
        "\n",
        "\n",
        "convolutional_network = resnet12()\n",
        "few_shot_classifier = PrototypicalNetworks(convolutional_network).to(DEVICE)"
      ],
      "metadata": {
        "id": "wQ3g-54A8N-s"
      },
      "execution_count": 10,
      "outputs": []
    },
    {
      "cell_type": "code",
      "source": [
        "from torch.optim import SGD, Optimizer\n",
        "from torch.optim.lr_scheduler import MultiStepLR\n",
        "from torch.utils.tensorboard import SummaryWriter\n",
        "\n",
        "\n",
        "LOSS_FUNCTION = nn.CrossEntropyLoss()\n",
        "\n",
        "n_epochs = 200\n",
        "scheduler_milestones = [120, 160]\n",
        "scheduler_gamma = 0.1\n",
        "learning_rate = 1e-2\n",
        "tb_logs_dir = Path(\".\")\n",
        "\n",
        "train_optimizer = SGD(\n",
        "    few_shot_classifier.parameters(), lr=learning_rate, momentum=0.9, weight_decay=5e-4\n",
        ")\n",
        "train_scheduler = MultiStepLR(\n",
        "    train_optimizer,\n",
        "    milestones=scheduler_milestones,\n",
        "    gamma=scheduler_gamma,\n",
        ")\n",
        "\n",
        "tb_writer = SummaryWriter(log_dir=str(tb_logs_dir))"
      ],
      "metadata": {
        "id": "cOdKOzj98RkB"
      },
      "execution_count": 11,
      "outputs": []
    },
    {
      "cell_type": "code",
      "source": [
        "def training_epoch(\n",
        "    model: FewShotClassifier, data_loader: DataLoader, optimizer: Optimizer\n",
        "):\n",
        "    all_loss = []\n",
        "    model.train()\n",
        "    with tqdm(\n",
        "        enumerate(data_loader), total=len(data_loader), desc=\"Training\"\n",
        "    ) as tqdm_train:\n",
        "        for episode_index, (\n",
        "            support_images,\n",
        "            support_labels,\n",
        "            query_images,\n",
        "            query_labels,\n",
        "            _,\n",
        "        ) in tqdm_train:\n",
        "            optimizer.zero_grad()\n",
        "            model.process_support_set(\n",
        "                support_images.to(DEVICE), support_labels.to(DEVICE)\n",
        "            )\n",
        "            classification_scores = model(query_images.to(DEVICE))\n",
        "\n",
        "            loss = LOSS_FUNCTION(classification_scores, query_labels.to(DEVICE))\n",
        "\n",
        "            loss.backward()\n",
        "\n",
        "            optimizer.step()\n",
        "\n",
        "            all_loss.append(loss.item())\n",
        "\n",
        "            tqdm_train.set_postfix(loss=mean(all_loss))\n",
        "\n",
        "    return mean(all_loss)"
      ],
      "metadata": {
        "id": "ojLSBvch8U-a"
      },
      "execution_count": 12,
      "outputs": []
    },
    {
      "cell_type": "code",
      "source": [
        "from easyfsl.utils import evaluate\n",
        "\n",
        "\n",
        "best_state = few_shot_classifier.state_dict()\n",
        "best_validation_accuracy = 0.0\n",
        "for epoch in range(n_epochs):\n",
        "    print(f\"Epoch {epoch}\")\n",
        "    average_loss = training_epoch(few_shot_classifier, train_loader, train_optimizer)\n",
        "    validation_accuracy = evaluate(\n",
        "        few_shot_classifier, val_loader, device=DEVICE, tqdm_prefix=\"Validation\"\n",
        "    )\n",
        "\n",
        "    if validation_accuracy > best_validation_accuracy:\n",
        "        best_validation_accuracy = validation_accuracy\n",
        "        best_state = few_shot_classifier.state_dict()\n",
        "        print(\"Ding ding ding! We found a new best model!\")\n",
        "\n",
        "    tb_writer.add_scalar(\"Train/loss\", average_loss, epoch)\n",
        "    tb_writer.add_scalar(\"Val/acc\", validation_accuracy, epoch)\n",
        "\n",
        "    # Warn the scheduler that we did an epoch\n",
        "    # so it knows when to decrease the learning rate\n",
        "    train_scheduler.step()\n",
        "\n",
        "    if epoch % 10 == 0 : torch.save(best_state, '/content/drive/MyDrive/pr_final_presentation/weights/PrototypicalNetworks_5_5.pth')"
      ],
      "metadata": {
        "id": "IG6pA52a8ZAZ",
        "colab": {
          "base_uri": "https://localhost:8080/"
        },
        "outputId": "05ff85fa-66a1-48ab-a27a-03f358a38904"
      },
      "execution_count": 13,
      "outputs": [
        {
          "metadata": {
            "tags": null
          },
          "name": "stdout",
          "output_type": "stream",
          "text": [
            "Epoch 0\n"
          ]
        },
        {
          "metadata": {
            "tags": null
          },
          "name": "stderr",
          "output_type": "stream",
          "text": [
            "Training:   0%|          | 0/500 [00:00<?, ?it/s]/usr/local/lib/python3.10/dist-packages/torchvision/transforms/functional.py:1603: UserWarning: The default value of the antialias parameter of all the resizing transforms (Resize(), RandomResizedCrop(), etc.) will change from None to True in v0.17, in order to be consistent across the PIL and Tensor backends. To suppress this warning, directly pass antialias=True (recommended, future default), antialias=None (current default, which means False for Tensors and True for PIL), or antialias=False (only works on Tensors - PIL will still use antialiasing). This also applies if you are using the inference transforms from the models weights: update the call to weights.transforms(antialias=True).\n",
            "  warnings.warn(\n",
            "Training: 100%|██████████| 500/500 [01:03<00:00,  7.87it/s, loss=0.348]\n",
            "Validation: 100%|██████████| 100/100 [00:05<00:00, 18.57it/s, accuracy=0.98]\n"
          ]
        },
        {
          "metadata": {
            "tags": null
          },
          "name": "stdout",
          "output_type": "stream",
          "text": [
            "Ding ding ding! We found a new best model!\n",
            "Epoch 1\n"
          ]
        },
        {
          "metadata": {
            "tags": null
          },
          "name": "stderr",
          "output_type": "stream",
          "text": [
            "Training: 100%|██████████| 500/500 [00:50<00:00,  9.99it/s, loss=0.034]\n",
            "Validation: 100%|██████████| 100/100 [00:05<00:00, 18.26it/s, accuracy=0.987]\n"
          ]
        },
        {
          "metadata": {
            "tags": null
          },
          "name": "stdout",
          "output_type": "stream",
          "text": [
            "Ding ding ding! We found a new best model!\n",
            "Epoch 2\n"
          ]
        },
        {
          "metadata": {
            "tags": null
          },
          "name": "stderr",
          "output_type": "stream",
          "text": [
            "Training: 100%|██████████| 500/500 [00:49<00:00, 10.05it/s, loss=0.0116]\n",
            "Validation: 100%|██████████| 100/100 [00:05<00:00, 17.46it/s, accuracy=0.994]\n"
          ]
        },
        {
          "metadata": {
            "tags": null
          },
          "name": "stdout",
          "output_type": "stream",
          "text": [
            "Ding ding ding! We found a new best model!\n",
            "Epoch 3\n"
          ]
        },
        {
          "metadata": {
            "tags": null
          },
          "name": "stderr",
          "output_type": "stream",
          "text": [
            "Training: 100%|██████████| 500/500 [00:49<00:00, 10.04it/s, loss=0.00574]\n",
            "Validation: 100%|██████████| 100/100 [00:06<00:00, 16.38it/s, accuracy=0.992]\n"
          ]
        },
        {
          "metadata": {
            "tags": null
          },
          "name": "stdout",
          "output_type": "stream",
          "text": [
            "Epoch 4\n"
          ]
        },
        {
          "metadata": {
            "tags": null
          },
          "name": "stderr",
          "output_type": "stream",
          "text": [
            "Training: 100%|██████████| 500/500 [00:49<00:00, 10.07it/s, loss=0.00425]\n",
            "Validation: 100%|██████████| 100/100 [00:06<00:00, 16.11it/s, accuracy=0.993]\n"
          ]
        },
        {
          "metadata": {
            "tags": null
          },
          "name": "stdout",
          "output_type": "stream",
          "text": [
            "Epoch 5\n"
          ]
        },
        {
          "metadata": {
            "tags": null
          },
          "name": "stderr",
          "output_type": "stream",
          "text": [
            "Training: 100%|██████████| 500/500 [00:49<00:00, 10.13it/s, loss=0.00337]\n",
            "Validation: 100%|██████████| 100/100 [00:06<00:00, 16.11it/s, accuracy=0.991]\n"
          ]
        },
        {
          "metadata": {
            "tags": null
          },
          "name": "stdout",
          "output_type": "stream",
          "text": [
            "Epoch 6\n"
          ]
        },
        {
          "metadata": {
            "tags": null
          },
          "name": "stderr",
          "output_type": "stream",
          "text": [
            "Training: 100%|██████████| 500/500 [00:49<00:00, 10.09it/s, loss=0.00211]\n",
            "Validation: 100%|██████████| 100/100 [00:06<00:00, 15.77it/s, accuracy=0.994]\n"
          ]
        },
        {
          "metadata": {
            "tags": null
          },
          "name": "stdout",
          "output_type": "stream",
          "text": [
            "Epoch 7\n"
          ]
        },
        {
          "metadata": {
            "tags": null
          },
          "name": "stderr",
          "output_type": "stream",
          "text": [
            "Training: 100%|██████████| 500/500 [00:49<00:00, 10.11it/s, loss=0.00309]\n",
            "Validation: 100%|██████████| 100/100 [00:06<00:00, 15.48it/s, accuracy=0.994]\n"
          ]
        },
        {
          "metadata": {
            "tags": null
          },
          "name": "stdout",
          "output_type": "stream",
          "text": [
            "Ding ding ding! We found a new best model!\n",
            "Epoch 8\n"
          ]
        },
        {
          "metadata": {
            "tags": null
          },
          "name": "stderr",
          "output_type": "stream",
          "text": [
            "Training: 100%|██████████| 500/500 [00:49<00:00, 10.10it/s, loss=0.00127]\n",
            "Validation: 100%|██████████| 100/100 [00:06<00:00, 16.32it/s, accuracy=0.994]\n"
          ]
        },
        {
          "metadata": {
            "tags": null
          },
          "name": "stdout",
          "output_type": "stream",
          "text": [
            "Epoch 9\n"
          ]
        },
        {
          "metadata": {
            "tags": null
          },
          "name": "stderr",
          "output_type": "stream",
          "text": [
            "Training: 100%|██████████| 500/500 [00:49<00:00, 10.05it/s, loss=0.000866]\n",
            "Validation: 100%|██████████| 100/100 [00:05<00:00, 18.16it/s, accuracy=0.993]\n"
          ]
        },
        {
          "metadata": {
            "tags": null
          },
          "name": "stdout",
          "output_type": "stream",
          "text": [
            "Epoch 10\n"
          ]
        },
        {
          "metadata": {
            "tags": null
          },
          "name": "stderr",
          "output_type": "stream",
          "text": [
            "Training: 100%|██████████| 500/500 [00:49<00:00, 10.01it/s, loss=0.00124]\n",
            "Validation: 100%|██████████| 100/100 [00:05<00:00, 18.31it/s, accuracy=0.993]\n"
          ]
        },
        {
          "metadata": {
            "tags": null
          },
          "name": "stdout",
          "output_type": "stream",
          "text": [
            "Epoch 11\n"
          ]
        },
        {
          "metadata": {
            "tags": null
          },
          "name": "stderr",
          "output_type": "stream",
          "text": [
            "Training: 100%|██████████| 500/500 [00:50<00:00,  9.99it/s, loss=0.00174]\n",
            "Validation: 100%|██████████| 100/100 [00:05<00:00, 18.33it/s, accuracy=0.992]\n"
          ]
        },
        {
          "metadata": {
            "tags": null
          },
          "name": "stdout",
          "output_type": "stream",
          "text": [
            "Epoch 12\n"
          ]
        },
        {
          "metadata": {
            "tags": null
          },
          "name": "stderr",
          "output_type": "stream",
          "text": [
            "Training: 100%|██████████| 500/500 [00:49<00:00, 10.03it/s, loss=0.0012]\n",
            "Validation: 100%|██████████| 100/100 [00:05<00:00, 18.53it/s, accuracy=0.994]\n"
          ]
        },
        {
          "metadata": {
            "tags": null
          },
          "name": "stdout",
          "output_type": "stream",
          "text": [
            "Epoch 13\n"
          ]
        },
        {
          "metadata": {
            "tags": null
          },
          "name": "stderr",
          "output_type": "stream",
          "text": [
            "Training: 100%|██████████| 500/500 [00:49<00:00, 10.02it/s, loss=0.00294]\n",
            "Validation: 100%|██████████| 100/100 [00:05<00:00, 18.39it/s, accuracy=0.994]\n"
          ]
        },
        {
          "metadata": {
            "tags": null
          },
          "name": "stdout",
          "output_type": "stream",
          "text": [
            "Epoch 14\n"
          ]
        },
        {
          "metadata": {
            "tags": null
          },
          "name": "stderr",
          "output_type": "stream",
          "text": [
            "Training: 100%|██████████| 500/500 [00:49<00:00, 10.06it/s, loss=0.00104]\n",
            "Validation: 100%|██████████| 100/100 [00:05<00:00, 18.58it/s, accuracy=0.997]\n"
          ]
        },
        {
          "metadata": {
            "tags": null
          },
          "name": "stdout",
          "output_type": "stream",
          "text": [
            "Ding ding ding! We found a new best model!\n",
            "Epoch 15\n"
          ]
        },
        {
          "metadata": {
            "tags": null
          },
          "name": "stderr",
          "output_type": "stream",
          "text": [
            "Training: 100%|██████████| 500/500 [00:49<00:00, 10.09it/s, loss=0.000759]\n",
            "Validation: 100%|██████████| 100/100 [00:05<00:00, 18.64it/s, accuracy=0.996]\n"
          ]
        },
        {
          "metadata": {
            "tags": null
          },
          "name": "stdout",
          "output_type": "stream",
          "text": [
            "Epoch 16\n"
          ]
        },
        {
          "metadata": {
            "tags": null
          },
          "name": "stderr",
          "output_type": "stream",
          "text": [
            "Training: 100%|██████████| 500/500 [00:49<00:00, 10.09it/s, loss=0.000683]\n",
            "Validation: 100%|██████████| 100/100 [00:05<00:00, 18.31it/s, accuracy=0.995]\n"
          ]
        },
        {
          "metadata": {
            "tags": null
          },
          "name": "stdout",
          "output_type": "stream",
          "text": [
            "Epoch 17\n"
          ]
        },
        {
          "metadata": {
            "tags": null
          },
          "name": "stderr",
          "output_type": "stream",
          "text": [
            "Training: 100%|██████████| 500/500 [00:49<00:00, 10.12it/s, loss=0.000592]\n",
            "Validation: 100%|██████████| 100/100 [00:05<00:00, 18.41it/s, accuracy=0.995]\n"
          ]
        },
        {
          "metadata": {
            "tags": null
          },
          "name": "stdout",
          "output_type": "stream",
          "text": [
            "Epoch 18\n"
          ]
        },
        {
          "metadata": {
            "tags": null
          },
          "name": "stderr",
          "output_type": "stream",
          "text": [
            "Training: 100%|██████████| 500/500 [00:49<00:00, 10.07it/s, loss=0.000536]\n",
            "Validation: 100%|██████████| 100/100 [00:05<00:00, 17.66it/s, accuracy=0.995]\n"
          ]
        },
        {
          "metadata": {
            "tags": null
          },
          "name": "stdout",
          "output_type": "stream",
          "text": [
            "Epoch 19\n"
          ]
        },
        {
          "metadata": {
            "tags": null
          },
          "name": "stderr",
          "output_type": "stream",
          "text": [
            "Training: 100%|██████████| 500/500 [00:49<00:00, 10.13it/s, loss=0.000574]\n",
            "Validation: 100%|██████████| 100/100 [00:05<00:00, 17.05it/s, accuracy=0.996]\n"
          ]
        },
        {
          "metadata": {
            "tags": null
          },
          "name": "stdout",
          "output_type": "stream",
          "text": [
            "Epoch 20\n"
          ]
        },
        {
          "metadata": {
            "tags": null
          },
          "name": "stderr",
          "output_type": "stream",
          "text": [
            "Training: 100%|██████████| 500/500 [00:49<00:00, 10.17it/s, loss=0.000581]\n",
            "Validation: 100%|██████████| 100/100 [00:06<00:00, 16.62it/s, accuracy=0.994]\n"
          ]
        },
        {
          "metadata": {
            "tags": null
          },
          "name": "stdout",
          "output_type": "stream",
          "text": [
            "Epoch 21\n"
          ]
        },
        {
          "metadata": {
            "tags": null
          },
          "name": "stderr",
          "output_type": "stream",
          "text": [
            "Training: 100%|██████████| 500/500 [00:49<00:00, 10.14it/s, loss=0.000589]\n",
            "Validation: 100%|██████████| 100/100 [00:06<00:00, 16.07it/s, accuracy=0.996]\n"
          ]
        },
        {
          "metadata": {
            "tags": null
          },
          "name": "stdout",
          "output_type": "stream",
          "text": [
            "Epoch 22\n"
          ]
        },
        {
          "metadata": {
            "tags": null
          },
          "name": "stderr",
          "output_type": "stream",
          "text": [
            "Training: 100%|██████████| 500/500 [00:49<00:00, 10.17it/s, loss=0.000571]\n",
            "Validation: 100%|██████████| 100/100 [00:06<00:00, 16.17it/s, accuracy=0.995]\n"
          ]
        },
        {
          "metadata": {
            "tags": null
          },
          "name": "stdout",
          "output_type": "stream",
          "text": [
            "Epoch 23\n"
          ]
        },
        {
          "metadata": {
            "tags": null
          },
          "name": "stderr",
          "output_type": "stream",
          "text": [
            "Training: 100%|██████████| 500/500 [00:49<00:00, 10.18it/s, loss=0.000559]\n",
            "Validation: 100%|██████████| 100/100 [00:06<00:00, 16.16it/s, accuracy=0.995]\n"
          ]
        },
        {
          "metadata": {
            "tags": null
          },
          "name": "stdout",
          "output_type": "stream",
          "text": [
            "Epoch 24\n"
          ]
        },
        {
          "metadata": {
            "tags": null
          },
          "name": "stderr",
          "output_type": "stream",
          "text": [
            "Training: 100%|██████████| 500/500 [00:49<00:00, 10.10it/s, loss=0.00054]\n",
            "Validation: 100%|██████████| 100/100 [00:05<00:00, 16.85it/s, accuracy=0.994]\n"
          ]
        },
        {
          "metadata": {
            "tags": null
          },
          "name": "stdout",
          "output_type": "stream",
          "text": [
            "Epoch 25\n"
          ]
        },
        {
          "metadata": {
            "tags": null
          },
          "name": "stderr",
          "output_type": "stream",
          "text": [
            "Training: 100%|██████████| 500/500 [00:49<00:00, 10.13it/s, loss=0.000557]\n",
            "Validation: 100%|██████████| 100/100 [00:05<00:00, 17.62it/s, accuracy=0.996]\n"
          ]
        },
        {
          "metadata": {
            "tags": null
          },
          "name": "stdout",
          "output_type": "stream",
          "text": [
            "Epoch 26\n"
          ]
        },
        {
          "metadata": {
            "tags": null
          },
          "name": "stderr",
          "output_type": "stream",
          "text": [
            "Training: 100%|██████████| 500/500 [00:49<00:00, 10.14it/s, loss=0.000546]\n",
            "Validation: 100%|██████████| 100/100 [00:05<00:00, 17.98it/s, accuracy=0.996]\n"
          ]
        },
        {
          "metadata": {
            "tags": null
          },
          "name": "stdout",
          "output_type": "stream",
          "text": [
            "Epoch 27\n"
          ]
        },
        {
          "metadata": {
            "tags": null
          },
          "name": "stderr",
          "output_type": "stream",
          "text": [
            "Training: 100%|██████████| 500/500 [00:49<00:00, 10.10it/s, loss=0.000616]\n",
            "Validation: 100%|██████████| 100/100 [00:05<00:00, 18.37it/s, accuracy=0.995]\n"
          ]
        },
        {
          "metadata": {
            "tags": null
          },
          "name": "stdout",
          "output_type": "stream",
          "text": [
            "Epoch 28\n"
          ]
        },
        {
          "metadata": {
            "tags": null
          },
          "name": "stderr",
          "output_type": "stream",
          "text": [
            "Training: 100%|██████████| 500/500 [00:49<00:00, 10.08it/s, loss=0.000599]\n",
            "Validation: 100%|██████████| 100/100 [00:05<00:00, 18.15it/s, accuracy=0.994]\n"
          ]
        },
        {
          "metadata": {
            "tags": null
          },
          "name": "stdout",
          "output_type": "stream",
          "text": [
            "Epoch 29\n"
          ]
        },
        {
          "metadata": {
            "tags": null
          },
          "name": "stderr",
          "output_type": "stream",
          "text": [
            "Training: 100%|██████████| 500/500 [00:49<00:00, 10.08it/s, loss=0.000622]\n",
            "Validation: 100%|██████████| 100/100 [00:05<00:00, 18.31it/s, accuracy=0.991]\n"
          ]
        },
        {
          "metadata": {
            "tags": null
          },
          "name": "stdout",
          "output_type": "stream",
          "text": [
            "Epoch 30\n"
          ]
        },
        {
          "metadata": {
            "tags": null
          },
          "name": "stderr",
          "output_type": "stream",
          "text": [
            "Training: 100%|██████████| 500/500 [00:49<00:00, 10.03it/s, loss=0.000605]\n",
            "Validation: 100%|██████████| 100/100 [00:05<00:00, 18.11it/s, accuracy=0.997]\n"
          ]
        },
        {
          "metadata": {
            "tags": null
          },
          "name": "stdout",
          "output_type": "stream",
          "text": [
            "Ding ding ding! We found a new best model!\n",
            "Epoch 31\n"
          ]
        },
        {
          "metadata": {
            "tags": null
          },
          "name": "stderr",
          "output_type": "stream",
          "text": [
            "Training: 100%|██████████| 500/500 [00:49<00:00, 10.10it/s, loss=0.000595]\n",
            "Validation: 100%|██████████| 100/100 [00:05<00:00, 18.80it/s, accuracy=0.996]\n"
          ]
        },
        {
          "metadata": {
            "tags": null
          },
          "name": "stdout",
          "output_type": "stream",
          "text": [
            "Epoch 32\n"
          ]
        },
        {
          "metadata": {
            "tags": null
          },
          "name": "stderr",
          "output_type": "stream",
          "text": [
            "Training: 100%|██████████| 500/500 [00:49<00:00, 10.11it/s, loss=0.000628]\n",
            "Validation: 100%|██████████| 100/100 [00:05<00:00, 18.65it/s, accuracy=0.997]\n"
          ]
        },
        {
          "metadata": {
            "tags": null
          },
          "name": "stdout",
          "output_type": "stream",
          "text": [
            "Epoch 33\n"
          ]
        },
        {
          "metadata": {
            "tags": null
          },
          "name": "stderr",
          "output_type": "stream",
          "text": [
            "Training: 100%|██████████| 500/500 [00:49<00:00, 10.12it/s, loss=0.000622]\n",
            "Validation: 100%|██████████| 100/100 [00:05<00:00, 18.70it/s, accuracy=0.995]\n"
          ]
        },
        {
          "metadata": {
            "tags": null
          },
          "name": "stdout",
          "output_type": "stream",
          "text": [
            "Epoch 34\n"
          ]
        },
        {
          "metadata": {
            "tags": null
          },
          "name": "stderr",
          "output_type": "stream",
          "text": [
            "Training: 100%|██████████| 500/500 [00:49<00:00, 10.11it/s, loss=0.000636]\n",
            "Validation: 100%|██████████| 100/100 [00:05<00:00, 18.42it/s, accuracy=0.995]\n"
          ]
        },
        {
          "metadata": {
            "tags": null
          },
          "name": "stdout",
          "output_type": "stream",
          "text": [
            "Epoch 35\n"
          ]
        },
        {
          "metadata": {
            "tags": null
          },
          "name": "stderr",
          "output_type": "stream",
          "text": [
            "Training: 100%|██████████| 500/500 [00:49<00:00, 10.09it/s, loss=0.000632]\n",
            "Validation: 100%|██████████| 100/100 [00:05<00:00, 18.72it/s, accuracy=0.996]\n"
          ]
        },
        {
          "metadata": {
            "tags": null
          },
          "name": "stdout",
          "output_type": "stream",
          "text": [
            "Epoch 36\n"
          ]
        },
        {
          "metadata": {
            "tags": null
          },
          "name": "stderr",
          "output_type": "stream",
          "text": [
            "Training: 100%|██████████| 500/500 [00:49<00:00, 10.14it/s, loss=0.000627]\n",
            "Validation: 100%|██████████| 100/100 [00:05<00:00, 17.71it/s, accuracy=0.995]\n"
          ]
        },
        {
          "metadata": {
            "tags": null
          },
          "name": "stdout",
          "output_type": "stream",
          "text": [
            "Epoch 37\n"
          ]
        },
        {
          "metadata": {
            "tags": null
          },
          "name": "stderr",
          "output_type": "stream",
          "text": [
            "Training: 100%|██████████| 500/500 [00:48<00:00, 10.21it/s, loss=0.000642]\n",
            "Validation: 100%|██████████| 100/100 [00:05<00:00, 17.69it/s, accuracy=0.995]\n"
          ]
        },
        {
          "metadata": {
            "tags": null
          },
          "name": "stdout",
          "output_type": "stream",
          "text": [
            "Epoch 38\n"
          ]
        },
        {
          "metadata": {
            "tags": null
          },
          "name": "stderr",
          "output_type": "stream",
          "text": [
            "Training: 100%|██████████| 500/500 [00:49<00:00, 10.15it/s, loss=0.000626]\n",
            "Validation: 100%|██████████| 100/100 [00:05<00:00, 16.93it/s, accuracy=0.995]\n"
          ]
        },
        {
          "metadata": {
            "tags": null
          },
          "name": "stdout",
          "output_type": "stream",
          "text": [
            "Epoch 39\n"
          ]
        },
        {
          "metadata": {
            "tags": null
          },
          "name": "stderr",
          "output_type": "stream",
          "text": [
            "Training: 100%|██████████| 500/500 [00:48<00:00, 10.23it/s, loss=0.000676]\n",
            "Validation: 100%|██████████| 100/100 [00:06<00:00, 16.32it/s, accuracy=0.994]\n"
          ]
        },
        {
          "metadata": {
            "tags": null
          },
          "name": "stdout",
          "output_type": "stream",
          "text": [
            "Epoch 40\n"
          ]
        },
        {
          "metadata": {
            "tags": null
          },
          "name": "stderr",
          "output_type": "stream",
          "text": [
            "Training: 100%|██████████| 500/500 [00:48<00:00, 10.26it/s, loss=0.000668]\n",
            "Validation: 100%|██████████| 100/100 [00:06<00:00, 16.38it/s, accuracy=0.997]\n"
          ]
        },
        {
          "metadata": {
            "tags": null
          },
          "name": "stdout",
          "output_type": "stream",
          "text": [
            "Ding ding ding! We found a new best model!\n",
            "Epoch 41\n"
          ]
        },
        {
          "metadata": {
            "tags": null
          },
          "name": "stderr",
          "output_type": "stream",
          "text": [
            "Training: 100%|██████████| 500/500 [00:48<00:00, 10.23it/s, loss=0.000688]\n",
            "Validation: 100%|██████████| 100/100 [00:06<00:00, 16.50it/s, accuracy=0.996]\n"
          ]
        },
        {
          "metadata": {
            "tags": null
          },
          "name": "stdout",
          "output_type": "stream",
          "text": [
            "Epoch 42\n"
          ]
        },
        {
          "metadata": {
            "tags": null
          },
          "name": "stderr",
          "output_type": "stream",
          "text": [
            "Training: 100%|██████████| 500/500 [00:48<00:00, 10.24it/s, loss=0.000702]\n",
            "Validation: 100%|██████████| 100/100 [00:06<00:00, 16.22it/s, accuracy=0.995]\n"
          ]
        },
        {
          "metadata": {
            "tags": null
          },
          "name": "stdout",
          "output_type": "stream",
          "text": [
            "Epoch 43\n"
          ]
        },
        {
          "metadata": {
            "tags": null
          },
          "name": "stderr",
          "output_type": "stream",
          "text": [
            "Training: 100%|██████████| 500/500 [00:48<00:00, 10.28it/s, loss=0.000678]\n",
            "Validation: 100%|██████████| 100/100 [00:06<00:00, 16.21it/s, accuracy=0.997]\n"
          ]
        },
        {
          "metadata": {
            "tags": null
          },
          "name": "stdout",
          "output_type": "stream",
          "text": [
            "Epoch 44\n"
          ]
        },
        {
          "metadata": {
            "tags": null
          },
          "name": "stderr",
          "output_type": "stream",
          "text": [
            "Training: 100%|██████████| 500/500 [00:48<00:00, 10.23it/s, loss=0.000685]\n",
            "Validation: 100%|██████████| 100/100 [00:05<00:00, 16.82it/s, accuracy=0.996]\n"
          ]
        },
        {
          "metadata": {
            "tags": null
          },
          "name": "stdout",
          "output_type": "stream",
          "text": [
            "Epoch 45\n"
          ]
        },
        {
          "metadata": {
            "tags": null
          },
          "name": "stderr",
          "output_type": "stream",
          "text": [
            "Training: 100%|██████████| 500/500 [00:48<00:00, 10.25it/s, loss=0.000739]\n",
            "Validation: 100%|██████████| 100/100 [00:05<00:00, 16.95it/s, accuracy=0.997]\n"
          ]
        },
        {
          "metadata": {
            "tags": null
          },
          "name": "stdout",
          "output_type": "stream",
          "text": [
            "Epoch 46\n"
          ]
        },
        {
          "metadata": {
            "tags": null
          },
          "name": "stderr",
          "output_type": "stream",
          "text": [
            "Training: 100%|██████████| 500/500 [00:49<00:00, 10.16it/s, loss=0.000678]\n",
            "Validation: 100%|██████████| 100/100 [00:05<00:00, 17.47it/s, accuracy=0.996]\n"
          ]
        },
        {
          "metadata": {
            "tags": null
          },
          "name": "stdout",
          "output_type": "stream",
          "text": [
            "Epoch 47\n"
          ]
        },
        {
          "metadata": {
            "tags": null
          },
          "name": "stderr",
          "output_type": "stream",
          "text": [
            "Training: 100%|██████████| 500/500 [00:49<00:00, 10.12it/s, loss=0.000788]\n",
            "Validation: 100%|██████████| 100/100 [00:05<00:00, 18.60it/s, accuracy=0.996]\n"
          ]
        },
        {
          "metadata": {
            "tags": null
          },
          "name": "stdout",
          "output_type": "stream",
          "text": [
            "Epoch 48\n"
          ]
        },
        {
          "metadata": {
            "tags": null
          },
          "name": "stderr",
          "output_type": "stream",
          "text": [
            "Training: 100%|██████████| 500/500 [00:49<00:00, 10.20it/s, loss=0.000715]\n",
            "Validation: 100%|██████████| 100/100 [00:05<00:00, 18.44it/s, accuracy=0.997]\n"
          ]
        },
        {
          "metadata": {
            "tags": null
          },
          "name": "stdout",
          "output_type": "stream",
          "text": [
            "Epoch 49\n"
          ]
        },
        {
          "metadata": {
            "tags": null
          },
          "name": "stderr",
          "output_type": "stream",
          "text": [
            "Training: 100%|██████████| 500/500 [00:48<00:00, 10.23it/s, loss=0.000722]\n",
            "Validation: 100%|██████████| 100/100 [00:05<00:00, 16.80it/s, accuracy=0.997]\n"
          ]
        },
        {
          "metadata": {
            "tags": null
          },
          "name": "stdout",
          "output_type": "stream",
          "text": [
            "Epoch 50\n"
          ]
        },
        {
          "metadata": {
            "tags": null
          },
          "name": "stderr",
          "output_type": "stream",
          "text": [
            "Training: 100%|██████████| 500/500 [00:48<00:00, 10.25it/s, loss=0.000739]\n",
            "Validation: 100%|██████████| 100/100 [00:05<00:00, 16.81it/s, accuracy=0.997]\n"
          ]
        },
        {
          "metadata": {
            "tags": null
          },
          "name": "stdout",
          "output_type": "stream",
          "text": [
            "Epoch 51\n"
          ]
        },
        {
          "metadata": {
            "tags": null
          },
          "name": "stderr",
          "output_type": "stream",
          "text": [
            "Training: 100%|██████████| 500/500 [00:49<00:00, 10.17it/s, loss=0.000754]\n",
            "Validation: 100%|██████████| 100/100 [00:05<00:00, 18.44it/s, accuracy=0.995]\n"
          ]
        },
        {
          "metadata": {
            "tags": null
          },
          "name": "stdout",
          "output_type": "stream",
          "text": [
            "Epoch 52\n"
          ]
        },
        {
          "metadata": {
            "tags": null
          },
          "name": "stderr",
          "output_type": "stream",
          "text": [
            "Training: 100%|██████████| 500/500 [00:48<00:00, 10.23it/s, loss=0.000768]\n",
            "Validation: 100%|██████████| 100/100 [00:05<00:00, 18.71it/s, accuracy=0.999]\n"
          ]
        },
        {
          "metadata": {
            "tags": null
          },
          "name": "stdout",
          "output_type": "stream",
          "text": [
            "Ding ding ding! We found a new best model!\n",
            "Epoch 53\n"
          ]
        },
        {
          "metadata": {
            "tags": null
          },
          "name": "stderr",
          "output_type": "stream",
          "text": [
            "Training: 100%|██████████| 500/500 [00:49<00:00, 10.19it/s, loss=0.000774]\n",
            "Validation: 100%|██████████| 100/100 [00:06<00:00, 16.52it/s, accuracy=0.997]\n"
          ]
        },
        {
          "metadata": {
            "tags": null
          },
          "name": "stdout",
          "output_type": "stream",
          "text": [
            "Epoch 54\n"
          ]
        },
        {
          "metadata": {
            "tags": null
          },
          "name": "stderr",
          "output_type": "stream",
          "text": [
            "Training: 100%|██████████| 500/500 [00:48<00:00, 10.24it/s, loss=0.000794]\n",
            "Validation: 100%|██████████| 100/100 [00:05<00:00, 16.69it/s, accuracy=0.997]\n"
          ]
        },
        {
          "metadata": {
            "tags": null
          },
          "name": "stdout",
          "output_type": "stream",
          "text": [
            "Epoch 55\n"
          ]
        },
        {
          "metadata": {
            "tags": null
          },
          "name": "stderr",
          "output_type": "stream",
          "text": [
            "Training: 100%|██████████| 500/500 [00:49<00:00, 10.16it/s, loss=0.000828]\n",
            "Validation: 100%|██████████| 100/100 [00:05<00:00, 18.19it/s, accuracy=0.997]\n"
          ]
        },
        {
          "metadata": {
            "tags": null
          },
          "name": "stdout",
          "output_type": "stream",
          "text": [
            "Epoch 56\n"
          ]
        },
        {
          "metadata": {
            "tags": null
          },
          "name": "stderr",
          "output_type": "stream",
          "text": [
            "Training: 100%|██████████| 500/500 [00:49<00:00, 10.19it/s, loss=0.000814]\n",
            "Validation: 100%|██████████| 100/100 [00:05<00:00, 18.49it/s, accuracy=0.997]\n"
          ]
        },
        {
          "metadata": {
            "tags": null
          },
          "name": "stdout",
          "output_type": "stream",
          "text": [
            "Epoch 57\n"
          ]
        },
        {
          "metadata": {
            "tags": null
          },
          "name": "stderr",
          "output_type": "stream",
          "text": [
            "Training: 100%|██████████| 500/500 [00:49<00:00, 10.18it/s, loss=0.073]\n",
            "Validation: 100%|██████████| 100/100 [00:05<00:00, 17.07it/s, accuracy=0.99]\n"
          ]
        },
        {
          "metadata": {
            "tags": null
          },
          "name": "stdout",
          "output_type": "stream",
          "text": [
            "Epoch 58\n"
          ]
        },
        {
          "metadata": {
            "tags": null
          },
          "name": "stderr",
          "output_type": "stream",
          "text": [
            "Training: 100%|██████████| 500/500 [00:48<00:00, 10.27it/s, loss=0.0182]\n",
            "Validation: 100%|██████████| 100/100 [00:06<00:00, 16.55it/s, accuracy=0.993]\n"
          ]
        },
        {
          "metadata": {
            "tags": null
          },
          "name": "stdout",
          "output_type": "stream",
          "text": [
            "Epoch 59\n"
          ]
        },
        {
          "metadata": {
            "tags": null
          },
          "name": "stderr",
          "output_type": "stream",
          "text": [
            "Training: 100%|██████████| 500/500 [00:49<00:00, 10.16it/s, loss=0.00539]\n",
            "Validation: 100%|██████████| 100/100 [00:05<00:00, 17.63it/s, accuracy=0.994]\n"
          ]
        },
        {
          "metadata": {
            "tags": null
          },
          "name": "stdout",
          "output_type": "stream",
          "text": [
            "Epoch 60\n"
          ]
        },
        {
          "metadata": {
            "tags": null
          },
          "name": "stderr",
          "output_type": "stream",
          "text": [
            "Training: 100%|██████████| 500/500 [00:49<00:00, 10.12it/s, loss=0.00367]\n",
            "Validation: 100%|██████████| 100/100 [00:05<00:00, 18.28it/s, accuracy=0.996]\n"
          ]
        },
        {
          "metadata": {
            "tags": null
          },
          "name": "stdout",
          "output_type": "stream",
          "text": [
            "Epoch 61\n"
          ]
        },
        {
          "metadata": {
            "tags": null
          },
          "name": "stderr",
          "output_type": "stream",
          "text": [
            "Training: 100%|██████████| 500/500 [00:49<00:00, 10.11it/s, loss=0.00413]\n",
            "Validation: 100%|██████████| 100/100 [00:06<00:00, 16.53it/s, accuracy=0.997]\n"
          ]
        },
        {
          "metadata": {
            "tags": null
          },
          "name": "stdout",
          "output_type": "stream",
          "text": [
            "Epoch 62\n"
          ]
        },
        {
          "metadata": {
            "tags": null
          },
          "name": "stderr",
          "output_type": "stream",
          "text": [
            "Training: 100%|██████████| 500/500 [00:49<00:00, 10.18it/s, loss=0.00173]\n",
            "Validation: 100%|██████████| 100/100 [00:06<00:00, 16.48it/s, accuracy=0.997]\n"
          ]
        },
        {
          "metadata": {
            "tags": null
          },
          "name": "stdout",
          "output_type": "stream",
          "text": [
            "Epoch 63\n"
          ]
        },
        {
          "metadata": {
            "tags": null
          },
          "name": "stderr",
          "output_type": "stream",
          "text": [
            "Training: 100%|██████████| 500/500 [00:49<00:00, 10.07it/s, loss=0.00143]\n",
            "Validation: 100%|██████████| 100/100 [00:05<00:00, 17.97it/s, accuracy=0.997]\n"
          ]
        },
        {
          "metadata": {
            "tags": null
          },
          "name": "stdout",
          "output_type": "stream",
          "text": [
            "Epoch 64\n"
          ]
        },
        {
          "metadata": {
            "tags": null
          },
          "name": "stderr",
          "output_type": "stream",
          "text": [
            "Training: 100%|██████████| 500/500 [00:49<00:00, 10.10it/s, loss=0.0014]\n",
            "Validation: 100%|██████████| 100/100 [00:05<00:00, 18.29it/s, accuracy=0.997]\n"
          ]
        },
        {
          "metadata": {
            "tags": null
          },
          "name": "stdout",
          "output_type": "stream",
          "text": [
            "Epoch 65\n"
          ]
        },
        {
          "metadata": {
            "tags": null
          },
          "name": "stderr",
          "output_type": "stream",
          "text": [
            "Training: 100%|██████████| 500/500 [00:49<00:00, 10.07it/s, loss=0.00176]\n",
            "Validation: 100%|██████████| 100/100 [00:06<00:00, 16.51it/s, accuracy=0.999]\n"
          ]
        },
        {
          "metadata": {
            "tags": null
          },
          "name": "stdout",
          "output_type": "stream",
          "text": [
            "Epoch 66\n"
          ]
        },
        {
          "metadata": {
            "tags": null
          },
          "name": "stderr",
          "output_type": "stream",
          "text": [
            "Training: 100%|██████████| 500/500 [00:49<00:00, 10.11it/s, loss=0.00137]\n",
            "Validation: 100%|██████████| 100/100 [00:05<00:00, 16.95it/s, accuracy=0.997]\n"
          ]
        },
        {
          "metadata": {
            "tags": null
          },
          "name": "stdout",
          "output_type": "stream",
          "text": [
            "Epoch 67\n"
          ]
        },
        {
          "metadata": {
            "tags": null
          },
          "name": "stderr",
          "output_type": "stream",
          "text": [
            "Training: 100%|██████████| 500/500 [00:49<00:00, 10.10it/s, loss=0.00225]\n",
            "Validation: 100%|██████████| 100/100 [00:05<00:00, 18.32it/s, accuracy=0.997]\n"
          ]
        },
        {
          "metadata": {
            "tags": null
          },
          "name": "stdout",
          "output_type": "stream",
          "text": [
            "Epoch 68\n"
          ]
        },
        {
          "metadata": {
            "tags": null
          },
          "name": "stderr",
          "output_type": "stream",
          "text": [
            "Training: 100%|██████████| 500/500 [00:49<00:00, 10.15it/s, loss=0.00118]\n",
            "Validation: 100%|██████████| 100/100 [00:05<00:00, 17.96it/s, accuracy=0.998]\n"
          ]
        },
        {
          "metadata": {
            "tags": null
          },
          "name": "stdout",
          "output_type": "stream",
          "text": [
            "Epoch 69\n"
          ]
        },
        {
          "metadata": {
            "tags": null
          },
          "name": "stderr",
          "output_type": "stream",
          "text": [
            "Training: 100%|██████████| 500/500 [00:49<00:00, 10.15it/s, loss=0.001]\n",
            "Validation: 100%|██████████| 100/100 [00:06<00:00, 16.53it/s, accuracy=0.999]\n"
          ]
        },
        {
          "metadata": {
            "tags": null
          },
          "name": "stdout",
          "output_type": "stream",
          "text": [
            "Epoch 70\n"
          ]
        },
        {
          "metadata": {
            "tags": null
          },
          "name": "stderr",
          "output_type": "stream",
          "text": [
            "Training: 100%|██████████| 500/500 [00:49<00:00, 10.19it/s, loss=0.000998]\n",
            "Validation: 100%|██████████| 100/100 [00:05<00:00, 17.27it/s, accuracy=0.998]\n"
          ]
        },
        {
          "metadata": {
            "tags": null
          },
          "name": "stdout",
          "output_type": "stream",
          "text": [
            "Epoch 71\n"
          ]
        },
        {
          "metadata": {
            "tags": null
          },
          "name": "stderr",
          "output_type": "stream",
          "text": [
            "Training: 100%|██████████| 500/500 [00:49<00:00, 10.12it/s, loss=0.001]\n",
            "Validation: 100%|██████████| 100/100 [00:05<00:00, 18.13it/s, accuracy=0.999]\n"
          ]
        },
        {
          "metadata": {
            "tags": null
          },
          "name": "stdout",
          "output_type": "stream",
          "text": [
            "Epoch 72\n"
          ]
        },
        {
          "metadata": {
            "tags": null
          },
          "name": "stderr",
          "output_type": "stream",
          "text": [
            "Training: 100%|██████████| 500/500 [00:49<00:00, 10.06it/s, loss=0.00105]\n",
            "Validation: 100%|██████████| 100/100 [00:05<00:00, 17.42it/s, accuracy=0.998]\n"
          ]
        },
        {
          "metadata": {
            "tags": null
          },
          "name": "stdout",
          "output_type": "stream",
          "text": [
            "Epoch 73\n"
          ]
        },
        {
          "metadata": {
            "tags": null
          },
          "name": "stderr",
          "output_type": "stream",
          "text": [
            "Training: 100%|██████████| 500/500 [00:49<00:00, 10.20it/s, loss=0.00103]\n",
            "Validation: 100%|██████████| 100/100 [00:06<00:00, 16.55it/s, accuracy=0.998]\n"
          ]
        },
        {
          "metadata": {
            "tags": null
          },
          "name": "stdout",
          "output_type": "stream",
          "text": [
            "Epoch 74\n"
          ]
        },
        {
          "metadata": {
            "tags": null
          },
          "name": "stderr",
          "output_type": "stream",
          "text": [
            "Training: 100%|██████████| 500/500 [00:48<00:00, 10.23it/s, loss=0.00102]\n",
            "Validation: 100%|██████████| 100/100 [00:05<00:00, 17.24it/s, accuracy=0.999]\n"
          ]
        },
        {
          "metadata": {
            "tags": null
          },
          "name": "stdout",
          "output_type": "stream",
          "text": [
            "Ding ding ding! We found a new best model!\n",
            "Epoch 75\n"
          ]
        },
        {
          "metadata": {
            "tags": null
          },
          "name": "stderr",
          "output_type": "stream",
          "text": [
            "Training: 100%|██████████| 500/500 [00:49<00:00, 10.16it/s, loss=0.00105]\n",
            "Validation: 100%|██████████| 100/100 [00:05<00:00, 18.15it/s, accuracy=0.999]\n"
          ]
        },
        {
          "metadata": {
            "tags": null
          },
          "name": "stdout",
          "output_type": "stream",
          "text": [
            "Epoch 76\n"
          ]
        },
        {
          "metadata": {
            "tags": null
          },
          "name": "stderr",
          "output_type": "stream",
          "text": [
            "Training: 100%|██████████| 500/500 [00:49<00:00, 10.16it/s, loss=0.00105]\n",
            "Validation: 100%|██████████| 100/100 [00:05<00:00, 18.07it/s, accuracy=0.998]\n"
          ]
        },
        {
          "metadata": {
            "tags": null
          },
          "name": "stdout",
          "output_type": "stream",
          "text": [
            "Epoch 77\n"
          ]
        },
        {
          "metadata": {
            "tags": null
          },
          "name": "stderr",
          "output_type": "stream",
          "text": [
            "Training: 100%|██████████| 500/500 [00:49<00:00, 10.17it/s, loss=0.00108]\n",
            "Validation: 100%|██████████| 100/100 [00:06<00:00, 16.40it/s, accuracy=0.998]\n"
          ]
        },
        {
          "metadata": {
            "tags": null
          },
          "name": "stdout",
          "output_type": "stream",
          "text": [
            "Epoch 78\n"
          ]
        },
        {
          "metadata": {
            "tags": null
          },
          "name": "stderr",
          "output_type": "stream",
          "text": [
            "Training: 100%|██████████| 500/500 [00:49<00:00, 10.20it/s, loss=0.0011]\n",
            "Validation: 100%|██████████| 100/100 [00:05<00:00, 16.98it/s, accuracy=0.999]\n"
          ]
        },
        {
          "metadata": {
            "tags": null
          },
          "name": "stdout",
          "output_type": "stream",
          "text": [
            "Epoch 79\n"
          ]
        },
        {
          "metadata": {
            "tags": null
          },
          "name": "stderr",
          "output_type": "stream",
          "text": [
            "Training: 100%|██████████| 500/500 [00:49<00:00, 10.18it/s, loss=0.00114]\n",
            "Validation: 100%|██████████| 100/100 [00:05<00:00, 18.26it/s, accuracy=0.999]\n"
          ]
        },
        {
          "metadata": {
            "tags": null
          },
          "name": "stdout",
          "output_type": "stream",
          "text": [
            "Epoch 80\n"
          ]
        },
        {
          "metadata": {
            "tags": null
          },
          "name": "stderr",
          "output_type": "stream",
          "text": [
            "Training: 100%|██████████| 500/500 [00:49<00:00, 10.14it/s, loss=0.00116]\n",
            "Validation: 100%|██████████| 100/100 [00:05<00:00, 18.44it/s, accuracy=0.999]\n"
          ]
        },
        {
          "metadata": {
            "tags": null
          },
          "name": "stdout",
          "output_type": "stream",
          "text": [
            "Epoch 81\n"
          ]
        },
        {
          "metadata": {
            "tags": null
          },
          "name": "stderr",
          "output_type": "stream",
          "text": [
            "Training: 100%|██████████| 500/500 [00:49<00:00, 10.17it/s, loss=0.00115]\n",
            "Validation: 100%|██████████| 100/100 [00:06<00:00, 16.46it/s, accuracy=0.999]\n"
          ]
        },
        {
          "metadata": {
            "tags": null
          },
          "name": "stdout",
          "output_type": "stream",
          "text": [
            "Epoch 82\n"
          ]
        },
        {
          "metadata": {
            "tags": null
          },
          "name": "stderr",
          "output_type": "stream",
          "text": [
            "Training: 100%|██████████| 500/500 [00:49<00:00, 10.19it/s, loss=0.0012]\n",
            "Validation: 100%|██████████| 100/100 [00:05<00:00, 17.00it/s, accuracy=0.999]\n"
          ]
        },
        {
          "metadata": {
            "tags": null
          },
          "name": "stdout",
          "output_type": "stream",
          "text": [
            "Epoch 83\n"
          ]
        },
        {
          "metadata": {
            "tags": null
          },
          "name": "stderr",
          "output_type": "stream",
          "text": [
            "Training: 100%|██████████| 500/500 [00:49<00:00, 10.12it/s, loss=0.00123]\n",
            "Validation: 100%|██████████| 100/100 [00:05<00:00, 17.91it/s, accuracy=0.998]\n"
          ]
        },
        {
          "metadata": {
            "tags": null
          },
          "name": "stdout",
          "output_type": "stream",
          "text": [
            "Epoch 84\n"
          ]
        },
        {
          "metadata": {
            "tags": null
          },
          "name": "stderr",
          "output_type": "stream",
          "text": [
            "Training: 100%|██████████| 500/500 [00:49<00:00, 10.01it/s, loss=0.00123]\n",
            "Validation: 100%|██████████| 100/100 [00:05<00:00, 18.25it/s, accuracy=0.998]\n"
          ]
        },
        {
          "metadata": {
            "tags": null
          },
          "name": "stdout",
          "output_type": "stream",
          "text": [
            "Epoch 85\n"
          ]
        },
        {
          "metadata": {
            "tags": null
          },
          "name": "stderr",
          "output_type": "stream",
          "text": [
            "Training: 100%|██████████| 500/500 [00:49<00:00, 10.13it/s, loss=0.00128]\n",
            "Validation: 100%|██████████| 100/100 [00:06<00:00, 16.63it/s, accuracy=0.998]\n"
          ]
        },
        {
          "metadata": {
            "tags": null
          },
          "name": "stdout",
          "output_type": "stream",
          "text": [
            "Epoch 86\n"
          ]
        },
        {
          "metadata": {
            "tags": null
          },
          "name": "stderr",
          "output_type": "stream",
          "text": [
            "Training: 100%|██████████| 500/500 [00:49<00:00, 10.20it/s, loss=0.00131]\n",
            "Validation: 100%|██████████| 100/100 [00:06<00:00, 16.35it/s, accuracy=0.999]\n"
          ]
        },
        {
          "metadata": {
            "tags": null
          },
          "name": "stdout",
          "output_type": "stream",
          "text": [
            "Epoch 87\n"
          ]
        },
        {
          "metadata": {
            "tags": null
          },
          "name": "stderr",
          "output_type": "stream",
          "text": [
            "Training: 100%|██████████| 500/500 [00:49<00:00, 10.12it/s, loss=0.00131]\n",
            "Validation: 100%|██████████| 100/100 [00:05<00:00, 18.44it/s, accuracy=1]\n"
          ]
        },
        {
          "metadata": {
            "tags": null
          },
          "name": "stdout",
          "output_type": "stream",
          "text": [
            "Ding ding ding! We found a new best model!\n",
            "Epoch 88\n"
          ]
        },
        {
          "metadata": {
            "tags": null
          },
          "name": "stderr",
          "output_type": "stream",
          "text": [
            "Training: 100%|██████████| 500/500 [00:49<00:00, 10.12it/s, loss=0.0013]\n",
            "Validation: 100%|██████████| 100/100 [00:05<00:00, 17.91it/s, accuracy=0.999]\n"
          ]
        },
        {
          "metadata": {
            "tags": null
          },
          "name": "stdout",
          "output_type": "stream",
          "text": [
            "Epoch 89\n"
          ]
        },
        {
          "metadata": {
            "tags": null
          },
          "name": "stderr",
          "output_type": "stream",
          "text": [
            "Training: 100%|██████████| 500/500 [00:49<00:00, 10.15it/s, loss=0.00134]\n",
            "Validation: 100%|██████████| 100/100 [00:06<00:00, 16.30it/s, accuracy=0.999]\n"
          ]
        },
        {
          "metadata": {
            "tags": null
          },
          "name": "stdout",
          "output_type": "stream",
          "text": [
            "Epoch 90\n"
          ]
        },
        {
          "metadata": {
            "tags": null
          },
          "name": "stderr",
          "output_type": "stream",
          "text": [
            "Training: 100%|██████████| 500/500 [00:49<00:00, 10.17it/s, loss=0.00139]\n",
            "Validation: 100%|██████████| 100/100 [00:05<00:00, 17.04it/s, accuracy=0.999]\n"
          ]
        },
        {
          "metadata": {
            "tags": null
          },
          "name": "stdout",
          "output_type": "stream",
          "text": [
            "Epoch 91\n"
          ]
        },
        {
          "metadata": {
            "tags": null
          },
          "name": "stderr",
          "output_type": "stream",
          "text": [
            "Training: 100%|██████████| 500/500 [00:49<00:00, 10.10it/s, loss=0.00137]\n",
            "Validation: 100%|██████████| 100/100 [00:05<00:00, 18.25it/s, accuracy=0.999]\n"
          ]
        },
        {
          "metadata": {
            "tags": null
          },
          "name": "stdout",
          "output_type": "stream",
          "text": [
            "Epoch 92\n"
          ]
        },
        {
          "metadata": {
            "tags": null
          },
          "name": "stderr",
          "output_type": "stream",
          "text": [
            "Training: 100%|██████████| 500/500 [00:49<00:00, 10.11it/s, loss=0.00136]\n",
            "Validation: 100%|██████████| 100/100 [00:05<00:00, 17.60it/s, accuracy=0.998]\n"
          ]
        },
        {
          "metadata": {
            "tags": null
          },
          "name": "stdout",
          "output_type": "stream",
          "text": [
            "Epoch 93\n"
          ]
        },
        {
          "metadata": {
            "tags": null
          },
          "name": "stderr",
          "output_type": "stream",
          "text": [
            "Training: 100%|██████████| 500/500 [00:49<00:00, 10.13it/s, loss=0.0014]\n",
            "Validation: 100%|██████████| 100/100 [00:06<00:00, 16.16it/s, accuracy=0.999]\n"
          ]
        },
        {
          "metadata": {
            "tags": null
          },
          "name": "stdout",
          "output_type": "stream",
          "text": [
            "Epoch 94\n"
          ]
        },
        {
          "metadata": {
            "tags": null
          },
          "name": "stderr",
          "output_type": "stream",
          "text": [
            "Training: 100%|██████████| 500/500 [00:49<00:00, 10.13it/s, loss=0.00141]\n",
            "Validation: 100%|██████████| 100/100 [00:05<00:00, 17.27it/s, accuracy=0.999]\n"
          ]
        },
        {
          "metadata": {
            "tags": null
          },
          "name": "stdout",
          "output_type": "stream",
          "text": [
            "Epoch 95\n"
          ]
        },
        {
          "metadata": {
            "tags": null
          },
          "name": "stderr",
          "output_type": "stream",
          "text": [
            "Training: 100%|██████████| 500/500 [00:49<00:00, 10.10it/s, loss=0.00146]\n",
            "Validation: 100%|██████████| 100/100 [00:05<00:00, 18.11it/s, accuracy=0.999]\n"
          ]
        },
        {
          "metadata": {
            "tags": null
          },
          "name": "stdout",
          "output_type": "stream",
          "text": [
            "Epoch 96\n"
          ]
        },
        {
          "metadata": {
            "tags": null
          },
          "name": "stderr",
          "output_type": "stream",
          "text": [
            "Training: 100%|██████████| 500/500 [00:49<00:00, 10.15it/s, loss=0.00146]\n",
            "Validation: 100%|██████████| 100/100 [00:05<00:00, 17.48it/s, accuracy=0.999]\n"
          ]
        },
        {
          "metadata": {
            "tags": null
          },
          "name": "stdout",
          "output_type": "stream",
          "text": [
            "Epoch 97\n"
          ]
        },
        {
          "metadata": {
            "tags": null
          },
          "name": "stderr",
          "output_type": "stream",
          "text": [
            "Training: 100%|██████████| 500/500 [00:49<00:00, 10.17it/s, loss=0.00146]\n",
            "Validation: 100%|██████████| 100/100 [00:06<00:00, 15.90it/s, accuracy=0.998]\n"
          ]
        },
        {
          "metadata": {
            "tags": null
          },
          "name": "stdout",
          "output_type": "stream",
          "text": [
            "Epoch 98\n"
          ]
        },
        {
          "metadata": {
            "tags": null
          },
          "name": "stderr",
          "output_type": "stream",
          "text": [
            "Training: 100%|██████████| 500/500 [00:49<00:00, 10.05it/s, loss=0.00151]\n",
            "Validation: 100%|██████████| 100/100 [00:05<00:00, 17.42it/s, accuracy=0.999]\n"
          ]
        },
        {
          "metadata": {
            "tags": null
          },
          "name": "stdout",
          "output_type": "stream",
          "text": [
            "Epoch 99\n"
          ]
        },
        {
          "metadata": {
            "tags": null
          },
          "name": "stderr",
          "output_type": "stream",
          "text": [
            "Training: 100%|██████████| 500/500 [00:49<00:00, 10.05it/s, loss=0.0015]\n",
            "Validation: 100%|██████████| 100/100 [00:05<00:00, 18.09it/s, accuracy=0.999]\n"
          ]
        },
        {
          "metadata": {
            "tags": null
          },
          "name": "stdout",
          "output_type": "stream",
          "text": [
            "Epoch 100\n"
          ]
        },
        {
          "metadata": {
            "tags": null
          },
          "name": "stderr",
          "output_type": "stream",
          "text": [
            "Training: 100%|██████████| 500/500 [00:49<00:00, 10.13it/s, loss=0.00153]\n",
            "Validation: 100%|██████████| 100/100 [00:05<00:00, 16.77it/s, accuracy=0.999]\n"
          ]
        },
        {
          "metadata": {
            "tags": null
          },
          "name": "stdout",
          "output_type": "stream",
          "text": [
            "Epoch 101\n"
          ]
        },
        {
          "metadata": {
            "tags": null
          },
          "name": "stderr",
          "output_type": "stream",
          "text": [
            "Training: 100%|██████████| 500/500 [00:49<00:00, 10.15it/s, loss=0.00149]\n",
            "Validation: 100%|██████████| 100/100 [00:06<00:00, 16.47it/s, accuracy=0.999]\n"
          ]
        },
        {
          "metadata": {
            "tags": null
          },
          "name": "stdout",
          "output_type": "stream",
          "text": [
            "Epoch 102\n"
          ]
        },
        {
          "metadata": {
            "tags": null
          },
          "name": "stderr",
          "output_type": "stream",
          "text": [
            "Training: 100%|██████████| 500/500 [00:49<00:00, 10.19it/s, loss=0.00153]\n",
            "Validation: 100%|██████████| 100/100 [00:05<00:00, 18.52it/s, accuracy=0.999]\n"
          ]
        },
        {
          "metadata": {
            "tags": null
          },
          "name": "stdout",
          "output_type": "stream",
          "text": [
            "Epoch 103\n"
          ]
        },
        {
          "metadata": {
            "tags": null
          },
          "name": "stderr",
          "output_type": "stream",
          "text": [
            "Training: 100%|██████████| 500/500 [00:49<00:00, 10.19it/s, loss=0.00153]\n",
            "Validation: 100%|██████████| 100/100 [00:05<00:00, 18.41it/s, accuracy=0.999]\n"
          ]
        },
        {
          "metadata": {
            "tags": null
          },
          "name": "stdout",
          "output_type": "stream",
          "text": [
            "Epoch 104\n"
          ]
        },
        {
          "metadata": {
            "tags": null
          },
          "name": "stderr",
          "output_type": "stream",
          "text": [
            "Training: 100%|██████████| 500/500 [00:49<00:00, 10.19it/s, loss=0.00152]\n",
            "Validation: 100%|██████████| 100/100 [00:05<00:00, 17.15it/s, accuracy=0.999]\n"
          ]
        },
        {
          "metadata": {
            "tags": null
          },
          "name": "stdout",
          "output_type": "stream",
          "text": [
            "Epoch 105\n"
          ]
        },
        {
          "metadata": {
            "tags": null
          },
          "name": "stderr",
          "output_type": "stream",
          "text": [
            "Training: 100%|██████████| 500/500 [00:49<00:00, 10.20it/s, loss=0.00154]\n",
            "Validation: 100%|██████████| 100/100 [00:06<00:00, 16.26it/s, accuracy=0.999]\n"
          ]
        },
        {
          "metadata": {
            "tags": null
          },
          "name": "stdout",
          "output_type": "stream",
          "text": [
            "Epoch 106\n"
          ]
        },
        {
          "metadata": {
            "tags": null
          },
          "name": "stderr",
          "output_type": "stream",
          "text": [
            "Training: 100%|██████████| 500/500 [00:49<00:00, 10.16it/s, loss=0.00156]\n",
            "Validation: 100%|██████████| 100/100 [00:05<00:00, 18.26it/s, accuracy=0.999]\n"
          ]
        },
        {
          "metadata": {
            "tags": null
          },
          "name": "stdout",
          "output_type": "stream",
          "text": [
            "Epoch 107\n"
          ]
        },
        {
          "metadata": {
            "tags": null
          },
          "name": "stderr",
          "output_type": "stream",
          "text": [
            "Training: 100%|██████████| 500/500 [00:48<00:00, 10.22it/s, loss=0.00158]\n",
            "Validation: 100%|██████████| 100/100 [00:05<00:00, 18.68it/s, accuracy=0.999]\n"
          ]
        },
        {
          "metadata": {
            "tags": null
          },
          "name": "stdout",
          "output_type": "stream",
          "text": [
            "Epoch 108\n"
          ]
        },
        {
          "metadata": {
            "tags": null
          },
          "name": "stderr",
          "output_type": "stream",
          "text": [
            "Training: 100%|██████████| 500/500 [00:49<00:00, 10.19it/s, loss=0.00156]\n",
            "Validation: 100%|██████████| 100/100 [00:05<00:00, 18.12it/s, accuracy=0.999]\n"
          ]
        },
        {
          "metadata": {
            "tags": null
          },
          "name": "stdout",
          "output_type": "stream",
          "text": [
            "Epoch 109\n"
          ]
        },
        {
          "metadata": {
            "tags": null
          },
          "name": "stderr",
          "output_type": "stream",
          "text": [
            "Training: 100%|██████████| 500/500 [00:49<00:00, 10.16it/s, loss=0.00158]\n",
            "Validation: 100%|██████████| 100/100 [00:06<00:00, 16.47it/s, accuracy=1]\n"
          ]
        },
        {
          "metadata": {
            "tags": null
          },
          "name": "stdout",
          "output_type": "stream",
          "text": [
            "Epoch 110\n"
          ]
        },
        {
          "metadata": {
            "tags": null
          },
          "name": "stderr",
          "output_type": "stream",
          "text": [
            "Training: 100%|██████████| 500/500 [00:48<00:00, 10.21it/s, loss=0.166]\n",
            "Validation: 100%|██████████| 100/100 [00:05<00:00, 17.32it/s, accuracy=0.909]\n"
          ]
        },
        {
          "metadata": {
            "tags": null
          },
          "name": "stdout",
          "output_type": "stream",
          "text": [
            "Epoch 111\n"
          ]
        },
        {
          "metadata": {
            "tags": null
          },
          "name": "stderr",
          "output_type": "stream",
          "text": [
            "Training: 100%|██████████| 500/500 [00:49<00:00, 10.16it/s, loss=0.104]\n",
            "Validation: 100%|██████████| 100/100 [00:05<00:00, 18.52it/s, accuracy=0.989]\n"
          ]
        },
        {
          "metadata": {
            "tags": null
          },
          "name": "stdout",
          "output_type": "stream",
          "text": [
            "Epoch 112\n"
          ]
        },
        {
          "metadata": {
            "tags": null
          },
          "name": "stderr",
          "output_type": "stream",
          "text": [
            "Training: 100%|██████████| 500/500 [00:49<00:00, 10.17it/s, loss=0.0208]\n",
            "Validation: 100%|██████████| 100/100 [00:05<00:00, 18.61it/s, accuracy=0.99]\n"
          ]
        },
        {
          "metadata": {
            "tags": null
          },
          "name": "stdout",
          "output_type": "stream",
          "text": [
            "Epoch 113\n"
          ]
        },
        {
          "metadata": {
            "tags": null
          },
          "name": "stderr",
          "output_type": "stream",
          "text": [
            "Training: 100%|██████████| 500/500 [00:49<00:00, 10.19it/s, loss=0.015]\n",
            "Validation: 100%|██████████| 100/100 [00:05<00:00, 16.96it/s, accuracy=0.993]\n"
          ]
        },
        {
          "metadata": {
            "tags": null
          },
          "name": "stdout",
          "output_type": "stream",
          "text": [
            "Epoch 114\n"
          ]
        },
        {
          "metadata": {
            "tags": null
          },
          "name": "stderr",
          "output_type": "stream",
          "text": [
            "Training: 100%|██████████| 500/500 [00:48<00:00, 10.26it/s, loss=0.00736]\n",
            "Validation: 100%|██████████| 100/100 [00:06<00:00, 16.43it/s, accuracy=0.993]\n"
          ]
        },
        {
          "metadata": {
            "tags": null
          },
          "name": "stdout",
          "output_type": "stream",
          "text": [
            "Epoch 115\n"
          ]
        },
        {
          "metadata": {
            "tags": null
          },
          "name": "stderr",
          "output_type": "stream",
          "text": [
            "Training: 100%|██████████| 500/500 [00:49<00:00, 10.18it/s, loss=0.00403]\n",
            "Validation: 100%|██████████| 100/100 [00:05<00:00, 17.60it/s, accuracy=0.996]\n"
          ]
        },
        {
          "metadata": {
            "tags": null
          },
          "name": "stdout",
          "output_type": "stream",
          "text": [
            "Epoch 116\n"
          ]
        },
        {
          "metadata": {
            "tags": null
          },
          "name": "stderr",
          "output_type": "stream",
          "text": [
            "Training: 100%|██████████| 500/500 [00:49<00:00, 10.19it/s, loss=0.00242]\n",
            "Validation: 100%|██████████| 100/100 [00:05<00:00, 18.21it/s, accuracy=0.997]\n"
          ]
        },
        {
          "metadata": {
            "tags": null
          },
          "name": "stdout",
          "output_type": "stream",
          "text": [
            "Epoch 117\n"
          ]
        },
        {
          "metadata": {
            "tags": null
          },
          "name": "stderr",
          "output_type": "stream",
          "text": [
            "Training: 100%|██████████| 500/500 [00:49<00:00, 10.16it/s, loss=0.00221]\n",
            "Validation: 100%|██████████| 100/100 [00:06<00:00, 16.64it/s, accuracy=0.996]\n"
          ]
        },
        {
          "metadata": {
            "tags": null
          },
          "name": "stdout",
          "output_type": "stream",
          "text": [
            "Epoch 118\n"
          ]
        },
        {
          "metadata": {
            "tags": null
          },
          "name": "stderr",
          "output_type": "stream",
          "text": [
            "Training: 100%|██████████| 500/500 [00:48<00:00, 10.22it/s, loss=0.00233]\n",
            "Validation: 100%|██████████| 100/100 [00:05<00:00, 16.69it/s, accuracy=0.995]\n"
          ]
        },
        {
          "metadata": {
            "tags": null
          },
          "name": "stdout",
          "output_type": "stream",
          "text": [
            "Epoch 119\n"
          ]
        },
        {
          "metadata": {
            "tags": null
          },
          "name": "stderr",
          "output_type": "stream",
          "text": [
            "Training: 100%|██████████| 500/500 [00:49<00:00, 10.15it/s, loss=0.00324]\n",
            "Validation: 100%|██████████| 100/100 [00:05<00:00, 18.09it/s, accuracy=0.997]\n"
          ]
        },
        {
          "metadata": {
            "tags": null
          },
          "name": "stdout",
          "output_type": "stream",
          "text": [
            "Epoch 120\n"
          ]
        },
        {
          "metadata": {
            "tags": null
          },
          "name": "stderr",
          "output_type": "stream",
          "text": [
            "Training: 100%|██████████| 500/500 [00:49<00:00, 10.17it/s, loss=0.00198]\n",
            "Validation: 100%|██████████| 100/100 [00:05<00:00, 17.97it/s, accuracy=0.997]\n"
          ]
        },
        {
          "metadata": {
            "tags": null
          },
          "name": "stdout",
          "output_type": "stream",
          "text": [
            "Epoch 121\n"
          ]
        },
        {
          "metadata": {
            "tags": null
          },
          "name": "stderr",
          "output_type": "stream",
          "text": [
            "Training: 100%|██████████| 500/500 [00:49<00:00, 10.16it/s, loss=0.00171]\n",
            "Validation: 100%|██████████| 100/100 [00:05<00:00, 16.76it/s, accuracy=0.997]\n"
          ]
        },
        {
          "metadata": {
            "tags": null
          },
          "name": "stdout",
          "output_type": "stream",
          "text": [
            "Epoch 122\n"
          ]
        },
        {
          "metadata": {
            "tags": null
          },
          "name": "stderr",
          "output_type": "stream",
          "text": [
            "Training: 100%|██████████| 500/500 [00:48<00:00, 10.22it/s, loss=0.00174]\n",
            "Validation: 100%|██████████| 100/100 [00:06<00:00, 16.25it/s, accuracy=0.997]\n"
          ]
        },
        {
          "metadata": {
            "tags": null
          },
          "name": "stdout",
          "output_type": "stream",
          "text": [
            "Epoch 123\n"
          ]
        },
        {
          "metadata": {
            "tags": null
          },
          "name": "stderr",
          "output_type": "stream",
          "text": [
            "Training: 100%|██████████| 500/500 [00:49<00:00, 10.16it/s, loss=0.00165]\n",
            "Validation: 100%|██████████| 100/100 [00:05<00:00, 18.38it/s, accuracy=0.995]\n"
          ]
        },
        {
          "metadata": {
            "tags": null
          },
          "name": "stdout",
          "output_type": "stream",
          "text": [
            "Epoch 124\n"
          ]
        },
        {
          "metadata": {
            "tags": null
          },
          "name": "stderr",
          "output_type": "stream",
          "text": [
            "Training: 100%|██████████| 500/500 [00:49<00:00, 10.14it/s, loss=0.00162]\n",
            "Validation: 100%|██████████| 100/100 [00:05<00:00, 18.46it/s, accuracy=0.997]\n"
          ]
        },
        {
          "metadata": {
            "tags": null
          },
          "name": "stdout",
          "output_type": "stream",
          "text": [
            "Epoch 125\n"
          ]
        },
        {
          "metadata": {
            "tags": null
          },
          "name": "stderr",
          "output_type": "stream",
          "text": [
            "Training: 100%|██████████| 500/500 [00:49<00:00, 10.18it/s, loss=0.00155]\n",
            "Validation: 100%|██████████| 100/100 [00:05<00:00, 17.00it/s, accuracy=0.997]\n"
          ]
        },
        {
          "metadata": {
            "tags": null
          },
          "name": "stdout",
          "output_type": "stream",
          "text": [
            "Epoch 126\n"
          ]
        },
        {
          "metadata": {
            "tags": null
          },
          "name": "stderr",
          "output_type": "stream",
          "text": [
            "Training: 100%|██████████| 500/500 [00:49<00:00, 10.20it/s, loss=0.00153]\n",
            "Validation: 100%|██████████| 100/100 [00:06<00:00, 16.38it/s, accuracy=0.997]\n"
          ]
        },
        {
          "metadata": {
            "tags": null
          },
          "name": "stdout",
          "output_type": "stream",
          "text": [
            "Epoch 127\n"
          ]
        },
        {
          "metadata": {
            "tags": null
          },
          "name": "stderr",
          "output_type": "stream",
          "text": [
            "Training: 100%|██████████| 500/500 [00:49<00:00, 10.12it/s, loss=0.0016]\n",
            "Validation: 100%|██████████| 100/100 [00:05<00:00, 17.76it/s, accuracy=0.998]\n"
          ]
        },
        {
          "metadata": {
            "tags": null
          },
          "name": "stdout",
          "output_type": "stream",
          "text": [
            "Epoch 128\n"
          ]
        },
        {
          "metadata": {
            "tags": null
          },
          "name": "stderr",
          "output_type": "stream",
          "text": [
            "Training: 100%|██████████| 500/500 [00:49<00:00, 10.03it/s, loss=0.00161]\n",
            "Validation: 100%|██████████| 100/100 [00:05<00:00, 18.35it/s, accuracy=0.996]\n"
          ]
        },
        {
          "metadata": {
            "tags": null
          },
          "name": "stdout",
          "output_type": "stream",
          "text": [
            "Epoch 129\n"
          ]
        },
        {
          "metadata": {
            "tags": null
          },
          "name": "stderr",
          "output_type": "stream",
          "text": [
            "Training: 100%|██████████| 500/500 [00:49<00:00, 10.11it/s, loss=0.00149]\n",
            "Validation: 100%|██████████| 100/100 [00:05<00:00, 16.92it/s, accuracy=0.996]\n"
          ]
        },
        {
          "metadata": {
            "tags": null
          },
          "name": "stdout",
          "output_type": "stream",
          "text": [
            "Epoch 130\n"
          ]
        },
        {
          "metadata": {
            "tags": null
          },
          "name": "stderr",
          "output_type": "stream",
          "text": [
            "Training: 100%|██████████| 500/500 [00:49<00:00, 10.20it/s, loss=0.00153]\n",
            "Validation: 100%|██████████| 100/100 [00:06<00:00, 16.32it/s, accuracy=0.998]\n"
          ]
        },
        {
          "metadata": {
            "tags": null
          },
          "name": "stdout",
          "output_type": "stream",
          "text": [
            "Epoch 131\n"
          ]
        },
        {
          "metadata": {
            "tags": null
          },
          "name": "stderr",
          "output_type": "stream",
          "text": [
            "Training: 100%|██████████| 500/500 [00:49<00:00, 10.06it/s, loss=0.00148]\n",
            "Validation: 100%|██████████| 100/100 [00:05<00:00, 18.16it/s, accuracy=0.998]\n"
          ]
        },
        {
          "metadata": {
            "tags": null
          },
          "name": "stdout",
          "output_type": "stream",
          "text": [
            "Epoch 132\n"
          ]
        },
        {
          "metadata": {
            "tags": null
          },
          "name": "stderr",
          "output_type": "stream",
          "text": [
            "Training: 100%|██████████| 500/500 [00:49<00:00, 10.05it/s, loss=0.00153]\n",
            "Validation: 100%|██████████| 100/100 [00:05<00:00, 18.24it/s, accuracy=0.998]\n"
          ]
        },
        {
          "metadata": {
            "tags": null
          },
          "name": "stdout",
          "output_type": "stream",
          "text": [
            "Epoch 133\n"
          ]
        },
        {
          "metadata": {
            "tags": null
          },
          "name": "stderr",
          "output_type": "stream",
          "text": [
            "Training: 100%|██████████| 500/500 [00:49<00:00, 10.13it/s, loss=0.00147]\n",
            "Validation: 100%|██████████| 100/100 [00:06<00:00, 16.22it/s, accuracy=0.996]\n"
          ]
        },
        {
          "metadata": {
            "tags": null
          },
          "name": "stdout",
          "output_type": "stream",
          "text": [
            "Epoch 134\n"
          ]
        },
        {
          "metadata": {
            "tags": null
          },
          "name": "stderr",
          "output_type": "stream",
          "text": [
            "Training: 100%|██████████| 500/500 [00:49<00:00, 10.16it/s, loss=0.00155]\n",
            "Validation: 100%|██████████| 100/100 [00:06<00:00, 15.77it/s, accuracy=0.997]\n"
          ]
        },
        {
          "metadata": {
            "tags": null
          },
          "name": "stdout",
          "output_type": "stream",
          "text": [
            "Epoch 135\n"
          ]
        },
        {
          "metadata": {
            "tags": null
          },
          "name": "stderr",
          "output_type": "stream",
          "text": [
            "Training: 100%|██████████| 500/500 [00:49<00:00, 10.05it/s, loss=0.00145]\n",
            "Validation: 100%|██████████| 100/100 [00:05<00:00, 18.54it/s, accuracy=0.999]\n"
          ]
        },
        {
          "metadata": {
            "tags": null
          },
          "name": "stdout",
          "output_type": "stream",
          "text": [
            "Epoch 136\n"
          ]
        },
        {
          "metadata": {
            "tags": null
          },
          "name": "stderr",
          "output_type": "stream",
          "text": [
            "Training: 100%|██████████| 500/500 [00:49<00:00, 10.03it/s, loss=0.00145]\n",
            "Validation: 100%|██████████| 100/100 [00:05<00:00, 18.49it/s, accuracy=0.996]\n"
          ]
        },
        {
          "metadata": {
            "tags": null
          },
          "name": "stdout",
          "output_type": "stream",
          "text": [
            "Epoch 137\n"
          ]
        },
        {
          "metadata": {
            "tags": null
          },
          "name": "stderr",
          "output_type": "stream",
          "text": [
            "Training: 100%|██████████| 500/500 [00:49<00:00, 10.13it/s, loss=0.00143]\n",
            "Validation: 100%|██████████| 100/100 [00:06<00:00, 16.00it/s, accuracy=0.996]\n"
          ]
        },
        {
          "metadata": {
            "tags": null
          },
          "name": "stdout",
          "output_type": "stream",
          "text": [
            "Epoch 138\n"
          ]
        },
        {
          "metadata": {
            "tags": null
          },
          "name": "stderr",
          "output_type": "stream",
          "text": [
            "Training: 100%|██████████| 500/500 [00:49<00:00, 10.19it/s, loss=0.00149]\n",
            "Validation: 100%|██████████| 100/100 [00:06<00:00, 16.52it/s, accuracy=0.997]\n"
          ]
        },
        {
          "metadata": {
            "tags": null
          },
          "name": "stdout",
          "output_type": "stream",
          "text": [
            "Epoch 139\n"
          ]
        },
        {
          "metadata": {
            "tags": null
          },
          "name": "stderr",
          "output_type": "stream",
          "text": [
            "Training: 100%|██████████| 500/500 [00:49<00:00, 10.15it/s, loss=0.00145]\n",
            "Validation: 100%|██████████| 100/100 [00:05<00:00, 18.17it/s, accuracy=0.999]\n"
          ]
        },
        {
          "metadata": {
            "tags": null
          },
          "name": "stdout",
          "output_type": "stream",
          "text": [
            "Epoch 140\n"
          ]
        },
        {
          "metadata": {
            "tags": null
          },
          "name": "stderr",
          "output_type": "stream",
          "text": [
            "Training: 100%|██████████| 500/500 [00:49<00:00, 10.15it/s, loss=0.00151]\n",
            "Validation: 100%|██████████| 100/100 [00:05<00:00, 18.27it/s, accuracy=0.997]\n"
          ]
        },
        {
          "metadata": {
            "tags": null
          },
          "name": "stdout",
          "output_type": "stream",
          "text": [
            "Epoch 141\n"
          ]
        },
        {
          "metadata": {
            "tags": null
          },
          "name": "stderr",
          "output_type": "stream",
          "text": [
            "Training: 100%|██████████| 500/500 [00:49<00:00, 10.11it/s, loss=0.00148]\n",
            "Validation: 100%|██████████| 100/100 [00:06<00:00, 16.48it/s, accuracy=0.998]\n"
          ]
        },
        {
          "metadata": {
            "tags": null
          },
          "name": "stdout",
          "output_type": "stream",
          "text": [
            "Epoch 142\n"
          ]
        },
        {
          "metadata": {
            "tags": null
          },
          "name": "stderr",
          "output_type": "stream",
          "text": [
            "Training: 100%|██████████| 500/500 [00:49<00:00, 10.17it/s, loss=0.00141]\n",
            "Validation: 100%|██████████| 100/100 [00:06<00:00, 16.38it/s, accuracy=0.996]\n"
          ]
        },
        {
          "metadata": {
            "tags": null
          },
          "name": "stdout",
          "output_type": "stream",
          "text": [
            "Epoch 143\n"
          ]
        },
        {
          "metadata": {
            "tags": null
          },
          "name": "stderr",
          "output_type": "stream",
          "text": [
            "Training: 100%|██████████| 500/500 [00:49<00:00, 10.14it/s, loss=0.00135]\n",
            "Validation: 100%|██████████| 100/100 [00:05<00:00, 18.09it/s, accuracy=0.998]\n"
          ]
        },
        {
          "metadata": {
            "tags": null
          },
          "name": "stdout",
          "output_type": "stream",
          "text": [
            "Epoch 144\n"
          ]
        },
        {
          "metadata": {
            "tags": null
          },
          "name": "stderr",
          "output_type": "stream",
          "text": [
            "Training: 100%|██████████| 500/500 [00:49<00:00, 10.12it/s, loss=0.00143]\n",
            "Validation: 100%|██████████| 100/100 [00:05<00:00, 18.22it/s, accuracy=0.998]\n"
          ]
        },
        {
          "metadata": {
            "tags": null
          },
          "name": "stdout",
          "output_type": "stream",
          "text": [
            "Epoch 145\n"
          ]
        },
        {
          "metadata": {
            "tags": null
          },
          "name": "stderr",
          "output_type": "stream",
          "text": [
            "Training: 100%|██████████| 500/500 [00:49<00:00, 10.11it/s, loss=0.00144]\n",
            "Validation: 100%|██████████| 100/100 [00:05<00:00, 16.77it/s, accuracy=0.997]\n"
          ]
        },
        {
          "metadata": {
            "tags": null
          },
          "name": "stdout",
          "output_type": "stream",
          "text": [
            "Epoch 146\n"
          ]
        },
        {
          "metadata": {
            "tags": null
          },
          "name": "stderr",
          "output_type": "stream",
          "text": [
            "Training: 100%|██████████| 500/500 [00:49<00:00, 10.17it/s, loss=0.00138]\n",
            "Validation: 100%|██████████| 100/100 [00:06<00:00, 16.48it/s, accuracy=0.997]\n"
          ]
        },
        {
          "metadata": {
            "tags": null
          },
          "name": "stdout",
          "output_type": "stream",
          "text": [
            "Epoch 147\n"
          ]
        },
        {
          "metadata": {
            "tags": null
          },
          "name": "stderr",
          "output_type": "stream",
          "text": [
            "Training: 100%|██████████| 500/500 [00:49<00:00, 10.13it/s, loss=0.00139]\n",
            "Validation: 100%|██████████| 100/100 [00:05<00:00, 18.10it/s, accuracy=0.997]\n"
          ]
        },
        {
          "metadata": {
            "tags": null
          },
          "name": "stdout",
          "output_type": "stream",
          "text": [
            "Epoch 148\n"
          ]
        },
        {
          "metadata": {
            "tags": null
          },
          "name": "stderr",
          "output_type": "stream",
          "text": [
            "Training: 100%|██████████| 500/500 [00:49<00:00, 10.10it/s, loss=0.0014]\n",
            "Validation: 100%|██████████| 100/100 [00:05<00:00, 18.41it/s, accuracy=0.997]\n"
          ]
        },
        {
          "metadata": {
            "tags": null
          },
          "name": "stdout",
          "output_type": "stream",
          "text": [
            "Epoch 149\n"
          ]
        },
        {
          "metadata": {
            "tags": null
          },
          "name": "stderr",
          "output_type": "stream",
          "text": [
            "Training: 100%|██████████| 500/500 [00:49<00:00, 10.08it/s, loss=0.00137]\n",
            "Validation: 100%|██████████| 100/100 [00:05<00:00, 16.80it/s, accuracy=0.997]\n"
          ]
        },
        {
          "metadata": {
            "tags": null
          },
          "name": "stdout",
          "output_type": "stream",
          "text": [
            "Epoch 150\n"
          ]
        },
        {
          "metadata": {
            "tags": null
          },
          "name": "stderr",
          "output_type": "stream",
          "text": [
            "Training: 100%|██████████| 500/500 [00:49<00:00, 10.13it/s, loss=0.0014]\n",
            "Validation: 100%|██████████| 100/100 [00:06<00:00, 16.38it/s, accuracy=0.998]\n"
          ]
        },
        {
          "metadata": {
            "tags": null
          },
          "name": "stdout",
          "output_type": "stream",
          "text": [
            "Epoch 151\n"
          ]
        },
        {
          "metadata": {
            "tags": null
          },
          "name": "stderr",
          "output_type": "stream",
          "text": [
            "Training: 100%|██████████| 500/500 [00:49<00:00, 10.00it/s, loss=0.00147]\n",
            "Validation: 100%|██████████| 100/100 [00:05<00:00, 18.19it/s, accuracy=0.997]\n"
          ]
        },
        {
          "metadata": {
            "tags": null
          },
          "name": "stdout",
          "output_type": "stream",
          "text": [
            "Epoch 152\n"
          ]
        },
        {
          "metadata": {
            "tags": null
          },
          "name": "stderr",
          "output_type": "stream",
          "text": [
            "Training: 100%|██████████| 500/500 [00:49<00:00, 10.11it/s, loss=0.00144]\n",
            "Validation: 100%|██████████| 100/100 [00:05<00:00, 17.82it/s, accuracy=0.998]\n"
          ]
        },
        {
          "metadata": {
            "tags": null
          },
          "name": "stdout",
          "output_type": "stream",
          "text": [
            "Epoch 153\n"
          ]
        },
        {
          "metadata": {
            "tags": null
          },
          "name": "stderr",
          "output_type": "stream",
          "text": [
            "Training: 100%|██████████| 500/500 [00:49<00:00, 10.12it/s, loss=0.00148]\n",
            "Validation: 100%|██████████| 100/100 [00:06<00:00, 16.50it/s, accuracy=0.997]\n"
          ]
        },
        {
          "metadata": {
            "tags": null
          },
          "name": "stdout",
          "output_type": "stream",
          "text": [
            "Epoch 154\n"
          ]
        },
        {
          "metadata": {
            "tags": null
          },
          "name": "stderr",
          "output_type": "stream",
          "text": [
            "Training: 100%|██████████| 500/500 [00:49<00:00, 10.16it/s, loss=0.00141]\n",
            "Validation: 100%|██████████| 100/100 [00:06<00:00, 16.66it/s, accuracy=0.997]\n"
          ]
        },
        {
          "metadata": {
            "tags": null
          },
          "name": "stdout",
          "output_type": "stream",
          "text": [
            "Epoch 155\n"
          ]
        },
        {
          "metadata": {
            "tags": null
          },
          "name": "stderr",
          "output_type": "stream",
          "text": [
            "Training: 100%|██████████| 500/500 [00:49<00:00, 10.09it/s, loss=0.0014]\n",
            "Validation: 100%|██████████| 100/100 [00:05<00:00, 18.18it/s, accuracy=0.998]\n"
          ]
        },
        {
          "metadata": {
            "tags": null
          },
          "name": "stdout",
          "output_type": "stream",
          "text": [
            "Epoch 156\n"
          ]
        },
        {
          "metadata": {
            "tags": null
          },
          "name": "stderr",
          "output_type": "stream",
          "text": [
            "Training: 100%|██████████| 500/500 [00:49<00:00, 10.12it/s, loss=0.00145]\n",
            "Validation: 100%|██████████| 100/100 [00:05<00:00, 18.47it/s, accuracy=0.997]\n"
          ]
        },
        {
          "metadata": {
            "tags": null
          },
          "name": "stdout",
          "output_type": "stream",
          "text": [
            "Epoch 157\n"
          ]
        },
        {
          "metadata": {
            "tags": null
          },
          "name": "stderr",
          "output_type": "stream",
          "text": [
            "Training: 100%|██████████| 500/500 [00:49<00:00, 10.12it/s, loss=0.0014]\n",
            "Validation: 100%|██████████| 100/100 [00:05<00:00, 17.04it/s, accuracy=0.997]\n"
          ]
        },
        {
          "metadata": {
            "tags": null
          },
          "name": "stdout",
          "output_type": "stream",
          "text": [
            "Epoch 158\n"
          ]
        },
        {
          "metadata": {
            "tags": null
          },
          "name": "stderr",
          "output_type": "stream",
          "text": [
            "Training: 100%|██████████| 500/500 [00:49<00:00, 10.16it/s, loss=0.00144]\n",
            "Validation: 100%|██████████| 100/100 [00:06<00:00, 15.69it/s, accuracy=0.997]\n"
          ]
        },
        {
          "metadata": {
            "tags": null
          },
          "name": "stdout",
          "output_type": "stream",
          "text": [
            "Epoch 159\n"
          ]
        },
        {
          "metadata": {
            "tags": null
          },
          "name": "stderr",
          "output_type": "stream",
          "text": [
            "Training: 100%|██████████| 500/500 [00:49<00:00, 10.10it/s, loss=0.00145]\n",
            "Validation: 100%|██████████| 100/100 [00:05<00:00, 18.29it/s, accuracy=0.998]\n"
          ]
        },
        {
          "metadata": {
            "tags": null
          },
          "name": "stdout",
          "output_type": "stream",
          "text": [
            "Epoch 160\n"
          ]
        },
        {
          "metadata": {
            "tags": null
          },
          "name": "stderr",
          "output_type": "stream",
          "text": [
            "Training: 100%|██████████| 500/500 [00:49<00:00, 10.15it/s, loss=0.00145]\n",
            "Validation: 100%|██████████| 100/100 [00:05<00:00, 18.22it/s, accuracy=0.996]\n"
          ]
        },
        {
          "metadata": {
            "tags": null
          },
          "name": "stdout",
          "output_type": "stream",
          "text": [
            "Epoch 161\n"
          ]
        },
        {
          "metadata": {
            "tags": null
          },
          "name": "stderr",
          "output_type": "stream",
          "text": [
            "Training: 100%|██████████| 500/500 [00:49<00:00, 10.11it/s, loss=0.00143]\n",
            "Validation: 100%|██████████| 100/100 [00:05<00:00, 17.52it/s, accuracy=0.997]\n"
          ]
        },
        {
          "metadata": {
            "tags": null
          },
          "name": "stdout",
          "output_type": "stream",
          "text": [
            "Epoch 162\n"
          ]
        },
        {
          "metadata": {
            "tags": null
          },
          "name": "stderr",
          "output_type": "stream",
          "text": [
            "Training: 100%|██████████| 500/500 [00:49<00:00, 10.12it/s, loss=0.00142]\n",
            "Validation: 100%|██████████| 100/100 [00:06<00:00, 16.41it/s, accuracy=0.997]\n"
          ]
        },
        {
          "metadata": {
            "tags": null
          },
          "name": "stdout",
          "output_type": "stream",
          "text": [
            "Epoch 163\n"
          ]
        },
        {
          "metadata": {
            "tags": null
          },
          "name": "stderr",
          "output_type": "stream",
          "text": [
            "Training: 100%|██████████| 500/500 [00:49<00:00, 10.12it/s, loss=0.00147]\n",
            "Validation: 100%|██████████| 100/100 [00:05<00:00, 17.54it/s, accuracy=0.997]\n"
          ]
        },
        {
          "metadata": {
            "tags": null
          },
          "name": "stdout",
          "output_type": "stream",
          "text": [
            "Epoch 164\n"
          ]
        },
        {
          "metadata": {
            "tags": null
          },
          "name": "stderr",
          "output_type": "stream",
          "text": [
            "Training: 100%|██████████| 500/500 [00:49<00:00, 10.11it/s, loss=0.00142]\n",
            "Validation: 100%|██████████| 100/100 [00:05<00:00, 18.22it/s, accuracy=0.996]\n"
          ]
        },
        {
          "metadata": {
            "tags": null
          },
          "name": "stdout",
          "output_type": "stream",
          "text": [
            "Epoch 165\n"
          ]
        },
        {
          "metadata": {
            "tags": null
          },
          "name": "stderr",
          "output_type": "stream",
          "text": [
            "Training: 100%|██████████| 500/500 [00:49<00:00, 10.15it/s, loss=0.00142]\n",
            "Validation: 100%|██████████| 100/100 [00:05<00:00, 17.72it/s, accuracy=0.996]\n"
          ]
        },
        {
          "metadata": {
            "tags": null
          },
          "name": "stdout",
          "output_type": "stream",
          "text": [
            "Epoch 166\n"
          ]
        },
        {
          "metadata": {
            "tags": null
          },
          "name": "stderr",
          "output_type": "stream",
          "text": [
            "Training: 100%|██████████| 500/500 [00:49<00:00, 10.15it/s, loss=0.00139]\n",
            "Validation: 100%|██████████| 100/100 [00:06<00:00, 16.22it/s, accuracy=0.999]\n"
          ]
        },
        {
          "metadata": {
            "tags": null
          },
          "name": "stdout",
          "output_type": "stream",
          "text": [
            "Epoch 167\n"
          ]
        },
        {
          "metadata": {
            "tags": null
          },
          "name": "stderr",
          "output_type": "stream",
          "text": [
            "Training: 100%|██████████| 500/500 [00:49<00:00, 10.12it/s, loss=0.00143]\n",
            "Validation: 100%|██████████| 100/100 [00:05<00:00, 16.90it/s, accuracy=0.997]\n"
          ]
        },
        {
          "metadata": {
            "tags": null
          },
          "name": "stdout",
          "output_type": "stream",
          "text": [
            "Epoch 168\n"
          ]
        },
        {
          "metadata": {
            "tags": null
          },
          "name": "stderr",
          "output_type": "stream",
          "text": [
            "Training: 100%|██████████| 500/500 [00:49<00:00, 10.14it/s, loss=0.00142]\n",
            "Validation: 100%|██████████| 100/100 [00:05<00:00, 18.59it/s, accuracy=0.998]\n"
          ]
        },
        {
          "metadata": {
            "tags": null
          },
          "name": "stdout",
          "output_type": "stream",
          "text": [
            "Epoch 169\n"
          ]
        },
        {
          "metadata": {
            "tags": null
          },
          "name": "stderr",
          "output_type": "stream",
          "text": [
            "Training: 100%|██████████| 500/500 [00:49<00:00, 10.18it/s, loss=0.00144]\n",
            "Validation: 100%|██████████| 100/100 [00:05<00:00, 18.21it/s, accuracy=0.998]\n"
          ]
        },
        {
          "metadata": {
            "tags": null
          },
          "name": "stdout",
          "output_type": "stream",
          "text": [
            "Epoch 170\n"
          ]
        },
        {
          "metadata": {
            "tags": null
          },
          "name": "stderr",
          "output_type": "stream",
          "text": [
            "Training: 100%|██████████| 500/500 [00:49<00:00, 10.17it/s, loss=0.00142]\n",
            "Validation: 100%|██████████| 100/100 [00:05<00:00, 16.75it/s, accuracy=0.997]\n"
          ]
        },
        {
          "metadata": {
            "tags": null
          },
          "name": "stdout",
          "output_type": "stream",
          "text": [
            "Epoch 171\n"
          ]
        },
        {
          "metadata": {
            "tags": null
          },
          "name": "stderr",
          "output_type": "stream",
          "text": [
            "Training: 100%|██████████| 500/500 [00:49<00:00, 10.17it/s, loss=0.00139]\n",
            "Validation: 100%|██████████| 100/100 [00:06<00:00, 16.31it/s, accuracy=0.997]\n"
          ]
        },
        {
          "metadata": {
            "tags": null
          },
          "name": "stdout",
          "output_type": "stream",
          "text": [
            "Epoch 172\n"
          ]
        },
        {
          "metadata": {
            "tags": null
          },
          "name": "stderr",
          "output_type": "stream",
          "text": [
            "Training: 100%|██████████| 500/500 [00:48<00:00, 10.21it/s, loss=0.0014]\n",
            "Validation: 100%|██████████| 100/100 [00:05<00:00, 17.73it/s, accuracy=0.998]\n"
          ]
        },
        {
          "metadata": {
            "tags": null
          },
          "name": "stdout",
          "output_type": "stream",
          "text": [
            "Epoch 173\n"
          ]
        },
        {
          "metadata": {
            "tags": null
          },
          "name": "stderr",
          "output_type": "stream",
          "text": [
            "Training: 100%|██████████| 500/500 [00:49<00:00, 10.20it/s, loss=0.00146]\n",
            "Validation: 100%|██████████| 100/100 [00:05<00:00, 18.81it/s, accuracy=0.997]\n"
          ]
        },
        {
          "metadata": {
            "tags": null
          },
          "name": "stdout",
          "output_type": "stream",
          "text": [
            "Epoch 174\n"
          ]
        },
        {
          "metadata": {
            "tags": null
          },
          "name": "stderr",
          "output_type": "stream",
          "text": [
            "Training: 100%|██████████| 500/500 [00:49<00:00, 10.18it/s, loss=0.00144]\n",
            "Validation: 100%|██████████| 100/100 [00:05<00:00, 18.12it/s, accuracy=0.998]\n"
          ]
        },
        {
          "metadata": {
            "tags": null
          },
          "name": "stdout",
          "output_type": "stream",
          "text": [
            "Epoch 175\n"
          ]
        },
        {
          "metadata": {
            "tags": null
          },
          "name": "stderr",
          "output_type": "stream",
          "text": [
            "Training: 100%|██████████| 500/500 [00:49<00:00, 10.16it/s, loss=0.00138]\n",
            "Validation: 100%|██████████| 100/100 [00:06<00:00, 16.65it/s, accuracy=0.997]\n"
          ]
        },
        {
          "metadata": {
            "tags": null
          },
          "name": "stdout",
          "output_type": "stream",
          "text": [
            "Epoch 176\n"
          ]
        },
        {
          "metadata": {
            "tags": null
          },
          "name": "stderr",
          "output_type": "stream",
          "text": [
            "Training: 100%|██████████| 500/500 [00:48<00:00, 10.22it/s, loss=0.00136]\n",
            "Validation: 100%|██████████| 100/100 [00:06<00:00, 16.45it/s, accuracy=0.997]\n"
          ]
        },
        {
          "metadata": {
            "tags": null
          },
          "name": "stdout",
          "output_type": "stream",
          "text": [
            "Epoch 177\n"
          ]
        },
        {
          "metadata": {
            "tags": null
          },
          "name": "stderr",
          "output_type": "stream",
          "text": [
            "Training: 100%|██████████| 500/500 [00:49<00:00, 10.17it/s, loss=0.00144]\n",
            "Validation: 100%|██████████| 100/100 [00:05<00:00, 17.84it/s, accuracy=0.997]\n"
          ]
        },
        {
          "metadata": {
            "tags": null
          },
          "name": "stdout",
          "output_type": "stream",
          "text": [
            "Epoch 178\n"
          ]
        },
        {
          "metadata": {
            "tags": null
          },
          "name": "stderr",
          "output_type": "stream",
          "text": [
            "Training: 100%|██████████| 500/500 [00:49<00:00, 10.16it/s, loss=0.00143]\n",
            "Validation: 100%|██████████| 100/100 [00:05<00:00, 18.56it/s, accuracy=0.996]\n"
          ]
        },
        {
          "metadata": {
            "tags": null
          },
          "name": "stdout",
          "output_type": "stream",
          "text": [
            "Epoch 179\n"
          ]
        },
        {
          "metadata": {
            "tags": null
          },
          "name": "stderr",
          "output_type": "stream",
          "text": [
            "Training: 100%|██████████| 500/500 [00:49<00:00, 10.13it/s, loss=0.00137]\n",
            "Validation: 100%|██████████| 100/100 [00:05<00:00, 18.30it/s, accuracy=0.995]\n"
          ]
        },
        {
          "metadata": {
            "tags": null
          },
          "name": "stdout",
          "output_type": "stream",
          "text": [
            "Epoch 180\n"
          ]
        },
        {
          "metadata": {
            "tags": null
          },
          "name": "stderr",
          "output_type": "stream",
          "text": [
            "Training: 100%|██████████| 500/500 [00:49<00:00, 10.14it/s, loss=0.00144]\n",
            "Validation: 100%|██████████| 100/100 [00:06<00:00, 16.63it/s, accuracy=0.997]\n"
          ]
        },
        {
          "metadata": {
            "tags": null
          },
          "name": "stdout",
          "output_type": "stream",
          "text": [
            "Epoch 181\n"
          ]
        },
        {
          "metadata": {
            "tags": null
          },
          "name": "stderr",
          "output_type": "stream",
          "text": [
            "Training: 100%|██████████| 500/500 [00:49<00:00, 10.15it/s, loss=0.00139]\n",
            "Validation: 100%|██████████| 100/100 [00:05<00:00, 17.22it/s, accuracy=0.996]\n"
          ]
        },
        {
          "metadata": {
            "tags": null
          },
          "name": "stdout",
          "output_type": "stream",
          "text": [
            "Epoch 182\n"
          ]
        },
        {
          "metadata": {
            "tags": null
          },
          "name": "stderr",
          "output_type": "stream",
          "text": [
            "Training: 100%|██████████| 500/500 [00:49<00:00, 10.13it/s, loss=0.00142]\n",
            "Validation: 100%|██████████| 100/100 [00:05<00:00, 18.20it/s, accuracy=0.997]\n"
          ]
        },
        {
          "metadata": {
            "tags": null
          },
          "name": "stdout",
          "output_type": "stream",
          "text": [
            "Epoch 183\n"
          ]
        },
        {
          "metadata": {
            "tags": null
          },
          "name": "stderr",
          "output_type": "stream",
          "text": [
            "Training: 100%|██████████| 500/500 [00:49<00:00, 10.14it/s, loss=0.00138]\n",
            "Validation: 100%|██████████| 100/100 [00:05<00:00, 18.25it/s, accuracy=0.997]\n"
          ]
        },
        {
          "metadata": {
            "tags": null
          },
          "name": "stdout",
          "output_type": "stream",
          "text": [
            "Epoch 184\n"
          ]
        },
        {
          "metadata": {
            "tags": null
          },
          "name": "stderr",
          "output_type": "stream",
          "text": [
            "Training: 100%|██████████| 500/500 [00:49<00:00, 10.18it/s, loss=0.00142]\n",
            "Validation: 100%|██████████| 100/100 [00:06<00:00, 16.49it/s, accuracy=0.998]\n"
          ]
        },
        {
          "metadata": {
            "tags": null
          },
          "name": "stdout",
          "output_type": "stream",
          "text": [
            "Epoch 185\n"
          ]
        },
        {
          "metadata": {
            "tags": null
          },
          "name": "stderr",
          "output_type": "stream",
          "text": [
            "Training: 100%|██████████| 500/500 [00:49<00:00, 10.12it/s, loss=0.00142]\n",
            "Validation: 100%|██████████| 100/100 [00:06<00:00, 16.23it/s, accuracy=0.998]\n"
          ]
        },
        {
          "metadata": {
            "tags": null
          },
          "name": "stdout",
          "output_type": "stream",
          "text": [
            "Epoch 186\n"
          ]
        },
        {
          "metadata": {
            "tags": null
          },
          "name": "stderr",
          "output_type": "stream",
          "text": [
            "Training: 100%|██████████| 500/500 [00:49<00:00, 10.07it/s, loss=0.0014]\n",
            "Validation: 100%|██████████| 100/100 [00:05<00:00, 17.67it/s, accuracy=0.997]\n"
          ]
        },
        {
          "metadata": {
            "tags": null
          },
          "name": "stdout",
          "output_type": "stream",
          "text": [
            "Epoch 187\n"
          ]
        },
        {
          "metadata": {
            "tags": null
          },
          "name": "stderr",
          "output_type": "stream",
          "text": [
            "Training: 100%|██████████| 500/500 [00:49<00:00, 10.14it/s, loss=0.00145]\n",
            "Validation: 100%|██████████| 100/100 [00:05<00:00, 18.16it/s, accuracy=0.998]\n"
          ]
        },
        {
          "metadata": {
            "tags": null
          },
          "name": "stdout",
          "output_type": "stream",
          "text": [
            "Epoch 188\n"
          ]
        },
        {
          "metadata": {
            "tags": null
          },
          "name": "stderr",
          "output_type": "stream",
          "text": [
            "Training: 100%|██████████| 500/500 [00:49<00:00, 10.17it/s, loss=0.00143]\n",
            "Validation: 100%|██████████| 100/100 [00:05<00:00, 16.72it/s, accuracy=0.998]\n"
          ]
        },
        {
          "metadata": {
            "tags": null
          },
          "name": "stdout",
          "output_type": "stream",
          "text": [
            "Epoch 189\n"
          ]
        },
        {
          "metadata": {
            "tags": null
          },
          "name": "stderr",
          "output_type": "stream",
          "text": [
            "Training: 100%|██████████| 500/500 [00:48<00:00, 10.22it/s, loss=0.00142]\n",
            "Validation: 100%|██████████| 100/100 [00:06<00:00, 16.12it/s, accuracy=0.996]\n"
          ]
        },
        {
          "metadata": {
            "tags": null
          },
          "name": "stdout",
          "output_type": "stream",
          "text": [
            "Epoch 190\n"
          ]
        },
        {
          "metadata": {
            "tags": null
          },
          "name": "stderr",
          "output_type": "stream",
          "text": [
            "Training: 100%|██████████| 500/500 [00:49<00:00, 10.16it/s, loss=0.00145]\n",
            "Validation: 100%|██████████| 100/100 [00:05<00:00, 17.99it/s, accuracy=0.997]\n"
          ]
        },
        {
          "metadata": {
            "tags": null
          },
          "name": "stdout",
          "output_type": "stream",
          "text": [
            "Epoch 191\n"
          ]
        },
        {
          "metadata": {
            "tags": null
          },
          "name": "stderr",
          "output_type": "stream",
          "text": [
            "Training: 100%|██████████| 500/500 [00:49<00:00, 10.11it/s, loss=0.00138]\n",
            "Validation: 100%|██████████| 100/100 [00:05<00:00, 18.41it/s, accuracy=0.997]\n"
          ]
        },
        {
          "metadata": {
            "tags": null
          },
          "name": "stdout",
          "output_type": "stream",
          "text": [
            "Epoch 192\n"
          ]
        },
        {
          "metadata": {
            "tags": null
          },
          "name": "stderr",
          "output_type": "stream",
          "text": [
            "Training: 100%|██████████| 500/500 [00:49<00:00, 10.15it/s, loss=0.00144]\n",
            "Validation: 100%|██████████| 100/100 [00:05<00:00, 17.21it/s, accuracy=0.998]\n"
          ]
        },
        {
          "metadata": {
            "tags": null
          },
          "name": "stdout",
          "output_type": "stream",
          "text": [
            "Epoch 193\n"
          ]
        },
        {
          "metadata": {
            "tags": null
          },
          "name": "stderr",
          "output_type": "stream",
          "text": [
            "Training: 100%|██████████| 500/500 [00:49<00:00, 10.16it/s, loss=0.0014]\n",
            "Validation: 100%|██████████| 100/100 [00:06<00:00, 16.37it/s, accuracy=0.998]\n"
          ]
        },
        {
          "metadata": {
            "tags": null
          },
          "name": "stdout",
          "output_type": "stream",
          "text": [
            "Epoch 194\n"
          ]
        },
        {
          "output_type": "stream",
          "name": "stderr",
          "text": [
            "Training: 100%|██████████| 500/500 [00:49<00:00, 10.09it/s, loss=0.00142]\n",
            "Validation: 100%|██████████| 100/100 [00:05<00:00, 18.42it/s, accuracy=0.998]\n"
          ]
        },
        {
          "output_type": "stream",
          "name": "stdout",
          "text": [
            "Epoch 195\n"
          ]
        },
        {
          "output_type": "stream",
          "name": "stderr",
          "text": [
            "Training: 100%|██████████| 500/500 [00:49<00:00, 10.10it/s, loss=0.0014]\n",
            "Validation: 100%|██████████| 100/100 [00:05<00:00, 18.11it/s, accuracy=0.997]\n"
          ]
        },
        {
          "output_type": "stream",
          "name": "stdout",
          "text": [
            "Epoch 196\n"
          ]
        },
        {
          "output_type": "stream",
          "name": "stderr",
          "text": [
            "Training: 100%|██████████| 500/500 [00:49<00:00, 10.09it/s, loss=0.00138]\n",
            "Validation: 100%|██████████| 100/100 [00:05<00:00, 16.76it/s, accuracy=0.998]\n"
          ]
        },
        {
          "output_type": "stream",
          "name": "stdout",
          "text": [
            "Epoch 197\n"
          ]
        },
        {
          "output_type": "stream",
          "name": "stderr",
          "text": [
            "Training: 100%|██████████| 500/500 [00:49<00:00, 10.19it/s, loss=0.00144]\n",
            "Validation: 100%|██████████| 100/100 [00:06<00:00, 16.23it/s, accuracy=0.996]\n"
          ]
        },
        {
          "output_type": "stream",
          "name": "stdout",
          "text": [
            "Epoch 198\n"
          ]
        },
        {
          "output_type": "stream",
          "name": "stderr",
          "text": [
            "Training: 100%|██████████| 500/500 [00:49<00:00, 10.10it/s, loss=0.00143]\n",
            "Validation: 100%|██████████| 100/100 [00:05<00:00, 18.13it/s, accuracy=0.996]\n"
          ]
        },
        {
          "output_type": "stream",
          "name": "stdout",
          "text": [
            "Epoch 199\n"
          ]
        },
        {
          "output_type": "stream",
          "name": "stderr",
          "text": [
            "Training: 100%|██████████| 500/500 [00:49<00:00, 10.10it/s, loss=0.00138]\n",
            "Validation: 100%|██████████| 100/100 [00:05<00:00, 18.01it/s, accuracy=0.998]\n"
          ]
        }
      ]
    },
    {
      "cell_type": "code",
      "source": [
        "PATH = '/content/drive/MyDrive/pr_final_presentation/weights/PrototypicalNetworks_5_5.pth'\n",
        "few_shot_classifier.load_state_dict(torch.load(PATH))"
      ],
      "metadata": {
        "colab": {
          "base_uri": "https://localhost:8080/"
        },
        "id": "jD---wAY8d1J",
        "outputId": "a49189c2-58f2-4f5a-d7e1-8577ecc29dc4"
      },
      "execution_count": 14,
      "outputs": [
        {
          "output_type": "execute_result",
          "data": {
            "text/plain": [
              "<All keys matched successfully>"
            ]
          },
          "metadata": {},
          "execution_count": 14
        }
      ]
    },
    {
      "cell_type": "markdown",
      "source": [
        "**Evaluation**"
      ],
      "metadata": {
        "id": "6-YALOOBJstS"
      }
    },
    {
      "cell_type": "code",
      "source": [
        "import os\n",
        "\n",
        "old_folder_name = '/content/data/gtsrb/GTSRB/Training'\n",
        "new_folder_name = '/content/data/gtsrb/GTSRB/Trainingg'\n",
        "\n",
        "# Rename the folder\n",
        "os.rename(old_folder_name, new_folder_name)\n",
        "\n",
        "old_folder_name = '/content/data/gtsrb/GTSRB/Testing'\n",
        "new_folder_name = '/content/data/gtsrb/GTSRB/Training'\n",
        "\n",
        "# Rename the folder\n",
        "os.rename(old_folder_name, new_folder_name)"
      ],
      "metadata": {
        "id": "aRTmRM3gJsFi"
      },
      "execution_count": 15,
      "outputs": []
    },
    {
      "cell_type": "code",
      "source": [
        "n_test_tasks = 1000\n",
        "\n",
        "test_set = torchvision.datasets.GTSRB(\n",
        "    root='/content/data',\n",
        "    split='train',\n",
        "    transform=torchvision.transforms.Compose(\n",
        "        [\n",
        "            torchvision.transforms.ToTensor(),\n",
        "            torchvision.transforms.Resize([image_size,image_size]),\n",
        "        ]\n",
        "    ),\n",
        "    target_transform=None,\n",
        "    download=False\n",
        "    )\n",
        "\n",
        "test_set.get_labels = lambda: [\n",
        "    instance[1] for instance in test_set\n",
        "]\n",
        "\n",
        "test_sampler = TaskSampler(\n",
        "    test_set, n_way=n_way, n_shot=n_shot, n_query=n_query, n_tasks=n_test_tasks\n",
        ")\n",
        "test_loader = DataLoader(\n",
        "    test_set,\n",
        "    batch_sampler=test_sampler,\n",
        "    num_workers=n_workers,\n",
        "    pin_memory=True,\n",
        "    collate_fn=test_sampler.episodic_collate_fn,\n",
        ")"
      ],
      "metadata": {
        "id": "eEakeF2Y8h-p"
      },
      "execution_count": 16,
      "outputs": []
    },
    {
      "cell_type": "code",
      "source": [
        "accuracy = evaluate(few_shot_classifier, test_loader, device=DEVICE)\n",
        "print(f\"Average accuracy : {(100 * accuracy):.2f} %\")"
      ],
      "metadata": {
        "colab": {
          "base_uri": "https://localhost:8080/"
        },
        "id": "zGp8gjVZ8k7p",
        "outputId": "48cd0c29-d4ea-4f04-e878-4d78f567cb87"
      },
      "execution_count": 17,
      "outputs": [
        {
          "output_type": "stream",
          "name": "stderr",
          "text": [
            "100%|██████████| 1000/1000 [00:58<00:00, 17.22it/s, accuracy=0.881]"
          ]
        },
        {
          "output_type": "stream",
          "name": "stdout",
          "text": [
            "Average accuracy : 88.08 %\n"
          ]
        },
        {
          "output_type": "stream",
          "name": "stderr",
          "text": [
            "\n"
          ]
        }
      ]
    },
    {
      "cell_type": "markdown",
      "source": [
        "# Classical Training"
      ],
      "metadata": {
        "id": "avVAMZBm8QCT"
      }
    },
    {
      "cell_type": "code",
      "source": [
        "image_size = 28\n",
        "\n",
        "# Instantiate the datasets\n",
        "train_set = torchvision.datasets.GTSRB(\n",
        "    root='./data',\n",
        "    split='train',\n",
        "    transform=torchvision.transforms.Compose(\n",
        "        [\n",
        "            torchvision.transforms.ToTensor(),\n",
        "            torchvision.transforms.Resize([image_size,image_size]),\n",
        "        ]\n",
        "    ),\n",
        "    target_transform=None,\n",
        "    download=True)\n",
        "train_set_size = int(len(train_set) * 0.8)\n",
        "val_set_size = len(train_set) - train_set_size\n",
        "train_set, val_set = torch.utils.data.random_split(train_set, [train_set_size, val_set_size])\n",
        "\n",
        "train_set.get_labels = lambda: [\n",
        "    instance[1] for instance in train_set\n",
        "]\n",
        "\n",
        "val_set.get_labels = lambda: [\n",
        "    instance[1] for instance in val_set\n",
        "]"
      ],
      "metadata": {
        "id": "aQil0Fo-8QYg"
      },
      "execution_count": null,
      "outputs": []
    },
    {
      "cell_type": "code",
      "source": [
        "# from easyfsl.datasets import CUB\n",
        "from torch.utils.data import DataLoader\n",
        "\n",
        "batch_size = 128\n",
        "n_workers = 0\n",
        "\n",
        "# train_set = CUB(split=\"train\", training=True)\n",
        "train_loader = DataLoader(\n",
        "    train_set,\n",
        "    batch_size=batch_size,\n",
        "    num_workers=n_workers,\n",
        "    pin_memory=True,\n",
        "    shuffle=True,\n",
        ")"
      ],
      "metadata": {
        "id": "i1_NwgWQ8aS7"
      },
      "execution_count": null,
      "outputs": []
    },
    {
      "cell_type": "code",
      "source": [
        "from easyfsl.modules import resnet12\n",
        "\n",
        "DEVICE = \"cuda\"\n",
        "\n",
        "model = resnet12(\n",
        "    use_fc=True,\n",
        "    num_classes=len(set(train_set.get_labels())),\n",
        ").to(DEVICE)"
      ],
      "metadata": {
        "id": "-SlxiRaM8dBq"
      },
      "execution_count": null,
      "outputs": []
    },
    {
      "cell_type": "code",
      "source": [
        "from easyfsl.methods import PrototypicalNetworks,Finetune\n",
        "from easyfsl.samplers import TaskSampler\n",
        "\n",
        "n_way = 5\n",
        "n_shot = 5\n",
        "n_query = 10\n",
        "n_validation_tasks = 500\n",
        "\n",
        "# val_set = CUB(split=\"val\", training=False)\n",
        "val_sampler = TaskSampler(\n",
        "    val_set, n_way=n_way, n_shot=n_shot, n_query=n_query, n_tasks=n_validation_tasks\n",
        ")\n",
        "val_loader = DataLoader(\n",
        "    val_set,\n",
        "    batch_sampler=val_sampler,\n",
        "    num_workers=n_workers,\n",
        "    pin_memory=True,\n",
        "    collate_fn=val_sampler.episodic_collate_fn,\n",
        ")\n",
        "\n",
        "few_shot_classifier = Finetune(model).to(DEVICE)"
      ],
      "metadata": {
        "id": "yMFWz_PH8ffm"
      },
      "execution_count": null,
      "outputs": []
    },
    {
      "cell_type": "code",
      "source": [
        "from torch.optim import SGD, Optimizer\n",
        "from torch.optim.lr_scheduler import MultiStepLR\n",
        "from torch.utils.tensorboard import SummaryWriter\n",
        "\n",
        "\n",
        "LOSS_FUNCTION = nn.CrossEntropyLoss()\n",
        "\n",
        "n_epochs = 200\n",
        "scheduler_milestones = [150, 180]\n",
        "scheduler_gamma = 0.1\n",
        "learning_rate = 1e-01\n",
        "tb_logs_dir = Path(\".\")\n",
        "\n",
        "train_optimizer = SGD(\n",
        "    model.parameters(), lr=learning_rate, momentum=0.9, weight_decay=5e-4\n",
        ")\n",
        "train_scheduler = MultiStepLR(\n",
        "    train_optimizer,\n",
        "    milestones=scheduler_milestones,\n",
        "    gamma=scheduler_gamma,\n",
        ")\n",
        "\n",
        "tb_writer = SummaryWriter(log_dir=str(tb_logs_dir))"
      ],
      "metadata": {
        "id": "AJ2srOtM8ikU"
      },
      "execution_count": null,
      "outputs": []
    },
    {
      "cell_type": "code",
      "source": [
        "def training_epoch(model_: nn.Module, data_loader: DataLoader, optimizer: Optimizer):\n",
        "    all_loss = []\n",
        "    model_.train()\n",
        "    with tqdm(data_loader, total=len(data_loader), desc=\"Training\") as tqdm_train:\n",
        "        for images, labels in tqdm_train:\n",
        "            optimizer.zero_grad()\n",
        "\n",
        "            loss = LOSS_FUNCTION(model_(images.to(DEVICE)), labels.to(DEVICE))\n",
        "            loss.backward()\n",
        "            optimizer.step()\n",
        "\n",
        "            all_loss.append(loss.item())\n",
        "\n",
        "            tqdm_train.set_postfix(loss=mean(all_loss))\n",
        "\n",
        "    return mean(all_loss)"
      ],
      "metadata": {
        "id": "H6QW6_cH8mMb"
      },
      "execution_count": null,
      "outputs": []
    },
    {
      "cell_type": "code",
      "source": [
        "from easyfsl.methods.tim import FewShotClassifier\n",
        "from easyfsl.utils import evaluate\n",
        "\n",
        "\n",
        "best_state = model.state_dict()\n",
        "best_validation_accuracy = 0.0\n",
        "validation_frequency = 10\n",
        "for epoch in range(n_epochs):\n",
        "    print(f\"Epoch {epoch}\")\n",
        "    few_shot_classifier.backbone.requires_grad_(True)\n",
        "    average_loss = training_epoch(model, train_loader, train_optimizer)\n",
        "\n",
        "    if epoch % validation_frequency == validation_frequency - 1:\n",
        "\n",
        "        # We use this very convenient method from EasyFSL's ResNet to specify\n",
        "        # that the model shouldn't use its last fully connected layer during validation.\n",
        "        model.set_use_fc(False)\n",
        "        few_shot_classifier.backbone.requires_grad_(False)\n",
        "        validation_accuracy = evaluate(\n",
        "            few_shot_classifier, val_loader, device=DEVICE, tqdm_prefix=\"Validation\"\n",
        "        )\n",
        "        model.set_use_fc(True)\n",
        "        few_shot_classifier.backbone.requires_grad_(True)\n",
        "\n",
        "        if validation_accuracy > best_validation_accuracy:\n",
        "            best_validation_accuracy = validation_accuracy\n",
        "            best_state = model.state_dict()\n",
        "            print(\"Ding ding ding! We found a new best model!\")\n",
        "\n",
        "        tb_writer.add_scalar(\"Val/acc\", validation_accuracy, epoch)\n",
        "        # print(validation_accuracy)\n",
        "\n",
        "    tb_writer.add_scalar(\"Train/loss\", average_loss, epoch)\n",
        "\n",
        "    # Warn the scheduler that we did an epoch\n",
        "    # so it knows when to decrease the learning rate\n",
        "    train_scheduler.step()\n",
        "    if epoch % 10 == 0 : torch.save(best_state, '/content/drive/MyDrive/pr_final_presentation/weights/Finetune_5_5.pth')"
      ],
      "metadata": {
        "colab": {
          "base_uri": "https://localhost:8080/"
        },
        "id": "8eW4am5q8ozF",
        "outputId": "5b483317-472d-46eb-ef05-0c6083dd708d"
      },
      "execution_count": null,
      "outputs": [
        {
          "output_type": "stream",
          "name": "stdout",
          "text": [
            "Epoch 0\n"
          ]
        },
        {
          "output_type": "stream",
          "name": "stderr",
          "text": [
            "Training: 100%|██████████| 167/167 [00:26<00:00,  6.42it/s, loss=1.14]\n"
          ]
        },
        {
          "output_type": "stream",
          "name": "stdout",
          "text": [
            "Epoch 1\n"
          ]
        },
        {
          "output_type": "stream",
          "name": "stderr",
          "text": [
            "Training: 100%|██████████| 167/167 [00:25<00:00,  6.47it/s, loss=0.0646]\n"
          ]
        },
        {
          "output_type": "stream",
          "name": "stdout",
          "text": [
            "Epoch 2\n"
          ]
        },
        {
          "output_type": "stream",
          "name": "stderr",
          "text": [
            "Training: 100%|██████████| 167/167 [00:25<00:00,  6.45it/s, loss=0.0175]\n"
          ]
        },
        {
          "output_type": "stream",
          "name": "stdout",
          "text": [
            "Epoch 3\n"
          ]
        },
        {
          "output_type": "stream",
          "name": "stderr",
          "text": [
            "Training: 100%|██████████| 167/167 [00:26<00:00,  6.36it/s, loss=0.00657]\n"
          ]
        },
        {
          "output_type": "stream",
          "name": "stdout",
          "text": [
            "Epoch 4\n"
          ]
        },
        {
          "output_type": "stream",
          "name": "stderr",
          "text": [
            "Training: 100%|██████████| 167/167 [00:26<00:00,  6.39it/s, loss=0.00324]\n"
          ]
        },
        {
          "output_type": "stream",
          "name": "stdout",
          "text": [
            "Epoch 5\n"
          ]
        },
        {
          "output_type": "stream",
          "name": "stderr",
          "text": [
            "Training: 100%|██████████| 167/167 [00:26<00:00,  6.33it/s, loss=0.00224]\n"
          ]
        },
        {
          "output_type": "stream",
          "name": "stdout",
          "text": [
            "Epoch 6\n"
          ]
        },
        {
          "output_type": "stream",
          "name": "stderr",
          "text": [
            "Training: 100%|██████████| 167/167 [00:26<00:00,  6.30it/s, loss=0.00244]\n"
          ]
        },
        {
          "output_type": "stream",
          "name": "stdout",
          "text": [
            "Epoch 7\n"
          ]
        },
        {
          "output_type": "stream",
          "name": "stderr",
          "text": [
            "Training: 100%|██████████| 167/167 [00:26<00:00,  6.38it/s, loss=0.00265]\n"
          ]
        },
        {
          "output_type": "stream",
          "name": "stdout",
          "text": [
            "Epoch 8\n"
          ]
        },
        {
          "output_type": "stream",
          "name": "stderr",
          "text": [
            "Training: 100%|██████████| 167/167 [00:26<00:00,  6.39it/s, loss=0.00275]\n"
          ]
        },
        {
          "output_type": "stream",
          "name": "stdout",
          "text": [
            "Epoch 9\n"
          ]
        },
        {
          "output_type": "stream",
          "name": "stderr",
          "text": [
            "Training: 100%|██████████| 167/167 [00:26<00:00,  6.40it/s, loss=0.00273]\n",
            "Validation: 100%|██████████| 500/500 [00:33<00:00, 14.87it/s, accuracy=0.999]\n"
          ]
        },
        {
          "output_type": "stream",
          "name": "stdout",
          "text": [
            "Ding ding ding! We found a new best model!\n",
            "Epoch 10\n"
          ]
        },
        {
          "output_type": "stream",
          "name": "stderr",
          "text": [
            "Training: 100%|██████████| 167/167 [00:26<00:00,  6.40it/s, loss=0.00265]\n"
          ]
        },
        {
          "output_type": "stream",
          "name": "stdout",
          "text": [
            "Epoch 11\n"
          ]
        },
        {
          "output_type": "stream",
          "name": "stderr",
          "text": [
            "Training: 100%|██████████| 167/167 [00:26<00:00,  6.42it/s, loss=0.00261]\n"
          ]
        },
        {
          "output_type": "stream",
          "name": "stdout",
          "text": [
            "Epoch 12\n"
          ]
        },
        {
          "output_type": "stream",
          "name": "stderr",
          "text": [
            "Training: 100%|██████████| 167/167 [00:25<00:00,  6.48it/s, loss=0.0026]\n"
          ]
        },
        {
          "output_type": "stream",
          "name": "stdout",
          "text": [
            "Epoch 13\n"
          ]
        },
        {
          "output_type": "stream",
          "name": "stderr",
          "text": [
            "Training: 100%|██████████| 167/167 [00:26<00:00,  6.40it/s, loss=0.00258]\n"
          ]
        },
        {
          "output_type": "stream",
          "name": "stdout",
          "text": [
            "Epoch 14\n"
          ]
        },
        {
          "output_type": "stream",
          "name": "stderr",
          "text": [
            "Training: 100%|██████████| 167/167 [00:26<00:00,  6.41it/s, loss=0.00261]\n"
          ]
        },
        {
          "output_type": "stream",
          "name": "stdout",
          "text": [
            "Epoch 15\n"
          ]
        },
        {
          "output_type": "stream",
          "name": "stderr",
          "text": [
            "Training: 100%|██████████| 167/167 [00:26<00:00,  6.41it/s, loss=0.00277]\n"
          ]
        },
        {
          "output_type": "stream",
          "name": "stdout",
          "text": [
            "Epoch 16\n"
          ]
        },
        {
          "output_type": "stream",
          "name": "stderr",
          "text": [
            "Training: 100%|██████████| 167/167 [00:26<00:00,  6.41it/s, loss=0.33]\n"
          ]
        },
        {
          "output_type": "stream",
          "name": "stdout",
          "text": [
            "Epoch 17\n"
          ]
        },
        {
          "output_type": "stream",
          "name": "stderr",
          "text": [
            "Training: 100%|██████████| 167/167 [00:26<00:00,  6.40it/s, loss=0.0539]\n"
          ]
        },
        {
          "output_type": "stream",
          "name": "stdout",
          "text": [
            "Epoch 18\n"
          ]
        },
        {
          "output_type": "stream",
          "name": "stderr",
          "text": [
            "Training: 100%|██████████| 167/167 [00:25<00:00,  6.57it/s, loss=0.0174]\n"
          ]
        },
        {
          "output_type": "stream",
          "name": "stdout",
          "text": [
            "Epoch 19\n"
          ]
        },
        {
          "output_type": "stream",
          "name": "stderr",
          "text": [
            "Training: 100%|██████████| 167/167 [00:25<00:00,  6.47it/s, loss=0.00525]\n",
            "Validation: 100%|██████████| 500/500 [00:34<00:00, 14.57it/s, accuracy=0.998]\n"
          ]
        },
        {
          "output_type": "stream",
          "name": "stdout",
          "text": [
            "Epoch 20\n"
          ]
        },
        {
          "output_type": "stream",
          "name": "stderr",
          "text": [
            "Training: 100%|██████████| 167/167 [00:26<00:00,  6.36it/s, loss=0.00238]\n"
          ]
        },
        {
          "output_type": "stream",
          "name": "stdout",
          "text": [
            "Epoch 21\n"
          ]
        },
        {
          "output_type": "stream",
          "name": "stderr",
          "text": [
            "Training: 100%|██████████| 167/167 [00:26<00:00,  6.38it/s, loss=0.00283]\n"
          ]
        },
        {
          "output_type": "stream",
          "name": "stdout",
          "text": [
            "Epoch 22\n"
          ]
        },
        {
          "output_type": "stream",
          "name": "stderr",
          "text": [
            "Training: 100%|██████████| 167/167 [00:25<00:00,  6.51it/s, loss=0.00285]\n"
          ]
        },
        {
          "output_type": "stream",
          "name": "stdout",
          "text": [
            "Epoch 23\n"
          ]
        },
        {
          "output_type": "stream",
          "name": "stderr",
          "text": [
            "Training: 100%|██████████| 167/167 [00:25<00:00,  6.44it/s, loss=0.00298]\n"
          ]
        },
        {
          "output_type": "stream",
          "name": "stdout",
          "text": [
            "Epoch 24\n"
          ]
        },
        {
          "output_type": "stream",
          "name": "stderr",
          "text": [
            "Training: 100%|██████████| 167/167 [00:25<00:00,  6.44it/s, loss=0.00298]\n"
          ]
        },
        {
          "output_type": "stream",
          "name": "stdout",
          "text": [
            "Epoch 25\n"
          ]
        },
        {
          "output_type": "stream",
          "name": "stderr",
          "text": [
            "Training: 100%|██████████| 167/167 [00:25<00:00,  6.45it/s, loss=0.00311]\n"
          ]
        },
        {
          "output_type": "stream",
          "name": "stdout",
          "text": [
            "Epoch 26\n"
          ]
        },
        {
          "output_type": "stream",
          "name": "stderr",
          "text": [
            "Training: 100%|██████████| 167/167 [00:25<00:00,  6.45it/s, loss=0.00297]\n"
          ]
        },
        {
          "output_type": "stream",
          "name": "stdout",
          "text": [
            "Epoch 27\n"
          ]
        },
        {
          "output_type": "stream",
          "name": "stderr",
          "text": [
            "Training: 100%|██████████| 167/167 [00:25<00:00,  6.51it/s, loss=0.00303]\n"
          ]
        },
        {
          "output_type": "stream",
          "name": "stdout",
          "text": [
            "Epoch 28\n"
          ]
        },
        {
          "output_type": "stream",
          "name": "stderr",
          "text": [
            "Training: 100%|██████████| 167/167 [00:25<00:00,  6.57it/s, loss=0.00306]\n"
          ]
        },
        {
          "output_type": "stream",
          "name": "stdout",
          "text": [
            "Epoch 29\n"
          ]
        },
        {
          "output_type": "stream",
          "name": "stderr",
          "text": [
            "Training: 100%|██████████| 167/167 [00:25<00:00,  6.48it/s, loss=0.00313]\n",
            "Validation: 100%|██████████| 500/500 [00:32<00:00, 15.36it/s, accuracy=0.999]\n"
          ]
        },
        {
          "output_type": "stream",
          "name": "stdout",
          "text": [
            "Ding ding ding! We found a new best model!\n",
            "Epoch 30\n"
          ]
        },
        {
          "output_type": "stream",
          "name": "stderr",
          "text": [
            "Training: 100%|██████████| 167/167 [00:25<00:00,  6.47it/s, loss=0.00293]\n"
          ]
        },
        {
          "output_type": "stream",
          "name": "stdout",
          "text": [
            "Epoch 31\n"
          ]
        },
        {
          "output_type": "stream",
          "name": "stderr",
          "text": [
            "Training: 100%|██████████| 167/167 [00:25<00:00,  6.46it/s, loss=0.00311]\n"
          ]
        },
        {
          "output_type": "stream",
          "name": "stdout",
          "text": [
            "Epoch 32\n"
          ]
        },
        {
          "output_type": "stream",
          "name": "stderr",
          "text": [
            "Training: 100%|██████████| 167/167 [00:25<00:00,  6.46it/s, loss=0.351]\n"
          ]
        },
        {
          "output_type": "stream",
          "name": "stdout",
          "text": [
            "Epoch 33\n"
          ]
        },
        {
          "output_type": "stream",
          "name": "stderr",
          "text": [
            "Training: 100%|██████████| 167/167 [00:25<00:00,  6.44it/s, loss=0.0669]\n"
          ]
        },
        {
          "output_type": "stream",
          "name": "stdout",
          "text": [
            "Epoch 34\n"
          ]
        },
        {
          "output_type": "stream",
          "name": "stderr",
          "text": [
            "Training: 100%|██████████| 167/167 [00:25<00:00,  6.47it/s, loss=0.0236]\n"
          ]
        },
        {
          "output_type": "stream",
          "name": "stdout",
          "text": [
            "Epoch 35\n"
          ]
        },
        {
          "output_type": "stream",
          "name": "stderr",
          "text": [
            "Training: 100%|██████████| 167/167 [00:25<00:00,  6.46it/s, loss=0.0159]\n"
          ]
        },
        {
          "output_type": "stream",
          "name": "stdout",
          "text": [
            "Epoch 36\n"
          ]
        },
        {
          "output_type": "stream",
          "name": "stderr",
          "text": [
            "Training: 100%|██████████| 167/167 [00:26<00:00,  6.42it/s, loss=0.0153]\n"
          ]
        },
        {
          "output_type": "stream",
          "name": "stdout",
          "text": [
            "Epoch 37\n"
          ]
        },
        {
          "output_type": "stream",
          "name": "stderr",
          "text": [
            "Training: 100%|██████████| 167/167 [00:25<00:00,  6.45it/s, loss=0.0161]\n"
          ]
        },
        {
          "output_type": "stream",
          "name": "stdout",
          "text": [
            "Epoch 38\n"
          ]
        },
        {
          "output_type": "stream",
          "name": "stderr",
          "text": [
            "Training: 100%|██████████| 167/167 [00:25<00:00,  6.49it/s, loss=0.00888]\n"
          ]
        },
        {
          "output_type": "stream",
          "name": "stdout",
          "text": [
            "Epoch 39\n"
          ]
        },
        {
          "output_type": "stream",
          "name": "stderr",
          "text": [
            "Training: 100%|██████████| 167/167 [00:25<00:00,  6.44it/s, loss=0.0089]\n",
            "Validation: 100%|██████████| 500/500 [00:32<00:00, 15.60it/s, accuracy=0.997]\n"
          ]
        },
        {
          "output_type": "stream",
          "name": "stdout",
          "text": [
            "Epoch 40\n"
          ]
        },
        {
          "output_type": "stream",
          "name": "stderr",
          "text": [
            "Training: 100%|██████████| 167/167 [00:26<00:00,  6.38it/s, loss=0.0201]\n"
          ]
        },
        {
          "output_type": "stream",
          "name": "stdout",
          "text": [
            "Epoch 41\n"
          ]
        },
        {
          "output_type": "stream",
          "name": "stderr",
          "text": [
            "Training: 100%|██████████| 167/167 [00:25<00:00,  6.45it/s, loss=0.0305]\n"
          ]
        },
        {
          "output_type": "stream",
          "name": "stdout",
          "text": [
            "Epoch 42\n"
          ]
        },
        {
          "output_type": "stream",
          "name": "stderr",
          "text": [
            "Training: 100%|██████████| 167/167 [00:25<00:00,  6.53it/s, loss=0.0219]\n"
          ]
        },
        {
          "output_type": "stream",
          "name": "stdout",
          "text": [
            "Epoch 43\n"
          ]
        },
        {
          "output_type": "stream",
          "name": "stderr",
          "text": [
            "Training: 100%|██████████| 167/167 [00:25<00:00,  6.49it/s, loss=0.0146]\n"
          ]
        },
        {
          "output_type": "stream",
          "name": "stdout",
          "text": [
            "Epoch 44\n"
          ]
        },
        {
          "output_type": "stream",
          "name": "stderr",
          "text": [
            "Training: 100%|██████████| 167/167 [00:25<00:00,  6.49it/s, loss=0.00517]\n"
          ]
        },
        {
          "output_type": "stream",
          "name": "stdout",
          "text": [
            "Epoch 45\n"
          ]
        },
        {
          "output_type": "stream",
          "name": "stderr",
          "text": [
            "Training: 100%|██████████| 167/167 [00:25<00:00,  6.57it/s, loss=0.00973]\n"
          ]
        },
        {
          "output_type": "stream",
          "name": "stdout",
          "text": [
            "Epoch 46\n"
          ]
        },
        {
          "output_type": "stream",
          "name": "stderr",
          "text": [
            "Training: 100%|██████████| 167/167 [00:25<00:00,  6.53it/s, loss=0.0272]\n"
          ]
        },
        {
          "output_type": "stream",
          "name": "stdout",
          "text": [
            "Epoch 47\n"
          ]
        },
        {
          "output_type": "stream",
          "name": "stderr",
          "text": [
            "Training: 100%|██████████| 167/167 [00:25<00:00,  6.49it/s, loss=0.0349]\n"
          ]
        },
        {
          "output_type": "stream",
          "name": "stdout",
          "text": [
            "Epoch 48\n"
          ]
        },
        {
          "output_type": "stream",
          "name": "stderr",
          "text": [
            "Training: 100%|██████████| 167/167 [00:25<00:00,  6.46it/s, loss=0.0137]\n"
          ]
        },
        {
          "output_type": "stream",
          "name": "stdout",
          "text": [
            "Epoch 49\n"
          ]
        },
        {
          "output_type": "stream",
          "name": "stderr",
          "text": [
            "Training: 100%|██████████| 167/167 [00:25<00:00,  6.45it/s, loss=0.00549]\n",
            "Validation: 100%|██████████| 500/500 [00:32<00:00, 15.56it/s, accuracy=0.999]\n"
          ]
        },
        {
          "output_type": "stream",
          "name": "stdout",
          "text": [
            "Ding ding ding! We found a new best model!\n",
            "Epoch 50\n"
          ]
        },
        {
          "output_type": "stream",
          "name": "stderr",
          "text": [
            "Training: 100%|██████████| 167/167 [00:26<00:00,  6.34it/s, loss=0.00289]\n"
          ]
        },
        {
          "output_type": "stream",
          "name": "stdout",
          "text": [
            "Epoch 51\n"
          ]
        },
        {
          "output_type": "stream",
          "name": "stderr",
          "text": [
            "Training: 100%|██████████| 167/167 [00:26<00:00,  6.31it/s, loss=0.00253]\n"
          ]
        },
        {
          "output_type": "stream",
          "name": "stdout",
          "text": [
            "Epoch 52\n"
          ]
        },
        {
          "output_type": "stream",
          "name": "stderr",
          "text": [
            "Training: 100%|██████████| 167/167 [00:25<00:00,  6.45it/s, loss=0.00299]\n"
          ]
        },
        {
          "output_type": "stream",
          "name": "stdout",
          "text": [
            "Epoch 53\n"
          ]
        },
        {
          "output_type": "stream",
          "name": "stderr",
          "text": [
            "Training: 100%|██████████| 167/167 [00:25<00:00,  6.44it/s, loss=0.00304]\n"
          ]
        },
        {
          "output_type": "stream",
          "name": "stdout",
          "text": [
            "Epoch 54\n"
          ]
        },
        {
          "output_type": "stream",
          "name": "stderr",
          "text": [
            "Training: 100%|██████████| 167/167 [00:25<00:00,  6.53it/s, loss=0.0032]\n"
          ]
        },
        {
          "output_type": "stream",
          "name": "stdout",
          "text": [
            "Epoch 55\n"
          ]
        },
        {
          "output_type": "stream",
          "name": "stderr",
          "text": [
            "Training: 100%|██████████| 167/167 [00:25<00:00,  6.57it/s, loss=0.00313]\n"
          ]
        },
        {
          "output_type": "stream",
          "name": "stdout",
          "text": [
            "Epoch 56\n"
          ]
        },
        {
          "output_type": "stream",
          "name": "stderr",
          "text": [
            "Training: 100%|██████████| 167/167 [00:25<00:00,  6.49it/s, loss=0.00311]\n"
          ]
        },
        {
          "output_type": "stream",
          "name": "stdout",
          "text": [
            "Epoch 57\n"
          ]
        },
        {
          "output_type": "stream",
          "name": "stderr",
          "text": [
            "Training: 100%|██████████| 167/167 [00:25<00:00,  6.51it/s, loss=0.00307]\n"
          ]
        },
        {
          "output_type": "stream",
          "name": "stdout",
          "text": [
            "Epoch 58\n"
          ]
        },
        {
          "output_type": "stream",
          "name": "stderr",
          "text": [
            "Training: 100%|██████████| 167/167 [00:25<00:00,  6.47it/s, loss=0.00302]\n"
          ]
        },
        {
          "output_type": "stream",
          "name": "stdout",
          "text": [
            "Epoch 59\n"
          ]
        },
        {
          "output_type": "stream",
          "name": "stderr",
          "text": [
            "Training: 100%|██████████| 167/167 [00:25<00:00,  6.45it/s, loss=0.003]\n",
            "Validation: 100%|██████████| 500/500 [00:32<00:00, 15.27it/s, accuracy=1]\n"
          ]
        },
        {
          "output_type": "stream",
          "name": "stdout",
          "text": [
            "Ding ding ding! We found a new best model!\n",
            "Epoch 60\n"
          ]
        },
        {
          "output_type": "stream",
          "name": "stderr",
          "text": [
            "Training: 100%|██████████| 167/167 [00:25<00:00,  6.46it/s, loss=0.00294]\n"
          ]
        },
        {
          "output_type": "stream",
          "name": "stdout",
          "text": [
            "Epoch 61\n"
          ]
        },
        {
          "output_type": "stream",
          "name": "stderr",
          "text": [
            "Training: 100%|██████████| 167/167 [00:25<00:00,  6.42it/s, loss=0.306]\n"
          ]
        },
        {
          "output_type": "stream",
          "name": "stdout",
          "text": [
            "Epoch 62\n"
          ]
        },
        {
          "output_type": "stream",
          "name": "stderr",
          "text": [
            "Training: 100%|██████████| 167/167 [00:25<00:00,  6.55it/s, loss=0.146]\n"
          ]
        },
        {
          "output_type": "stream",
          "name": "stdout",
          "text": [
            "Epoch 63\n"
          ]
        },
        {
          "output_type": "stream",
          "name": "stderr",
          "text": [
            "Training: 100%|██████████| 167/167 [00:25<00:00,  6.55it/s, loss=0.0306]\n"
          ]
        },
        {
          "output_type": "stream",
          "name": "stdout",
          "text": [
            "Epoch 64\n"
          ]
        },
        {
          "output_type": "stream",
          "name": "stderr",
          "text": [
            "Training: 100%|██████████| 167/167 [00:25<00:00,  6.51it/s, loss=0.0253]\n"
          ]
        },
        {
          "output_type": "stream",
          "name": "stdout",
          "text": [
            "Epoch 65\n"
          ]
        },
        {
          "output_type": "stream",
          "name": "stderr",
          "text": [
            "Training: 100%|██████████| 167/167 [00:25<00:00,  6.47it/s, loss=0.0162]\n"
          ]
        },
        {
          "output_type": "stream",
          "name": "stdout",
          "text": [
            "Epoch 66\n"
          ]
        },
        {
          "output_type": "stream",
          "name": "stderr",
          "text": [
            "Training: 100%|██████████| 167/167 [00:25<00:00,  6.48it/s, loss=0.00822]\n"
          ]
        },
        {
          "output_type": "stream",
          "name": "stdout",
          "text": [
            "Epoch 67\n"
          ]
        },
        {
          "output_type": "stream",
          "name": "stderr",
          "text": [
            "Training: 100%|██████████| 167/167 [00:26<00:00,  6.42it/s, loss=0.0173]\n"
          ]
        },
        {
          "output_type": "stream",
          "name": "stdout",
          "text": [
            "Epoch 68\n"
          ]
        },
        {
          "output_type": "stream",
          "name": "stderr",
          "text": [
            "Training: 100%|██████████| 167/167 [00:25<00:00,  6.48it/s, loss=0.0206]\n"
          ]
        },
        {
          "output_type": "stream",
          "name": "stdout",
          "text": [
            "Epoch 69\n"
          ]
        },
        {
          "output_type": "stream",
          "name": "stderr",
          "text": [
            "Training: 100%|██████████| 167/167 [00:25<00:00,  6.54it/s, loss=0.012]\n",
            "Validation: 100%|██████████| 500/500 [00:32<00:00, 15.45it/s, accuracy=0.996]\n"
          ]
        },
        {
          "output_type": "stream",
          "name": "stdout",
          "text": [
            "Epoch 70\n"
          ]
        },
        {
          "output_type": "stream",
          "name": "stderr",
          "text": [
            "Training: 100%|██████████| 167/167 [00:25<00:00,  6.44it/s, loss=0.0155]\n"
          ]
        },
        {
          "output_type": "stream",
          "name": "stdout",
          "text": [
            "Epoch 71\n"
          ]
        },
        {
          "output_type": "stream",
          "name": "stderr",
          "text": [
            "Training: 100%|██████████| 167/167 [00:25<00:00,  6.46it/s, loss=0.0218]\n"
          ]
        },
        {
          "output_type": "stream",
          "name": "stdout",
          "text": [
            "Epoch 72\n"
          ]
        },
        {
          "output_type": "stream",
          "name": "stderr",
          "text": [
            "Training: 100%|██████████| 167/167 [00:25<00:00,  6.63it/s, loss=0.0199]\n"
          ]
        },
        {
          "output_type": "stream",
          "name": "stdout",
          "text": [
            "Epoch 73\n"
          ]
        },
        {
          "output_type": "stream",
          "name": "stderr",
          "text": [
            "Training: 100%|██████████| 167/167 [00:25<00:00,  6.49it/s, loss=0.0175]\n"
          ]
        },
        {
          "output_type": "stream",
          "name": "stdout",
          "text": [
            "Epoch 74\n"
          ]
        },
        {
          "output_type": "stream",
          "name": "stderr",
          "text": [
            "Training: 100%|██████████| 167/167 [00:25<00:00,  6.45it/s, loss=0.0105]\n"
          ]
        },
        {
          "output_type": "stream",
          "name": "stdout",
          "text": [
            "Epoch 75\n"
          ]
        },
        {
          "output_type": "stream",
          "name": "stderr",
          "text": [
            "Training: 100%|██████████| 167/167 [00:25<00:00,  6.51it/s, loss=0.0196]\n"
          ]
        },
        {
          "output_type": "stream",
          "name": "stdout",
          "text": [
            "Epoch 76\n"
          ]
        },
        {
          "output_type": "stream",
          "name": "stderr",
          "text": [
            "Training: 100%|██████████| 167/167 [00:25<00:00,  6.44it/s, loss=0.00618]\n"
          ]
        },
        {
          "output_type": "stream",
          "name": "stdout",
          "text": [
            "Epoch 77\n"
          ]
        },
        {
          "output_type": "stream",
          "name": "stderr",
          "text": [
            "Training: 100%|██████████| 167/167 [00:25<00:00,  6.52it/s, loss=0.00214]\n"
          ]
        },
        {
          "output_type": "stream",
          "name": "stdout",
          "text": [
            "Epoch 78\n"
          ]
        },
        {
          "output_type": "stream",
          "name": "stderr",
          "text": [
            "Training: 100%|██████████| 167/167 [00:25<00:00,  6.49it/s, loss=0.00266]\n"
          ]
        },
        {
          "output_type": "stream",
          "name": "stdout",
          "text": [
            "Epoch 79\n"
          ]
        },
        {
          "output_type": "stream",
          "name": "stderr",
          "text": [
            "Training: 100%|██████████| 167/167 [00:25<00:00,  6.51it/s, loss=0.00305]\n",
            "Validation: 100%|██████████| 500/500 [00:33<00:00, 15.10it/s, accuracy=0.999]\n"
          ]
        },
        {
          "output_type": "stream",
          "name": "stdout",
          "text": [
            "Epoch 80\n"
          ]
        },
        {
          "output_type": "stream",
          "name": "stderr",
          "text": [
            "Training: 100%|██████████| 167/167 [00:25<00:00,  6.48it/s, loss=0.00319]\n"
          ]
        },
        {
          "output_type": "stream",
          "name": "stdout",
          "text": [
            "Epoch 81\n"
          ]
        },
        {
          "output_type": "stream",
          "name": "stderr",
          "text": [
            "Training: 100%|██████████| 167/167 [00:25<00:00,  6.46it/s, loss=0.00319]\n"
          ]
        },
        {
          "output_type": "stream",
          "name": "stdout",
          "text": [
            "Epoch 82\n"
          ]
        },
        {
          "output_type": "stream",
          "name": "stderr",
          "text": [
            "Training: 100%|██████████| 167/167 [00:26<00:00,  6.42it/s, loss=0.00326]\n"
          ]
        },
        {
          "output_type": "stream",
          "name": "stdout",
          "text": [
            "Epoch 83\n"
          ]
        },
        {
          "output_type": "stream",
          "name": "stderr",
          "text": [
            "Training: 100%|██████████| 167/167 [00:25<00:00,  6.46it/s, loss=0.00314]\n"
          ]
        },
        {
          "output_type": "stream",
          "name": "stdout",
          "text": [
            "Epoch 84\n"
          ]
        },
        {
          "output_type": "stream",
          "name": "stderr",
          "text": [
            "Training: 100%|██████████| 167/167 [00:25<00:00,  6.47it/s, loss=0.00307]\n"
          ]
        },
        {
          "output_type": "stream",
          "name": "stdout",
          "text": [
            "Epoch 85\n"
          ]
        },
        {
          "output_type": "stream",
          "name": "stderr",
          "text": [
            "Training: 100%|██████████| 167/167 [00:25<00:00,  6.48it/s, loss=0.00318]\n"
          ]
        },
        {
          "output_type": "stream",
          "name": "stdout",
          "text": [
            "Epoch 86\n"
          ]
        },
        {
          "output_type": "stream",
          "name": "stderr",
          "text": [
            "Training: 100%|██████████| 167/167 [00:25<00:00,  6.50it/s, loss=0.257]\n"
          ]
        },
        {
          "output_type": "stream",
          "name": "stdout",
          "text": [
            "Epoch 87\n"
          ]
        },
        {
          "output_type": "stream",
          "name": "stderr",
          "text": [
            "Training: 100%|██████████| 167/167 [00:25<00:00,  6.60it/s, loss=0.0361]\n"
          ]
        },
        {
          "output_type": "stream",
          "name": "stdout",
          "text": [
            "Epoch 88\n"
          ]
        },
        {
          "output_type": "stream",
          "name": "stderr",
          "text": [
            "Training: 100%|██████████| 167/167 [00:25<00:00,  6.52it/s, loss=0.0197]\n"
          ]
        },
        {
          "output_type": "stream",
          "name": "stdout",
          "text": [
            "Epoch 89\n"
          ]
        },
        {
          "output_type": "stream",
          "name": "stderr",
          "text": [
            "Training: 100%|██████████| 167/167 [00:25<00:00,  6.53it/s, loss=0.0139]\n",
            "Validation: 100%|██████████| 500/500 [00:32<00:00, 15.52it/s, accuracy=0.997]\n"
          ]
        },
        {
          "output_type": "stream",
          "name": "stdout",
          "text": [
            "Epoch 90\n"
          ]
        },
        {
          "output_type": "stream",
          "name": "stderr",
          "text": [
            "Training: 100%|██████████| 167/167 [00:25<00:00,  6.44it/s, loss=0.00369]\n"
          ]
        },
        {
          "output_type": "stream",
          "name": "stdout",
          "text": [
            "Epoch 91\n"
          ]
        },
        {
          "output_type": "stream",
          "name": "stderr",
          "text": [
            "Training: 100%|██████████| 167/167 [00:25<00:00,  6.47it/s, loss=0.00232]\n"
          ]
        },
        {
          "output_type": "stream",
          "name": "stdout",
          "text": [
            "Epoch 92\n"
          ]
        },
        {
          "output_type": "stream",
          "name": "stderr",
          "text": [
            "Training: 100%|██████████| 167/167 [00:25<00:00,  6.50it/s, loss=0.00279]\n"
          ]
        },
        {
          "output_type": "stream",
          "name": "stdout",
          "text": [
            "Epoch 93\n"
          ]
        },
        {
          "output_type": "stream",
          "name": "stderr",
          "text": [
            "Training: 100%|██████████| 167/167 [00:25<00:00,  6.45it/s, loss=0.00317]\n"
          ]
        },
        {
          "output_type": "stream",
          "name": "stdout",
          "text": [
            "Epoch 94\n"
          ]
        },
        {
          "output_type": "stream",
          "name": "stderr",
          "text": [
            "Training: 100%|██████████| 167/167 [00:25<00:00,  6.49it/s, loss=0.00321]\n"
          ]
        },
        {
          "output_type": "stream",
          "name": "stdout",
          "text": [
            "Epoch 95\n"
          ]
        },
        {
          "output_type": "stream",
          "name": "stderr",
          "text": [
            "Training: 100%|██████████| 167/167 [00:25<00:00,  6.64it/s, loss=0.00337]\n"
          ]
        },
        {
          "output_type": "stream",
          "name": "stdout",
          "text": [
            "Epoch 96\n"
          ]
        },
        {
          "output_type": "stream",
          "name": "stderr",
          "text": [
            "Training: 100%|██████████| 167/167 [00:25<00:00,  6.49it/s, loss=0.00338]\n"
          ]
        },
        {
          "output_type": "stream",
          "name": "stdout",
          "text": [
            "Epoch 97\n"
          ]
        },
        {
          "output_type": "stream",
          "name": "stderr",
          "text": [
            "Training: 100%|██████████| 167/167 [00:25<00:00,  6.51it/s, loss=0.00323]\n"
          ]
        },
        {
          "output_type": "stream",
          "name": "stdout",
          "text": [
            "Epoch 98\n"
          ]
        },
        {
          "output_type": "stream",
          "name": "stderr",
          "text": [
            "Training: 100%|██████████| 167/167 [00:26<00:00,  6.40it/s, loss=0.00324]\n"
          ]
        },
        {
          "output_type": "stream",
          "name": "stdout",
          "text": [
            "Epoch 99\n"
          ]
        },
        {
          "output_type": "stream",
          "name": "stderr",
          "text": [
            "Training: 100%|██████████| 167/167 [00:26<00:00,  6.41it/s, loss=0.00313]\n",
            "Validation: 100%|██████████| 500/500 [00:32<00:00, 15.25it/s, accuracy=0.999]\n"
          ]
        },
        {
          "output_type": "stream",
          "name": "stdout",
          "text": [
            "Epoch 100\n"
          ]
        },
        {
          "output_type": "stream",
          "name": "stderr",
          "text": [
            "Training: 100%|██████████| 167/167 [00:26<00:00,  6.41it/s, loss=0.00329]\n"
          ]
        },
        {
          "output_type": "stream",
          "name": "stdout",
          "text": [
            "Epoch 101\n"
          ]
        },
        {
          "output_type": "stream",
          "name": "stderr",
          "text": [
            "Training: 100%|██████████| 167/167 [00:26<00:00,  6.40it/s, loss=0.0273]\n"
          ]
        },
        {
          "output_type": "stream",
          "name": "stdout",
          "text": [
            "Epoch 102\n"
          ]
        },
        {
          "output_type": "stream",
          "name": "stderr",
          "text": [
            "Training: 100%|██████████| 167/167 [00:25<00:00,  6.52it/s, loss=0.253]\n"
          ]
        },
        {
          "output_type": "stream",
          "name": "stdout",
          "text": [
            "Epoch 103\n"
          ]
        },
        {
          "output_type": "stream",
          "name": "stderr",
          "text": [
            "Training: 100%|██████████| 167/167 [00:25<00:00,  6.57it/s, loss=0.0435]\n"
          ]
        },
        {
          "output_type": "stream",
          "name": "stdout",
          "text": [
            "Epoch 104\n"
          ]
        },
        {
          "output_type": "stream",
          "name": "stderr",
          "text": [
            "Training: 100%|██████████| 167/167 [00:25<00:00,  6.58it/s, loss=0.0209]\n"
          ]
        },
        {
          "output_type": "stream",
          "name": "stdout",
          "text": [
            "Epoch 105\n"
          ]
        },
        {
          "output_type": "stream",
          "name": "stderr",
          "text": [
            "Training: 100%|██████████| 167/167 [00:25<00:00,  6.48it/s, loss=0.0144]\n"
          ]
        },
        {
          "output_type": "stream",
          "name": "stdout",
          "text": [
            "Epoch 106\n"
          ]
        },
        {
          "output_type": "stream",
          "name": "stderr",
          "text": [
            "Training: 100%|██████████| 167/167 [00:25<00:00,  6.50it/s, loss=0.013]\n"
          ]
        },
        {
          "output_type": "stream",
          "name": "stdout",
          "text": [
            "Epoch 107\n"
          ]
        },
        {
          "output_type": "stream",
          "name": "stderr",
          "text": [
            "Training: 100%|██████████| 167/167 [00:25<00:00,  6.53it/s, loss=0.0125]\n"
          ]
        },
        {
          "output_type": "stream",
          "name": "stdout",
          "text": [
            "Epoch 108\n"
          ]
        },
        {
          "output_type": "stream",
          "name": "stderr",
          "text": [
            "Training: 100%|██████████| 167/167 [00:25<00:00,  6.52it/s, loss=0.00588]\n"
          ]
        },
        {
          "output_type": "stream",
          "name": "stdout",
          "text": [
            "Epoch 109\n"
          ]
        },
        {
          "output_type": "stream",
          "name": "stderr",
          "text": [
            "Training: 100%|██████████| 167/167 [00:25<00:00,  6.59it/s, loss=0.00254]\n",
            "Validation:   4%|▍         | 20/500 [00:01<00:36, 13.21it/s, accuracy=1]"
          ]
        }
      ]
    },
    {
      "cell_type": "code",
      "source": [
        "model.load_state_dict(torch.load('/content/drive/MyDrive/pr_final_presentation/weights/Finetune_5_5.pth'))"
      ],
      "metadata": {
        "id": "NN0_lh_282Yd"
      },
      "execution_count": null,
      "outputs": []
    },
    {
      "cell_type": "code",
      "source": [
        "n_test_tasks = 1000\n",
        "\n",
        "# test_set = CUB(split=\"test\", training=False)\n",
        "\n",
        "test_set = torchvision.datasets.GTSRB(\n",
        "    root='./data',\n",
        "    split='test',\n",
        "    transform=torchvision.transforms.Compose(\n",
        "        [\n",
        "            torchvision.transforms.ToTensor(),\n",
        "            torchvision.transforms.Resize([image_size,image_size]),\n",
        "        ]\n",
        "    ),\n",
        "    target_transform=None,\n",
        "    download=True\n",
        "    )\n",
        "\n",
        "test_set.get_labels = lambda: [\n",
        "    instance[1] for instance in test_set\n",
        "]\n",
        "\n",
        "test_sampler = TaskSampler(\n",
        "    test_set, n_way=n_way, n_shot=n_shot, n_query=n_query, n_tasks=n_test_tasks\n",
        ")\n",
        "test_loader = DataLoader(\n",
        "    test_set,\n",
        "    batch_sampler=test_sampler,\n",
        "    num_workers=n_workers,\n",
        "    pin_memory=True,\n",
        "    collate_fn=test_sampler.episodic_collate_fn,\n",
        ")"
      ],
      "metadata": {
        "id": "5-v5BZWJ84-b"
      },
      "execution_count": null,
      "outputs": []
    },
    {
      "cell_type": "code",
      "source": [
        "model.set_use_fc(False)\n",
        "few_shot_classifier.backbone.requires_grad_(False)\n",
        "accuracy = evaluate(few_shot_classifier, test_loader, device=DEVICE)\n",
        "print(f\"Average accuracy : {(100 * accuracy):.2f} %\")"
      ],
      "metadata": {
        "id": "dqsJHzzC85vi"
      },
      "execution_count": null,
      "outputs": []
    }
  ]
}