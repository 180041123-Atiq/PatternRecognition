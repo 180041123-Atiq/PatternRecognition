{
 "cells": [
  {
   "cell_type": "code",
   "execution_count": 1,
   "metadata": {
    "colab": {
     "base_uri": "https://localhost:8080/"
    },
    "id": "b1aRFZG5nKhh",
    "outputId": "49d359c5-650a-43ec-f9cb-92fb840bae8e"
   },
   "outputs": [
    {
     "name": "stdout",
     "output_type": "stream",
     "text": [
      "Mounted at /content/drive\n"
     ]
    }
   ],
   "source": [
    "from google.colab import drive\n",
    "drive.mount('/content/drive')"
   ]
  },
  {
   "cell_type": "code",
   "execution_count": 1,
   "metadata": {
    "id": "nIW7j3arDwx5"
   },
   "outputs": [],
   "source": [
    "try:\n",
    "    import google.colab\n",
    "    colab = True\n",
    "except:\n",
    "    colab = False"
   ]
  },
  {
   "cell_type": "code",
   "execution_count": 2,
   "metadata": {
    "colab": {
     "base_uri": "https://localhost:8080/"
    },
    "id": "22Xq84ZfEte5",
    "outputId": "ac397b14-d9b7-450e-bbca-e7244db2c6ea"
   },
   "outputs": [
    {
     "name": "stdout",
     "output_type": "stream",
     "text": [
      "Cloning into 'easy-few-shot-learning'...\n",
      "remote: Enumerating objects: 1064, done.\u001b[K\n",
      "remote: Counting objects: 100% (322/322), done.\u001b[K\n",
      "remote: Compressing objects: 100% (176/176), done.\u001b[K\n",
      "remote: Total 1064 (delta 209), reused 152 (delta 146), pack-reused 742\u001b[K\n",
      "Receiving objects: 100% (1064/1064), 2.28 MiB | 3.00 MiB/s, done.\n",
      "Resolving deltas: 100% (618/618), done.\n",
      "/home/cse/FIneTune/PatternRecognition/easy-few-shot-learning\n",
      "Processing /home/cse/FIneTune/PatternRecognition/easy-few-shot-learning\n",
      "  Installing build dependencies ... \u001b[?25ldone\n",
      "\u001b[?25h  Getting requirements to build wheel ... \u001b[?25ldone\n",
      "\u001b[?25h  Preparing metadata (pyproject.toml) ... \u001b[?25ldone\n",
      "\u001b[?25hRequirement already satisfied: torch>=1.4.0 in /home/cse/anaconda3/envs/farhan_traffic/lib/python3.7/site-packages (from easyfsl==1.3.0) (1.13.1)\n",
      "Requirement already satisfied: pandas>=1.3.0 in /home/cse/anaconda3/envs/farhan_traffic/lib/python3.7/site-packages (from easyfsl==1.3.0) (1.3.5)\n",
      "Requirement already satisfied: matplotlib>=3.0.0 in /home/cse/anaconda3/envs/farhan_traffic/lib/python3.7/site-packages (from easyfsl==1.3.0) (3.5.3)\n",
      "Requirement already satisfied: tqdm>=4.1.0 in /home/cse/anaconda3/envs/farhan_traffic/lib/python3.7/site-packages (from easyfsl==1.3.0) (4.65.0)\n",
      "Requirement already satisfied: torchvision>=0.7.0 in /home/cse/anaconda3/envs/farhan_traffic/lib/python3.7/site-packages (from easyfsl==1.3.0) (0.14.1)\n",
      "Requirement already satisfied: pyparsing>=2.2.1 in /home/cse/anaconda3/envs/farhan_traffic/lib/python3.7/site-packages (from matplotlib>=3.0.0->easyfsl==1.3.0) (3.0.9)\n",
      "Requirement already satisfied: pillow>=6.2.0 in /home/cse/anaconda3/envs/farhan_traffic/lib/python3.7/site-packages (from matplotlib>=3.0.0->easyfsl==1.3.0) (9.5.0)\n",
      "Requirement already satisfied: cycler>=0.10 in /home/cse/anaconda3/envs/farhan_traffic/lib/python3.7/site-packages (from matplotlib>=3.0.0->easyfsl==1.3.0) (0.11.0)\n",
      "Requirement already satisfied: fonttools>=4.22.0 in /home/cse/anaconda3/envs/farhan_traffic/lib/python3.7/site-packages (from matplotlib>=3.0.0->easyfsl==1.3.0) (4.38.0)\n",
      "Requirement already satisfied: python-dateutil>=2.7 in /home/cse/anaconda3/envs/farhan_traffic/lib/python3.7/site-packages (from matplotlib>=3.0.0->easyfsl==1.3.0) (2.8.2)\n",
      "Requirement already satisfied: numpy>=1.17 in /home/cse/anaconda3/envs/farhan_traffic/lib/python3.7/site-packages (from matplotlib>=3.0.0->easyfsl==1.3.0) (1.21.6)\n",
      "Requirement already satisfied: packaging>=20.0 in /home/cse/anaconda3/envs/farhan_traffic/lib/python3.7/site-packages (from matplotlib>=3.0.0->easyfsl==1.3.0) (23.1)\n",
      "Requirement already satisfied: kiwisolver>=1.0.1 in /home/cse/anaconda3/envs/farhan_traffic/lib/python3.7/site-packages (from matplotlib>=3.0.0->easyfsl==1.3.0) (1.4.4)\n",
      "Requirement already satisfied: pytz>=2017.3 in /home/cse/anaconda3/envs/farhan_traffic/lib/python3.7/site-packages (from pandas>=1.3.0->easyfsl==1.3.0) (2023.3)\n",
      "Requirement already satisfied: nvidia-cublas-cu11==11.10.3.66 in /home/cse/anaconda3/envs/farhan_traffic/lib/python3.7/site-packages (from torch>=1.4.0->easyfsl==1.3.0) (11.10.3.66)\n",
      "Requirement already satisfied: nvidia-cuda-runtime-cu11==11.7.99 in /home/cse/anaconda3/envs/farhan_traffic/lib/python3.7/site-packages (from torch>=1.4.0->easyfsl==1.3.0) (11.7.99)\n",
      "Requirement already satisfied: nvidia-cuda-nvrtc-cu11==11.7.99 in /home/cse/anaconda3/envs/farhan_traffic/lib/python3.7/site-packages (from torch>=1.4.0->easyfsl==1.3.0) (11.7.99)\n",
      "Requirement already satisfied: nvidia-cudnn-cu11==8.5.0.96 in /home/cse/anaconda3/envs/farhan_traffic/lib/python3.7/site-packages (from torch>=1.4.0->easyfsl==1.3.0) (8.5.0.96)\n",
      "Requirement already satisfied: typing-extensions in /home/cse/anaconda3/envs/farhan_traffic/lib/python3.7/site-packages (from torch>=1.4.0->easyfsl==1.3.0) (4.5.0)\n",
      "Requirement already satisfied: setuptools in /home/cse/anaconda3/envs/farhan_traffic/lib/python3.7/site-packages (from nvidia-cublas-cu11==11.10.3.66->torch>=1.4.0->easyfsl==1.3.0) (65.6.3)\n",
      "Requirement already satisfied: wheel in /home/cse/anaconda3/envs/farhan_traffic/lib/python3.7/site-packages (from nvidia-cublas-cu11==11.10.3.66->torch>=1.4.0->easyfsl==1.3.0) (0.38.4)\n",
      "Requirement already satisfied: requests in /home/cse/anaconda3/envs/farhan_traffic/lib/python3.7/site-packages (from torchvision>=0.7.0->easyfsl==1.3.0) (2.30.0)\n",
      "Requirement already satisfied: six>=1.5 in /home/cse/anaconda3/envs/farhan_traffic/lib/python3.7/site-packages (from python-dateutil>=2.7->matplotlib>=3.0.0->easyfsl==1.3.0) (1.16.0)\n",
      "Requirement already satisfied: urllib3<3,>=1.21.1 in /home/cse/anaconda3/envs/farhan_traffic/lib/python3.7/site-packages (from requests->torchvision>=0.7.0->easyfsl==1.3.0) (1.26.15)\n",
      "Requirement already satisfied: charset-normalizer<4,>=2 in /home/cse/anaconda3/envs/farhan_traffic/lib/python3.7/site-packages (from requests->torchvision>=0.7.0->easyfsl==1.3.0) (3.1.0)\n",
      "Requirement already satisfied: certifi>=2017.4.17 in /home/cse/anaconda3/envs/farhan_traffic/lib/python3.7/site-packages (from requests->torchvision>=0.7.0->easyfsl==1.3.0) (2023.5.7)\n",
      "Requirement already satisfied: idna<4,>=2.5 in /home/cse/anaconda3/envs/farhan_traffic/lib/python3.7/site-packages (from requests->torchvision>=0.7.0->easyfsl==1.3.0) (3.4)\n",
      "Building wheels for collected packages: easyfsl\n",
      "  Building wheel for easyfsl (pyproject.toml) ... \u001b[?25ldone\n",
      "\u001b[?25h  Created wheel for easyfsl: filename=easyfsl-1.3.0-py3-none-any.whl size=52364 sha256=c3a5f6d6ab66632909e5ba5311793148d85b16df395d134419c3e08173b15d92\n",
      "  Stored in directory: /home/cse/.cache/pip/wheels/20/1e/11/d1cfe6477a5be5cbf2bc4c3a0c04d0c294067fb5646e7ac815\n",
      "Successfully built easyfsl\n",
      "Installing collected packages: easyfsl\n",
      "  Attempting uninstall: easyfsl\n",
      "    Found existing installation: easyfsl 1.3.0\n",
      "    Uninstalling easyfsl-1.3.0:\n",
      "      Successfully uninstalled easyfsl-1.3.0\n",
      "Successfully installed easyfsl-1.3.0\n"
     ]
    }
   ],
   "source": [
    "if colab is True:\n",
    "    # Running in Google Colab\n",
    "    # Clone the repo\n",
    "    !git clone https://github.com/sicara/easy-few-shot-learning\n",
    "    %cd easy-few-shot-learning\n",
    "    !pip install .\n",
    "else:\n",
    "    # Run locally\n",
    "    # Ensure working directory is the project's root\n",
    "    # Make sure easyfsl is installed!\n",
    "    !git clone https://github.com/sicara/easy-few-shot-learning\n",
    "    %cd easy-few-shot-learning\n",
    "    !pip install ."
   ]
  },
  {
   "cell_type": "code",
   "execution_count": 4,
   "metadata": {
    "id": "xLFVGatBE7fJ"
   },
   "outputs": [],
   "source": [
    "from pathlib import Path\n",
    "import random\n",
    "from statistics import mean\n",
    "\n",
    "import numpy as np\n",
    "import torch\n",
    "from torch import nn\n",
    "from tqdm import tqdm\n",
    "import torchvision\n",
    "import torch.utils.data"
   ]
  },
  {
   "cell_type": "code",
   "execution_count": 5,
   "metadata": {
    "id": "dlcowttkFL0Z"
   },
   "outputs": [],
   "source": [
    "random_seed = 0\n",
    "np.random.seed(random_seed)\n",
    "torch.manual_seed(random_seed)\n",
    "random.seed(random_seed)\n",
    "torch.backends.cudnn.deterministic = True\n",
    "torch.backends.cudnn.benchmark = False"
   ]
  },
  {
   "cell_type": "code",
   "execution_count": 22,
   "metadata": {
    "colab": {
     "base_uri": "https://localhost:8080/"
    },
    "id": "rbzzfTkzRRAU",
    "outputId": "dbbec700-4e38-4efa-df7a-7c6c95f5396d"
   },
   "outputs": [
    {
     "name": "stdout",
     "output_type": "stream",
     "text": [
      "Downloading https://sid.erda.dk/public/archives/daaeac0d7ce1152aea9b61d9f1e19370/GTSRB-Training_fixed.zip to /home/cse/FIneTune/PatternRecognition/data/gtsrb/GTSRB-Training_fixed.zip\n"
     ]
    },
    {
     "data": {
      "application/vnd.jupyter.widget-view+json": {
       "model_id": "98f2bd31a1a34b6381b96111cbf4dcfb",
       "version_major": 2,
       "version_minor": 0
      },
      "text/plain": [
       "  0%|          | 0/187490228 [00:00<?, ?it/s]"
      ]
     },
     "metadata": {},
     "output_type": "display_data"
    },
    {
     "name": "stdout",
     "output_type": "stream",
     "text": [
      "Extracting /home/cse/FIneTune/PatternRecognition/data/gtsrb/GTSRB-Training_fixed.zip to /home/cse/FIneTune/PatternRecognition/data/gtsrb\n"
     ]
    }
   ],
   "source": [
    "image_size = 28\n",
    "\n",
    "# Instantiate the datasets\n",
    "train_set = torchvision.datasets.GTSRB(\n",
    "    root='/home/cse/FIneTune/PatternRecognition/data',\n",
    "    split='train',\n",
    "    transform=torchvision.transforms.Compose(\n",
    "        [\n",
    "            torchvision.transforms.ToTensor(),\n",
    "            torchvision.transforms.Resize([image_size,image_size]),\n",
    "        ]\n",
    "    ),\n",
    "    target_transform=None,\n",
    "    download=True)"
   ]
  },
  {
   "cell_type": "code",
   "execution_count": 23,
   "metadata": {
    "id": "-7hcv1klRdtM"
   },
   "outputs": [],
   "source": [
    "!mkdir /home/cse/FIneTune/PatternRecognition/data/gtsrb/GTSRB/Testing\n",
    "\n",
    "!mv /home/cse/FIneTune/PatternRecognition/data/gtsrb/GTSRB/Training/00021 /home/cse/FIneTune/PatternRecognition/data/gtsrb/GTSRB/Testing\n",
    "!mv /home/cse/FIneTune/PatternRecognition/data/gtsrb/GTSRB/Training/00037 /home/cse/FIneTune/PatternRecognition/data/gtsrb/GTSRB/Testing\n",
    "!mv /home/cse/FIneTune/PatternRecognition/data/gtsrb/GTSRB/Training/00042 /home/cse/FIneTune/PatternRecognition/data/gtsrb/GTSRB/Testing\n",
    "!mv /home/cse/FIneTune/PatternRecognition/data/gtsrb/GTSRB/Training/00016 /home/cse/FIneTune/PatternRecognition/data/gtsrb/GTSRB/Testing\n",
    "!mv /home/cse/FIneTune/PatternRecognition/data/gtsrb/GTSRB/Training/00006 /home/cse/FIneTune/PatternRecognition/data/gtsrb/GTSRB/Testing\n",
    "!mv /home/cse/FIneTune/PatternRecognition/data/gtsrb/GTSRB/Training/00005 /home/cse/FIneTune/PatternRecognition/data/gtsrb/GTSRB/Testing\n",
    "!mv /home/cse/FIneTune/PatternRecognition/data/gtsrb/GTSRB/Training/00004 /home/cse/FIneTune/PatternRecognition/data/gtsrb/GTSRB/Testing\n",
    "!mv /home/cse/FIneTune/PatternRecognition/data/gtsrb/GTSRB/Training/00035 /home/cse/FIneTune/PatternRecognition/data/gtsrb/GTSRB/Testing\n",
    "!mv /home/cse/FIneTune/PatternRecognition/data/gtsrb/GTSRB/Training/00000 /home/cse/FIneTune/PatternRecognition/data/gtsrb/GTSRB/Testing\n",
    "!mv /home/cse/FIneTune/PatternRecognition/data/gtsrb/GTSRB/Training/00029 /home/cse/FIneTune/PatternRecognition/data/gtsrb/GTSRB/Testing\n",
    "!mv /home/cse/FIneTune/PatternRecognition/data/gtsrb/GTSRB/Training/00010 /home/cse/FIneTune/PatternRecognition/data/gtsrb/GTSRB/Testing\n",
    "!mv /home/cse/FIneTune/PatternRecognition/data/gtsrb/GTSRB/Training/00012 /home/cse/FIneTune/PatternRecognition/data/gtsrb/GTSRB/Testing\n",
    "!mv /home/cse/FIneTune/PatternRecognition/data/gtsrb/GTSRB/Training/00040 /home/cse/FIneTune/PatternRecognition/data/gtsrb/GTSRB/Testing\n",
    "!mv /home/cse/FIneTune/PatternRecognition/data/gtsrb/GTSRB/Training/00009 /home/cse/FIneTune/PatternRecognition/data/gtsrb/GTSRB/Testing\n",
    "!mv /home/cse/FIneTune/PatternRecognition/data/gtsrb/GTSRB/Training/00036 /home/cse/FIneTune/PatternRecognition/data/gtsrb/GTSRB/Testing\n",
    "!mv /home/cse/FIneTune/PatternRecognition/data/gtsrb/GTSRB/Training/00031 /home/cse/FIneTune/PatternRecognition/data/gtsrb/GTSRB/Testing\n",
    "!mv /home/cse/FIneTune/PatternRecognition/data/gtsrb/GTSRB/Training/00041 /home/cse/FIneTune/PatternRecognition/data/gtsrb/GTSRB/Testing\n",
    "!mv /home/cse/FIneTune/PatternRecognition/data/gtsrb/GTSRB/Training/00018 /home/cse/FIneTune/PatternRecognition/data/gtsrb/GTSRB/Testing"
   ]
  },
  {
   "cell_type": "code",
   "execution_count": 8,
   "metadata": {},
   "outputs": [],
   "source": [
    "import os\n",
    "\n",
    "old_folder_name = '/home/cse/FIneTune/PatternRecognition/data/gtsrb/GTSRB/Training'\n",
    "new_folder_name = '/home/cse/FIneTune/PatternRecognition/data/gtsrb/GTSRB/Trainingg'\n",
    "\n",
    "# Rename the folder\n",
    "os.rename(old_folder_name, new_folder_name)\n",
    "\n",
    "old_folder_name = '/home/cse/FIneTune/PatternRecognition/data/gtsrb/GTSRB/Testing'\n",
    "new_folder_name = '/home/cse/FIneTune/PatternRecognition/data/gtsrb/GTSRB/Training'\n",
    "\n",
    "# Rename the folder\n",
    "os.rename(old_folder_name, new_folder_name)"
   ]
  },
  {
   "cell_type": "code",
   "execution_count": 17,
   "metadata": {},
   "outputs": [
    {
     "name": "stderr",
     "output_type": "stream",
     "text": [
      "2023-05-21 04:33:37.256991: I tensorflow/core/platform/cpu_feature_guard.cc:193] This TensorFlow binary is optimized with oneAPI Deep Neural Network Library (oneDNN) to use the following CPU instructions in performance-critical operations:  AVX2 AVX_VNNI FMA\n",
      "To enable them in other operations, rebuild TensorFlow with the appropriate compiler flags.\n",
      "2023-05-21 04:33:37.342584: I tensorflow/core/util/port.cc:104] oneDNN custom operations are on. You may see slightly different numerical results due to floating-point round-off errors from different computation orders. To turn them off, set the environment variable `TF_ENABLE_ONEDNN_OPTS=0`.\n",
      "2023-05-21 04:33:37.696120: W tensorflow/compiler/xla/stream_executor/platform/default/dso_loader.cc:64] Could not load dynamic library 'libnvinfer.so.7'; dlerror: libnvinfer.so.7: cannot open shared object file: No such file or directory\n",
      "2023-05-21 04:33:37.696157: W tensorflow/compiler/xla/stream_executor/platform/default/dso_loader.cc:64] Could not load dynamic library 'libnvinfer_plugin.so.7'; dlerror: libnvinfer_plugin.so.7: cannot open shared object file: No such file or directory\n",
      "2023-05-21 04:33:37.696161: W tensorflow/compiler/tf2tensorrt/utils/py_utils.cc:38] TF-TRT Warning: Cannot dlopen some TensorRT libraries. If you would like to use Nvidia GPU with TensorRT, please make sure the missing libraries mentioned above are installed properly.\n"
     ]
    }
   ],
   "source": [
    "from pathlib import Path\n",
    "import random\n",
    "from statistics import mean\n",
    "\n",
    "import numpy as np\n",
    "import torch\n",
    "from torch import nn\n",
    "from tqdm import tqdm\n",
    "\n",
    "import torch\n",
    "import numpy as np\n",
    "from torch import nn, optim\n",
    "from torch.utils.data import DataLoader\n",
    "from torchvision import transforms\n",
    "from torchvision.datasets import GTSRB\n",
    "from torchvision.models import resnet18\n",
    "from tqdm import tqdm\n",
    "\n",
    "from easyfsl.samplers import TaskSampler\n",
    "from easyfsl.utils import plot_images, sliding_average\n",
    "\n",
    "from keras.preprocessing.image import ImageDataGenerator\n",
    "import keras\n",
    "from urllib.request import urlretrieve\n",
    "import zipfile\n",
    "import time\n",
    "import matplotlib.pyplot as plt\n",
    "import numpy as np"
   ]
  },
  {
   "cell_type": "code",
   "execution_count": 24,
   "metadata": {},
   "outputs": [],
   "source": [
    "import shutil\n",
    "folder_path = \"/home/cse/FIneTune/PatternRecognition/data/gtsrb/GTSRB/Training\"\n",
    "shutil.rmtree(folder_path)\n",
    "# folder_path = \"/content/data/gtsrb/GTSRB/Testing\"\n",
    "# shutil.rmtree(folder_path)"
   ]
  },
  {
   "cell_type": "code",
   "execution_count": 52,
   "metadata": {},
   "outputs": [
    {
     "name": "stdout",
     "output_type": "stream",
     "text": [
      "Download Datasets\n",
      "Downloading Belgium TSC Training Dataset\n",
      "\n",
      "Extracting Zip\n",
      "\n",
      "Downloading Datasets 'BelgiumTSC' took  40.29988765716553 seconds\n"
     ]
    }
   ],
   "source": [
    "extract_path = \"/home/cse/FIneTune/PatternRecognition/data/gtsrb/GTSRB\"\n",
    "validation_data_dir = '/home/cse/FIneTune/PatternRecognition/data/gtsrb/GTSRB/Training'\n",
    "\n",
    "def train_data(train_url):\n",
    "    zip_dir = \"/home/cse/FIneTune/PatternRecognition/data/BelgiumTSC_Training.zip\"\n",
    "\n",
    "    print(\"Downloading Belgium TSC Training Dataset\\n\")\n",
    "    urlretrieve(train_url, zip_dir)\n",
    "    zip_ref = zipfile.ZipFile(zip_dir)\n",
    "\n",
    "    print(\"Extracting Zip\\n\")\n",
    "    zip_ref.extractall(extract_path)\n",
    "    zip_ref.close()\n",
    "\n",
    "def test_data(test_url):\n",
    "    zip_dir = \"/home/cse/FIneTune/PatternRecognition/data/BelgiumTSC_Training.zip\"\n",
    "\n",
    "    print(\"Downloading Belgium TSC Testing Dataset\\n\")\n",
    "    urlretrieve(test_url, zip_dir)\n",
    "    zip_ref = zipfile.ZipFile(zip_dir)\n",
    "\n",
    "    print(\"Extracting Zip\\n\")\n",
    "    zip_ref.extractall(extract_path)\n",
    "    zip_ref.close()\n",
    "\n",
    "\n",
    "def download_data():\n",
    "    print(\"Download Datasets\")\n",
    "    start = time.time()\n",
    "    train_data(\"http://btsd.ethz.ch/shareddata/BelgiumTSC/BelgiumTSC_Training.zip\")\n",
    "    # test_data(\"http://btsd.ethz.ch/shareddata/BelgiumTSC/BelgiumTSC_Testing.zip\")\n",
    "    end = time.time()\n",
    "    print(\"Downloading Datasets 'BelgiumTSC' took \", end - start, 'seconds')\n",
    "\n",
    "download_data()"
   ]
  },
  {
   "cell_type": "code",
   "execution_count": 53,
   "metadata": {},
   "outputs": [],
   "source": [
    "flag = 0\n",
    "found = 0"
   ]
  },
  {
   "cell_type": "code",
   "execution_count": 57,
   "metadata": {},
   "outputs": [
    {
     "name": "stdout",
     "output_type": "stream",
     "text": [
      "Folder /home/cse/FIneTune/PatternRecognition/data/gtsrb/GTSRB/Training/00047 contains 147 .ppm files.\n",
      "VAL:  50\n",
      "Folder /home/cse/FIneTune/PatternRecognition/data/gtsrb/GTSRB/Training/00056 contains 95 .ppm files.\n",
      "VAL:  50\n",
      "Folder /home/cse/FIneTune/PatternRecognition/data/gtsrb/GTSRB/Training/00041 contains 148 .ppm files.\n",
      "VAL:  50\n",
      "Folder /home/cse/FIneTune/PatternRecognition/data/gtsrb/GTSRB/Training/00037 contains 98 .ppm files.\n",
      "VAL:  50\n",
      "Folder /home/cse/FIneTune/PatternRecognition/data/gtsrb/GTSRB/Training/00022 contains 375 .ppm files.\n",
      "VAL:  50\n",
      "Folder /home/cse/FIneTune/PatternRecognition/data/gtsrb/GTSRB/Training/00040 contains 242 .ppm files.\n",
      "VAL:  50\n",
      "Folder /home/cse/FIneTune/PatternRecognition/data/gtsrb/GTSRB/Training/00054 contains 118 .ppm files.\n",
      "VAL:  50\n",
      "Folder /home/cse/FIneTune/PatternRecognition/data/gtsrb/GTSRB/Training/00057 contains 78 .ppm files.\n",
      "VAL:  50\n",
      "Folder /home/cse/FIneTune/PatternRecognition/data/gtsrb/GTSRB/Training/00013 contains 90 .ppm files.\n",
      "VAL:  50\n",
      "Folder /home/cse/FIneTune/PatternRecognition/data/gtsrb/GTSRB/Training/00032 contains 316 .ppm files.\n",
      "VAL:  50\n",
      "Folder /home/cse/FIneTune/PatternRecognition/data/gtsrb/GTSRB/Training/00039 contains 196 .ppm files.\n",
      "VAL:  50\n",
      "Folder /home/cse/FIneTune/PatternRecognition/data/gtsrb/GTSRB/Training/00007 contains 157 .ppm files.\n",
      "VAL:  50\n",
      "Folder /home/cse/FIneTune/PatternRecognition/data/gtsrb/GTSRB/Training/00061 contains 282 .ppm files.\n",
      "VAL:  50\n",
      "Folder /home/cse/FIneTune/PatternRecognition/data/gtsrb/GTSRB/Training/00038 contains 285 .ppm files.\n",
      "VAL:  50\n",
      "Folder /home/cse/FIneTune/PatternRecognition/data/gtsrb/GTSRB/Training/00028 contains 125 .ppm files.\n",
      "VAL:  50\n",
      "Folder /home/cse/FIneTune/PatternRecognition/data/gtsrb/GTSRB/Training/00035 contains 60 .ppm files.\n",
      "VAL:  50\n",
      "Folder /home/cse/FIneTune/PatternRecognition/data/gtsrb/GTSRB/Training/00017 contains 79 .ppm files.\n",
      "VAL:  50\n",
      "Folder /home/cse/FIneTune/PatternRecognition/data/gtsrb/GTSRB/Training/00019 contains 231 .ppm files.\n",
      "VAL:  50\n",
      "Folder /home/cse/FIneTune/PatternRecognition/data/gtsrb/GTSRB/Training/00018 contains 81 .ppm files.\n",
      "VAL:  50\n",
      "Folder /home/cse/FIneTune/PatternRecognition/data/gtsrb/GTSRB/Training/00045 contains 74 .ppm files.\n",
      "VAL:  50\n",
      "Folder /home/cse/FIneTune/PatternRecognition/data/gtsrb/GTSRB/Training/00031 contains 63 .ppm files.\n",
      "VAL:  50\n",
      "Folder /home/cse/FIneTune/PatternRecognition/data/gtsrb/GTSRB/Training/00053 contains 199 .ppm files.\n",
      "VAL:  50\n",
      "Folder /home/cse/FIneTune/PatternRecognition/data/gtsrb/GTSRB/Training/00001 contains 110 .ppm files.\n",
      "VAL:  50\n",
      "MIN:  46\n",
      "LABEL:  2\n",
      "MIN:  11\n",
      "LABEL:  21\n",
      "Step 1:  0 0\n",
      "MIN:  50\n",
      "LABEL:  18\n",
      "MIN:  10\n",
      "LABEL:  21\n",
      "Step 1:  0 0\n",
      "Step 2:  0 0\n",
      "Folder /home/cse/FIneTune/PatternRecognition/data/gtsrb/GTSRB/Training/00047 contains 147 .ppm files.\n",
      "VAL:  55\n",
      "Folder /home/cse/FIneTune/PatternRecognition/data/gtsrb/GTSRB/Training/00056 contains 95 .ppm files.\n",
      "VAL:  55\n",
      "Folder /home/cse/FIneTune/PatternRecognition/data/gtsrb/GTSRB/Training/00041 contains 148 .ppm files.\n",
      "VAL:  55\n",
      "Folder /home/cse/FIneTune/PatternRecognition/data/gtsrb/GTSRB/Training/00037 contains 98 .ppm files.\n",
      "VAL:  55\n",
      "Folder /home/cse/FIneTune/PatternRecognition/data/gtsrb/GTSRB/Training/00022 contains 375 .ppm files.\n",
      "VAL:  55\n",
      "Folder /home/cse/FIneTune/PatternRecognition/data/gtsrb/GTSRB/Training/00040 contains 242 .ppm files.\n",
      "VAL:  55\n",
      "Folder /home/cse/FIneTune/PatternRecognition/data/gtsrb/GTSRB/Training/00054 contains 118 .ppm files.\n",
      "VAL:  55\n",
      "Folder /home/cse/FIneTune/PatternRecognition/data/gtsrb/GTSRB/Training/00057 contains 78 .ppm files.\n",
      "VAL:  55\n",
      "Folder /home/cse/FIneTune/PatternRecognition/data/gtsrb/GTSRB/Training/00013 contains 90 .ppm files.\n",
      "VAL:  55\n",
      "Folder /home/cse/FIneTune/PatternRecognition/data/gtsrb/GTSRB/Training/00032 contains 316 .ppm files.\n",
      "VAL:  55\n",
      "Folder /home/cse/FIneTune/PatternRecognition/data/gtsrb/GTSRB/Training/00039 contains 196 .ppm files.\n",
      "VAL:  55\n",
      "Folder /home/cse/FIneTune/PatternRecognition/data/gtsrb/GTSRB/Training/00007 contains 157 .ppm files.\n",
      "VAL:  55\n",
      "Folder /home/cse/FIneTune/PatternRecognition/data/gtsrb/GTSRB/Training/00061 contains 282 .ppm files.\n",
      "VAL:  55\n",
      "Folder /home/cse/FIneTune/PatternRecognition/data/gtsrb/GTSRB/Training/00038 contains 285 .ppm files.\n",
      "VAL:  55\n",
      "Folder /home/cse/FIneTune/PatternRecognition/data/gtsrb/GTSRB/Training/00028 contains 125 .ppm files.\n",
      "VAL:  55\n",
      "Folder /home/cse/FIneTune/PatternRecognition/data/gtsrb/GTSRB/Training/00035 contains 60 .ppm files.\n",
      "VAL:  55\n",
      "Folder /home/cse/FIneTune/PatternRecognition/data/gtsrb/GTSRB/Training/00017 contains 79 .ppm files.\n",
      "VAL:  55\n",
      "Folder /home/cse/FIneTune/PatternRecognition/data/gtsrb/GTSRB/Training/00019 contains 231 .ppm files.\n",
      "VAL:  55\n",
      "Folder /home/cse/FIneTune/PatternRecognition/data/gtsrb/GTSRB/Training/00018 contains 81 .ppm files.\n",
      "VAL:  55\n",
      "Folder /home/cse/FIneTune/PatternRecognition/data/gtsrb/GTSRB/Training/00045 contains 74 .ppm files.\n",
      "VAL:  55\n",
      "Folder /home/cse/FIneTune/PatternRecognition/data/gtsrb/GTSRB/Training/00031 contains 63 .ppm files.\n",
      "VAL:  55\n",
      "Folder /home/cse/FIneTune/PatternRecognition/data/gtsrb/GTSRB/Training/00053 contains 199 .ppm files.\n",
      "VAL:  55\n",
      "Folder /home/cse/FIneTune/PatternRecognition/data/gtsrb/GTSRB/Training/00001 contains 110 .ppm files.\n",
      "VAL:  55\n",
      "MIN:  46\n",
      "LABEL:  9\n",
      "MIN:  10\n",
      "LABEL:  20\n",
      "Step 1:  0 0\n",
      "MIN:  50\n",
      "LABEL:  19\n",
      "MIN:  10\n",
      "LABEL:  6\n",
      "Step 1:  0 0\n",
      "Step 2:  0 0\n",
      "Folder /home/cse/FIneTune/PatternRecognition/data/gtsrb/GTSRB/Training/00047 contains 147 .ppm files.\n",
      "VAL:  60\n",
      "Folder /home/cse/FIneTune/PatternRecognition/data/gtsrb/GTSRB/Training/00056 contains 95 .ppm files.\n",
      "VAL:  60\n",
      "Folder /home/cse/FIneTune/PatternRecognition/data/gtsrb/GTSRB/Training/00041 contains 148 .ppm files.\n",
      "VAL:  60\n",
      "Folder /home/cse/FIneTune/PatternRecognition/data/gtsrb/GTSRB/Training/00037 contains 98 .ppm files.\n",
      "VAL:  60\n",
      "Folder /home/cse/FIneTune/PatternRecognition/data/gtsrb/GTSRB/Training/00022 contains 375 .ppm files.\n",
      "VAL:  60\n",
      "Folder /home/cse/FIneTune/PatternRecognition/data/gtsrb/GTSRB/Training/00040 contains 242 .ppm files.\n",
      "VAL:  60\n",
      "Folder /home/cse/FIneTune/PatternRecognition/data/gtsrb/GTSRB/Training/00054 contains 118 .ppm files.\n",
      "VAL:  60\n",
      "Folder /home/cse/FIneTune/PatternRecognition/data/gtsrb/GTSRB/Training/00057 contains 78 .ppm files.\n",
      "VAL:  60\n",
      "Folder /home/cse/FIneTune/PatternRecognition/data/gtsrb/GTSRB/Training/00013 contains 90 .ppm files.\n",
      "VAL:  60\n",
      "Folder /home/cse/FIneTune/PatternRecognition/data/gtsrb/GTSRB/Training/00032 contains 316 .ppm files.\n",
      "VAL:  60\n",
      "Folder /home/cse/FIneTune/PatternRecognition/data/gtsrb/GTSRB/Training/00039 contains 196 .ppm files.\n",
      "VAL:  60\n",
      "Folder /home/cse/FIneTune/PatternRecognition/data/gtsrb/GTSRB/Training/00007 contains 157 .ppm files.\n",
      "VAL:  60\n",
      "Folder /home/cse/FIneTune/PatternRecognition/data/gtsrb/GTSRB/Training/00061 contains 282 .ppm files.\n",
      "VAL:  60\n",
      "Folder /home/cse/FIneTune/PatternRecognition/data/gtsrb/GTSRB/Training/00038 contains 285 .ppm files.\n",
      "VAL:  60\n",
      "Folder /home/cse/FIneTune/PatternRecognition/data/gtsrb/GTSRB/Training/00028 contains 125 .ppm files.\n",
      "VAL:  60\n",
      "Folder /home/cse/FIneTune/PatternRecognition/data/gtsrb/GTSRB/Training/00035 contains 60 .ppm files.\n",
      "VAL:  60\n",
      "Folder /home/cse/FIneTune/PatternRecognition/data/gtsrb/GTSRB/Training/00017 contains 79 .ppm files.\n",
      "VAL:  60\n",
      "Folder /home/cse/FIneTune/PatternRecognition/data/gtsrb/GTSRB/Training/00019 contains 231 .ppm files.\n",
      "VAL:  60\n",
      "Folder /home/cse/FIneTune/PatternRecognition/data/gtsrb/GTSRB/Training/00018 contains 81 .ppm files.\n",
      "VAL:  60\n",
      "Folder /home/cse/FIneTune/PatternRecognition/data/gtsrb/GTSRB/Training/00045 contains 74 .ppm files.\n",
      "VAL:  60\n",
      "Folder /home/cse/FIneTune/PatternRecognition/data/gtsrb/GTSRB/Training/00031 contains 63 .ppm files.\n",
      "VAL:  60\n",
      "Folder /home/cse/FIneTune/PatternRecognition/data/gtsrb/GTSRB/Training/00053 contains 199 .ppm files.\n",
      "VAL:  60\n",
      "Folder /home/cse/FIneTune/PatternRecognition/data/gtsrb/GTSRB/Training/00001 contains 110 .ppm files.\n",
      "VAL:  60\n",
      "MIN:  50\n",
      "LABEL:  2\n",
      "MIN:  10\n",
      "LABEL:  17\n",
      "Step 1:  0 0\n",
      "MIN:  47\n",
      "LABEL:  15\n",
      "MIN:  13\n",
      "LABEL:  0\n",
      "Step 1:  0 0\n",
      "Step 2:  0 0\n",
      "Folder /home/cse/FIneTune/PatternRecognition/data/gtsrb/GTSRB/Training/00047 contains 147 .ppm files.\n",
      "VAL:  65\n",
      "Folder /home/cse/FIneTune/PatternRecognition/data/gtsrb/GTSRB/Training/00056 contains 95 .ppm files.\n",
      "VAL:  65\n",
      "Folder /home/cse/FIneTune/PatternRecognition/data/gtsrb/GTSRB/Training/00041 contains 148 .ppm files.\n",
      "VAL:  65\n",
      "Folder /home/cse/FIneTune/PatternRecognition/data/gtsrb/GTSRB/Training/00037 contains 98 .ppm files.\n",
      "VAL:  65\n",
      "Folder /home/cse/FIneTune/PatternRecognition/data/gtsrb/GTSRB/Training/00022 contains 375 .ppm files.\n",
      "VAL:  65\n",
      "Folder /home/cse/FIneTune/PatternRecognition/data/gtsrb/GTSRB/Training/00040 contains 242 .ppm files.\n",
      "VAL:  65\n",
      "Folder /home/cse/FIneTune/PatternRecognition/data/gtsrb/GTSRB/Training/00054 contains 118 .ppm files.\n",
      "VAL:  65\n",
      "Folder /home/cse/FIneTune/PatternRecognition/data/gtsrb/GTSRB/Training/00057 contains 78 .ppm files.\n",
      "VAL:  65\n",
      "Folder /home/cse/FIneTune/PatternRecognition/data/gtsrb/GTSRB/Training/00013 contains 90 .ppm files.\n",
      "VAL:  65\n",
      "Folder /home/cse/FIneTune/PatternRecognition/data/gtsrb/GTSRB/Training/00032 contains 316 .ppm files.\n",
      "VAL:  65\n",
      "Folder /home/cse/FIneTune/PatternRecognition/data/gtsrb/GTSRB/Training/00039 contains 196 .ppm files.\n",
      "VAL:  65\n",
      "Folder /home/cse/FIneTune/PatternRecognition/data/gtsrb/GTSRB/Training/00007 contains 157 .ppm files.\n",
      "VAL:  65\n",
      "Folder /home/cse/FIneTune/PatternRecognition/data/gtsrb/GTSRB/Training/00061 contains 282 .ppm files.\n",
      "VAL:  65\n",
      "Folder /home/cse/FIneTune/PatternRecognition/data/gtsrb/GTSRB/Training/00038 contains 285 .ppm files.\n",
      "VAL:  65\n",
      "Folder /home/cse/FIneTune/PatternRecognition/data/gtsrb/GTSRB/Training/00028 contains 125 .ppm files.\n",
      "VAL:  65\n",
      "Folder /home/cse/FIneTune/PatternRecognition/data/gtsrb/GTSRB/Training/00035 contains 60 .ppm files.\n",
      "VAL:  65\n"
     ]
    },
    {
     "name": "stdout",
     "output_type": "stream",
     "text": [
      "Folder /home/cse/FIneTune/PatternRecognition/data/gtsrb/GTSRB/Training/00017 contains 79 .ppm files.\n",
      "VAL:  65\n",
      "Folder /home/cse/FIneTune/PatternRecognition/data/gtsrb/GTSRB/Training/00019 contains 231 .ppm files.\n",
      "VAL:  65\n",
      "Folder /home/cse/FIneTune/PatternRecognition/data/gtsrb/GTSRB/Training/00018 contains 81 .ppm files.\n",
      "VAL:  65\n",
      "Folder /home/cse/FIneTune/PatternRecognition/data/gtsrb/GTSRB/Training/00045 contains 74 .ppm files.\n",
      "VAL:  65\n",
      "Folder /home/cse/FIneTune/PatternRecognition/data/gtsrb/GTSRB/Training/00031 contains 63 .ppm files.\n",
      "VAL:  65\n",
      "Folder /home/cse/FIneTune/PatternRecognition/data/gtsrb/GTSRB/Training/00053 contains 199 .ppm files.\n",
      "VAL:  65\n",
      "Folder /home/cse/FIneTune/PatternRecognition/data/gtsrb/GTSRB/Training/00001 contains 110 .ppm files.\n",
      "VAL:  65\n",
      "MIN:  59\n",
      "LABEL:  10\n",
      "MIN:  13\n",
      "LABEL:  14\n",
      "Step 1:  0 0\n",
      "MIN:  58\n",
      "LABEL:  7\n",
      "MIN:  13\n",
      "LABEL:  18\n",
      "Step 1:  0 0\n",
      "Step 2:  0 0\n",
      "Folder /home/cse/FIneTune/PatternRecognition/data/gtsrb/GTSRB/Training/00047 contains 147 .ppm files.\n",
      "VAL:  70\n",
      "Folder /home/cse/FIneTune/PatternRecognition/data/gtsrb/GTSRB/Training/00056 contains 95 .ppm files.\n",
      "VAL:  70\n",
      "Folder /home/cse/FIneTune/PatternRecognition/data/gtsrb/GTSRB/Training/00041 contains 148 .ppm files.\n",
      "VAL:  70\n",
      "Folder /home/cse/FIneTune/PatternRecognition/data/gtsrb/GTSRB/Training/00037 contains 98 .ppm files.\n",
      "VAL:  70\n",
      "Folder /home/cse/FIneTune/PatternRecognition/data/gtsrb/GTSRB/Training/00022 contains 375 .ppm files.\n",
      "VAL:  70\n",
      "Folder /home/cse/FIneTune/PatternRecognition/data/gtsrb/GTSRB/Training/00040 contains 242 .ppm files.\n",
      "VAL:  70\n",
      "Folder /home/cse/FIneTune/PatternRecognition/data/gtsrb/GTSRB/Training/00054 contains 118 .ppm files.\n",
      "VAL:  70\n",
      "Folder /home/cse/FIneTune/PatternRecognition/data/gtsrb/GTSRB/Training/00057 contains 78 .ppm files.\n",
      "VAL:  70\n",
      "Folder /home/cse/FIneTune/PatternRecognition/data/gtsrb/GTSRB/Training/00013 contains 90 .ppm files.\n",
      "VAL:  70\n",
      "Folder /home/cse/FIneTune/PatternRecognition/data/gtsrb/GTSRB/Training/00032 contains 316 .ppm files.\n",
      "VAL:  70\n",
      "Folder /home/cse/FIneTune/PatternRecognition/data/gtsrb/GTSRB/Training/00039 contains 196 .ppm files.\n",
      "VAL:  70\n",
      "Folder /home/cse/FIneTune/PatternRecognition/data/gtsrb/GTSRB/Training/00007 contains 157 .ppm files.\n",
      "VAL:  70\n",
      "Folder /home/cse/FIneTune/PatternRecognition/data/gtsrb/GTSRB/Training/00061 contains 282 .ppm files.\n",
      "VAL:  70\n",
      "Folder /home/cse/FIneTune/PatternRecognition/data/gtsrb/GTSRB/Training/00038 contains 285 .ppm files.\n",
      "VAL:  70\n",
      "Folder /home/cse/FIneTune/PatternRecognition/data/gtsrb/GTSRB/Training/00028 contains 125 .ppm files.\n",
      "VAL:  70\n",
      "Folder /home/cse/FIneTune/PatternRecognition/data/gtsrb/GTSRB/Training/00017 contains 79 .ppm files.\n",
      "VAL:  70\n",
      "Folder /home/cse/FIneTune/PatternRecognition/data/gtsrb/GTSRB/Training/00019 contains 231 .ppm files.\n",
      "VAL:  70\n",
      "Folder /home/cse/FIneTune/PatternRecognition/data/gtsrb/GTSRB/Training/00018 contains 81 .ppm files.\n",
      "VAL:  70\n",
      "Folder /home/cse/FIneTune/PatternRecognition/data/gtsrb/GTSRB/Training/00045 contains 74 .ppm files.\n",
      "VAL:  70\n",
      "Folder /home/cse/FIneTune/PatternRecognition/data/gtsrb/GTSRB/Training/00053 contains 199 .ppm files.\n",
      "VAL:  70\n",
      "Folder /home/cse/FIneTune/PatternRecognition/data/gtsrb/GTSRB/Training/00001 contains 110 .ppm files.\n",
      "VAL:  70\n",
      "MIN:  62\n",
      "LABEL:  16\n",
      "MIN:  12\n",
      "LABEL:  10\n",
      "Step 1:  0 0\n",
      "MIN:  60\n",
      "LABEL:  11\n",
      "MIN:  10\n",
      "LABEL:  15\n",
      "Step 1:  0 0\n",
      "Step 2:  0 0\n",
      "Folder /home/cse/FIneTune/PatternRecognition/data/gtsrb/GTSRB/Training/00047 contains 147 .ppm files.\n",
      "VAL:  75\n",
      "Folder /home/cse/FIneTune/PatternRecognition/data/gtsrb/GTSRB/Training/00056 contains 95 .ppm files.\n",
      "VAL:  75\n",
      "Folder /home/cse/FIneTune/PatternRecognition/data/gtsrb/GTSRB/Training/00041 contains 148 .ppm files.\n",
      "VAL:  75\n",
      "Folder /home/cse/FIneTune/PatternRecognition/data/gtsrb/GTSRB/Training/00037 contains 98 .ppm files.\n",
      "VAL:  75\n",
      "Folder /home/cse/FIneTune/PatternRecognition/data/gtsrb/GTSRB/Training/00022 contains 375 .ppm files.\n",
      "VAL:  75\n",
      "Folder /home/cse/FIneTune/PatternRecognition/data/gtsrb/GTSRB/Training/00040 contains 242 .ppm files.\n",
      "VAL:  75\n",
      "Folder /home/cse/FIneTune/PatternRecognition/data/gtsrb/GTSRB/Training/00054 contains 118 .ppm files.\n",
      "VAL:  75\n",
      "Folder /home/cse/FIneTune/PatternRecognition/data/gtsrb/GTSRB/Training/00057 contains 78 .ppm files.\n",
      "VAL:  75\n",
      "Folder /home/cse/FIneTune/PatternRecognition/data/gtsrb/GTSRB/Training/00013 contains 90 .ppm files.\n",
      "VAL:  75\n",
      "Folder /home/cse/FIneTune/PatternRecognition/data/gtsrb/GTSRB/Training/00032 contains 316 .ppm files.\n",
      "VAL:  75\n",
      "Folder /home/cse/FIneTune/PatternRecognition/data/gtsrb/GTSRB/Training/00039 contains 196 .ppm files.\n",
      "VAL:  75\n",
      "Folder /home/cse/FIneTune/PatternRecognition/data/gtsrb/GTSRB/Training/00007 contains 157 .ppm files.\n",
      "VAL:  75\n",
      "Folder /home/cse/FIneTune/PatternRecognition/data/gtsrb/GTSRB/Training/00061 contains 282 .ppm files.\n",
      "VAL:  75\n",
      "Folder /home/cse/FIneTune/PatternRecognition/data/gtsrb/GTSRB/Training/00038 contains 285 .ppm files.\n",
      "VAL:  75\n",
      "Folder /home/cse/FIneTune/PatternRecognition/data/gtsrb/GTSRB/Training/00028 contains 125 .ppm files.\n",
      "VAL:  75\n",
      "Folder /home/cse/FIneTune/PatternRecognition/data/gtsrb/GTSRB/Training/00017 contains 79 .ppm files.\n",
      "VAL:  75\n",
      "Folder /home/cse/FIneTune/PatternRecognition/data/gtsrb/GTSRB/Training/00019 contains 231 .ppm files.\n",
      "VAL:  75\n",
      "Folder /home/cse/FIneTune/PatternRecognition/data/gtsrb/GTSRB/Training/00018 contains 81 .ppm files.\n",
      "VAL:  75\n",
      "Folder /home/cse/FIneTune/PatternRecognition/data/gtsrb/GTSRB/Training/00045 contains 74 .ppm files.\n",
      "VAL:  75\n",
      "Folder /home/cse/FIneTune/PatternRecognition/data/gtsrb/GTSRB/Training/00053 contains 199 .ppm files.\n",
      "VAL:  75\n",
      "Folder /home/cse/FIneTune/PatternRecognition/data/gtsrb/GTSRB/Training/00001 contains 110 .ppm files.\n",
      "VAL:  75\n",
      "MIN:  60\n",
      "LABEL:  17\n",
      "MIN:  15\n",
      "LABEL:  19\n",
      "Step 1:  1 0\n",
      "Step 2:  1 1\n"
     ]
    }
   ],
   "source": [
    "for target_val in range(50, 120, 5):\n",
    "  import os\n",
    "  import shutil\n",
    "\n",
    "  cntt =0\n",
    "  summ = 0\n",
    "  folder_A_path = '/home/cse/FIneTune/PatternRecognition/data/gtsrb/GTSRB/Training'\n",
    "\n",
    "  # Iterate over subdirectories in folder_A\n",
    "  for root, dirs, files in os.walk(folder_A_path):\n",
    "      for dir in dirs:\n",
    "          folder_B_path = os.path.join(root, dir)\n",
    "          ppm_file_count = sum(1 for file in os.listdir(folder_B_path) if file.endswith('.ppm'))\n",
    "          print(f\"Folder {folder_B_path} contains {ppm_file_count} .ppm files.\")\n",
    "\n",
    "          summ += ppm_file_count\n",
    "          print(\"VAL: \", target_val)\n",
    "          if ppm_file_count < target_val:\n",
    "            cntt += 1\n",
    "            shutil.rmtree(folder_B_path)\n",
    "\n",
    "  trains_set = GTSRB(\n",
    "      root=\"/home/cse/FIneTune/PatternRecognition/data\",\n",
    "      # background=True,\n",
    "      split=\"train\",\n",
    "      transform=transforms.Compose(\n",
    "          [\n",
    "              transforms.Grayscale(num_output_channels=3),\n",
    "              transforms.RandomResizedCrop(image_size),\n",
    "              transforms.RandomHorizontalFlip(),\n",
    "              transforms.ToTensor(),\n",
    "          ]\n",
    "      ),\n",
    "      download=False,\n",
    "  )\n",
    "\n",
    "  train_set_size = int(len(trains_set) * 0.8)\n",
    "  val_set_size = len(trains_set) - train_set_size\n",
    "\n",
    "  for vall in range(2):\n",
    "    train_set, valid_set = torch.utils.data.random_split(trains_set, [train_set_size, val_set_size])\n",
    "    train_set.get_labels = lambda: [instance[1] for instance in train_set]\n",
    "    valid_set.get_labels = lambda: [instance[1] for instance in valid_set]\n",
    "\n",
    "    train_dct = {}\n",
    "    for item, label in enumerate(train_set.get_labels()):\n",
    "      if label in train_dct:\n",
    "          train_dct[label].append(item)\n",
    "      else:\n",
    "          train_dct[label] = [item]\n",
    "          \n",
    "    number_of_samples_per_label = [\n",
    "                len(items_for_label) for items_for_label in train_dct.values()\n",
    "            ]\n",
    "    minimum_number_of_samples_per_label = min(number_of_samples_per_label)\n",
    "    print(\"MIN: \", minimum_number_of_samples_per_label)\n",
    "    label_with_minimum_number_of_samples = number_of_samples_per_label.index(\n",
    "        minimum_number_of_samples_per_label\n",
    "    )\n",
    "\n",
    "    print(\"LABEL: \", label_with_minimum_number_of_samples)\n",
    "    if n_shot + n_query < minimum_number_of_samples_per_label:\n",
    "      flag = 1\n",
    "\n",
    "    valid_dct = {}\n",
    "    for item, label in enumerate(valid_set.get_labels()):\n",
    "      if label in valid_dct:\n",
    "          valid_dct[label].append(item)\n",
    "      else:\n",
    "          valid_dct[label] = [item]\n",
    "          \n",
    "    number_of_samples_per_label = [\n",
    "                len(items_for_label) for items_for_label in valid_dct.values()\n",
    "            ]\n",
    "    minimum_number_of_samples_per_label = min(number_of_samples_per_label)\n",
    "    print(\"MIN: \", minimum_number_of_samples_per_label)\n",
    "    label_with_minimum_number_of_samples = number_of_samples_per_label.index(\n",
    "        minimum_number_of_samples_per_label\n",
    "    )\n",
    "\n",
    "    print(\"LABEL: \", label_with_minimum_number_of_samples)\n",
    "    if n_shot + n_query > minimum_number_of_samples_per_label:\n",
    "      flag = 0\n",
    "    \n",
    "    print(\"Step 1: \", flag, found)\n",
    "    if flag == 1:\n",
    "      found = 1\n",
    "      break\n",
    "  print(\"Step 2: \", flag, found)\n",
    "  if found == 1: break\n",
    "  found = 0"
   ]
  },
  {
   "cell_type": "code",
   "execution_count": 58,
   "metadata": {},
   "outputs": [
    {
     "data": {
      "text/plain": [
       "75"
      ]
     },
     "execution_count": 58,
     "metadata": {},
     "output_type": "execute_result"
    }
   ],
   "source": [
    "target_val"
   ]
  },
  {
   "cell_type": "code",
   "execution_count": 59,
   "metadata": {},
   "outputs": [],
   "source": [
    "val_set = valid_set"
   ]
  },
  {
   "cell_type": "code",
   "execution_count": 28,
   "metadata": {
    "id": "3sjz5srgRPJb"
   },
   "outputs": [],
   "source": [
    "# image_size = 28\n",
    "\n",
    "# # Instantiate the datasets\n",
    "# train_set = torchvision.datasets.GTSRB(\n",
    "#     root='/home/cse/FIneTune/PatternRecognition/data',\n",
    "#     split='train',\n",
    "#     transform=torchvision.transforms.Compose(\n",
    "#         [\n",
    "#             torchvision.transforms.ToTensor(),\n",
    "#             torchvision.transforms.Resize([image_size,image_size]),\n",
    "#         ]\n",
    "#     ),\n",
    "#     target_transform=None,\n",
    "#     download=False)\n",
    "\n",
    "# train_set_size = int(len(train_set) * 0.8)\n",
    "# val_set_size = len(train_set) - train_set_size\n",
    "# train_set, val_set = torch.utils.data.random_split(train_set, [train_set_size, val_set_size])\n",
    "\n",
    "# train_set.get_labels = lambda: [\n",
    "#     instance[1] for instance in train_set\n",
    "# ]\n",
    "\n",
    "# val_set.get_labels = lambda: [\n",
    "#     instance[1] for instance in val_set\n",
    "# ]"
   ]
  },
  {
   "cell_type": "code",
   "execution_count": 60,
   "metadata": {
    "id": "v3zV0M4V1wFy"
   },
   "outputs": [],
   "source": [
    "from torch.utils.data import DataLoader\n",
    "\n",
    "batch_size = 128\n",
    "n_workers = 0\n",
    "\n",
    "# train_set = CUB(split=\"train\", training=True)\n",
    "train_loader = DataLoader(\n",
    "    train_set,\n",
    "    batch_size=batch_size,\n",
    "    num_workers=n_workers,\n",
    "    pin_memory=True,\n",
    "    shuffle=True,\n",
    ")"
   ]
  },
  {
   "cell_type": "code",
   "execution_count": 61,
   "metadata": {
    "colab": {
     "base_uri": "https://localhost:8080/"
    },
    "id": "ORd17ucx15WD",
    "outputId": "ec412d91-5321-4b04-8f0e-0d3d70e8fea1"
   },
   "outputs": [],
   "source": [
    "from easyfsl.modules import resnet12\n",
    "\n",
    "DEVICE = \"cuda\" if torch.cuda.is_available() else \"cpu\"\n",
    "\n",
    "model = resnet12(\n",
    "    use_fc=True,\n",
    "    num_classes=len(set(train_set.get_labels())),\n",
    ").to(DEVICE)"
   ]
  },
  {
   "cell_type": "code",
   "execution_count": 62,
   "metadata": {
    "colab": {
     "base_uri": "https://localhost:8080/"
    },
    "id": "XpwgTxHo1_TZ",
    "outputId": "09646c8f-7e1c-41b3-a38f-18e7f96d5a13"
   },
   "outputs": [],
   "source": [
    "from easyfsl.methods import PrototypicalNetworks,Finetune\n",
    "from easyfsl.samplers import TaskSampler\n",
    "\n",
    "n_way = 5\n",
    "n_shot = 5\n",
    "n_query = 10\n",
    "n_validation_tasks = 500\n",
    "\n",
    "# val_set = CUB(split=\"val\", training=False)\n",
    "val_sampler = TaskSampler(\n",
    "    val_set, n_way=n_way, n_shot=n_shot, n_query=n_query, n_tasks=n_validation_tasks\n",
    ")\n",
    "val_loader = DataLoader(\n",
    "    val_set,\n",
    "    batch_sampler=val_sampler,\n",
    "    num_workers=n_workers,\n",
    "    pin_memory=True,\n",
    "    collate_fn=val_sampler.episodic_collate_fn,\n",
    ")\n",
    "\n",
    "few_shot_classifier = Finetune(model).to(DEVICE)"
   ]
  },
  {
   "cell_type": "code",
   "execution_count": 63,
   "metadata": {
    "id": "kzXdQnbJFvaA"
   },
   "outputs": [],
   "source": [
    "from torch.optim import SGD, Optimizer\n",
    "from torch.optim.lr_scheduler import MultiStepLR\n",
    "from torch.utils.tensorboard import SummaryWriter\n",
    "\n",
    "\n",
    "LOSS_FUNCTION = nn.CrossEntropyLoss()\n",
    "\n",
    "n_epochs = 200\n",
    "scheduler_milestones = [150, 180]\n",
    "scheduler_gamma = 0.1\n",
    "learning_rate = 1e-01\n",
    "tb_logs_dir = Path(\".\")\n",
    "\n",
    "train_optimizer = SGD(\n",
    "    model.parameters(), lr=learning_rate, momentum=0.9, weight_decay=5e-4\n",
    ")\n",
    "train_scheduler = MultiStepLR(\n",
    "    train_optimizer,\n",
    "    milestones=scheduler_milestones,\n",
    "    gamma=scheduler_gamma,\n",
    ")\n",
    "\n",
    "tb_writer = SummaryWriter(log_dir=str(tb_logs_dir))"
   ]
  },
  {
   "cell_type": "code",
   "execution_count": 73,
   "metadata": {
    "id": "wA3ddF14F2iC"
   },
   "outputs": [],
   "source": [
    "def training_epoch(model_: nn.Module, data_loader: DataLoader, optimizer: Optimizer):\n",
    "    all_loss = []\n",
    "    model_.train()\n",
    "    with tqdm(data_loader, total=len(data_loader), desc=\"Training\") as tqdm_train:\n",
    "        for images, labels in tqdm_train:\n",
    "            optimizer.zero_grad()\n",
    "\n",
    "            loss = LOSS_FUNCTION(model_(images.to(DEVICE)), labels.to(DEVICE))\n",
    "            loss.backward()\n",
    "            optimizer.step()\n",
    "\n",
    "            all_loss.append(loss.item())\n",
    "\n",
    "            tqdm_train.set_postfix(loss=mean(all_loss))\n",
    "\n",
    "    return mean(all_loss)"
   ]
  },
  {
   "cell_type": "code",
   "execution_count": 74,
   "metadata": {
    "colab": {
     "base_uri": "https://localhost:8080/"
    },
    "id": "xkNCDGUjF5go",
    "outputId": "1b5d27fa-8153-4931-dba9-ceade8a21738"
   },
   "outputs": [
    {
     "name": "stdout",
     "output_type": "stream",
     "text": [
      "Epoch 0\n"
     ]
    },
    {
     "name": "stderr",
     "output_type": "stream",
     "text": [
      "Training: 100%|██████████████████████| 22/22 [00:02<00:00, 10.59it/s, loss=4.37]\n"
     ]
    },
    {
     "name": "stdout",
     "output_type": "stream",
     "text": [
      "Epoch 1\n"
     ]
    },
    {
     "name": "stderr",
     "output_type": "stream",
     "text": [
      "Training: 100%|██████████████████████| 22/22 [00:01<00:00, 11.05it/s, loss=2.07]\n"
     ]
    },
    {
     "name": "stdout",
     "output_type": "stream",
     "text": [
      "Epoch 2\n"
     ]
    },
    {
     "name": "stderr",
     "output_type": "stream",
     "text": [
      "Training: 100%|██████████████████████| 22/22 [00:02<00:00, 10.76it/s, loss=1.42]\n"
     ]
    },
    {
     "name": "stdout",
     "output_type": "stream",
     "text": [
      "Epoch 3\n"
     ]
    },
    {
     "name": "stderr",
     "output_type": "stream",
     "text": [
      "Training: 100%|██████████████████████| 22/22 [00:02<00:00, 10.63it/s, loss=1.07]\n"
     ]
    },
    {
     "name": "stdout",
     "output_type": "stream",
     "text": [
      "Epoch 4\n"
     ]
    },
    {
     "name": "stderr",
     "output_type": "stream",
     "text": [
      "Training: 100%|█████████████████████| 22/22 [00:02<00:00,  9.41it/s, loss=0.971]\n"
     ]
    },
    {
     "name": "stdout",
     "output_type": "stream",
     "text": [
      "Epoch 5\n"
     ]
    },
    {
     "name": "stderr",
     "output_type": "stream",
     "text": [
      "Training: 100%|█████████████████████| 22/22 [00:02<00:00, 10.26it/s, loss=0.905]\n"
     ]
    },
    {
     "name": "stdout",
     "output_type": "stream",
     "text": [
      "Epoch 6\n"
     ]
    },
    {
     "name": "stderr",
     "output_type": "stream",
     "text": [
      "Training: 100%|█████████████████████| 22/22 [00:01<00:00, 11.08it/s, loss=0.758]\n"
     ]
    },
    {
     "name": "stdout",
     "output_type": "stream",
     "text": [
      "Epoch 7\n"
     ]
    },
    {
     "name": "stderr",
     "output_type": "stream",
     "text": [
      "Training: 100%|█████████████████████| 22/22 [00:02<00:00, 10.05it/s, loss=0.687]\n"
     ]
    },
    {
     "name": "stdout",
     "output_type": "stream",
     "text": [
      "Epoch 8\n"
     ]
    },
    {
     "name": "stderr",
     "output_type": "stream",
     "text": [
      "Training: 100%|█████████████████████| 22/22 [00:02<00:00,  9.66it/s, loss=0.654]\n"
     ]
    },
    {
     "name": "stdout",
     "output_type": "stream",
     "text": [
      "Epoch 9\n"
     ]
    },
    {
     "name": "stderr",
     "output_type": "stream",
     "text": [
      "Training: 100%|██████████████████████| 22/22 [00:02<00:00,  9.56it/s, loss=0.62]\n",
      "Validation: 100%|██████████████| 500/500 [01:02<00:00,  8.04it/s, accuracy=0.88]\n"
     ]
    },
    {
     "name": "stdout",
     "output_type": "stream",
     "text": [
      "Ding ding ding! We found a new best model!\n",
      "Epoch 10\n"
     ]
    },
    {
     "name": "stderr",
     "output_type": "stream",
     "text": [
      "Training: 100%|██████████████████████| 22/22 [00:02<00:00, 10.30it/s, loss=1.28]\n"
     ]
    },
    {
     "name": "stdout",
     "output_type": "stream",
     "text": [
      "Epoch 11\n"
     ]
    },
    {
     "name": "stderr",
     "output_type": "stream",
     "text": [
      "Training: 100%|██████████████████████| 22/22 [00:01<00:00, 11.90it/s, loss=1.09]\n"
     ]
    },
    {
     "name": "stdout",
     "output_type": "stream",
     "text": [
      "Epoch 12\n"
     ]
    },
    {
     "name": "stderr",
     "output_type": "stream",
     "text": [
      "Training: 100%|█████████████████████| 22/22 [00:02<00:00, 10.03it/s, loss=0.747]\n"
     ]
    },
    {
     "name": "stdout",
     "output_type": "stream",
     "text": [
      "Epoch 13\n"
     ]
    },
    {
     "name": "stderr",
     "output_type": "stream",
     "text": [
      "Training: 100%|██████████████████████| 22/22 [00:02<00:00, 10.44it/s, loss=0.68]\n"
     ]
    },
    {
     "name": "stdout",
     "output_type": "stream",
     "text": [
      "Epoch 14\n"
     ]
    },
    {
     "name": "stderr",
     "output_type": "stream",
     "text": [
      "Training: 100%|█████████████████████| 22/22 [00:02<00:00,  9.54it/s, loss=0.607]\n"
     ]
    },
    {
     "name": "stdout",
     "output_type": "stream",
     "text": [
      "Epoch 15\n"
     ]
    },
    {
     "name": "stderr",
     "output_type": "stream",
     "text": [
      "Training: 100%|█████████████████████| 22/22 [00:02<00:00,  9.69it/s, loss=0.528]\n"
     ]
    },
    {
     "name": "stdout",
     "output_type": "stream",
     "text": [
      "Epoch 16\n"
     ]
    },
    {
     "name": "stderr",
     "output_type": "stream",
     "text": [
      "Training: 100%|█████████████████████| 22/22 [00:02<00:00,  9.85it/s, loss=0.504]\n"
     ]
    },
    {
     "name": "stdout",
     "output_type": "stream",
     "text": [
      "Epoch 17\n"
     ]
    },
    {
     "name": "stderr",
     "output_type": "stream",
     "text": [
      "Training: 100%|█████████████████████| 22/22 [00:02<00:00, 10.89it/s, loss=0.439]\n"
     ]
    },
    {
     "name": "stdout",
     "output_type": "stream",
     "text": [
      "Epoch 18\n"
     ]
    },
    {
     "name": "stderr",
     "output_type": "stream",
     "text": [
      "Training: 100%|█████████████████████| 22/22 [00:02<00:00, 10.60it/s, loss=0.406]\n"
     ]
    },
    {
     "name": "stdout",
     "output_type": "stream",
     "text": [
      "Epoch 19\n"
     ]
    },
    {
     "name": "stderr",
     "output_type": "stream",
     "text": [
      "Training: 100%|█████████████████████| 22/22 [00:02<00:00,  9.73it/s, loss=0.373]\n",
      "Validation: 100%|█████████████| 500/500 [01:01<00:00,  8.19it/s, accuracy=0.937]\n"
     ]
    },
    {
     "name": "stdout",
     "output_type": "stream",
     "text": [
      "Ding ding ding! We found a new best model!\n",
      "Epoch 20\n"
     ]
    },
    {
     "name": "stderr",
     "output_type": "stream",
     "text": [
      "Training: 100%|█████████████████████| 22/22 [00:02<00:00, 10.63it/s, loss=0.408]\n"
     ]
    },
    {
     "name": "stdout",
     "output_type": "stream",
     "text": [
      "Epoch 21\n"
     ]
    },
    {
     "name": "stderr",
     "output_type": "stream",
     "text": [
      "Training: 100%|█████████████████████| 22/22 [00:02<00:00, 10.18it/s, loss=0.392]\n"
     ]
    },
    {
     "name": "stdout",
     "output_type": "stream",
     "text": [
      "Epoch 22\n"
     ]
    },
    {
     "name": "stderr",
     "output_type": "stream",
     "text": [
      "Training: 100%|█████████████████████| 22/22 [00:02<00:00,  9.02it/s, loss=0.354]\n"
     ]
    },
    {
     "name": "stdout",
     "output_type": "stream",
     "text": [
      "Epoch 23\n"
     ]
    },
    {
     "name": "stderr",
     "output_type": "stream",
     "text": [
      "Training: 100%|█████████████████████| 22/22 [00:02<00:00,  9.72it/s, loss=0.347]\n"
     ]
    },
    {
     "name": "stdout",
     "output_type": "stream",
     "text": [
      "Epoch 24\n"
     ]
    },
    {
     "name": "stderr",
     "output_type": "stream",
     "text": [
      "Training: 100%|█████████████████████| 22/22 [00:02<00:00,  9.86it/s, loss=0.331]\n"
     ]
    },
    {
     "name": "stdout",
     "output_type": "stream",
     "text": [
      "Epoch 25\n"
     ]
    },
    {
     "name": "stderr",
     "output_type": "stream",
     "text": [
      "Training: 100%|█████████████████████| 22/22 [00:02<00:00, 10.99it/s, loss=0.318]\n"
     ]
    },
    {
     "name": "stdout",
     "output_type": "stream",
     "text": [
      "Epoch 26\n"
     ]
    },
    {
     "name": "stderr",
     "output_type": "stream",
     "text": [
      "Training: 100%|█████████████████████| 22/22 [00:01<00:00, 11.05it/s, loss=0.343]\n"
     ]
    },
    {
     "name": "stdout",
     "output_type": "stream",
     "text": [
      "Epoch 27\n"
     ]
    },
    {
     "name": "stderr",
     "output_type": "stream",
     "text": [
      "Training: 100%|█████████████████████| 22/22 [00:01<00:00, 11.34it/s, loss=0.325]\n"
     ]
    },
    {
     "name": "stdout",
     "output_type": "stream",
     "text": [
      "Epoch 28\n"
     ]
    },
    {
     "name": "stderr",
     "output_type": "stream",
     "text": [
      "Training: 100%|█████████████████████| 22/22 [00:01<00:00, 11.44it/s, loss=0.308]\n"
     ]
    },
    {
     "name": "stdout",
     "output_type": "stream",
     "text": [
      "Epoch 29\n"
     ]
    },
    {
     "name": "stderr",
     "output_type": "stream",
     "text": [
      "Training: 100%|█████████████████████| 22/22 [00:01<00:00, 11.15it/s, loss=0.296]\n",
      "Validation: 100%|█████████████| 500/500 [01:01<00:00,  8.07it/s, accuracy=0.952]\n"
     ]
    },
    {
     "name": "stdout",
     "output_type": "stream",
     "text": [
      "Ding ding ding! We found a new best model!\n",
      "Epoch 30\n"
     ]
    },
    {
     "name": "stderr",
     "output_type": "stream",
     "text": [
      "Training: 100%|█████████████████████| 22/22 [00:02<00:00, 10.96it/s, loss=0.294]\n"
     ]
    },
    {
     "name": "stdout",
     "output_type": "stream",
     "text": [
      "Epoch 31\n"
     ]
    },
    {
     "name": "stderr",
     "output_type": "stream",
     "text": [
      "Training: 100%|██████████████████████| 22/22 [00:02<00:00, 10.27it/s, loss=0.29]\n"
     ]
    },
    {
     "name": "stdout",
     "output_type": "stream",
     "text": [
      "Epoch 32\n"
     ]
    },
    {
     "name": "stderr",
     "output_type": "stream",
     "text": [
      "Training: 100%|█████████████████████| 22/22 [00:01<00:00, 11.27it/s, loss=0.307]\n"
     ]
    },
    {
     "name": "stdout",
     "output_type": "stream",
     "text": [
      "Epoch 33\n"
     ]
    },
    {
     "name": "stderr",
     "output_type": "stream",
     "text": [
      "Training: 100%|█████████████████████| 22/22 [00:01<00:00, 11.27it/s, loss=0.299]\n"
     ]
    },
    {
     "name": "stdout",
     "output_type": "stream",
     "text": [
      "Epoch 34\n"
     ]
    },
    {
     "name": "stderr",
     "output_type": "stream",
     "text": [
      "Training: 100%|█████████████████████| 22/22 [00:02<00:00, 10.51it/s, loss=0.261]\n"
     ]
    },
    {
     "name": "stdout",
     "output_type": "stream",
     "text": [
      "Epoch 35\n"
     ]
    },
    {
     "name": "stderr",
     "output_type": "stream",
     "text": [
      "Training: 100%|█████████████████████| 22/22 [00:01<00:00, 11.85it/s, loss=0.255]\n"
     ]
    },
    {
     "name": "stdout",
     "output_type": "stream",
     "text": [
      "Epoch 36\n"
     ]
    },
    {
     "name": "stderr",
     "output_type": "stream",
     "text": [
      "Training: 100%|█████████████████████| 22/22 [00:02<00:00, 10.87it/s, loss=0.284]\n"
     ]
    },
    {
     "name": "stdout",
     "output_type": "stream",
     "text": [
      "Epoch 37\n"
     ]
    },
    {
     "name": "stderr",
     "output_type": "stream",
     "text": [
      "Training: 100%|█████████████████████| 22/22 [00:02<00:00,  9.82it/s, loss=0.244]\n"
     ]
    },
    {
     "name": "stdout",
     "output_type": "stream",
     "text": [
      "Epoch 38\n"
     ]
    },
    {
     "name": "stderr",
     "output_type": "stream",
     "text": [
      "Training: 100%|█████████████████████| 22/22 [00:02<00:00,  9.78it/s, loss=0.239]\n"
     ]
    },
    {
     "name": "stdout",
     "output_type": "stream",
     "text": [
      "Epoch 39\n"
     ]
    },
    {
     "name": "stderr",
     "output_type": "stream",
     "text": [
      "Training: 100%|█████████████████████| 22/22 [00:02<00:00, 10.30it/s, loss=0.231]\n",
      "Validation: 100%|█████████████| 500/500 [00:59<00:00,  8.38it/s, accuracy=0.961]\n"
     ]
    },
    {
     "name": "stdout",
     "output_type": "stream",
     "text": [
      "Ding ding ding! We found a new best model!\n",
      "Epoch 40\n"
     ]
    },
    {
     "name": "stderr",
     "output_type": "stream",
     "text": [
      "Training: 100%|█████████████████████| 22/22 [00:02<00:00, 10.58it/s, loss=0.246]\n"
     ]
    },
    {
     "name": "stdout",
     "output_type": "stream",
     "text": [
      "Epoch 41\n"
     ]
    },
    {
     "name": "stderr",
     "output_type": "stream",
     "text": [
      "Training: 100%|█████████████████████| 22/22 [00:01<00:00, 11.23it/s, loss=0.238]\n"
     ]
    },
    {
     "name": "stdout",
     "output_type": "stream",
     "text": [
      "Epoch 42\n"
     ]
    },
    {
     "name": "stderr",
     "output_type": "stream",
     "text": [
      "Training: 100%|█████████████████████| 22/22 [00:02<00:00, 10.96it/s, loss=0.224]\n"
     ]
    },
    {
     "name": "stdout",
     "output_type": "stream",
     "text": [
      "Epoch 43\n"
     ]
    },
    {
     "name": "stderr",
     "output_type": "stream",
     "text": [
      "Training: 100%|█████████████████████| 22/22 [00:01<00:00, 11.07it/s, loss=0.241]\n"
     ]
    },
    {
     "name": "stdout",
     "output_type": "stream",
     "text": [
      "Epoch 44\n"
     ]
    },
    {
     "name": "stderr",
     "output_type": "stream",
     "text": [
      "Training: 100%|█████████████████████| 22/22 [00:02<00:00, 10.15it/s, loss=0.249]\n"
     ]
    },
    {
     "name": "stdout",
     "output_type": "stream",
     "text": [
      "Epoch 45\n"
     ]
    },
    {
     "name": "stderr",
     "output_type": "stream",
     "text": [
      "Training: 100%|█████████████████████| 22/22 [00:02<00:00,  9.67it/s, loss=0.254]\n"
     ]
    },
    {
     "name": "stdout",
     "output_type": "stream",
     "text": [
      "Epoch 46\n"
     ]
    },
    {
     "name": "stderr",
     "output_type": "stream",
     "text": [
      "Training: 100%|█████████████████████| 22/22 [00:02<00:00, 10.03it/s, loss=0.232]\n"
     ]
    },
    {
     "name": "stdout",
     "output_type": "stream",
     "text": [
      "Epoch 47\n"
     ]
    },
    {
     "name": "stderr",
     "output_type": "stream",
     "text": [
      "Training: 100%|█████████████████████| 22/22 [00:01<00:00, 11.44it/s, loss=0.228]\n"
     ]
    },
    {
     "name": "stdout",
     "output_type": "stream",
     "text": [
      "Epoch 48\n"
     ]
    },
    {
     "name": "stderr",
     "output_type": "stream",
     "text": [
      "Training: 100%|█████████████████████| 22/22 [00:02<00:00, 10.81it/s, loss=0.223]\n"
     ]
    },
    {
     "name": "stdout",
     "output_type": "stream",
     "text": [
      "Epoch 49\n"
     ]
    },
    {
     "name": "stderr",
     "output_type": "stream",
     "text": [
      "Training: 100%|█████████████████████| 22/22 [00:02<00:00,  9.49it/s, loss=0.224]\n",
      "Validation: 100%|█████████████| 500/500 [01:00<00:00,  8.28it/s, accuracy=0.963]\n"
     ]
    },
    {
     "name": "stdout",
     "output_type": "stream",
     "text": [
      "Ding ding ding! We found a new best model!\n",
      "Epoch 50\n"
     ]
    },
    {
     "name": "stderr",
     "output_type": "stream",
     "text": [
      "Training: 100%|█████████████████████| 22/22 [00:02<00:00, 10.26it/s, loss=0.209]\n"
     ]
    },
    {
     "name": "stdout",
     "output_type": "stream",
     "text": [
      "Epoch 51\n"
     ]
    },
    {
     "name": "stderr",
     "output_type": "stream",
     "text": [
      "Training: 100%|██████████████████████| 22/22 [00:02<00:00, 10.97it/s, loss=0.22]\n"
     ]
    },
    {
     "name": "stdout",
     "output_type": "stream",
     "text": [
      "Epoch 52\n"
     ]
    },
    {
     "name": "stderr",
     "output_type": "stream",
     "text": [
      "Training: 100%|█████████████████████| 22/22 [00:02<00:00,  9.71it/s, loss=0.205]\n"
     ]
    },
    {
     "name": "stdout",
     "output_type": "stream",
     "text": [
      "Epoch 53\n"
     ]
    },
    {
     "name": "stderr",
     "output_type": "stream",
     "text": [
      "Training: 100%|█████████████████████| 22/22 [00:02<00:00,  9.32it/s, loss=0.196]\n"
     ]
    },
    {
     "name": "stdout",
     "output_type": "stream",
     "text": [
      "Epoch 54\n"
     ]
    },
    {
     "name": "stderr",
     "output_type": "stream",
     "text": [
      "Training: 100%|█████████████████████| 22/22 [00:02<00:00,  9.25it/s, loss=0.243]\n"
     ]
    },
    {
     "name": "stdout",
     "output_type": "stream",
     "text": [
      "Epoch 55\n"
     ]
    },
    {
     "name": "stderr",
     "output_type": "stream",
     "text": [
      "Training: 100%|█████████████████████| 22/22 [00:02<00:00,  9.02it/s, loss=0.224]\n"
     ]
    },
    {
     "name": "stdout",
     "output_type": "stream",
     "text": [
      "Epoch 56\n"
     ]
    },
    {
     "name": "stderr",
     "output_type": "stream",
     "text": [
      "Training: 100%|██████████████████████| 22/22 [00:02<00:00,  9.58it/s, loss=0.22]\n"
     ]
    },
    {
     "name": "stdout",
     "output_type": "stream",
     "text": [
      "Epoch 57\n"
     ]
    },
    {
     "name": "stderr",
     "output_type": "stream",
     "text": [
      "Training: 100%|██████████████████████| 22/22 [00:02<00:00,  9.96it/s, loss=0.19]\n"
     ]
    },
    {
     "name": "stdout",
     "output_type": "stream",
     "text": [
      "Epoch 58\n"
     ]
    },
    {
     "name": "stderr",
     "output_type": "stream",
     "text": [
      "Training: 100%|█████████████████████| 22/22 [00:02<00:00, 10.08it/s, loss=0.189]\n"
     ]
    },
    {
     "name": "stdout",
     "output_type": "stream",
     "text": [
      "Epoch 59\n"
     ]
    },
    {
     "name": "stderr",
     "output_type": "stream",
     "text": [
      "Training: 100%|█████████████████████| 22/22 [00:01<00:00, 11.36it/s, loss=0.183]\n",
      "Validation: 100%|█████████████| 500/500 [01:01<00:00,  8.16it/s, accuracy=0.967]\n"
     ]
    },
    {
     "name": "stdout",
     "output_type": "stream",
     "text": [
      "Ding ding ding! We found a new best model!\n",
      "Epoch 60\n"
     ]
    },
    {
     "name": "stderr",
     "output_type": "stream",
     "text": [
      "Training: 100%|█████████████████████| 22/22 [00:02<00:00,  8.55it/s, loss=0.177]\n"
     ]
    },
    {
     "name": "stdout",
     "output_type": "stream",
     "text": [
      "Epoch 61\n"
     ]
    },
    {
     "name": "stderr",
     "output_type": "stream",
     "text": [
      "Training: 100%|█████████████████████| 22/22 [00:02<00:00,  8.92it/s, loss=0.212]\n"
     ]
    },
    {
     "name": "stdout",
     "output_type": "stream",
     "text": [
      "Epoch 62\n"
     ]
    },
    {
     "name": "stderr",
     "output_type": "stream",
     "text": [
      "Training: 100%|█████████████████████| 22/22 [00:02<00:00,  9.57it/s, loss=0.182]\n"
     ]
    },
    {
     "name": "stdout",
     "output_type": "stream",
     "text": [
      "Epoch 63\n"
     ]
    },
    {
     "name": "stderr",
     "output_type": "stream",
     "text": [
      "Training: 100%|█████████████████████| 22/22 [00:02<00:00,  9.22it/s, loss=0.189]\n"
     ]
    },
    {
     "name": "stdout",
     "output_type": "stream",
     "text": [
      "Epoch 64\n"
     ]
    },
    {
     "name": "stderr",
     "output_type": "stream",
     "text": [
      "Training: 100%|██████████████████████| 22/22 [00:02<00:00, 10.03it/s, loss=0.19]\n"
     ]
    },
    {
     "name": "stdout",
     "output_type": "stream",
     "text": [
      "Epoch 65\n"
     ]
    },
    {
     "name": "stderr",
     "output_type": "stream",
     "text": [
      "Training: 100%|█████████████████████| 22/22 [00:02<00:00, 10.30it/s, loss=0.204]\n"
     ]
    },
    {
     "name": "stdout",
     "output_type": "stream",
     "text": [
      "Epoch 66\n"
     ]
    },
    {
     "name": "stderr",
     "output_type": "stream",
     "text": [
      "Training: 100%|█████████████████████| 22/22 [00:01<00:00, 11.16it/s, loss=0.201]\n"
     ]
    },
    {
     "name": "stdout",
     "output_type": "stream",
     "text": [
      "Epoch 67\n"
     ]
    },
    {
     "name": "stderr",
     "output_type": "stream",
     "text": [
      "Training: 100%|██████████████████████| 22/22 [00:02<00:00,  9.60it/s, loss=0.19]\n"
     ]
    },
    {
     "name": "stdout",
     "output_type": "stream",
     "text": [
      "Epoch 68\n"
     ]
    },
    {
     "name": "stderr",
     "output_type": "stream",
     "text": [
      "Training: 100%|█████████████████████| 22/22 [00:02<00:00, 10.20it/s, loss=0.205]\n"
     ]
    },
    {
     "name": "stdout",
     "output_type": "stream",
     "text": [
      "Epoch 69\n"
     ]
    },
    {
     "name": "stderr",
     "output_type": "stream",
     "text": [
      "Training: 100%|█████████████████████| 22/22 [00:01<00:00, 11.89it/s, loss=0.173]\n",
      "Validation: 100%|█████████████| 500/500 [01:05<00:00,  7.59it/s, accuracy=0.971]\n"
     ]
    },
    {
     "name": "stdout",
     "output_type": "stream",
     "text": [
      "Ding ding ding! We found a new best model!\n",
      "Epoch 70\n"
     ]
    },
    {
     "name": "stderr",
     "output_type": "stream",
     "text": [
      "Training: 100%|█████████████████████| 22/22 [00:02<00:00,  8.66it/s, loss=0.207]\n"
     ]
    },
    {
     "name": "stdout",
     "output_type": "stream",
     "text": [
      "Epoch 71\n"
     ]
    },
    {
     "name": "stderr",
     "output_type": "stream",
     "text": [
      "Training: 100%|██████████████████████| 22/22 [00:02<00:00,  8.91it/s, loss=0.19]\n"
     ]
    },
    {
     "name": "stdout",
     "output_type": "stream",
     "text": [
      "Epoch 72\n"
     ]
    },
    {
     "name": "stderr",
     "output_type": "stream",
     "text": [
      "Training: 100%|█████████████████████| 22/22 [00:02<00:00,  9.98it/s, loss=0.159]\n"
     ]
    },
    {
     "name": "stdout",
     "output_type": "stream",
     "text": [
      "Epoch 73\n"
     ]
    },
    {
     "name": "stderr",
     "output_type": "stream",
     "text": [
      "Training: 100%|█████████████████████| 22/22 [00:02<00:00,  9.37it/s, loss=0.169]\n"
     ]
    },
    {
     "name": "stdout",
     "output_type": "stream",
     "text": [
      "Epoch 74\n"
     ]
    },
    {
     "name": "stderr",
     "output_type": "stream",
     "text": [
      "Training: 100%|█████████████████████| 22/22 [00:01<00:00, 12.42it/s, loss=0.198]\n"
     ]
    },
    {
     "name": "stdout",
     "output_type": "stream",
     "text": [
      "Epoch 75\n"
     ]
    },
    {
     "name": "stderr",
     "output_type": "stream",
     "text": [
      "Training: 100%|█████████████████████| 22/22 [00:01<00:00, 15.58it/s, loss=0.191]\n"
     ]
    },
    {
     "name": "stdout",
     "output_type": "stream",
     "text": [
      "Epoch 76\n"
     ]
    },
    {
     "name": "stderr",
     "output_type": "stream",
     "text": [
      "Training: 100%|█████████████████████| 22/22 [00:01<00:00, 15.50it/s, loss=0.207]\n"
     ]
    },
    {
     "name": "stdout",
     "output_type": "stream",
     "text": [
      "Epoch 77\n"
     ]
    },
    {
     "name": "stderr",
     "output_type": "stream",
     "text": [
      "Training: 100%|█████████████████████| 22/22 [00:01<00:00, 15.45it/s, loss=0.194]\n"
     ]
    },
    {
     "name": "stdout",
     "output_type": "stream",
     "text": [
      "Epoch 78\n"
     ]
    },
    {
     "name": "stderr",
     "output_type": "stream",
     "text": [
      "Training: 100%|█████████████████████| 22/22 [00:01<00:00, 15.61it/s, loss=0.199]\n"
     ]
    },
    {
     "name": "stdout",
     "output_type": "stream",
     "text": [
      "Epoch 79\n"
     ]
    },
    {
     "name": "stderr",
     "output_type": "stream",
     "text": [
      "Training: 100%|█████████████████████| 22/22 [00:01<00:00, 15.07it/s, loss=0.189]\n",
      "Validation: 100%|█████████████| 500/500 [00:27<00:00, 18.49it/s, accuracy=0.968]\n"
     ]
    },
    {
     "name": "stdout",
     "output_type": "stream",
     "text": [
      "Epoch 80\n"
     ]
    },
    {
     "name": "stderr",
     "output_type": "stream",
     "text": [
      "Training: 100%|█████████████████████| 22/22 [00:01<00:00, 15.47it/s, loss=0.159]\n"
     ]
    },
    {
     "name": "stdout",
     "output_type": "stream",
     "text": [
      "Epoch 81\n"
     ]
    },
    {
     "name": "stderr",
     "output_type": "stream",
     "text": [
      "Training: 100%|█████████████████████| 22/22 [00:01<00:00, 15.32it/s, loss=0.166]\n"
     ]
    },
    {
     "name": "stdout",
     "output_type": "stream",
     "text": [
      "Epoch 82\n"
     ]
    },
    {
     "name": "stderr",
     "output_type": "stream",
     "text": [
      "Training: 100%|█████████████████████| 22/22 [00:01<00:00, 14.40it/s, loss=0.175]\n"
     ]
    },
    {
     "name": "stdout",
     "output_type": "stream",
     "text": [
      "Epoch 83\n"
     ]
    },
    {
     "name": "stderr",
     "output_type": "stream",
     "text": [
      "Training: 100%|█████████████████████| 22/22 [00:01<00:00, 13.56it/s, loss=0.173]\n"
     ]
    },
    {
     "name": "stdout",
     "output_type": "stream",
     "text": [
      "Epoch 84\n"
     ]
    },
    {
     "name": "stderr",
     "output_type": "stream",
     "text": [
      "Training: 100%|█████████████████████| 22/22 [00:01<00:00, 15.35it/s, loss=0.182]\n"
     ]
    },
    {
     "name": "stdout",
     "output_type": "stream",
     "text": [
      "Epoch 85\n"
     ]
    },
    {
     "name": "stderr",
     "output_type": "stream",
     "text": [
      "Training: 100%|█████████████████████| 22/22 [00:01<00:00, 15.44it/s, loss=0.178]\n"
     ]
    },
    {
     "name": "stdout",
     "output_type": "stream",
     "text": [
      "Epoch 86\n"
     ]
    },
    {
     "name": "stderr",
     "output_type": "stream",
     "text": [
      "Training: 100%|█████████████████████| 22/22 [00:01<00:00, 15.36it/s, loss=0.163]\n"
     ]
    },
    {
     "name": "stdout",
     "output_type": "stream",
     "text": [
      "Epoch 87\n"
     ]
    },
    {
     "name": "stderr",
     "output_type": "stream",
     "text": [
      "Training: 100%|█████████████████████| 22/22 [00:01<00:00, 15.57it/s, loss=0.163]\n"
     ]
    },
    {
     "name": "stdout",
     "output_type": "stream",
     "text": [
      "Epoch 88\n"
     ]
    },
    {
     "name": "stderr",
     "output_type": "stream",
     "text": [
      "Training: 100%|██████████████████████| 22/22 [00:01<00:00, 15.65it/s, loss=0.17]\n"
     ]
    },
    {
     "name": "stdout",
     "output_type": "stream",
     "text": [
      "Epoch 89\n"
     ]
    },
    {
     "name": "stderr",
     "output_type": "stream",
     "text": [
      "Training: 100%|█████████████████████| 22/22 [00:01<00:00, 15.63it/s, loss=0.161]\n",
      "Validation: 100%|█████████████| 500/500 [00:26<00:00, 18.90it/s, accuracy=0.972]\n"
     ]
    },
    {
     "name": "stdout",
     "output_type": "stream",
     "text": [
      "Ding ding ding! We found a new best model!\n",
      "Epoch 90\n"
     ]
    },
    {
     "name": "stderr",
     "output_type": "stream",
     "text": [
      "Training: 100%|█████████████████████| 22/22 [00:01<00:00, 15.09it/s, loss=0.164]\n"
     ]
    },
    {
     "name": "stdout",
     "output_type": "stream",
     "text": [
      "Epoch 91\n"
     ]
    },
    {
     "name": "stderr",
     "output_type": "stream",
     "text": [
      "Training: 100%|█████████████████████| 22/22 [00:01<00:00, 15.30it/s, loss=0.182]\n"
     ]
    },
    {
     "name": "stdout",
     "output_type": "stream",
     "text": [
      "Epoch 92\n"
     ]
    },
    {
     "name": "stderr",
     "output_type": "stream",
     "text": [
      "Training: 100%|█████████████████████| 22/22 [00:01<00:00, 15.69it/s, loss=0.172]\n"
     ]
    },
    {
     "name": "stdout",
     "output_type": "stream",
     "text": [
      "Epoch 93\n"
     ]
    },
    {
     "name": "stderr",
     "output_type": "stream",
     "text": [
      "Training: 100%|██████████████████████| 22/22 [00:01<00:00, 14.40it/s, loss=0.18]\n"
     ]
    },
    {
     "name": "stdout",
     "output_type": "stream",
     "text": [
      "Epoch 94\n"
     ]
    },
    {
     "name": "stderr",
     "output_type": "stream",
     "text": [
      "Training: 100%|█████████████████████| 22/22 [00:01<00:00, 12.86it/s, loss=0.176]\n"
     ]
    },
    {
     "name": "stdout",
     "output_type": "stream",
     "text": [
      "Epoch 95\n"
     ]
    },
    {
     "name": "stderr",
     "output_type": "stream",
     "text": [
      "Training: 100%|█████████████████████| 22/22 [00:01<00:00, 15.86it/s, loss=0.188]\n"
     ]
    },
    {
     "name": "stdout",
     "output_type": "stream",
     "text": [
      "Epoch 96\n"
     ]
    },
    {
     "name": "stderr",
     "output_type": "stream",
     "text": [
      "Training: 100%|█████████████████████| 22/22 [00:01<00:00, 15.74it/s, loss=0.169]\n"
     ]
    },
    {
     "name": "stdout",
     "output_type": "stream",
     "text": [
      "Epoch 97\n"
     ]
    },
    {
     "name": "stderr",
     "output_type": "stream",
     "text": [
      "Training: 100%|█████████████████████| 22/22 [00:01<00:00, 15.02it/s, loss=0.171]\n"
     ]
    },
    {
     "name": "stdout",
     "output_type": "stream",
     "text": [
      "Epoch 98\n"
     ]
    },
    {
     "name": "stderr",
     "output_type": "stream",
     "text": [
      "Training: 100%|█████████████████████| 22/22 [00:01<00:00, 15.19it/s, loss=0.167]\n"
     ]
    },
    {
     "name": "stdout",
     "output_type": "stream",
     "text": [
      "Epoch 99\n"
     ]
    },
    {
     "name": "stderr",
     "output_type": "stream",
     "text": [
      "Training: 100%|█████████████████████| 22/22 [00:01<00:00, 15.54it/s, loss=0.172]\n",
      "Validation: 100%|█████████████| 500/500 [00:26<00:00, 18.90it/s, accuracy=0.969]\n"
     ]
    },
    {
     "name": "stdout",
     "output_type": "stream",
     "text": [
      "Epoch 100\n"
     ]
    },
    {
     "name": "stderr",
     "output_type": "stream",
     "text": [
      "Training: 100%|█████████████████████| 22/22 [00:01<00:00, 15.22it/s, loss=0.153]\n"
     ]
    },
    {
     "name": "stdout",
     "output_type": "stream",
     "text": [
      "Epoch 101\n"
     ]
    },
    {
     "name": "stderr",
     "output_type": "stream",
     "text": [
      "Training: 100%|█████████████████████| 22/22 [00:01<00:00, 15.41it/s, loss=0.154]\n"
     ]
    },
    {
     "name": "stdout",
     "output_type": "stream",
     "text": [
      "Epoch 102\n"
     ]
    },
    {
     "name": "stderr",
     "output_type": "stream",
     "text": [
      "Training: 100%|█████████████████████| 22/22 [00:01<00:00, 15.68it/s, loss=0.183]\n"
     ]
    },
    {
     "name": "stdout",
     "output_type": "stream",
     "text": [
      "Epoch 103\n"
     ]
    },
    {
     "name": "stderr",
     "output_type": "stream",
     "text": [
      "Training: 100%|██████████████████████| 22/22 [00:01<00:00, 15.66it/s, loss=0.15]\n"
     ]
    },
    {
     "name": "stdout",
     "output_type": "stream",
     "text": [
      "Epoch 104\n"
     ]
    },
    {
     "name": "stderr",
     "output_type": "stream",
     "text": [
      "Training: 100%|█████████████████████| 22/22 [00:01<00:00, 13.17it/s, loss=0.139]\n"
     ]
    },
    {
     "name": "stdout",
     "output_type": "stream",
     "text": [
      "Epoch 105\n"
     ]
    },
    {
     "name": "stderr",
     "output_type": "stream",
     "text": [
      "Training: 100%|█████████████████████| 22/22 [00:01<00:00, 13.37it/s, loss=0.169]\n"
     ]
    },
    {
     "name": "stdout",
     "output_type": "stream",
     "text": [
      "Epoch 106\n"
     ]
    },
    {
     "name": "stderr",
     "output_type": "stream",
     "text": [
      "Training: 100%|█████████████████████| 22/22 [00:01<00:00, 15.87it/s, loss=0.174]\n"
     ]
    },
    {
     "name": "stdout",
     "output_type": "stream",
     "text": [
      "Epoch 107\n"
     ]
    },
    {
     "name": "stderr",
     "output_type": "stream",
     "text": [
      "Training: 100%|█████████████████████| 22/22 [00:01<00:00, 15.04it/s, loss=0.161]\n"
     ]
    },
    {
     "name": "stdout",
     "output_type": "stream",
     "text": [
      "Epoch 108\n"
     ]
    },
    {
     "name": "stderr",
     "output_type": "stream",
     "text": [
      "Training: 100%|█████████████████████| 22/22 [00:01<00:00, 14.73it/s, loss=0.146]\n"
     ]
    },
    {
     "name": "stdout",
     "output_type": "stream",
     "text": [
      "Epoch 109\n"
     ]
    },
    {
     "name": "stderr",
     "output_type": "stream",
     "text": [
      "Training: 100%|█████████████████████| 22/22 [00:01<00:00, 15.64it/s, loss=0.154]\n",
      "Validation: 100%|█████████████| 500/500 [00:26<00:00, 18.83it/s, accuracy=0.974]\n"
     ]
    },
    {
     "name": "stdout",
     "output_type": "stream",
     "text": [
      "Ding ding ding! We found a new best model!\n",
      "Epoch 110\n"
     ]
    },
    {
     "name": "stderr",
     "output_type": "stream",
     "text": [
      "Training: 100%|█████████████████████| 22/22 [00:01<00:00, 14.43it/s, loss=0.179]\n"
     ]
    },
    {
     "name": "stdout",
     "output_type": "stream",
     "text": [
      "Epoch 111\n"
     ]
    },
    {
     "name": "stderr",
     "output_type": "stream",
     "text": [
      "Training: 100%|█████████████████████| 22/22 [00:01<00:00, 15.21it/s, loss=0.158]\n"
     ]
    },
    {
     "name": "stdout",
     "output_type": "stream",
     "text": [
      "Epoch 112\n"
     ]
    },
    {
     "name": "stderr",
     "output_type": "stream",
     "text": [
      "Training: 100%|█████████████████████| 22/22 [00:01<00:00, 14.45it/s, loss=0.167]\n"
     ]
    },
    {
     "name": "stdout",
     "output_type": "stream",
     "text": [
      "Epoch 113\n"
     ]
    },
    {
     "name": "stderr",
     "output_type": "stream",
     "text": [
      "Training: 100%|█████████████████████| 22/22 [00:01<00:00, 15.60it/s, loss=0.188]\n"
     ]
    },
    {
     "name": "stdout",
     "output_type": "stream",
     "text": [
      "Epoch 114\n"
     ]
    },
    {
     "name": "stderr",
     "output_type": "stream",
     "text": [
      "Training: 100%|█████████████████████| 22/22 [00:01<00:00, 14.37it/s, loss=0.173]\n"
     ]
    },
    {
     "name": "stdout",
     "output_type": "stream",
     "text": [
      "Epoch 115\n"
     ]
    },
    {
     "name": "stderr",
     "output_type": "stream",
     "text": [
      "Training: 100%|█████████████████████| 22/22 [00:01<00:00, 13.82it/s, loss=0.174]\n"
     ]
    },
    {
     "name": "stdout",
     "output_type": "stream",
     "text": [
      "Epoch 116\n"
     ]
    },
    {
     "name": "stderr",
     "output_type": "stream",
     "text": [
      "Training: 100%|█████████████████████| 22/22 [00:01<00:00, 15.17it/s, loss=0.168]\n"
     ]
    },
    {
     "name": "stdout",
     "output_type": "stream",
     "text": [
      "Epoch 117\n"
     ]
    },
    {
     "name": "stderr",
     "output_type": "stream",
     "text": [
      "Training: 100%|█████████████████████| 22/22 [00:01<00:00, 15.13it/s, loss=0.158]\n"
     ]
    },
    {
     "name": "stdout",
     "output_type": "stream",
     "text": [
      "Epoch 118\n"
     ]
    },
    {
     "name": "stderr",
     "output_type": "stream",
     "text": [
      "Training: 100%|█████████████████████| 22/22 [00:01<00:00, 15.14it/s, loss=0.144]\n"
     ]
    },
    {
     "name": "stdout",
     "output_type": "stream",
     "text": [
      "Epoch 119\n"
     ]
    },
    {
     "name": "stderr",
     "output_type": "stream",
     "text": [
      "Training: 100%|█████████████████████| 22/22 [00:01<00:00, 15.09it/s, loss=0.158]\n",
      "Validation: 100%|█████████████| 500/500 [00:27<00:00, 18.48it/s, accuracy=0.969]\n"
     ]
    },
    {
     "name": "stdout",
     "output_type": "stream",
     "text": [
      "Epoch 120\n"
     ]
    },
    {
     "name": "stderr",
     "output_type": "stream",
     "text": [
      "Training: 100%|█████████████████████| 22/22 [00:01<00:00, 14.95it/s, loss=0.195]\n"
     ]
    },
    {
     "name": "stdout",
     "output_type": "stream",
     "text": [
      "Epoch 121\n"
     ]
    },
    {
     "name": "stderr",
     "output_type": "stream",
     "text": [
      "Training: 100%|█████████████████████| 22/22 [00:01<00:00, 14.24it/s, loss=0.157]\n"
     ]
    },
    {
     "name": "stdout",
     "output_type": "stream",
     "text": [
      "Epoch 122\n"
     ]
    },
    {
     "name": "stderr",
     "output_type": "stream",
     "text": [
      "Training: 100%|█████████████████████| 22/22 [00:01<00:00, 15.07it/s, loss=0.163]\n"
     ]
    },
    {
     "name": "stdout",
     "output_type": "stream",
     "text": [
      "Epoch 123\n"
     ]
    },
    {
     "name": "stderr",
     "output_type": "stream",
     "text": [
      "Training: 100%|█████████████████████| 22/22 [00:01<00:00, 14.91it/s, loss=0.141]\n"
     ]
    },
    {
     "name": "stdout",
     "output_type": "stream",
     "text": [
      "Epoch 124\n"
     ]
    },
    {
     "name": "stderr",
     "output_type": "stream",
     "text": [
      "Training: 100%|█████████████████████| 22/22 [00:01<00:00, 14.95it/s, loss=0.166]\n"
     ]
    },
    {
     "name": "stdout",
     "output_type": "stream",
     "text": [
      "Epoch 125\n"
     ]
    },
    {
     "name": "stderr",
     "output_type": "stream",
     "text": [
      "Training: 100%|█████████████████████| 22/22 [00:01<00:00, 12.90it/s, loss=0.171]\n"
     ]
    },
    {
     "name": "stdout",
     "output_type": "stream",
     "text": [
      "Epoch 126\n"
     ]
    },
    {
     "name": "stderr",
     "output_type": "stream",
     "text": [
      "Training: 100%|█████████████████████| 22/22 [00:01<00:00, 13.86it/s, loss=0.148]\n"
     ]
    },
    {
     "name": "stdout",
     "output_type": "stream",
     "text": [
      "Epoch 127\n"
     ]
    },
    {
     "name": "stderr",
     "output_type": "stream",
     "text": [
      "Training: 100%|█████████████████████| 22/22 [00:01<00:00, 15.38it/s, loss=0.146]\n"
     ]
    },
    {
     "name": "stdout",
     "output_type": "stream",
     "text": [
      "Epoch 128\n"
     ]
    },
    {
     "name": "stderr",
     "output_type": "stream",
     "text": [
      "Training: 100%|█████████████████████| 22/22 [00:01<00:00, 14.61it/s, loss=0.181]\n"
     ]
    },
    {
     "name": "stdout",
     "output_type": "stream",
     "text": [
      "Epoch 129\n"
     ]
    },
    {
     "name": "stderr",
     "output_type": "stream",
     "text": [
      "Training: 100%|█████████████████████| 22/22 [00:01<00:00, 14.49it/s, loss=0.177]\n",
      "Validation: 100%|█████████████| 500/500 [00:27<00:00, 17.98it/s, accuracy=0.973]\n"
     ]
    },
    {
     "name": "stdout",
     "output_type": "stream",
     "text": [
      "Epoch 130\n"
     ]
    },
    {
     "name": "stderr",
     "output_type": "stream",
     "text": [
      "Training: 100%|█████████████████████| 22/22 [00:01<00:00, 14.93it/s, loss=0.151]\n"
     ]
    },
    {
     "name": "stdout",
     "output_type": "stream",
     "text": [
      "Epoch 131\n"
     ]
    },
    {
     "name": "stderr",
     "output_type": "stream",
     "text": [
      "Training: 100%|█████████████████████| 22/22 [00:01<00:00, 14.87it/s, loss=0.163]\n"
     ]
    },
    {
     "name": "stdout",
     "output_type": "stream",
     "text": [
      "Epoch 132\n"
     ]
    },
    {
     "name": "stderr",
     "output_type": "stream",
     "text": [
      "Training: 100%|██████████████████████| 22/22 [00:01<00:00, 14.55it/s, loss=0.15]\n"
     ]
    },
    {
     "name": "stdout",
     "output_type": "stream",
     "text": [
      "Epoch 133\n"
     ]
    },
    {
     "name": "stderr",
     "output_type": "stream",
     "text": [
      "Training: 100%|█████████████████████| 22/22 [00:01<00:00, 15.80it/s, loss=0.154]\n"
     ]
    },
    {
     "name": "stdout",
     "output_type": "stream",
     "text": [
      "Epoch 134\n"
     ]
    },
    {
     "name": "stderr",
     "output_type": "stream",
     "text": [
      "Training: 100%|█████████████████████| 22/22 [00:01<00:00, 14.76it/s, loss=0.161]\n"
     ]
    },
    {
     "name": "stdout",
     "output_type": "stream",
     "text": [
      "Epoch 135\n"
     ]
    },
    {
     "name": "stderr",
     "output_type": "stream",
     "text": [
      "Training: 100%|██████████████████████| 22/22 [00:01<00:00, 15.87it/s, loss=0.14]\n"
     ]
    },
    {
     "name": "stdout",
     "output_type": "stream",
     "text": [
      "Epoch 136\n"
     ]
    },
    {
     "name": "stderr",
     "output_type": "stream",
     "text": [
      "Training: 100%|█████████████████████| 22/22 [00:01<00:00, 13.50it/s, loss=0.158]\n"
     ]
    },
    {
     "name": "stdout",
     "output_type": "stream",
     "text": [
      "Epoch 137\n"
     ]
    },
    {
     "name": "stderr",
     "output_type": "stream",
     "text": [
      "Training: 100%|█████████████████████| 22/22 [00:01<00:00, 13.01it/s, loss=0.141]\n"
     ]
    },
    {
     "name": "stdout",
     "output_type": "stream",
     "text": [
      "Epoch 138\n"
     ]
    },
    {
     "name": "stderr",
     "output_type": "stream",
     "text": [
      "Training: 100%|█████████████████████| 22/22 [00:01<00:00, 15.01it/s, loss=0.182]\n"
     ]
    },
    {
     "name": "stdout",
     "output_type": "stream",
     "text": [
      "Epoch 139\n"
     ]
    },
    {
     "name": "stderr",
     "output_type": "stream",
     "text": [
      "Training: 100%|█████████████████████| 22/22 [00:01<00:00, 14.60it/s, loss=0.167]\n",
      "Validation: 100%|█████████████| 500/500 [00:26<00:00, 18.78it/s, accuracy=0.972]\n"
     ]
    },
    {
     "name": "stdout",
     "output_type": "stream",
     "text": [
      "Epoch 140\n"
     ]
    },
    {
     "name": "stderr",
     "output_type": "stream",
     "text": [
      "Training: 100%|█████████████████████| 22/22 [00:01<00:00, 14.96it/s, loss=0.159]\n"
     ]
    },
    {
     "name": "stdout",
     "output_type": "stream",
     "text": [
      "Epoch 141\n"
     ]
    },
    {
     "name": "stderr",
     "output_type": "stream",
     "text": [
      "Training: 100%|█████████████████████| 22/22 [00:01<00:00, 15.22it/s, loss=0.146]\n"
     ]
    },
    {
     "name": "stdout",
     "output_type": "stream",
     "text": [
      "Epoch 142\n"
     ]
    },
    {
     "name": "stderr",
     "output_type": "stream",
     "text": [
      "Training: 100%|█████████████████████| 22/22 [00:01<00:00, 14.87it/s, loss=0.126]\n"
     ]
    },
    {
     "name": "stdout",
     "output_type": "stream",
     "text": [
      "Epoch 143\n"
     ]
    },
    {
     "name": "stderr",
     "output_type": "stream",
     "text": [
      "Training: 100%|█████████████████████| 22/22 [00:01<00:00, 15.01it/s, loss=0.093]\n"
     ]
    },
    {
     "name": "stdout",
     "output_type": "stream",
     "text": [
      "Epoch 144\n"
     ]
    },
    {
     "name": "stderr",
     "output_type": "stream",
     "text": [
      "Training: 100%|███████████████████████| 22/22 [00:01<00:00, 14.86it/s, loss=0.1]\n"
     ]
    },
    {
     "name": "stdout",
     "output_type": "stream",
     "text": [
      "Epoch 145\n"
     ]
    },
    {
     "name": "stderr",
     "output_type": "stream",
     "text": [
      "Training: 100%|████████████████████| 22/22 [00:01<00:00, 14.81it/s, loss=0.0875]\n"
     ]
    },
    {
     "name": "stdout",
     "output_type": "stream",
     "text": [
      "Epoch 146\n"
     ]
    },
    {
     "name": "stderr",
     "output_type": "stream",
     "text": [
      "Training: 100%|████████████████████| 22/22 [00:01<00:00, 15.25it/s, loss=0.0919]\n"
     ]
    },
    {
     "name": "stdout",
     "output_type": "stream",
     "text": [
      "Epoch 147\n"
     ]
    },
    {
     "name": "stderr",
     "output_type": "stream",
     "text": [
      "Training: 100%|████████████████████| 22/22 [00:01<00:00, 14.76it/s, loss=0.0919]\n"
     ]
    },
    {
     "name": "stdout",
     "output_type": "stream",
     "text": [
      "Epoch 148\n"
     ]
    },
    {
     "name": "stderr",
     "output_type": "stream",
     "text": [
      "Training: 100%|████████████████████| 22/22 [00:01<00:00, 13.00it/s, loss=0.0974]\n"
     ]
    },
    {
     "name": "stdout",
     "output_type": "stream",
     "text": [
      "Epoch 149\n"
     ]
    },
    {
     "name": "stderr",
     "output_type": "stream",
     "text": [
      "Training: 100%|████████████████████| 22/22 [00:01<00:00, 13.75it/s, loss=0.0838]\n",
      "Validation: 100%|█████████████| 500/500 [00:26<00:00, 18.54it/s, accuracy=0.983]\n"
     ]
    },
    {
     "name": "stdout",
     "output_type": "stream",
     "text": [
      "Ding ding ding! We found a new best model!\n",
      "Epoch 150\n"
     ]
    },
    {
     "name": "stderr",
     "output_type": "stream",
     "text": [
      "Training: 100%|█████████████████████| 22/22 [00:01<00:00, 15.04it/s, loss=0.083]\n"
     ]
    },
    {
     "name": "stdout",
     "output_type": "stream",
     "text": [
      "Epoch 151\n"
     ]
    },
    {
     "name": "stderr",
     "output_type": "stream",
     "text": [
      "Training: 100%|█████████████████████| 22/22 [00:01<00:00, 14.87it/s, loss=0.094]\n"
     ]
    },
    {
     "name": "stdout",
     "output_type": "stream",
     "text": [
      "Epoch 152\n"
     ]
    },
    {
     "name": "stderr",
     "output_type": "stream",
     "text": [
      "Training: 100%|████████████████████| 22/22 [00:01<00:00, 15.44it/s, loss=0.0963]\n"
     ]
    },
    {
     "name": "stdout",
     "output_type": "stream",
     "text": [
      "Epoch 153\n"
     ]
    },
    {
     "name": "stderr",
     "output_type": "stream",
     "text": [
      "Training: 100%|████████████████████| 22/22 [00:01<00:00, 15.09it/s, loss=0.0886]\n"
     ]
    },
    {
     "name": "stdout",
     "output_type": "stream",
     "text": [
      "Epoch 154\n"
     ]
    },
    {
     "name": "stderr",
     "output_type": "stream",
     "text": [
      "Training: 100%|████████████████████| 22/22 [00:01<00:00, 15.47it/s, loss=0.0948]\n"
     ]
    },
    {
     "name": "stdout",
     "output_type": "stream",
     "text": [
      "Epoch 155\n"
     ]
    },
    {
     "name": "stderr",
     "output_type": "stream",
     "text": [
      "Training: 100%|████████████████████| 22/22 [00:01<00:00, 15.34it/s, loss=0.0967]\n"
     ]
    },
    {
     "name": "stdout",
     "output_type": "stream",
     "text": [
      "Epoch 156\n"
     ]
    },
    {
     "name": "stderr",
     "output_type": "stream",
     "text": [
      "Training: 100%|████████████████████| 22/22 [00:01<00:00, 15.47it/s, loss=0.0726]\n"
     ]
    },
    {
     "name": "stdout",
     "output_type": "stream",
     "text": [
      "Epoch 157\n"
     ]
    },
    {
     "name": "stderr",
     "output_type": "stream",
     "text": [
      "Training: 100%|████████████████████| 22/22 [00:01<00:00, 15.28it/s, loss=0.0914]\n"
     ]
    },
    {
     "name": "stdout",
     "output_type": "stream",
     "text": [
      "Epoch 158\n"
     ]
    },
    {
     "name": "stderr",
     "output_type": "stream",
     "text": [
      "Training: 100%|████████████████████| 22/22 [00:01<00:00, 15.21it/s, loss=0.0678]\n"
     ]
    },
    {
     "name": "stdout",
     "output_type": "stream",
     "text": [
      "Epoch 159\n"
     ]
    },
    {
     "name": "stderr",
     "output_type": "stream",
     "text": [
      "Training: 100%|████████████████████| 22/22 [00:01<00:00, 13.96it/s, loss=0.0863]\n",
      "Validation: 100%|█████████████| 500/500 [00:28<00:00, 17.68it/s, accuracy=0.986]\n"
     ]
    },
    {
     "name": "stdout",
     "output_type": "stream",
     "text": [
      "Ding ding ding! We found a new best model!\n",
      "Epoch 160\n"
     ]
    },
    {
     "name": "stderr",
     "output_type": "stream",
     "text": [
      "Training: 100%|████████████████████| 22/22 [00:01<00:00, 14.91it/s, loss=0.0707]\n"
     ]
    },
    {
     "name": "stdout",
     "output_type": "stream",
     "text": [
      "Epoch 161\n"
     ]
    },
    {
     "name": "stderr",
     "output_type": "stream",
     "text": [
      "Training: 100%|█████████████████████| 22/22 [00:01<00:00, 15.46it/s, loss=0.101]\n"
     ]
    },
    {
     "name": "stdout",
     "output_type": "stream",
     "text": [
      "Epoch 162\n"
     ]
    },
    {
     "name": "stderr",
     "output_type": "stream",
     "text": [
      "Training: 100%|████████████████████| 22/22 [00:01<00:00, 15.40it/s, loss=0.0858]\n"
     ]
    },
    {
     "name": "stdout",
     "output_type": "stream",
     "text": [
      "Epoch 163\n"
     ]
    },
    {
     "name": "stderr",
     "output_type": "stream",
     "text": [
      "Training: 100%|████████████████████| 22/22 [00:01<00:00, 14.97it/s, loss=0.0893]\n"
     ]
    },
    {
     "name": "stdout",
     "output_type": "stream",
     "text": [
      "Epoch 164\n"
     ]
    },
    {
     "name": "stderr",
     "output_type": "stream",
     "text": [
      "Training: 100%|████████████████████| 22/22 [00:01<00:00, 15.50it/s, loss=0.0787]\n"
     ]
    },
    {
     "name": "stdout",
     "output_type": "stream",
     "text": [
      "Epoch 165\n"
     ]
    },
    {
     "name": "stderr",
     "output_type": "stream",
     "text": [
      "Training: 100%|████████████████████| 22/22 [00:01<00:00, 15.10it/s, loss=0.0901]\n"
     ]
    },
    {
     "name": "stdout",
     "output_type": "stream",
     "text": [
      "Epoch 166\n"
     ]
    },
    {
     "name": "stderr",
     "output_type": "stream",
     "text": [
      "Training: 100%|████████████████████| 22/22 [00:01<00:00, 14.42it/s, loss=0.0805]\n"
     ]
    },
    {
     "name": "stdout",
     "output_type": "stream",
     "text": [
      "Epoch 167\n"
     ]
    },
    {
     "name": "stderr",
     "output_type": "stream",
     "text": [
      "Training: 100%|████████████████████| 22/22 [00:01<00:00, 14.48it/s, loss=0.0683]\n"
     ]
    },
    {
     "name": "stdout",
     "output_type": "stream",
     "text": [
      "Epoch 168\n"
     ]
    },
    {
     "name": "stderr",
     "output_type": "stream",
     "text": [
      "Training: 100%|████████████████████| 22/22 [00:01<00:00, 14.83it/s, loss=0.0846]\n"
     ]
    },
    {
     "name": "stdout",
     "output_type": "stream",
     "text": [
      "Epoch 169\n"
     ]
    },
    {
     "name": "stderr",
     "output_type": "stream",
     "text": [
      "Training: 100%|████████████████████| 22/22 [00:01<00:00, 15.06it/s, loss=0.0632]\n",
      "Validation: 100%|█████████████| 500/500 [00:28<00:00, 17.59it/s, accuracy=0.986]\n"
     ]
    },
    {
     "name": "stdout",
     "output_type": "stream",
     "text": [
      "Ding ding ding! We found a new best model!\n",
      "Epoch 170\n"
     ]
    },
    {
     "name": "stderr",
     "output_type": "stream",
     "text": [
      "Training: 100%|████████████████████| 22/22 [00:01<00:00, 15.10it/s, loss=0.0734]\n"
     ]
    },
    {
     "name": "stdout",
     "output_type": "stream",
     "text": [
      "Epoch 171\n"
     ]
    },
    {
     "name": "stderr",
     "output_type": "stream",
     "text": [
      "Training: 100%|████████████████████| 22/22 [00:01<00:00, 14.77it/s, loss=0.0864]\n"
     ]
    },
    {
     "name": "stdout",
     "output_type": "stream",
     "text": [
      "Epoch 172\n"
     ]
    },
    {
     "name": "stderr",
     "output_type": "stream",
     "text": [
      "Training: 100%|████████████████████| 22/22 [00:01<00:00, 15.28it/s, loss=0.0733]\n"
     ]
    },
    {
     "name": "stdout",
     "output_type": "stream",
     "text": [
      "Epoch 173\n"
     ]
    },
    {
     "name": "stderr",
     "output_type": "stream",
     "text": [
      "Training: 100%|████████████████████| 22/22 [00:01<00:00, 14.79it/s, loss=0.0723]\n"
     ]
    },
    {
     "name": "stdout",
     "output_type": "stream",
     "text": [
      "Epoch 174\n"
     ]
    },
    {
     "name": "stderr",
     "output_type": "stream",
     "text": [
      "Training: 100%|████████████████████| 22/22 [00:01<00:00, 15.04it/s, loss=0.0666]\n"
     ]
    },
    {
     "name": "stdout",
     "output_type": "stream",
     "text": [
      "Epoch 175\n"
     ]
    },
    {
     "name": "stderr",
     "output_type": "stream",
     "text": [
      "Training: 100%|████████████████████| 22/22 [00:01<00:00, 15.49it/s, loss=0.0872]\n"
     ]
    },
    {
     "name": "stdout",
     "output_type": "stream",
     "text": [
      "Epoch 176\n"
     ]
    },
    {
     "name": "stderr",
     "output_type": "stream",
     "text": [
      "Training: 100%|████████████████████| 22/22 [00:01<00:00, 15.07it/s, loss=0.0703]\n"
     ]
    },
    {
     "name": "stdout",
     "output_type": "stream",
     "text": [
      "Epoch 177\n"
     ]
    },
    {
     "name": "stderr",
     "output_type": "stream",
     "text": [
      "Training: 100%|████████████████████| 22/22 [00:01<00:00, 15.52it/s, loss=0.0689]\n"
     ]
    },
    {
     "name": "stdout",
     "output_type": "stream",
     "text": [
      "Epoch 178\n"
     ]
    },
    {
     "name": "stderr",
     "output_type": "stream",
     "text": [
      "Training: 100%|████████████████████| 22/22 [00:01<00:00, 14.97it/s, loss=0.0771]\n"
     ]
    },
    {
     "name": "stdout",
     "output_type": "stream",
     "text": [
      "Epoch 179\n"
     ]
    },
    {
     "name": "stderr",
     "output_type": "stream",
     "text": [
      "Training: 100%|████████████████████| 22/22 [00:01<00:00, 15.13it/s, loss=0.0794]\n",
      "Validation: 100%|█████████████| 500/500 [00:17<00:00, 28.84it/s, accuracy=0.984]\n"
     ]
    },
    {
     "name": "stdout",
     "output_type": "stream",
     "text": [
      "Epoch 180\n"
     ]
    },
    {
     "name": "stderr",
     "output_type": "stream",
     "text": [
      "Training: 100%|████████████████████| 22/22 [00:01<00:00, 19.64it/s, loss=0.0663]\n"
     ]
    },
    {
     "name": "stdout",
     "output_type": "stream",
     "text": [
      "Epoch 181\n"
     ]
    },
    {
     "name": "stderr",
     "output_type": "stream",
     "text": [
      "Training: 100%|████████████████████| 22/22 [00:01<00:00, 19.08it/s, loss=0.0779]\n"
     ]
    },
    {
     "name": "stdout",
     "output_type": "stream",
     "text": [
      "Epoch 182\n"
     ]
    },
    {
     "name": "stderr",
     "output_type": "stream",
     "text": [
      "Training: 100%|████████████████████| 22/22 [00:01<00:00, 19.60it/s, loss=0.0685]\n"
     ]
    },
    {
     "name": "stdout",
     "output_type": "stream",
     "text": [
      "Epoch 183\n"
     ]
    },
    {
     "name": "stderr",
     "output_type": "stream",
     "text": [
      "Training: 100%|████████████████████| 22/22 [00:01<00:00, 19.71it/s, loss=0.0877]\n"
     ]
    },
    {
     "name": "stdout",
     "output_type": "stream",
     "text": [
      "Epoch 184\n"
     ]
    },
    {
     "name": "stderr",
     "output_type": "stream",
     "text": [
      "Training: 100%|█████████████████████| 22/22 [00:01<00:00, 19.60it/s, loss=0.067]\n"
     ]
    },
    {
     "name": "stdout",
     "output_type": "stream",
     "text": [
      "Epoch 185\n"
     ]
    },
    {
     "name": "stderr",
     "output_type": "stream",
     "text": [
      "Training: 100%|████████████████████| 22/22 [00:01<00:00, 19.42it/s, loss=0.0657]\n"
     ]
    },
    {
     "name": "stdout",
     "output_type": "stream",
     "text": [
      "Epoch 186\n"
     ]
    },
    {
     "name": "stderr",
     "output_type": "stream",
     "text": [
      "Training: 100%|█████████████████████| 22/22 [00:01<00:00, 19.47it/s, loss=0.078]\n"
     ]
    },
    {
     "name": "stdout",
     "output_type": "stream",
     "text": [
      "Epoch 187\n"
     ]
    },
    {
     "name": "stderr",
     "output_type": "stream",
     "text": [
      "Training: 100%|████████████████████| 22/22 [00:01<00:00, 19.70it/s, loss=0.0641]\n"
     ]
    },
    {
     "name": "stdout",
     "output_type": "stream",
     "text": [
      "Epoch 188\n"
     ]
    },
    {
     "name": "stderr",
     "output_type": "stream",
     "text": [
      "Training: 100%|████████████████████| 22/22 [00:01<00:00, 19.64it/s, loss=0.0777]\n"
     ]
    },
    {
     "name": "stdout",
     "output_type": "stream",
     "text": [
      "Epoch 189\n"
     ]
    },
    {
     "name": "stderr",
     "output_type": "stream",
     "text": [
      "Training: 100%|████████████████████| 22/22 [00:01<00:00, 19.42it/s, loss=0.0812]\n",
      "Validation: 100%|█████████████| 500/500 [00:14<00:00, 34.98it/s, accuracy=0.984]\n"
     ]
    },
    {
     "name": "stdout",
     "output_type": "stream",
     "text": [
      "Epoch 190\n"
     ]
    },
    {
     "name": "stderr",
     "output_type": "stream",
     "text": [
      "Training: 100%|████████████████████| 22/22 [00:01<00:00, 19.13it/s, loss=0.0618]\n"
     ]
    },
    {
     "name": "stdout",
     "output_type": "stream",
     "text": [
      "Epoch 191\n"
     ]
    },
    {
     "name": "stderr",
     "output_type": "stream",
     "text": [
      "Training: 100%|████████████████████| 22/22 [00:01<00:00, 19.48it/s, loss=0.0796]\n"
     ]
    },
    {
     "name": "stdout",
     "output_type": "stream",
     "text": [
      "Epoch 192\n"
     ]
    },
    {
     "name": "stderr",
     "output_type": "stream",
     "text": [
      "Training: 100%|████████████████████| 22/22 [00:01<00:00, 19.67it/s, loss=0.0697]\n"
     ]
    },
    {
     "name": "stdout",
     "output_type": "stream",
     "text": [
      "Epoch 193\n"
     ]
    },
    {
     "name": "stderr",
     "output_type": "stream",
     "text": [
      "Training: 100%|████████████████████| 22/22 [00:01<00:00, 19.34it/s, loss=0.0703]\n"
     ]
    },
    {
     "name": "stdout",
     "output_type": "stream",
     "text": [
      "Epoch 194\n"
     ]
    },
    {
     "name": "stderr",
     "output_type": "stream",
     "text": [
      "Training: 100%|████████████████████| 22/22 [00:01<00:00, 19.12it/s, loss=0.0636]\n"
     ]
    },
    {
     "name": "stdout",
     "output_type": "stream",
     "text": [
      "Epoch 195\n"
     ]
    },
    {
     "name": "stderr",
     "output_type": "stream",
     "text": [
      "Training: 100%|████████████████████| 22/22 [00:01<00:00, 19.44it/s, loss=0.0658]\n"
     ]
    },
    {
     "name": "stdout",
     "output_type": "stream",
     "text": [
      "Epoch 196\n"
     ]
    },
    {
     "name": "stderr",
     "output_type": "stream",
     "text": [
      "Training: 100%|████████████████████| 22/22 [00:01<00:00, 19.73it/s, loss=0.0618]\n"
     ]
    },
    {
     "name": "stdout",
     "output_type": "stream",
     "text": [
      "Epoch 197\n"
     ]
    },
    {
     "name": "stderr",
     "output_type": "stream",
     "text": [
      "Training: 100%|████████████████████| 22/22 [00:01<00:00, 19.77it/s, loss=0.0555]\n"
     ]
    },
    {
     "name": "stdout",
     "output_type": "stream",
     "text": [
      "Epoch 198\n"
     ]
    },
    {
     "name": "stderr",
     "output_type": "stream",
     "text": [
      "Training: 100%|████████████████████| 22/22 [00:01<00:00, 19.78it/s, loss=0.0655]\n"
     ]
    },
    {
     "name": "stdout",
     "output_type": "stream",
     "text": [
      "Epoch 199\n"
     ]
    },
    {
     "name": "stderr",
     "output_type": "stream",
     "text": [
      "Training: 100%|████████████████████| 22/22 [00:01<00:00, 19.60it/s, loss=0.0703]\n",
      "Validation: 100%|█████████████| 500/500 [00:14<00:00, 35.16it/s, accuracy=0.985]\n"
     ]
    }
   ],
   "source": [
    "from easyfsl.methods.tim import FewShotClassifier\n",
    "from easyfsl.utils import evaluate\n",
    "\n",
    "\n",
    "best_state = model.state_dict()\n",
    "best_validation_accuracy = 0.0\n",
    "validation_frequency = 10\n",
    "for epoch in range(n_epochs):\n",
    "    print(f\"Epoch {epoch}\")\n",
    "    few_shot_classifier.backbone.requires_grad_(True)\n",
    "    average_loss = training_epoch(model, train_loader, train_optimizer)\n",
    "\n",
    "    if epoch % validation_frequency == validation_frequency - 1:\n",
    "\n",
    "        # We use this very convenient method from EasyFSL's ResNet to specify\n",
    "        # that the model shouldn't use its last fully connected layer during validation.\n",
    "        model.set_use_fc(False)\n",
    "        few_shot_classifier.backbone.requires_grad_(False)\n",
    "        validation_accuracy = evaluate(\n",
    "            few_shot_classifier, val_loader, device=DEVICE, tqdm_prefix=\"Validation\"\n",
    "        )\n",
    "        model.set_use_fc(True)\n",
    "        few_shot_classifier.backbone.requires_grad_(True)\n",
    "\n",
    "        if validation_accuracy > best_validation_accuracy:\n",
    "            best_validation_accuracy = validation_accuracy\n",
    "            best_state = model.state_dict()\n",
    "            print(\"Ding ding ding! We found a new best model!\")\n",
    "\n",
    "        tb_writer.add_scalar(\"Val/acc\", validation_accuracy, epoch)\n",
    "        # print(validation_accuracy)\n",
    "\n",
    "    tb_writer.add_scalar(\"Train/loss\", average_loss, epoch)\n",
    "\n",
    "    # Warn the scheduler that we did an epoch\n",
    "    # so it knows when to decrease the learning rate\n",
    "    train_scheduler.step()\n",
    "    if epoch % 10 == 0 : torch.save(best_state, '/home/cse/FIneTune/PatternRecognition/Finetune_5_5.pth')"
   ]
  },
  {
   "cell_type": "code",
   "execution_count": 75,
   "metadata": {
    "colab": {
     "base_uri": "https://localhost:8080/"
    },
    "id": "RAD-5gN52kwS",
    "outputId": "18834184-4c87-4381-c168-0c7366ca8c11"
   },
   "outputs": [
    {
     "data": {
      "text/plain": [
       "<All keys matched successfully>"
      ]
     },
     "execution_count": 75,
     "metadata": {},
     "output_type": "execute_result"
    }
   ],
   "source": [
    "model.load_state_dict(torch.load('/home/cse/FIneTune/PatternRecognition/Finetune_5_5.pth'))"
   ]
  },
  {
   "cell_type": "markdown",
   "metadata": {
    "id": "ev-4PiepSZ_j"
   },
   "source": [
    "**Evaluation**"
   ]
  },
  {
   "cell_type": "code",
   "execution_count": 76,
   "metadata": {
    "id": "IhTJoRxGSiMz"
   },
   "outputs": [],
   "source": [
    "import os\n",
    "\n",
    "old_folder_name = '/home/cse/FIneTune/PatternRecognition/data/gtsrb/GTSRB/Training'\n",
    "new_folder_name = '/home/cse/FIneTune/PatternRecognition/data/gtsrb/GTSRB/Trainingg'\n",
    "\n",
    "# Rename the folder\n",
    "os.rename(old_folder_name, new_folder_name)\n",
    "\n",
    "old_folder_name = '/home/cse/FIneTune/PatternRecognition/data/gtsrb/GTSRB/Testing'\n",
    "new_folder_name = '/home/cse/FIneTune/PatternRecognition/data/gtsrb/GTSRB/Training'\n",
    "\n",
    "# Rename the folder\n",
    "os.rename(old_folder_name, new_folder_name)"
   ]
  },
  {
   "cell_type": "code",
   "execution_count": 77,
   "metadata": {
    "colab": {
     "base_uri": "https://localhost:8080/"
    },
    "id": "d8j5FzH9SWxD",
    "outputId": "33d3d974-c12d-4127-d541-c788af5286b2"
   },
   "outputs": [
    {
     "name": "stdout",
     "output_type": "stream",
     "text": [
      "Downloading https://sid.erda.dk/public/archives/daaeac0d7ce1152aea9b61d9f1e19370/GTSRB_Final_Test_Images.zip to /home/cse/FIneTune/PatternRecognition/data/gtsrb/GTSRB_Final_Test_Images.zip\n"
     ]
    },
    {
     "data": {
      "application/vnd.jupyter.widget-view+json": {
       "model_id": "b187890b297943eab818702619ae4360",
       "version_major": 2,
       "version_minor": 0
      },
      "text/plain": [
       "  0%|          | 0/88978620 [00:00<?, ?it/s]"
      ]
     },
     "metadata": {},
     "output_type": "display_data"
    },
    {
     "name": "stdout",
     "output_type": "stream",
     "text": [
      "Extracting /home/cse/FIneTune/PatternRecognition/data/gtsrb/GTSRB_Final_Test_Images.zip to /home/cse/FIneTune/PatternRecognition/data/gtsrb\n",
      "Downloading https://sid.erda.dk/public/archives/daaeac0d7ce1152aea9b61d9f1e19370/GTSRB_Final_Test_GT.zip to /home/cse/FIneTune/PatternRecognition/data/gtsrb/GTSRB_Final_Test_GT.zip\n"
     ]
    },
    {
     "data": {
      "application/vnd.jupyter.widget-view+json": {
       "model_id": "7a13b94dc5b34a0fa7fa1a45ed5126c6",
       "version_major": 2,
       "version_minor": 0
      },
      "text/plain": [
       "  0%|          | 0/99620 [00:00<?, ?it/s]"
      ]
     },
     "metadata": {},
     "output_type": "display_data"
    },
    {
     "name": "stdout",
     "output_type": "stream",
     "text": [
      "Extracting /home/cse/FIneTune/PatternRecognition/data/gtsrb/GTSRB_Final_Test_GT.zip to /home/cse/FIneTune/PatternRecognition/data/gtsrb\n"
     ]
    }
   ],
   "source": [
    "n_test_tasks = 1000\n",
    "\n",
    "# test_set = CUB(split=\"test\", training=False)\n",
    "\n",
    "test_set = torchvision.datasets.GTSRB(\n",
    "    root='/home/cse/FIneTune/PatternRecognition/data',\n",
    "    split='test',\n",
    "    transform=torchvision.transforms.Compose(\n",
    "        [\n",
    "            torchvision.transforms.ToTensor(),\n",
    "            torchvision.transforms.Resize([image_size,image_size]),\n",
    "        ]\n",
    "    ),\n",
    "    target_transform=None,\n",
    "    download=True\n",
    "    )\n",
    "\n",
    "test_set.get_labels = lambda: [\n",
    "    instance[1] for instance in test_set\n",
    "]\n",
    "\n",
    "test_sampler = TaskSampler(\n",
    "    test_set, n_way=n_way, n_shot=n_shot, n_query=n_query, n_tasks=n_test_tasks\n",
    ")\n",
    "test_loader = DataLoader(\n",
    "    test_set,\n",
    "    batch_sampler=test_sampler,\n",
    "    num_workers=n_workers,\n",
    "    pin_memory=True,\n",
    "    collate_fn=test_sampler.episodic_collate_fn,\n",
    ")"
   ]
  },
  {
   "cell_type": "code",
   "execution_count": 78,
   "metadata": {
    "colab": {
     "base_uri": "https://localhost:8080/"
    },
    "id": "LP8uBbEtGGtI",
    "outputId": "50b8f548-13bd-499f-f17d-0cbea4aaaf03"
   },
   "outputs": [
    {
     "name": "stderr",
     "output_type": "stream",
     "text": [
      "100%|███████████████████████| 1000/1000 [00:18<00:00, 54.26it/s, accuracy=0.798]"
     ]
    },
    {
     "name": "stdout",
     "output_type": "stream",
     "text": [
      "Average accuracy : 79.82 %\n"
     ]
    },
    {
     "name": "stderr",
     "output_type": "stream",
     "text": [
      "\n"
     ]
    }
   ],
   "source": [
    "model.set_use_fc(False)\n",
    "\n",
    "accuracy = evaluate(few_shot_classifier, test_loader, device=DEVICE)\n",
    "print(f\"Average accuracy : {(100 * accuracy):.2f} %\")"
   ]
  },
  {
   "cell_type": "code",
   "execution_count": 79,
   "metadata": {},
   "outputs": [],
   "source": [
    "n_test_tasks = 10000\n",
    "\n",
    "# test_set = CUB(split=\"test\", training=False)\n",
    "\n",
    "test_set = torchvision.datasets.GTSRB(\n",
    "    root='/home/cse/FIneTune/PatternRecognition/data',\n",
    "    split='test',\n",
    "    transform=torchvision.transforms.Compose(\n",
    "        [\n",
    "            torchvision.transforms.ToTensor(),\n",
    "            torchvision.transforms.Resize([image_size,image_size]),\n",
    "        ]\n",
    "    ),\n",
    "    target_transform=None,\n",
    "    download=True\n",
    "    )\n",
    "\n",
    "test_set.get_labels = lambda: [\n",
    "    instance[1] for instance in test_set\n",
    "]\n",
    "\n",
    "test_sampler = TaskSampler(\n",
    "    test_set, n_way=n_way, n_shot=n_shot, n_query=n_query, n_tasks=n_test_tasks\n",
    ")\n",
    "test_loader = DataLoader(\n",
    "    test_set,\n",
    "    batch_sampler=test_sampler,\n",
    "    num_workers=n_workers,\n",
    "    pin_memory=True,\n",
    "    collate_fn=test_sampler.episodic_collate_fn,\n",
    ")"
   ]
  },
  {
   "cell_type": "code",
   "execution_count": 80,
   "metadata": {},
   "outputs": [
    {
     "name": "stderr",
     "output_type": "stream",
     "text": [
      "100%|█████████████████████| 10000/10000 [03:12<00:00, 51.92it/s, accuracy=0.796]"
     ]
    },
    {
     "name": "stdout",
     "output_type": "stream",
     "text": [
      "Average accuracy : 79.64 %\n"
     ]
    },
    {
     "name": "stderr",
     "output_type": "stream",
     "text": [
      "\n"
     ]
    }
   ],
   "source": [
    "model.set_use_fc(False)\n",
    "\n",
    "accuracy = evaluate(few_shot_classifier, test_loader, device=DEVICE)\n",
    "print(f\"Average accuracy : {(100 * accuracy):.2f} %\")"
   ]
  },
  {
   "cell_type": "code",
   "execution_count": null,
   "metadata": {},
   "outputs": [],
   "source": []
  }
 ],
 "metadata": {
  "colab": {
   "gpuType": "T4",
   "provenance": []
  },
  "gpuClass": "standard",
  "kernelspec": {
   "display_name": "Python 3 (ipykernel)",
   "language": "python",
   "name": "python3"
  },
  "language_info": {
   "codemirror_mode": {
    "name": "ipython",
    "version": 3
   },
   "file_extension": ".py",
   "mimetype": "text/x-python",
   "name": "python",
   "nbconvert_exporter": "python",
   "pygments_lexer": "ipython3",
   "version": "3.7.16"
  }
 },
 "nbformat": 4,
 "nbformat_minor": 1
}
